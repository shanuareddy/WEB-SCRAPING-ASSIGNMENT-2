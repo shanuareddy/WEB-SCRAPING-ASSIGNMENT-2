{
 "cells": [
  {
   "cell_type": "markdown",
   "id": "ddead590",
   "metadata": {},
   "source": [
    "Q1: Write a python program to scrape data for “Data Analyst” Job position in “Bangalore” location. You\n",
    "have to scrape the job-title, job-location, company_name, experience_required. You have to scrape first 10\n",
    "jobs data"
   ]
  },
  {
   "cell_type": "code",
   "execution_count": 253,
   "id": "a68692ba",
   "metadata": {},
   "outputs": [
    {
     "name": "stdout",
     "output_type": "stream",
     "text": [
      "Requirement already satisfied: selenium in c:\\users\\91888\\anaconda3\\lib\\site-packages (4.1.3)\n",
      "Requirement already satisfied: trio~=0.17 in c:\\users\\91888\\anaconda3\\lib\\site-packages (from selenium) (0.20.0)\n",
      "Requirement already satisfied: trio-websocket~=0.9 in c:\\users\\91888\\anaconda3\\lib\\site-packages (from selenium) (0.9.2)\n",
      "Requirement already satisfied: urllib3[secure,socks]~=1.26 in c:\\users\\91888\\anaconda3\\lib\\site-packages (from selenium) (1.26.7)\n",
      "Requirement already satisfied: outcome in c:\\users\\91888\\anaconda3\\lib\\site-packages (from trio~=0.17->selenium) (1.1.0)\n",
      "Requirement already satisfied: sortedcontainers in c:\\users\\91888\\anaconda3\\lib\\site-packages (from trio~=0.17->selenium) (2.4.0)\n",
      "Requirement already satisfied: cffi>=1.14 in c:\\users\\91888\\anaconda3\\lib\\site-packages (from trio~=0.17->selenium) (1.14.6)\n",
      "Requirement already satisfied: idna in c:\\users\\91888\\anaconda3\\lib\\site-packages (from trio~=0.17->selenium) (3.2)\n",
      "Requirement already satisfied: attrs>=19.2.0 in c:\\users\\91888\\anaconda3\\lib\\site-packages (from trio~=0.17->selenium) (21.2.0)\n",
      "Requirement already satisfied: async-generator>=1.9 in c:\\users\\91888\\anaconda3\\lib\\site-packages (from trio~=0.17->selenium) (1.10)\n",
      "Requirement already satisfied: sniffio in c:\\users\\91888\\anaconda3\\lib\\site-packages (from trio~=0.17->selenium) (1.2.0)\n",
      "Requirement already satisfied: pycparser in c:\\users\\91888\\anaconda3\\lib\\site-packages (from cffi>=1.14->trio~=0.17->selenium) (2.20)\n",
      "Requirement already satisfied: wsproto>=0.14 in c:\\users\\91888\\anaconda3\\lib\\site-packages (from trio-websocket~=0.9->selenium) (1.1.0)\n",
      "Requirement already satisfied: pyOpenSSL>=0.14 in c:\\users\\91888\\anaconda3\\lib\\site-packages (from urllib3[secure,socks]~=1.26->selenium) (21.0.0)\n",
      "Requirement already satisfied: cryptography>=1.3.4 in c:\\users\\91888\\anaconda3\\lib\\site-packages (from urllib3[secure,socks]~=1.26->selenium) (3.4.8)\n",
      "Requirement already satisfied: certifi in c:\\users\\91888\\anaconda3\\lib\\site-packages (from urllib3[secure,socks]~=1.26->selenium) (2021.10.8)\n",
      "Requirement already satisfied: PySocks!=1.5.7,<2.0,>=1.5.6 in c:\\users\\91888\\anaconda3\\lib\\site-packages (from urllib3[secure,socks]~=1.26->selenium) (1.7.1)\n",
      "Requirement already satisfied: six>=1.5.2 in c:\\users\\91888\\anaconda3\\lib\\site-packages (from pyOpenSSL>=0.14->urllib3[secure,socks]~=1.26->selenium) (1.16.0)\n",
      "Requirement already satisfied: h11<1,>=0.9.0 in c:\\users\\91888\\anaconda3\\lib\\site-packages (from wsproto>=0.14->trio-websocket~=0.9->selenium) (0.13.0)\n"
     ]
    }
   ],
   "source": [
    "#first instaling the selenium library\n",
    "! pip install selenium"
   ]
  },
  {
   "cell_type": "code",
   "execution_count": 254,
   "id": "0117b774",
   "metadata": {},
   "outputs": [],
   "source": [
    "# downloading the webdriver for the web browser"
   ]
  },
  {
   "cell_type": "code",
   "execution_count": 255,
   "id": "324e1cae",
   "metadata": {},
   "outputs": [],
   "source": [
    "#https://chromedriver.chromium.org/downloads"
   ]
  },
  {
   "cell_type": "code",
   "execution_count": 256,
   "id": "b7a494cb",
   "metadata": {},
   "outputs": [],
   "source": [
    "# now importing all the required libraries\n",
    "import selenium\n",
    "import pandas as pd \n",
    "from selenium import webdriver\n",
    "import warnings\n",
    "warnings.filterwarnings(\"ignore\")\n",
    "import time"
   ]
  },
  {
   "cell_type": "code",
   "execution_count": 257,
   "id": "8e2a1d52",
   "metadata": {},
   "outputs": [],
   "source": [
    "driver=webdriver.Chrome(\"chromedriver.exe\")"
   ]
  },
  {
   "cell_type": "code",
   "execution_count": 258,
   "id": "470bacdd",
   "metadata": {},
   "outputs": [],
   "source": [
    "time.sleep(2)"
   ]
  },
  {
   "cell_type": "code",
   "execution_count": 259,
   "id": "be5f874e",
   "metadata": {},
   "outputs": [],
   "source": [
    "driver.get('https://www.naukri.com/')"
   ]
  },
  {
   "cell_type": "code",
   "execution_count": 260,
   "id": "2257092d",
   "metadata": {},
   "outputs": [],
   "source": [
    "search_field_designation=driver.find_element_by_class_name(\"suggestor-input \")\n",
    "search_field_designation.send_keys(\"Data Analyst\")"
   ]
  },
  {
   "cell_type": "code",
   "execution_count": 261,
   "id": "4de262ab",
   "metadata": {},
   "outputs": [],
   "source": [
    "search_field_location=driver.find_element_by_xpath(\"/html/body/div/div[2]/div[3]/div/div/div[3]/div/div/div/input\")\n",
    "search_field_location.send_keys('Bangalore')"
   ]
  },
  {
   "cell_type": "code",
   "execution_count": 262,
   "id": "5d17922f",
   "metadata": {},
   "outputs": [],
   "source": [
    "search_button=driver.find_element_by_xpath(\"/html/body/div/div[2]/div[3]/div/div/div[6]\")\n",
    "search_button.click()"
   ]
  },
  {
   "cell_type": "code",
   "execution_count": 263,
   "id": "bf235921",
   "metadata": {},
   "outputs": [],
   "source": [
    "job_title=[]\n",
    "job_location=[]\n",
    "company_name=[]\n",
    "experience_required=[]\n"
   ]
  },
  {
   "cell_type": "code",
   "execution_count": 264,
   "id": "8115669a",
   "metadata": {},
   "outputs": [
    {
     "data": {
      "text/plain": [
       "[]"
      ]
     },
     "execution_count": 264,
     "metadata": {},
     "output_type": "execute_result"
    }
   ],
   "source": [
    "title_tags=driver.find_elements_by_xpath(\"//a[@class='title fw500 ellipsis']\")\n",
    "title_tags[0:10]"
   ]
  },
  {
   "cell_type": "code",
   "execution_count": 265,
   "id": "0a2b0797",
   "metadata": {},
   "outputs": [
    {
     "data": {
      "text/plain": [
       "[]"
      ]
     },
     "execution_count": 265,
     "metadata": {},
     "output_type": "execute_result"
    }
   ],
   "source": [
    "for i in title_tags:\n",
    "    title=i.text\n",
    "    job_title.append(title)\n",
    "job_title[0:10]"
   ]
  },
  {
   "cell_type": "code",
   "execution_count": 266,
   "id": "acf70c27",
   "metadata": {},
   "outputs": [
    {
     "data": {
      "text/plain": [
       "[]"
      ]
     },
     "execution_count": 266,
     "metadata": {},
     "output_type": "execute_result"
    }
   ],
   "source": [
    "companies_tags=driver.find_elements_by_xpath(\"//a[@class='subTitle ellipsis fleft']\")\n",
    "companies_tags[0:10]"
   ]
  },
  {
   "cell_type": "code",
   "execution_count": 267,
   "id": "7ddf8fb7",
   "metadata": {},
   "outputs": [
    {
     "data": {
      "text/plain": [
       "[]"
      ]
     },
     "execution_count": 267,
     "metadata": {},
     "output_type": "execute_result"
    }
   ],
   "source": [
    "for i in companies_tags:\n",
    "    company=i.text\n",
    "    company_name.append(company)\n",
    "company_name[0:10]"
   ]
  },
  {
   "cell_type": "code",
   "execution_count": 268,
   "id": "bbe59b76",
   "metadata": {},
   "outputs": [
    {
     "data": {
      "text/plain": [
       "[]"
      ]
     },
     "execution_count": 268,
     "metadata": {},
     "output_type": "execute_result"
    }
   ],
   "source": [
    "location_tags=driver.find_elements_by_xpath(\"//li[@class='fleft grey-text br2 placeHolderLi location']\")\n",
    "location_tags[0:10]"
   ]
  },
  {
   "cell_type": "code",
   "execution_count": 269,
   "id": "72a706c2",
   "metadata": {},
   "outputs": [
    {
     "data": {
      "text/plain": [
       "[]"
      ]
     },
     "execution_count": 269,
     "metadata": {},
     "output_type": "execute_result"
    }
   ],
   "source": [
    "for i in location_tags:\n",
    "    location=i.text\n",
    "    job_location.append(location)\n",
    "job_location[0:10]"
   ]
  },
  {
   "cell_type": "code",
   "execution_count": 270,
   "id": "fb418d12",
   "metadata": {},
   "outputs": [
    {
     "data": {
      "text/plain": [
       "[]"
      ]
     },
     "execution_count": 270,
     "metadata": {},
     "output_type": "execute_result"
    }
   ],
   "source": [
    "experience_tags=driver.find_elements_by_xpath(\"//li[@class='fleft grey-text br2 placeHolderLi experience']\")\n",
    "experience_tags[0:10]"
   ]
  },
  {
   "cell_type": "code",
   "execution_count": 271,
   "id": "a379c995",
   "metadata": {},
   "outputs": [
    {
     "data": {
      "text/plain": [
       "[]"
      ]
     },
     "execution_count": 271,
     "metadata": {},
     "output_type": "execute_result"
    }
   ],
   "source": [
    "for i in experience_tags:\n",
    "    experience=i.text\n",
    "    experience_required.append(experience)\n",
    "experience_required[0:10]"
   ]
  },
  {
   "cell_type": "code",
   "execution_count": 272,
   "id": "44aec671",
   "metadata": {},
   "outputs": [
    {
     "name": "stdout",
     "output_type": "stream",
     "text": [
      "0 0 0 0\n"
     ]
    }
   ],
   "source": [
    "#printing length\n",
    "print(len(job_title),len(job_location),len(company_name),len(experience_required))"
   ]
  },
  {
   "cell_type": "code",
   "execution_count": 273,
   "id": "fae8203a",
   "metadata": {},
   "outputs": [],
   "source": [
    "#Making DataFrame\n",
    "import pandas as pd"
   ]
  },
  {
   "cell_type": "code",
   "execution_count": 274,
   "id": "6ab2c5d5",
   "metadata": {},
   "outputs": [
    {
     "data": {
      "text/html": [
       "<div>\n",
       "<style scoped>\n",
       "    .dataframe tbody tr th:only-of-type {\n",
       "        vertical-align: middle;\n",
       "    }\n",
       "\n",
       "    .dataframe tbody tr th {\n",
       "        vertical-align: top;\n",
       "    }\n",
       "\n",
       "    .dataframe thead th {\n",
       "        text-align: right;\n",
       "    }\n",
       "</style>\n",
       "<table border=\"1\" class=\"dataframe\">\n",
       "  <thead>\n",
       "    <tr style=\"text-align: right;\">\n",
       "      <th></th>\n",
       "      <th>Job title</th>\n",
       "      <th>Job location</th>\n",
       "      <th>Company name</th>\n",
       "      <th>Experience required</th>\n",
       "    </tr>\n",
       "  </thead>\n",
       "  <tbody>\n",
       "  </tbody>\n",
       "</table>\n",
       "</div>"
      ],
      "text/plain": [
       "Empty DataFrame\n",
       "Columns: [Job title, Job location, Company name, Experience required]\n",
       "Index: []"
      ]
     },
     "execution_count": 274,
     "metadata": {},
     "output_type": "execute_result"
    }
   ],
   "source": [
    "jobs=pd.DataFrame({})\n",
    "jobs['Job title']=job_title\n",
    "jobs['Job location']=job_location\n",
    "jobs['Company name']=company_name\n",
    "jobs['Experience required']=experience_required\n",
    "jobs"
   ]
  },
  {
   "cell_type": "markdown",
   "id": "70ff8020",
   "metadata": {},
   "source": [
    "2.Python program to scrape data for “Data Scientist” Job position in “Bangalore” location"
   ]
  },
  {
   "cell_type": "code",
   "execution_count": 275,
   "id": "d8accb7a",
   "metadata": {},
   "outputs": [],
   "source": [
    "driver=webdriver.Chrome(\"chromedriver.exe\")"
   ]
  },
  {
   "cell_type": "code",
   "execution_count": 276,
   "id": "6b6c8dc2",
   "metadata": {},
   "outputs": [],
   "source": [
    "time.sleep(2)"
   ]
  },
  {
   "cell_type": "code",
   "execution_count": 277,
   "id": "660a17df",
   "metadata": {},
   "outputs": [],
   "source": [
    "driver.get(\"https://www.naukri.com/\")"
   ]
  },
  {
   "cell_type": "code",
   "execution_count": 278,
   "id": "2aa80212",
   "metadata": {},
   "outputs": [],
   "source": [
    "search_field_designation=driver.find_element_by_class_name(\"suggestor-input \")\n",
    "search_field_designation.send_keys(\"Data Scientist\")"
   ]
  },
  {
   "cell_type": "code",
   "execution_count": 279,
   "id": "6693761d",
   "metadata": {},
   "outputs": [],
   "source": [
    "search_field_location=driver.find_element_by_xpath(\"/html/body/div/div[2]/div[3]/div/div/div[3]/div/div/div/input\")\n",
    "search_field_location.send_keys('Bangalore')"
   ]
  },
  {
   "cell_type": "code",
   "execution_count": 280,
   "id": "4248975d",
   "metadata": {},
   "outputs": [],
   "source": [
    "search_button=driver.find_element_by_xpath('/html/body/div/div[2]/div[3]/div/div/div[6]')\n",
    "search_button.click()"
   ]
  },
  {
   "cell_type": "code",
   "execution_count": 281,
   "id": "40eaf2f2",
   "metadata": {},
   "outputs": [],
   "source": [
    "job_titles=[]\n",
    "job_location=[]\n",
    "company_name=[]"
   ]
  },
  {
   "cell_type": "code",
   "execution_count": 282,
   "id": "4a6120af",
   "metadata": {},
   "outputs": [
    {
     "data": {
      "text/plain": [
       "[]"
      ]
     },
     "execution_count": 282,
     "metadata": {},
     "output_type": "execute_result"
    }
   ],
   "source": [
    "title_tags=driver.find_elements_by_xpath(\"//a[@class='title fw500 ellipsis']\")\n",
    "title_tags[0:10]"
   ]
  },
  {
   "cell_type": "code",
   "execution_count": 283,
   "id": "888e2d61",
   "metadata": {},
   "outputs": [
    {
     "data": {
      "text/plain": [
       "[]"
      ]
     },
     "execution_count": 283,
     "metadata": {},
     "output_type": "execute_result"
    }
   ],
   "source": [
    "for i in title_tags:\n",
    "    title=i.text\n",
    "    job_titles.append(title)\n",
    "job_titles[0:10]"
   ]
  },
  {
   "cell_type": "code",
   "execution_count": 284,
   "id": "91740f81",
   "metadata": {},
   "outputs": [
    {
     "data": {
      "text/plain": [
       "[]"
      ]
     },
     "execution_count": 284,
     "metadata": {},
     "output_type": "execute_result"
    }
   ],
   "source": [
    "location_tags=driver.find_elements_by_xpath(\"//li[@class='fleft grey-text br2 placeHolderLi location']\")\n",
    "location_tags[0:10]"
   ]
  },
  {
   "cell_type": "code",
   "execution_count": 285,
   "id": "3a1d3a2f",
   "metadata": {},
   "outputs": [
    {
     "data": {
      "text/plain": [
       "[]"
      ]
     },
     "execution_count": 285,
     "metadata": {},
     "output_type": "execute_result"
    }
   ],
   "source": [
    "for i in location_tags:\n",
    "    location=i.text\n",
    "    job_location.append(location)\n",
    "job_location[0:10]"
   ]
  },
  {
   "cell_type": "code",
   "execution_count": 286,
   "id": "0bc830d4",
   "metadata": {},
   "outputs": [
    {
     "data": {
      "text/plain": [
       "[]"
      ]
     },
     "execution_count": 286,
     "metadata": {},
     "output_type": "execute_result"
    }
   ],
   "source": [
    "company_tags=driver.find_elements_by_xpath(\"//a[@class='subTitle ellipsis fleft']\")\n",
    "company_tags[0:10]"
   ]
  },
  {
   "cell_type": "code",
   "execution_count": 287,
   "id": "3bf0f60f",
   "metadata": {},
   "outputs": [
    {
     "data": {
      "text/plain": [
       "[]"
      ]
     },
     "execution_count": 287,
     "metadata": {},
     "output_type": "execute_result"
    }
   ],
   "source": [
    "for i in company_tags:\n",
    "    company=i.text\n",
    "    company_name.append(company)\n",
    "company_name[0:10]"
   ]
  },
  {
   "cell_type": "code",
   "execution_count": 288,
   "id": "fdcfea93",
   "metadata": {},
   "outputs": [
    {
     "data": {
      "text/html": [
       "<div>\n",
       "<style scoped>\n",
       "    .dataframe tbody tr th:only-of-type {\n",
       "        vertical-align: middle;\n",
       "    }\n",
       "\n",
       "    .dataframe tbody tr th {\n",
       "        vertical-align: top;\n",
       "    }\n",
       "\n",
       "    .dataframe thead th {\n",
       "        text-align: right;\n",
       "    }\n",
       "</style>\n",
       "<table border=\"1\" class=\"dataframe\">\n",
       "  <thead>\n",
       "    <tr style=\"text-align: right;\">\n",
       "      <th></th>\n",
       "      <th>Title</th>\n",
       "      <th>Location</th>\n",
       "      <th>Company name</th>\n",
       "    </tr>\n",
       "  </thead>\n",
       "  <tbody>\n",
       "  </tbody>\n",
       "</table>\n",
       "</div>"
      ],
      "text/plain": [
       "Empty DataFrame\n",
       "Columns: [Title, Location, Company name]\n",
       "Index: []"
      ]
     },
     "execution_count": 288,
     "metadata": {},
     "output_type": "execute_result"
    }
   ],
   "source": [
    "jobs=pd.DataFrame({})\n",
    "jobs['Title']=job_titles[0:10]\n",
    "jobs['Location']=job_location[0:10]\n",
    "jobs['Company name']=company_name[0:10]\n",
    "jobs"
   ]
  },
  {
   "cell_type": "markdown",
   "id": "0a70a642",
   "metadata": {},
   "source": [
    "3.Python program to scrape data using the filters available on the webpage"
   ]
  },
  {
   "cell_type": "code",
   "execution_count": 289,
   "id": "23597e0e",
   "metadata": {},
   "outputs": [],
   "source": [
    "driver=webdriver.Chrome('chromedriver.exe')"
   ]
  },
  {
   "cell_type": "code",
   "execution_count": 290,
   "id": "1c507a70",
   "metadata": {},
   "outputs": [],
   "source": [
    "driver.get('https://www.naukri.com/')\n"
   ]
  },
  {
   "cell_type": "code",
   "execution_count": 291,
   "id": "03df98ce",
   "metadata": {},
   "outputs": [],
   "source": [
    "search_field_designation=driver.find_element_by_class_name(\"suggestor-input \")\n",
    "search_field_designation.send_keys('Data Scientist')"
   ]
  },
  {
   "cell_type": "code",
   "execution_count": 292,
   "id": "0a4b50b7",
   "metadata": {},
   "outputs": [],
   "source": [
    "search_button=driver.find_element_by_xpath(\"/html/body/div/div[2]/div[3]/div/div/div[6]\")\n",
    "search_button.click()"
   ]
  },
  {
   "cell_type": "code",
   "execution_count": 293,
   "id": "70ddc06b",
   "metadata": {},
   "outputs": [],
   "source": [
    "job_title=[]\n",
    "job_location=[]\n",
    "company_name=[]\n",
    "experience_required=[]"
   ]
  },
  {
   "cell_type": "code",
   "execution_count": 294,
   "id": "e505f202",
   "metadata": {},
   "outputs": [
    {
     "data": {
      "text/plain": [
       "[]"
      ]
     },
     "execution_count": 294,
     "metadata": {},
     "output_type": "execute_result"
    }
   ],
   "source": [
    "title_tags=driver.find_elements_by_xpath(\"//a[@class='title fw500 ellipsis']\")\n",
    "title_tags[0:10]"
   ]
  },
  {
   "cell_type": "code",
   "execution_count": 295,
   "id": "5c38107e",
   "metadata": {},
   "outputs": [
    {
     "data": {
      "text/plain": [
       "[]"
      ]
     },
     "execution_count": 295,
     "metadata": {},
     "output_type": "execute_result"
    }
   ],
   "source": [
    "for i in title_tags:\n",
    "    title=i.text\n",
    "    job_title.append(title)\n",
    "job_title[0:10]"
   ]
  },
  {
   "cell_type": "code",
   "execution_count": 296,
   "id": "d582f7fc",
   "metadata": {},
   "outputs": [
    {
     "data": {
      "text/plain": [
       "[]"
      ]
     },
     "execution_count": 296,
     "metadata": {},
     "output_type": "execute_result"
    }
   ],
   "source": [
    "location_tags=driver.find_elements_by_xpath(\"//li[@class='fleft grey-text br2 placeHolderLi location']\")\n",
    "location_tags[0:10]"
   ]
  },
  {
   "cell_type": "code",
   "execution_count": 297,
   "id": "a5e16c07",
   "metadata": {},
   "outputs": [
    {
     "data": {
      "text/plain": [
       "[]"
      ]
     },
     "execution_count": 297,
     "metadata": {},
     "output_type": "execute_result"
    }
   ],
   "source": [
    "for i in location_tags:\n",
    "    location=i.text\n",
    "    job_location.append(location)\n",
    "job_location[0:10]"
   ]
  },
  {
   "cell_type": "code",
   "execution_count": 298,
   "id": "f603adb4",
   "metadata": {},
   "outputs": [
    {
     "data": {
      "text/plain": [
       "[]"
      ]
     },
     "execution_count": 298,
     "metadata": {},
     "output_type": "execute_result"
    }
   ],
   "source": [
    "company_tags=driver.find_elements_by_xpath(\"//a[@class='subTitle ellipsis fleft']\")\n",
    "company_tags[0:10]"
   ]
  },
  {
   "cell_type": "code",
   "execution_count": 299,
   "id": "0b00e43b",
   "metadata": {},
   "outputs": [
    {
     "data": {
      "text/plain": [
       "[]"
      ]
     },
     "execution_count": 299,
     "metadata": {},
     "output_type": "execute_result"
    }
   ],
   "source": [
    "for i in company_tags:\n",
    "    company=i.text\n",
    "    company_name.append(company)\n",
    "company_name[0:10]"
   ]
  },
  {
   "cell_type": "code",
   "execution_count": 300,
   "id": "e86cf661",
   "metadata": {},
   "outputs": [
    {
     "data": {
      "text/plain": [
       "[]"
      ]
     },
     "execution_count": 300,
     "metadata": {},
     "output_type": "execute_result"
    }
   ],
   "source": [
    "experience_tags=driver.find_elements_by_xpath(\"//li[@class='fleft grey-text br2 placeHolderLi experience']\")\n",
    "experience_tags[0:10]"
   ]
  },
  {
   "cell_type": "code",
   "execution_count": 301,
   "id": "792b94ab",
   "metadata": {},
   "outputs": [
    {
     "data": {
      "text/plain": [
       "[]"
      ]
     },
     "execution_count": 301,
     "metadata": {},
     "output_type": "execute_result"
    }
   ],
   "source": [
    "for i in experience_tags:\n",
    "    experience=i.text\n",
    "    experience_required.append(experience)\n",
    "experience_required[0:10]"
   ]
  },
  {
   "cell_type": "code",
   "execution_count": 302,
   "id": "1c30b8a9",
   "metadata": {},
   "outputs": [
    {
     "data": {
      "text/html": [
       "<div>\n",
       "<style scoped>\n",
       "    .dataframe tbody tr th:only-of-type {\n",
       "        vertical-align: middle;\n",
       "    }\n",
       "\n",
       "    .dataframe tbody tr th {\n",
       "        vertical-align: top;\n",
       "    }\n",
       "\n",
       "    .dataframe thead th {\n",
       "        text-align: right;\n",
       "    }\n",
       "</style>\n",
       "<table border=\"1\" class=\"dataframe\">\n",
       "  <thead>\n",
       "    <tr style=\"text-align: right;\">\n",
       "      <th></th>\n",
       "      <th>Job title</th>\n",
       "      <th>Location</th>\n",
       "      <th>Company_name</th>\n",
       "      <th>Experience</th>\n",
       "    </tr>\n",
       "  </thead>\n",
       "  <tbody>\n",
       "  </tbody>\n",
       "</table>\n",
       "</div>"
      ],
      "text/plain": [
       "Empty DataFrame\n",
       "Columns: [Job title, Location, Company_name, Experience]\n",
       "Index: []"
      ]
     },
     "execution_count": 302,
     "metadata": {},
     "output_type": "execute_result"
    }
   ],
   "source": [
    "jobs=pd.DataFrame({})\n",
    "jobs['Job title']=job_title[0:10]\n",
    "jobs['Location']=job_location[0:10]\n",
    "jobs['Company_name']=company_name[0:10]\n",
    "jobs['Experience']=experience_required[0:10]\n",
    "jobs"
   ]
  },
  {
   "cell_type": "markdown",
   "id": "1b014dae",
   "metadata": {},
   "source": [
    "4.Python program to scrape data for first 10 job results for Data Scientist Designation in Noida location through ambitionbox.com webpage"
   ]
  },
  {
   "cell_type": "code",
   "execution_count": 303,
   "id": "72441608",
   "metadata": {},
   "outputs": [],
   "source": [
    "driver=webdriver.Chrome(\"chromedriver.exe\")"
   ]
  },
  {
   "cell_type": "code",
   "execution_count": 304,
   "id": "c71080d0",
   "metadata": {},
   "outputs": [],
   "source": [
    "driver.get('https://www.ambitionbox.com/')"
   ]
  },
  {
   "cell_type": "code",
   "execution_count": 305,
   "id": "7f3746d4",
   "metadata": {},
   "outputs": [],
   "source": [
    "job_option=driver.find_element_by_xpath('/html/body/div[1]/nav/nav/a[6]')\n",
    "job_option.click()"
   ]
  },
  {
   "cell_type": "code",
   "execution_count": 306,
   "id": "1ea1ab59",
   "metadata": {},
   "outputs": [],
   "source": [
    "search_field_designation=driver.find_element_by_xpath('/html/body/div/div/div/div[2]/div[1]/div[1]/div/div/div/div/span/input')\n",
    "search_field_designation.send_keys(\"Data Scientist\")"
   ]
  },
  {
   "cell_type": "code",
   "execution_count": 307,
   "id": "e7c3a155",
   "metadata": {},
   "outputs": [],
   "source": [
    "search_button=driver.find_element_by_xpath('/html/body/div/div/div/div[2]/div[1]/div[1]/div/div/div/button')\n",
    "search_button.click()"
   ]
  },
  {
   "cell_type": "code",
   "execution_count": 308,
   "id": "a570963a",
   "metadata": {},
   "outputs": [],
   "source": [
    "company_name=[]\n",
    "job_posted=[]\n",
    "rating_of_company=[]"
   ]
  },
  {
   "cell_type": "code",
   "execution_count": 309,
   "id": "2d94efb9",
   "metadata": {},
   "outputs": [
    {
     "data": {
      "text/plain": [
       "[]"
      ]
     },
     "execution_count": 309,
     "metadata": {},
     "output_type": "execute_result"
    }
   ],
   "source": [
    "company_tags=driver.find_elements_by_xpath(\"//p[@class='company body-medium']\")\n",
    "company_tags[0:10]"
   ]
  },
  {
   "cell_type": "code",
   "execution_count": 310,
   "id": "fc3fc37c",
   "metadata": {},
   "outputs": [
    {
     "data": {
      "text/plain": [
       "[]"
      ]
     },
     "execution_count": 310,
     "metadata": {},
     "output_type": "execute_result"
    }
   ],
   "source": [
    "for i in company_tags:\n",
    "    company=i.text\n",
    "    company_name.append(company)\n",
    "company_name[0:10]"
   ]
  },
  {
   "cell_type": "code",
   "execution_count": 311,
   "id": "2da5bab6",
   "metadata": {},
   "outputs": [
    {
     "data": {
      "text/plain": [
       "[]"
      ]
     },
     "execution_count": 311,
     "metadata": {},
     "output_type": "execute_result"
    }
   ],
   "source": [
    "posted_date=driver.find_elements_by_xpath(\"//span[@class='body-small-l']\")\n",
    "posted_date[0:10]"
   ]
  },
  {
   "cell_type": "code",
   "execution_count": 312,
   "id": "67b16590",
   "metadata": {},
   "outputs": [
    {
     "data": {
      "text/plain": [
       "[]"
      ]
     },
     "execution_count": 312,
     "metadata": {},
     "output_type": "execute_result"
    }
   ],
   "source": [
    "for i in posted_date:\n",
    "    posted=i.text\n",
    "    job_posted.append(posted)\n",
    "job_posted[0:20]"
   ]
  },
  {
   "cell_type": "code",
   "execution_count": 313,
   "id": "f2b05359",
   "metadata": {},
   "outputs": [
    {
     "data": {
      "text/plain": [
       "[]"
      ]
     },
     "execution_count": 313,
     "metadata": {},
     "output_type": "execute_result"
    }
   ],
   "source": [
    "rating_tags=driver.find_elements_by_xpath(\"//span[@class='body-small']\")\n",
    "rating_tags[0:10]"
   ]
  },
  {
   "cell_type": "code",
   "execution_count": 314,
   "id": "16a6b683",
   "metadata": {},
   "outputs": [
    {
     "data": {
      "text/plain": [
       "[]"
      ]
     },
     "execution_count": 314,
     "metadata": {},
     "output_type": "execute_result"
    }
   ],
   "source": [
    "for i in rating_tags:\n",
    "    rating=i.text\n",
    "    rating_of_company.append(rating)\n",
    "rating_of_company[0:10]"
   ]
  },
  {
   "cell_type": "code",
   "execution_count": 315,
   "id": "2c24ea2f",
   "metadata": {},
   "outputs": [
    {
     "name": "stdout",
     "output_type": "stream",
     "text": [
      "0 0 0\n"
     ]
    }
   ],
   "source": [
    "print(len(company_name),len(job_posted),len(rating_of_company))"
   ]
  },
  {
   "cell_type": "code",
   "execution_count": 316,
   "id": "69568a8e",
   "metadata": {},
   "outputs": [
    {
     "data": {
      "text/html": [
       "<div>\n",
       "<style scoped>\n",
       "    .dataframe tbody tr th:only-of-type {\n",
       "        vertical-align: middle;\n",
       "    }\n",
       "\n",
       "    .dataframe tbody tr th {\n",
       "        vertical-align: top;\n",
       "    }\n",
       "\n",
       "    .dataframe thead th {\n",
       "        text-align: right;\n",
       "    }\n",
       "</style>\n",
       "<table border=\"1\" class=\"dataframe\">\n",
       "  <thead>\n",
       "    <tr style=\"text-align: right;\">\n",
       "      <th></th>\n",
       "      <th>Company name</th>\n",
       "      <th>Job posted date</th>\n",
       "      <th>Rating of company</th>\n",
       "    </tr>\n",
       "  </thead>\n",
       "  <tbody>\n",
       "  </tbody>\n",
       "</table>\n",
       "</div>"
      ],
      "text/plain": [
       "Empty DataFrame\n",
       "Columns: [Company name, Job posted date, Rating of company]\n",
       "Index: []"
      ]
     },
     "execution_count": 316,
     "metadata": {},
     "output_type": "execute_result"
    }
   ],
   "source": [
    "#Making DataFrame\n",
    "jobs=pd.DataFrame({})\n",
    "jobs['Company name']=company_name[0:10]\n",
    "jobs['Job posted date']=job_posted[0:10]\n",
    "jobs['Rating of company']=rating_of_company[0:10]\n",
    "jobs"
   ]
  },
  {
   "cell_type": "markdown",
   "id": "4fe2e260",
   "metadata": {},
   "source": [
    "5.Python program to scrape the salary data for Data Scientist designation5"
   ]
  },
  {
   "cell_type": "code",
   "execution_count": 317,
   "id": "b428d65a",
   "metadata": {},
   "outputs": [],
   "source": [
    "driver=webdriver.Chrome('chromedriver.exe')"
   ]
  },
  {
   "cell_type": "code",
   "execution_count": 318,
   "id": "e05257c1",
   "metadata": {},
   "outputs": [],
   "source": [
    "driver.get('https://www.ambitionbox.com/')"
   ]
  },
  {
   "cell_type": "code",
   "execution_count": 319,
   "id": "2fbb1704",
   "metadata": {},
   "outputs": [],
   "source": [
    "salary_option=driver.find_element_by_xpath('/html/body/div[1]/nav/nav/a[4]')\n",
    "salary_option.click()"
   ]
  },
  {
   "cell_type": "code",
   "execution_count": 320,
   "id": "fe1a2380",
   "metadata": {},
   "outputs": [],
   "source": [
    "search_field_designation=driver.find_element_by_xpath('/html/body/div/div/div/main/section[1]/div[2]/div[1]/span/input')\n",
    "search_field_designation.send_keys('Data Scientist')"
   ]
  },
  {
   "cell_type": "code",
   "execution_count": 321,
   "id": "baeaa8f2",
   "metadata": {},
   "outputs": [],
   "source": [
    "company_name=[]\n",
    "no_of_salaries=[]\n",
    "experience_required=[]\n",
    "min_salary=[]\n",
    "avg_salary=[]\n",
    "max_salary=[]"
   ]
  },
  {
   "cell_type": "code",
   "execution_count": 322,
   "id": "8dea05cd",
   "metadata": {},
   "outputs": [
    {
     "data": {
      "text/plain": [
       "[<selenium.webdriver.remote.webelement.WebElement (session=\"6d3e67b981c00d16ec9cb696d7d740fe\", element=\"a2051e0e-1ee0-4acf-8c05-a4a90927b6da\")>,\n",
       " <selenium.webdriver.remote.webelement.WebElement (session=\"6d3e67b981c00d16ec9cb696d7d740fe\", element=\"beece2cd-0fe4-497c-8d49-801bd13e4b8f\")>,\n",
       " <selenium.webdriver.remote.webelement.WebElement (session=\"6d3e67b981c00d16ec9cb696d7d740fe\", element=\"54a1d267-a169-4ebd-aed3-c8784cbf712c\")>,\n",
       " <selenium.webdriver.remote.webelement.WebElement (session=\"6d3e67b981c00d16ec9cb696d7d740fe\", element=\"5b50296a-ca66-41ce-ad7f-3ae09f7058b7\")>,\n",
       " <selenium.webdriver.remote.webelement.WebElement (session=\"6d3e67b981c00d16ec9cb696d7d740fe\", element=\"4b7beaa6-11f6-4425-bf60-d945d514295a\")>,\n",
       " <selenium.webdriver.remote.webelement.WebElement (session=\"6d3e67b981c00d16ec9cb696d7d740fe\", element=\"24603d15-d5ac-4ed7-bb48-2ee2cb548d92\")>,\n",
       " <selenium.webdriver.remote.webelement.WebElement (session=\"6d3e67b981c00d16ec9cb696d7d740fe\", element=\"5624e7a7-75a4-4faa-ac54-e96c0f0665ce\")>,\n",
       " <selenium.webdriver.remote.webelement.WebElement (session=\"6d3e67b981c00d16ec9cb696d7d740fe\", element=\"bbd3a368-78db-45f5-81a7-fda71e207451\")>,\n",
       " <selenium.webdriver.remote.webelement.WebElement (session=\"6d3e67b981c00d16ec9cb696d7d740fe\", element=\"a2be2dc2-eae8-4165-9b1e-877d3b68c9cb\")>,\n",
       " <selenium.webdriver.remote.webelement.WebElement (session=\"6d3e67b981c00d16ec9cb696d7d740fe\", element=\"9bd1de67-3b8c-454a-9b1f-701935cdbd22\")>]"
      ]
     },
     "execution_count": 322,
     "metadata": {},
     "output_type": "execute_result"
    }
   ],
   "source": [
    "company_tags=driver.find_elements_by_xpath(\"//div[@class='name']\")\n",
    "company_tags[0:10]"
   ]
  },
  {
   "cell_type": "code",
   "execution_count": 323,
   "id": "c020f0dd",
   "metadata": {},
   "outputs": [
    {
     "data": {
      "text/plain": [
       "['Google\\nbased on 11 salaries',\n",
       " 'Arista Networks\\nbased on 13 salaries',\n",
       " 'Microsoft Corporation\\nbased on 253 salaries',\n",
       " 'Goldman Sachs\\nbased on 16 salaries',\n",
       " 'Tekion\\nbased on 32 salaries',\n",
       " 'Flipkart\\nbased on 61 salaries',\n",
       " 'Servicenow Software Development India\\nbased on 54 salaries',\n",
       " 'Walmart\\nbased on 81 salaries',\n",
       " 'PayPal\\nbased on 26 salaries',\n",
       " 'Amazon\\nbased on 103 salaries']"
      ]
     },
     "execution_count": 323,
     "metadata": {},
     "output_type": "execute_result"
    }
   ],
   "source": [
    "for i in company_tags:\n",
    "    company=i.text\n",
    "    company_name.append(company)\n",
    "company_name[0:10]"
   ]
  },
  {
   "cell_type": "code",
   "execution_count": 324,
   "id": "609fd842",
   "metadata": {},
   "outputs": [
    {
     "data": {
      "text/plain": [
       "[<selenium.webdriver.remote.webelement.WebElement (session=\"6d3e67b981c00d16ec9cb696d7d740fe\", element=\"950b5d41-022b-469c-9f75-1b81cb710fd0\")>,\n",
       " <selenium.webdriver.remote.webelement.WebElement (session=\"6d3e67b981c00d16ec9cb696d7d740fe\", element=\"90db7a2d-a031-4b9c-8817-f1b1d833aca7\")>,\n",
       " <selenium.webdriver.remote.webelement.WebElement (session=\"6d3e67b981c00d16ec9cb696d7d740fe\", element=\"8d9d112f-6249-4c8d-a8a1-ef89887a8a4a\")>,\n",
       " <selenium.webdriver.remote.webelement.WebElement (session=\"6d3e67b981c00d16ec9cb696d7d740fe\", element=\"e7e1fe36-c50c-4cb5-8a56-49ebee54d332\")>,\n",
       " <selenium.webdriver.remote.webelement.WebElement (session=\"6d3e67b981c00d16ec9cb696d7d740fe\", element=\"227f3301-7f1b-434d-ba4c-7cff40f789bb\")>,\n",
       " <selenium.webdriver.remote.webelement.WebElement (session=\"6d3e67b981c00d16ec9cb696d7d740fe\", element=\"88f9fb37-2634-4240-a0ef-087579cc7fd1\")>,\n",
       " <selenium.webdriver.remote.webelement.WebElement (session=\"6d3e67b981c00d16ec9cb696d7d740fe\", element=\"0638884d-402e-43d1-b39f-9dc3b78b0e18\")>,\n",
       " <selenium.webdriver.remote.webelement.WebElement (session=\"6d3e67b981c00d16ec9cb696d7d740fe\", element=\"f10a6bbf-3fbd-425b-ab6f-e2b3cc5b7257\")>,\n",
       " <selenium.webdriver.remote.webelement.WebElement (session=\"6d3e67b981c00d16ec9cb696d7d740fe\", element=\"dcfe6a3f-6990-4edd-a10f-1aded561aa25\")>,\n",
       " <selenium.webdriver.remote.webelement.WebElement (session=\"6d3e67b981c00d16ec9cb696d7d740fe\", element=\"5f8422a7-bd5c-4e31-bcda-5559bc2784f2\")>]"
      ]
     },
     "execution_count": 324,
     "metadata": {},
     "output_type": "execute_result"
    }
   ],
   "source": [
    "experience_tags=driver.find_elements_by_xpath(\"//div[@class='salaries sbold-list-header']\")\n",
    "experience_tags[0:10]"
   ]
  },
  {
   "cell_type": "code",
   "execution_count": 325,
   "id": "8934a211",
   "metadata": {},
   "outputs": [
    {
     "data": {
      "text/plain": [
       "['Software Engineer\\n . \\n1 yr exp',\n",
       " 'Software Engineer\\n . \\n3 yrs exp',\n",
       " 'Software Engineer\\n . \\n1-4 yrs exp',\n",
       " 'Software Engineer\\n . \\n2 yrs exp',\n",
       " 'Software Engineer\\n . \\n2-4 yrs exp',\n",
       " 'Software Engineer\\n . \\n1-4 yrs exp',\n",
       " 'Software Engineer\\n . \\n2-4 yrs exp',\n",
       " 'Software Engineer\\n . \\n1-4 yrs exp',\n",
       " 'Software Engineer\\n . \\n1-2 yrs exp',\n",
       " 'Software Engineer\\n . \\n1-4 yrs exp']"
      ]
     },
     "execution_count": 325,
     "metadata": {},
     "output_type": "execute_result"
    }
   ],
   "source": [
    "for i in experience_tags:\n",
    "    experience=i.text\n",
    "    experience_required.append(experience)\n",
    "experience_required[0:10]"
   ]
  },
  {
   "cell_type": "code",
   "execution_count": 326,
   "id": "9a04f52a",
   "metadata": {},
   "outputs": [
    {
     "data": {
      "text/plain": [
       "[<selenium.webdriver.remote.webelement.WebElement (session=\"6d3e67b981c00d16ec9cb696d7d740fe\", element=\"f7dd9e7d-b786-4b6f-8f3e-ca679c9de61d\")>,\n",
       " <selenium.webdriver.remote.webelement.WebElement (session=\"6d3e67b981c00d16ec9cb696d7d740fe\", element=\"09170460-ce74-4c51-9163-5ad21340469b\")>,\n",
       " <selenium.webdriver.remote.webelement.WebElement (session=\"6d3e67b981c00d16ec9cb696d7d740fe\", element=\"72c24e3d-cf3c-4fb6-a081-475e4eea7eae\")>,\n",
       " <selenium.webdriver.remote.webelement.WebElement (session=\"6d3e67b981c00d16ec9cb696d7d740fe\", element=\"190133a5-4bea-4f6f-bd4d-ddff15e43a37\")>,\n",
       " <selenium.webdriver.remote.webelement.WebElement (session=\"6d3e67b981c00d16ec9cb696d7d740fe\", element=\"66b58ac5-1986-4c9d-a450-96d0faef8f48\")>,\n",
       " <selenium.webdriver.remote.webelement.WebElement (session=\"6d3e67b981c00d16ec9cb696d7d740fe\", element=\"7a501424-7cfa-40fe-89d9-0a4e36342998\")>,\n",
       " <selenium.webdriver.remote.webelement.WebElement (session=\"6d3e67b981c00d16ec9cb696d7d740fe\", element=\"817f909f-fa98-4843-b175-c620f4b92437\")>,\n",
       " <selenium.webdriver.remote.webelement.WebElement (session=\"6d3e67b981c00d16ec9cb696d7d740fe\", element=\"bce85085-5521-4039-ac44-114e994dc3f1\")>,\n",
       " <selenium.webdriver.remote.webelement.WebElement (session=\"6d3e67b981c00d16ec9cb696d7d740fe\", element=\"bf72136e-f320-4763-94b6-42f0c64cc0d8\")>,\n",
       " <selenium.webdriver.remote.webelement.WebElement (session=\"6d3e67b981c00d16ec9cb696d7d740fe\", element=\"5d50f2c8-3c21-439a-b5ff-0f202a3eff31\")>]"
      ]
     },
     "execution_count": 326,
     "metadata": {},
     "output_type": "execute_result"
    }
   ],
   "source": [
    "min_tags=driver.find_elements_by_xpath('//div[@class=\"value body-medium\"]')\n",
    "min_tags[0:10]"
   ]
  },
  {
   "cell_type": "code",
   "execution_count": 327,
   "id": "7b4eae99",
   "metadata": {},
   "outputs": [
    {
     "data": {
      "text/plain": [
       "['₹ 10.4L',\n",
       " '₹ 40.0L',\n",
       " '₹ 10.7L',\n",
       " '₹ 38.0L',\n",
       " '₹ 13.0L',\n",
       " '₹ 45.0L',\n",
       " '₹ 12.0L',\n",
       " '₹ 34.0L',\n",
       " '₹ 12.0L',\n",
       " '₹ 33.0L']"
      ]
     },
     "execution_count": 327,
     "metadata": {},
     "output_type": "execute_result"
    }
   ],
   "source": [
    "for i in min_tags:\n",
    "    min=i.text\n",
    "    min_salary.append(min)\n",
    "min_salary[0:10]"
   ]
  },
  {
   "cell_type": "code",
   "execution_count": 328,
   "id": "6316c151",
   "metadata": {},
   "outputs": [
    {
     "data": {
      "text/plain": [
       "[<selenium.webdriver.remote.webelement.WebElement (session=\"6d3e67b981c00d16ec9cb696d7d740fe\", element=\"73b11478-6544-434a-a7a7-59e19a080493\")>,\n",
       " <selenium.webdriver.remote.webelement.WebElement (session=\"6d3e67b981c00d16ec9cb696d7d740fe\", element=\"22ea09b4-5bea-46c1-a35a-855b806f466e\")>,\n",
       " <selenium.webdriver.remote.webelement.WebElement (session=\"6d3e67b981c00d16ec9cb696d7d740fe\", element=\"98665fd2-9818-4466-a24f-31205bfa97b5\")>,\n",
       " <selenium.webdriver.remote.webelement.WebElement (session=\"6d3e67b981c00d16ec9cb696d7d740fe\", element=\"5a0381a0-7040-48d5-870f-6c9d8616cf5d\")>,\n",
       " <selenium.webdriver.remote.webelement.WebElement (session=\"6d3e67b981c00d16ec9cb696d7d740fe\", element=\"dded21dc-20dd-4d1a-b36d-d60b47da88d1\")>,\n",
       " <selenium.webdriver.remote.webelement.WebElement (session=\"6d3e67b981c00d16ec9cb696d7d740fe\", element=\"d1d1d2a5-d69f-4079-9d07-b94229cd9e00\")>,\n",
       " <selenium.webdriver.remote.webelement.WebElement (session=\"6d3e67b981c00d16ec9cb696d7d740fe\", element=\"29d16b72-977a-47f5-aa10-34aeb4beb4fd\")>,\n",
       " <selenium.webdriver.remote.webelement.WebElement (session=\"6d3e67b981c00d16ec9cb696d7d740fe\", element=\"88ad83ce-d165-4b4b-a427-f87488f6b298\")>,\n",
       " <selenium.webdriver.remote.webelement.WebElement (session=\"6d3e67b981c00d16ec9cb696d7d740fe\", element=\"d67576f6-1670-459d-977b-b7ade8601d6c\")>,\n",
       " <selenium.webdriver.remote.webelement.WebElement (session=\"6d3e67b981c00d16ec9cb696d7d740fe\", element=\"bc4c7298-3261-4fac-bfbe-c9291071a954\")>]"
      ]
     },
     "execution_count": 328,
     "metadata": {},
     "output_type": "execute_result"
    }
   ],
   "source": [
    "avg_tags=driver.find_elements_by_xpath(\"//p[@class='averageCtc']\")\n",
    "avg_tags[0:10]"
   ]
  },
  {
   "cell_type": "code",
   "execution_count": 329,
   "id": "9b713549",
   "metadata": {},
   "outputs": [
    {
     "data": {
      "text/plain": [
       "['₹ 26.9L',\n",
       " '₹ 24.7L',\n",
       " '₹ 23.7L',\n",
       " '₹ 22.3L',\n",
       " '₹ 21.0L',\n",
       " '₹ 20.3L',\n",
       " '₹ 20.2L',\n",
       " '₹ 19.9L',\n",
       " '₹ 19.8L',\n",
       " '₹ 19.7L']"
      ]
     },
     "execution_count": 329,
     "metadata": {},
     "output_type": "execute_result"
    }
   ],
   "source": [
    "for i in avg_tags:\n",
    "    avg=i.text\n",
    "    avg_salary.append(avg)\n",
    "avg_salary[0:10]"
   ]
  },
  {
   "cell_type": "code",
   "execution_count": 330,
   "id": "6160cefa",
   "metadata": {},
   "outputs": [
    {
     "data": {
      "text/html": [
       "<div>\n",
       "<style scoped>\n",
       "    .dataframe tbody tr th:only-of-type {\n",
       "        vertical-align: middle;\n",
       "    }\n",
       "\n",
       "    .dataframe tbody tr th {\n",
       "        vertical-align: top;\n",
       "    }\n",
       "\n",
       "    .dataframe thead th {\n",
       "        text-align: right;\n",
       "    }\n",
       "</style>\n",
       "<table border=\"1\" class=\"dataframe\">\n",
       "  <thead>\n",
       "    <tr style=\"text-align: right;\">\n",
       "      <th></th>\n",
       "      <th>Company name &amp; No of salaries</th>\n",
       "      <th>Experience</th>\n",
       "      <th>Min salary</th>\n",
       "      <th>Average salary</th>\n",
       "    </tr>\n",
       "  </thead>\n",
       "  <tbody>\n",
       "    <tr>\n",
       "      <th>0</th>\n",
       "      <td>Google\\nbased on 11 salaries</td>\n",
       "      <td>Software Engineer\\n . \\n1 yr exp</td>\n",
       "      <td>₹ 10.4L</td>\n",
       "      <td>₹ 26.9L</td>\n",
       "    </tr>\n",
       "    <tr>\n",
       "      <th>1</th>\n",
       "      <td>Arista Networks\\nbased on 13 salaries</td>\n",
       "      <td>Software Engineer\\n . \\n3 yrs exp</td>\n",
       "      <td>₹ 40.0L</td>\n",
       "      <td>₹ 24.7L</td>\n",
       "    </tr>\n",
       "    <tr>\n",
       "      <th>2</th>\n",
       "      <td>Microsoft Corporation\\nbased on 253 salaries</td>\n",
       "      <td>Software Engineer\\n . \\n1-4 yrs exp</td>\n",
       "      <td>₹ 10.7L</td>\n",
       "      <td>₹ 23.7L</td>\n",
       "    </tr>\n",
       "    <tr>\n",
       "      <th>3</th>\n",
       "      <td>Goldman Sachs\\nbased on 16 salaries</td>\n",
       "      <td>Software Engineer\\n . \\n2 yrs exp</td>\n",
       "      <td>₹ 38.0L</td>\n",
       "      <td>₹ 22.3L</td>\n",
       "    </tr>\n",
       "    <tr>\n",
       "      <th>4</th>\n",
       "      <td>Tekion\\nbased on 32 salaries</td>\n",
       "      <td>Software Engineer\\n . \\n2-4 yrs exp</td>\n",
       "      <td>₹ 13.0L</td>\n",
       "      <td>₹ 21.0L</td>\n",
       "    </tr>\n",
       "    <tr>\n",
       "      <th>5</th>\n",
       "      <td>Flipkart\\nbased on 61 salaries</td>\n",
       "      <td>Software Engineer\\n . \\n1-4 yrs exp</td>\n",
       "      <td>₹ 45.0L</td>\n",
       "      <td>₹ 20.3L</td>\n",
       "    </tr>\n",
       "    <tr>\n",
       "      <th>6</th>\n",
       "      <td>Servicenow Software Development India\\nbased o...</td>\n",
       "      <td>Software Engineer\\n . \\n2-4 yrs exp</td>\n",
       "      <td>₹ 12.0L</td>\n",
       "      <td>₹ 20.2L</td>\n",
       "    </tr>\n",
       "    <tr>\n",
       "      <th>7</th>\n",
       "      <td>Walmart\\nbased on 81 salaries</td>\n",
       "      <td>Software Engineer\\n . \\n1-4 yrs exp</td>\n",
       "      <td>₹ 34.0L</td>\n",
       "      <td>₹ 19.9L</td>\n",
       "    </tr>\n",
       "    <tr>\n",
       "      <th>8</th>\n",
       "      <td>PayPal\\nbased on 26 salaries</td>\n",
       "      <td>Software Engineer\\n . \\n1-2 yrs exp</td>\n",
       "      <td>₹ 12.0L</td>\n",
       "      <td>₹ 19.8L</td>\n",
       "    </tr>\n",
       "    <tr>\n",
       "      <th>9</th>\n",
       "      <td>Amazon\\nbased on 103 salaries</td>\n",
       "      <td>Software Engineer\\n . \\n1-4 yrs exp</td>\n",
       "      <td>₹ 33.0L</td>\n",
       "      <td>₹ 19.7L</td>\n",
       "    </tr>\n",
       "  </tbody>\n",
       "</table>\n",
       "</div>"
      ],
      "text/plain": [
       "                       Company name & No of salaries  \\\n",
       "0                       Google\\nbased on 11 salaries   \n",
       "1              Arista Networks\\nbased on 13 salaries   \n",
       "2       Microsoft Corporation\\nbased on 253 salaries   \n",
       "3                Goldman Sachs\\nbased on 16 salaries   \n",
       "4                       Tekion\\nbased on 32 salaries   \n",
       "5                     Flipkart\\nbased on 61 salaries   \n",
       "6  Servicenow Software Development India\\nbased o...   \n",
       "7                      Walmart\\nbased on 81 salaries   \n",
       "8                       PayPal\\nbased on 26 salaries   \n",
       "9                      Amazon\\nbased on 103 salaries   \n",
       "\n",
       "                            Experience Min salary Average salary  \n",
       "0     Software Engineer\\n . \\n1 yr exp    ₹ 10.4L        ₹ 26.9L  \n",
       "1    Software Engineer\\n . \\n3 yrs exp    ₹ 40.0L        ₹ 24.7L  \n",
       "2  Software Engineer\\n . \\n1-4 yrs exp    ₹ 10.7L        ₹ 23.7L  \n",
       "3    Software Engineer\\n . \\n2 yrs exp    ₹ 38.0L        ₹ 22.3L  \n",
       "4  Software Engineer\\n . \\n2-4 yrs exp    ₹ 13.0L        ₹ 21.0L  \n",
       "5  Software Engineer\\n . \\n1-4 yrs exp    ₹ 45.0L        ₹ 20.3L  \n",
       "6  Software Engineer\\n . \\n2-4 yrs exp    ₹ 12.0L        ₹ 20.2L  \n",
       "7  Software Engineer\\n . \\n1-4 yrs exp    ₹ 34.0L        ₹ 19.9L  \n",
       "8  Software Engineer\\n . \\n1-2 yrs exp    ₹ 12.0L        ₹ 19.8L  \n",
       "9  Software Engineer\\n . \\n1-4 yrs exp    ₹ 33.0L        ₹ 19.7L  "
      ]
     },
     "execution_count": 330,
     "metadata": {},
     "output_type": "execute_result"
    }
   ],
   "source": [
    "jobs=pd.DataFrame({})\n",
    "jobs['Company name & No of salaries']=company_name[0:10]\n",
    "jobs['Experience']=experience_required[0:10]\n",
    "jobs['Min salary']=min_salary[0:10]\n",
    "jobs['Average salary']=avg_salary[0:10]\n",
    "jobs"
   ]
  },
  {
   "cell_type": "markdown",
   "id": "a3a2e4ad",
   "metadata": {},
   "source": [
    "6.Scrape data of first 100 sunglasses listings on flipkart.com. You have to scrape four attributes"
   ]
  },
  {
   "cell_type": "code",
   "execution_count": 337,
   "id": "85e28e13",
   "metadata": {},
   "outputs": [],
   "source": [
    "driver=webdriver.Chrome('chromedriver.exe')"
   ]
  },
  {
   "cell_type": "code",
   "execution_count": 338,
   "id": "4bd32e1e",
   "metadata": {},
   "outputs": [],
   "source": [
    "driver.get('https://www.flipkart.com/')"
   ]
  },
  {
   "cell_type": "code",
   "execution_count": 340,
   "id": "ac67f947",
   "metadata": {},
   "outputs": [],
   "source": [
    "search_field_product=driver.find_element_by_class_name(\"_3704LK\")\n",
    "search_field_product.send_keys('Sunglasses')"
   ]
  },
  {
   "cell_type": "code",
   "execution_count": 334,
   "id": "db58e11c",
   "metadata": {},
   "outputs": [
    {
     "ename": "ElementClickInterceptedException",
     "evalue": "Message: element click intercepted: Element <button class=\"L0Z3Pu\" type=\"submit\">...</button> is not clickable at point (556, 28). Other element would receive the click: <div class=\"_2hriZF _2rbIyg\" tabindex=\"-1\">...</div>\n  (Session info: chrome=101.0.4951.64)\nStacktrace:\nBacktrace:\n\tOrdinal0 [0x004FB8F3+2406643]\n\tOrdinal0 [0x0048AF31+1945393]\n\tOrdinal0 [0x0037C748+837448]\n\tOrdinal0 [0x003AFA1B+1047067]\n\tOrdinal0 [0x003AD9F8+1038840]\n\tOrdinal0 [0x003AB6DB+1029851]\n\tOrdinal0 [0x003AA439+1025081]\n\tOrdinal0 [0x003A0083+983171]\n\tOrdinal0 [0x003C427C+1131132]\n\tOrdinal0 [0x0039FA64+981604]\n\tOrdinal0 [0x003C4494+1131668]\n\tOrdinal0 [0x003D4682+1197698]\n\tOrdinal0 [0x003C4096+1130646]\n\tOrdinal0 [0x0039E636+976438]\n\tOrdinal0 [0x0039F546+980294]\n\tGetHandleVerifier [0x00769612+2498066]\n\tGetHandleVerifier [0x0075C920+2445600]\n\tGetHandleVerifier [0x00594F2A+579370]\n\tGetHandleVerifier [0x00593D36+574774]\n\tOrdinal0 [0x00491C0B+1973259]\n\tOrdinal0 [0x00496688+1992328]\n\tOrdinal0 [0x00496775+1992565]\n\tOrdinal0 [0x0049F8D1+2029777]\n\tBaseThreadInitThunk [0x76FB6739+25]\n\tRtlGetFullPathName_UEx [0x77808E7F+1215]\n\tRtlGetFullPathName_UEx [0x77808E4D+1165]\n",
     "output_type": "error",
     "traceback": [
      "\u001b[1;31m---------------------------------------------------------------------------\u001b[0m",
      "\u001b[1;31mElementClickInterceptedException\u001b[0m          Traceback (most recent call last)",
      "\u001b[1;32m~\\AppData\\Local\\Temp/ipykernel_22032/4235325028.py\u001b[0m in \u001b[0;36m<module>\u001b[1;34m\u001b[0m\n\u001b[0;32m      1\u001b[0m \u001b[0msearch_button\u001b[0m\u001b[1;33m=\u001b[0m\u001b[0mdriver\u001b[0m\u001b[1;33m.\u001b[0m\u001b[0mfind_element_by_xpath\u001b[0m\u001b[1;33m(\u001b[0m\u001b[1;34m\"//button[@class='L0Z3Pu']\"\u001b[0m\u001b[1;33m)\u001b[0m\u001b[1;33m\u001b[0m\u001b[1;33m\u001b[0m\u001b[0m\n\u001b[1;32m----> 2\u001b[1;33m \u001b[0msearch_button\u001b[0m\u001b[1;33m.\u001b[0m\u001b[0mclick\u001b[0m\u001b[1;33m(\u001b[0m\u001b[1;33m)\u001b[0m\u001b[1;33m\u001b[0m\u001b[1;33m\u001b[0m\u001b[0m\n\u001b[0m",
      "\u001b[1;32m~\\anaconda3\\lib\\site-packages\\selenium\\webdriver\\remote\\webelement.py\u001b[0m in \u001b[0;36mclick\u001b[1;34m(self)\u001b[0m\n\u001b[0;32m     79\u001b[0m     \u001b[1;32mdef\u001b[0m \u001b[0mclick\u001b[0m\u001b[1;33m(\u001b[0m\u001b[0mself\u001b[0m\u001b[1;33m)\u001b[0m \u001b[1;33m->\u001b[0m \u001b[1;32mNone\u001b[0m\u001b[1;33m:\u001b[0m\u001b[1;33m\u001b[0m\u001b[1;33m\u001b[0m\u001b[0m\n\u001b[0;32m     80\u001b[0m         \u001b[1;34m\"\"\"Clicks the element.\"\"\"\u001b[0m\u001b[1;33m\u001b[0m\u001b[1;33m\u001b[0m\u001b[0m\n\u001b[1;32m---> 81\u001b[1;33m         \u001b[0mself\u001b[0m\u001b[1;33m.\u001b[0m\u001b[0m_execute\u001b[0m\u001b[1;33m(\u001b[0m\u001b[0mCommand\u001b[0m\u001b[1;33m.\u001b[0m\u001b[0mCLICK_ELEMENT\u001b[0m\u001b[1;33m)\u001b[0m\u001b[1;33m\u001b[0m\u001b[1;33m\u001b[0m\u001b[0m\n\u001b[0m\u001b[0;32m     82\u001b[0m \u001b[1;33m\u001b[0m\u001b[0m\n\u001b[0;32m     83\u001b[0m     \u001b[1;32mdef\u001b[0m \u001b[0msubmit\u001b[0m\u001b[1;33m(\u001b[0m\u001b[0mself\u001b[0m\u001b[1;33m)\u001b[0m\u001b[1;33m:\u001b[0m\u001b[1;33m\u001b[0m\u001b[1;33m\u001b[0m\u001b[0m\n",
      "\u001b[1;32m~\\anaconda3\\lib\\site-packages\\selenium\\webdriver\\remote\\webelement.py\u001b[0m in \u001b[0;36m_execute\u001b[1;34m(self, command, params)\u001b[0m\n\u001b[0;32m    708\u001b[0m             \u001b[0mparams\u001b[0m \u001b[1;33m=\u001b[0m \u001b[1;33m{\u001b[0m\u001b[1;33m}\u001b[0m\u001b[1;33m\u001b[0m\u001b[1;33m\u001b[0m\u001b[0m\n\u001b[0;32m    709\u001b[0m         \u001b[0mparams\u001b[0m\u001b[1;33m[\u001b[0m\u001b[1;34m'id'\u001b[0m\u001b[1;33m]\u001b[0m \u001b[1;33m=\u001b[0m \u001b[0mself\u001b[0m\u001b[1;33m.\u001b[0m\u001b[0m_id\u001b[0m\u001b[1;33m\u001b[0m\u001b[1;33m\u001b[0m\u001b[0m\n\u001b[1;32m--> 710\u001b[1;33m         \u001b[1;32mreturn\u001b[0m \u001b[0mself\u001b[0m\u001b[1;33m.\u001b[0m\u001b[0m_parent\u001b[0m\u001b[1;33m.\u001b[0m\u001b[0mexecute\u001b[0m\u001b[1;33m(\u001b[0m\u001b[0mcommand\u001b[0m\u001b[1;33m,\u001b[0m \u001b[0mparams\u001b[0m\u001b[1;33m)\u001b[0m\u001b[1;33m\u001b[0m\u001b[1;33m\u001b[0m\u001b[0m\n\u001b[0m\u001b[0;32m    711\u001b[0m \u001b[1;33m\u001b[0m\u001b[0m\n\u001b[0;32m    712\u001b[0m     \u001b[1;32mdef\u001b[0m \u001b[0mfind_element\u001b[0m\u001b[1;33m(\u001b[0m\u001b[0mself\u001b[0m\u001b[1;33m,\u001b[0m \u001b[0mby\u001b[0m\u001b[1;33m=\u001b[0m\u001b[0mBy\u001b[0m\u001b[1;33m.\u001b[0m\u001b[0mID\u001b[0m\u001b[1;33m,\u001b[0m \u001b[0mvalue\u001b[0m\u001b[1;33m=\u001b[0m\u001b[1;32mNone\u001b[0m\u001b[1;33m)\u001b[0m\u001b[1;33m:\u001b[0m\u001b[1;33m\u001b[0m\u001b[1;33m\u001b[0m\u001b[0m\n",
      "\u001b[1;32m~\\anaconda3\\lib\\site-packages\\selenium\\webdriver\\remote\\webdriver.py\u001b[0m in \u001b[0;36mexecute\u001b[1;34m(self, driver_command, params)\u001b[0m\n\u001b[0;32m    423\u001b[0m         \u001b[0mresponse\u001b[0m \u001b[1;33m=\u001b[0m \u001b[0mself\u001b[0m\u001b[1;33m.\u001b[0m\u001b[0mcommand_executor\u001b[0m\u001b[1;33m.\u001b[0m\u001b[0mexecute\u001b[0m\u001b[1;33m(\u001b[0m\u001b[0mdriver_command\u001b[0m\u001b[1;33m,\u001b[0m \u001b[0mparams\u001b[0m\u001b[1;33m)\u001b[0m\u001b[1;33m\u001b[0m\u001b[1;33m\u001b[0m\u001b[0m\n\u001b[0;32m    424\u001b[0m         \u001b[1;32mif\u001b[0m \u001b[0mresponse\u001b[0m\u001b[1;33m:\u001b[0m\u001b[1;33m\u001b[0m\u001b[1;33m\u001b[0m\u001b[0m\n\u001b[1;32m--> 425\u001b[1;33m             \u001b[0mself\u001b[0m\u001b[1;33m.\u001b[0m\u001b[0merror_handler\u001b[0m\u001b[1;33m.\u001b[0m\u001b[0mcheck_response\u001b[0m\u001b[1;33m(\u001b[0m\u001b[0mresponse\u001b[0m\u001b[1;33m)\u001b[0m\u001b[1;33m\u001b[0m\u001b[1;33m\u001b[0m\u001b[0m\n\u001b[0m\u001b[0;32m    426\u001b[0m             response['value'] = self._unwrap_value(\n\u001b[0;32m    427\u001b[0m                 response.get('value', None))\n",
      "\u001b[1;32m~\\anaconda3\\lib\\site-packages\\selenium\\webdriver\\remote\\errorhandler.py\u001b[0m in \u001b[0;36mcheck_response\u001b[1;34m(self, response)\u001b[0m\n\u001b[0;32m    245\u001b[0m                 \u001b[0malert_text\u001b[0m \u001b[1;33m=\u001b[0m \u001b[0mvalue\u001b[0m\u001b[1;33m[\u001b[0m\u001b[1;34m'alert'\u001b[0m\u001b[1;33m]\u001b[0m\u001b[1;33m.\u001b[0m\u001b[0mget\u001b[0m\u001b[1;33m(\u001b[0m\u001b[1;34m'text'\u001b[0m\u001b[1;33m)\u001b[0m\u001b[1;33m\u001b[0m\u001b[1;33m\u001b[0m\u001b[0m\n\u001b[0;32m    246\u001b[0m             \u001b[1;32mraise\u001b[0m \u001b[0mexception_class\u001b[0m\u001b[1;33m(\u001b[0m\u001b[0mmessage\u001b[0m\u001b[1;33m,\u001b[0m \u001b[0mscreen\u001b[0m\u001b[1;33m,\u001b[0m \u001b[0mstacktrace\u001b[0m\u001b[1;33m,\u001b[0m \u001b[0malert_text\u001b[0m\u001b[1;33m)\u001b[0m  \u001b[1;31m# type: ignore[call-arg]  # mypy is not smart enough here\u001b[0m\u001b[1;33m\u001b[0m\u001b[1;33m\u001b[0m\u001b[0m\n\u001b[1;32m--> 247\u001b[1;33m         \u001b[1;32mraise\u001b[0m \u001b[0mexception_class\u001b[0m\u001b[1;33m(\u001b[0m\u001b[0mmessage\u001b[0m\u001b[1;33m,\u001b[0m \u001b[0mscreen\u001b[0m\u001b[1;33m,\u001b[0m \u001b[0mstacktrace\u001b[0m\u001b[1;33m)\u001b[0m\u001b[1;33m\u001b[0m\u001b[1;33m\u001b[0m\u001b[0m\n\u001b[0m\u001b[0;32m    248\u001b[0m \u001b[1;33m\u001b[0m\u001b[0m\n\u001b[0;32m    249\u001b[0m     \u001b[1;32mdef\u001b[0m \u001b[0m_value_or_default\u001b[0m\u001b[1;33m(\u001b[0m\u001b[0mself\u001b[0m\u001b[1;33m,\u001b[0m \u001b[0mobj\u001b[0m\u001b[1;33m:\u001b[0m \u001b[0mMapping\u001b[0m\u001b[1;33m[\u001b[0m\u001b[0m_KT\u001b[0m\u001b[1;33m,\u001b[0m \u001b[0m_VT\u001b[0m\u001b[1;33m]\u001b[0m\u001b[1;33m,\u001b[0m \u001b[0mkey\u001b[0m\u001b[1;33m:\u001b[0m \u001b[0m_KT\u001b[0m\u001b[1;33m,\u001b[0m \u001b[0mdefault\u001b[0m\u001b[1;33m:\u001b[0m \u001b[0m_VT\u001b[0m\u001b[1;33m)\u001b[0m \u001b[1;33m->\u001b[0m \u001b[0m_VT\u001b[0m\u001b[1;33m:\u001b[0m\u001b[1;33m\u001b[0m\u001b[1;33m\u001b[0m\u001b[0m\n",
      "\u001b[1;31mElementClickInterceptedException\u001b[0m: Message: element click intercepted: Element <button class=\"L0Z3Pu\" type=\"submit\">...</button> is not clickable at point (556, 28). Other element would receive the click: <div class=\"_2hriZF _2rbIyg\" tabindex=\"-1\">...</div>\n  (Session info: chrome=101.0.4951.64)\nStacktrace:\nBacktrace:\n\tOrdinal0 [0x004FB8F3+2406643]\n\tOrdinal0 [0x0048AF31+1945393]\n\tOrdinal0 [0x0037C748+837448]\n\tOrdinal0 [0x003AFA1B+1047067]\n\tOrdinal0 [0x003AD9F8+1038840]\n\tOrdinal0 [0x003AB6DB+1029851]\n\tOrdinal0 [0x003AA439+1025081]\n\tOrdinal0 [0x003A0083+983171]\n\tOrdinal0 [0x003C427C+1131132]\n\tOrdinal0 [0x0039FA64+981604]\n\tOrdinal0 [0x003C4494+1131668]\n\tOrdinal0 [0x003D4682+1197698]\n\tOrdinal0 [0x003C4096+1130646]\n\tOrdinal0 [0x0039E636+976438]\n\tOrdinal0 [0x0039F546+980294]\n\tGetHandleVerifier [0x00769612+2498066]\n\tGetHandleVerifier [0x0075C920+2445600]\n\tGetHandleVerifier [0x00594F2A+579370]\n\tGetHandleVerifier [0x00593D36+574774]\n\tOrdinal0 [0x00491C0B+1973259]\n\tOrdinal0 [0x00496688+1992328]\n\tOrdinal0 [0x00496775+1992565]\n\tOrdinal0 [0x0049F8D1+2029777]\n\tBaseThreadInitThunk [0x76FB6739+25]\n\tRtlGetFullPathName_UEx [0x77808E7F+1215]\n\tRtlGetFullPathName_UEx [0x77808E4D+1165]\n"
     ]
    }
   ],
   "source": [
    "search_button=driver.find_element_by_xpath(//*[@id=\"container\"]/div/div[1]/div[1]/div[2]/div[2]/form/div/div/input]\")\n",
    "search_button.click()"
   ]
  },
  {
   "cell_type": "code",
   "execution_count": null,
   "id": "88d9c77f",
   "metadata": {},
   "outputs": [],
   "source": [
    "/html/body/div/div/div[1]/div[1]/div[2]/div[2]/form/div/div"
   ]
  },
  {
   "cell_type": "code",
   "execution_count": null,
   "id": "070f237e",
   "metadata": {},
   "outputs": [],
   "source": [
    "brand=[]\n",
    "product=[]\n",
    "price=[]"
   ]
  },
  {
   "cell_type": "code",
   "execution_count": null,
   "id": "36be7f96",
   "metadata": {},
   "outputs": [],
   "source": [
    "brand_tags=driver.find_elements_by_xpath(\"//div[@class='_2WkVRV']\")\n",
    "brand_tags[0:40]"
   ]
  },
  {
   "cell_type": "code",
   "execution_count": null,
   "id": "147d9ba7",
   "metadata": {},
   "outputs": [],
   "source": [
    "for i in brand_tags:\n",
    "    brand_list=i.text\n",
    "    brand.append(brand_list)\n",
    "brand[0:40]"
   ]
  },
  {
   "cell_type": "code",
   "execution_count": null,
   "id": "5b87613e",
   "metadata": {},
   "outputs": [],
   "source": [
    "product_tags=driver.find_elements_by_xpath(\"//a[@class='IRpwTa']\")\n",
    "product_tags[0:40]"
   ]
  },
  {
   "cell_type": "code",
   "execution_count": null,
   "id": "a8450019",
   "metadata": {},
   "outputs": [],
   "source": [
    "for i in product_tags:\n",
    "    product_description=i.text\n",
    "    product.append(product_description)\n",
    "product[0:40]"
   ]
  },
  {
   "cell_type": "code",
   "execution_count": null,
   "id": "f9fde903",
   "metadata": {},
   "outputs": [],
   "source": [
    "price_tags=driver.find_elements_by_xpath(\"//div[@class='_30jeq3']\")\n",
    "price_tags[0:40]"
   ]
  },
  {
   "cell_type": "code",
   "execution_count": null,
   "id": "4f854c56",
   "metadata": {},
   "outputs": [],
   "source": [
    "for i in price_tags:\n",
    "    price_list=i.text\n",
    "    price.append(price_list)\n",
    "price[0:40]"
   ]
  },
  {
   "cell_type": "code",
   "execution_count": null,
   "id": "690086d3",
   "metadata": {},
   "outputs": [],
   "source": [
    "df1=pd.DataFrame({})\n",
    "df1['Brand']=brand[0:40]\n",
    "df1['Product description']=product[0:40]\n",
    "df1['Price']=price[0:40]\n",
    "df1"
   ]
  },
  {
   "cell_type": "code",
   "execution_count": null,
   "id": "bb9aa78e",
   "metadata": {},
   "outputs": [],
   "source": [
    "# 41 to 80\n",
    "next_button=driver.find_element_by_xpath(\"//a[@class='ge-49M']\")\n",
    "next_button.click()"
   ]
  },
  {
   "cell_type": "code",
   "execution_count": null,
   "id": "24663f3b",
   "metadata": {},
   "outputs": [],
   "source": [
    "brand2=[]\n",
    "product2=[]\n",
    "price2=[]"
   ]
  },
  {
   "cell_type": "code",
   "execution_count": null,
   "id": "df54bda0",
   "metadata": {},
   "outputs": [],
   "source": [
    "brand_tags2=driver.find_elements_by_xpath(\"//div[@class='_2WkVRV']\")\n",
    "brand_tags2[0:40]"
   ]
  },
  {
   "cell_type": "code",
   "execution_count": null,
   "id": "6ffd0138",
   "metadata": {},
   "outputs": [],
   "source": [
    "for i in brand_tags2:\n",
    "    brand_2_text=i.text\n",
    "    brand2.append(brand_2_text)\n",
    "brand2[0:40]"
   ]
  },
  {
   "cell_type": "code",
   "execution_count": null,
   "id": "f9709bac",
   "metadata": {},
   "outputs": [],
   "source": [
    "product_tags2=driver.find_elements_by_xpath(\"//a[@class='IRpwTa']\")\n",
    "product_tags2[0:40]"
   ]
  },
  {
   "cell_type": "code",
   "execution_count": null,
   "id": "2351100e",
   "metadata": {},
   "outputs": [],
   "source": [
    "for i in product_tags2:\n",
    "    product_2_text=i.text\n",
    "    product2.append( product_2_text)\n",
    "product2[0:40]"
   ]
  },
  {
   "cell_type": "code",
   "execution_count": null,
   "id": "906fed16",
   "metadata": {},
   "outputs": [],
   "source": [
    "price_tags2=driver.find_elements_by_xpath(\"//div[@class='_30jeq3']\")\n",
    "price_tags2[0:40]"
   ]
  },
  {
   "cell_type": "code",
   "execution_count": null,
   "id": "1b1aab4b",
   "metadata": {},
   "outputs": [],
   "source": [
    "for i in price_tags2:\n",
    "    price_2_text=i.text\n",
    "    price2.append(price_2_text)\n",
    "price2[0:40]"
   ]
  },
  {
   "cell_type": "code",
   "execution_count": null,
   "id": "9b5dd69c",
   "metadata": {},
   "outputs": [],
   "source": [
    "df2=pd.DataFrame({})\n",
    "df2['Brand2']=brand2[0:39]\n",
    "df2['Product2']=product2[0:39]\n",
    "df2['Price2']=price2[0:39]\n",
    "df2"
   ]
  },
  {
   "cell_type": "code",
   "execution_count": null,
   "id": "0f2d4b9b",
   "metadata": {},
   "outputs": [],
   "source": [
    "# 79 to 100\n",
    "next_button2=driver.find_element_by_xpath(\"/html/body/div[1]/div/div[3]/div[1]/div[2]/div[12]/div/div/nav/a[4]\")\n",
    "next_button2.click()"
   ]
  },
  {
   "cell_type": "code",
   "execution_count": null,
   "id": "a26029df",
   "metadata": {},
   "outputs": [],
   "source": [
    "brand3=[]\n",
    "product3=[]\n",
    "price3=[]"
   ]
  },
  {
   "cell_type": "code",
   "execution_count": null,
   "id": "dcf9d899",
   "metadata": {},
   "outputs": [],
   "source": [
    "brand_tags3=driver.find_elements_by_xpath(\"//div[@class='_2WkVRV']\")\n",
    "brand_tags3[0:40]"
   ]
  },
  {
   "cell_type": "code",
   "execution_count": null,
   "id": "b5c89b8c",
   "metadata": {},
   "outputs": [],
   "source": [
    "for i in brand_tags3:\n",
    "    brand_3_text=i.text\n",
    "    brand3.append( brand_3_text)\n",
    "brand3[0:20]"
   ]
  },
  {
   "cell_type": "code",
   "execution_count": null,
   "id": "4846035b",
   "metadata": {},
   "outputs": [],
   "source": [
    "product_tags3=driver.find_elements_by_xpath(\"//a[@class='IRpwTa']\")\n",
    "product_tags3[0:20]"
   ]
  },
  {
   "cell_type": "code",
   "execution_count": null,
   "id": "55a2068c",
   "metadata": {},
   "outputs": [],
   "source": [
    "for i in product_tags3:\n",
    "    product_3_text=i.text\n",
    "    product3.append(product_3_text)\n",
    "product3[0:20]"
   ]
  },
  {
   "cell_type": "code",
   "execution_count": null,
   "id": "8a7d89f0",
   "metadata": {},
   "outputs": [],
   "source": [
    "price_tags3=driver.find_elements_by_xpath(\"//div[@class='_30jeq3']\")\n",
    "price_tags3[0:20]"
   ]
  },
  {
   "cell_type": "code",
   "execution_count": null,
   "id": "de0ad123",
   "metadata": {},
   "outputs": [],
   "source": [
    "for i in price_tags3:\n",
    "    price_3_text=i.text\n",
    "    price3.append(price_3_text)\n",
    "price3[0:20]"
   ]
  },
  {
   "cell_type": "code",
   "execution_count": null,
   "id": "d6c1dfae",
   "metadata": {},
   "outputs": [],
   "source": [
    "df3=pd.DataFrame({})\n",
    "df3['Brand 3']=brand3[0:20]\n",
    "df3['Product 3']=product3[0:20]\n",
    "df3['Price 3']=price3[0:20]\n",
    "df3"
   ]
  },
  {
   "cell_type": "markdown",
   "id": "d00e52aa",
   "metadata": {},
   "source": [
    "7.Scrape 100 reviews data from flipkart.com for iphone11 phone"
   ]
  },
  {
   "cell_type": "code",
   "execution_count": null,
   "id": "59691003",
   "metadata": {},
   "outputs": [],
   "source": [
    "driver=webdriver.Chrome('chromedriver.exe')"
   ]
  },
  {
   "cell_type": "code",
   "execution_count": null,
   "id": "65769438",
   "metadata": {},
   "outputs": [],
   "source": [
    "driver.get('https://www.flipkart.com/apple-iphone-11-black-64-gb-includes- earpods-power- adapter/p/itm0f37c2240b217?pid=MOBFKCTSVZAXUHGR&lid=LSTMOBFKC TSVZAXUHGREPBFGI&marketplace')\n"
   ]
  },
  {
   "cell_type": "code",
   "execution_count": null,
   "id": "38aea3b0",
   "metadata": {},
   "outputs": [],
   "source": [
    "rating_list=[]\n",
    "review_list=[]\n",
    "full_review_list=[]"
   ]
  },
  {
   "cell_type": "code",
   "execution_count": null,
   "id": "d7f277b2",
   "metadata": {},
   "outputs": [],
   "source": [
    "all_review_button=driver.find_element_by_xpath(\"/html/body/div[1]/div/div[3]/div[1]/div[2]/div[9]/div/div/div[5]/div/a/div\")\n",
    "all_review_button.click()"
   ]
  },
  {
   "cell_type": "code",
   "execution_count": null,
   "id": "e33cd2b8",
   "metadata": {},
   "outputs": [],
   "source": [
    "rating_tags=driver.find_elements_by_xpath(\"//div[@class='_3LWZlK _1BLPMq']\")\n",
    "rating_tags[0:10]"
   ]
  },
  {
   "cell_type": "code",
   "execution_count": null,
   "id": "9ccb80e2",
   "metadata": {},
   "outputs": [],
   "source": [
    "for i in rating_tags:\n",
    "    rating=i.text\n",
    "    rating_list.append(rating)\n",
    "rating_list[0:10]"
   ]
  },
  {
   "cell_type": "code",
   "execution_count": null,
   "id": "6c2f9b43",
   "metadata": {},
   "outputs": [],
   "source": [
    "review_summary_tags=driver.find_elements_by_xpath(\"//p[@class='_2-N8zT']\")\n",
    "review_summary_tags[0:10]"
   ]
  },
  {
   "cell_type": "code",
   "execution_count": null,
   "id": "4bb0a92a",
   "metadata": {},
   "outputs": [],
   "source": [
    "for i in review_summary_tags:\n",
    "    review=i.text\n",
    "    review_list.append(review)\n",
    "review_list[0:10]"
   ]
  },
  {
   "cell_type": "code",
   "execution_count": null,
   "id": "c7166b52",
   "metadata": {},
   "outputs": [],
   "source": [
    "full_review_tags=driver.find_elements_by_xpath(\"//div[@class='t-ZTKy']\")\n",
    "full_review_tags[0:10]"
   ]
  },
  {
   "cell_type": "code",
   "execution_count": null,
   "id": "ef402b2d",
   "metadata": {},
   "outputs": [],
   "source": [
    "for i in full_review_tags:\n",
    "    full=i.text\n",
    "    full_review_list.append(full)\n",
    "full_review_list[0:10]"
   ]
  },
  {
   "cell_type": "code",
   "execution_count": null,
   "id": "be690042",
   "metadata": {},
   "outputs": [],
   "source": [
    "rating_list2=[]\n",
    "review_list2=[]\n",
    "full_review_list2=[]"
   ]
  },
  {
   "cell_type": "code",
   "execution_count": null,
   "id": "0c325c22",
   "metadata": {},
   "outputs": [],
   "source": [
    "next_button2=driver.find_element_by_xpath(\"/html/body/div[1]/div/div[3]/div/div/div[2]/div[13]/div/div/nav/a[2]\")\n",
    "next_button2.click()"
   ]
  },
  {
   "cell_type": "code",
   "execution_count": null,
   "id": "ceab2c6f",
   "metadata": {},
   "outputs": [],
   "source": [
    "rating_tags2=driver.find_elements_by_xpath(\"//div[@class='_3LWZlK _1BLPMq']\")\n",
    "rating_tags2[0:10]"
   ]
  },
  {
   "cell_type": "code",
   "execution_count": null,
   "id": "414dad16",
   "metadata": {},
   "outputs": [],
   "source": [
    "for i in rating_tags2:\n",
    "    rating2=i.text\n",
    "    rating_list2.append(rating2)\n",
    "rating_list2[0:10]"
   ]
  },
  {
   "cell_type": "code",
   "execution_count": null,
   "id": "d3377f54",
   "metadata": {},
   "outputs": [],
   "source": [
    "review_summary_tags2=driver.find_elements_by_xpath(\"//p[@class='_2-N8zT']\")\n",
    "review_summary_tags2[0:10]"
   ]
  },
  {
   "cell_type": "code",
   "execution_count": null,
   "id": "42a29447",
   "metadata": {},
   "outputs": [],
   "source": [
    "for i in review_summary_tags2:\n",
    "    review2=i.text\n",
    "    review_list2.append(review)\n",
    "review_list2[0:10]"
   ]
  },
  {
   "cell_type": "code",
   "execution_count": null,
   "id": "283c5680",
   "metadata": {},
   "outputs": [],
   "source": [
    "full_review_tags2=driver.find_elements_by_xpath(\"//div[@class='t-ZTKy']\")\n",
    "full_review_tags2[0:10]"
   ]
  },
  {
   "cell_type": "code",
   "execution_count": null,
   "id": "e67fac9e",
   "metadata": {},
   "outputs": [],
   "source": [
    "for i in full_review_tags2:\n",
    "    full2=i.text\n",
    "    full_review_list2.append(full2)\n",
    "full_review_list2[0:10]"
   ]
  },
  {
   "cell_type": "code",
   "execution_count": null,
   "id": "85480553",
   "metadata": {},
   "outputs": [],
   "source": [
    "rating_list3=[]\n",
    "review_list3=[]\n",
    "full_review_list3=[]"
   ]
  },
  {
   "cell_type": "code",
   "execution_count": null,
   "id": "b30d7e8e",
   "metadata": {},
   "outputs": [],
   "source": [
    "next_button2=driver.find_element_by_xpath(\"/html/body/div[1]/div/div[3]/div/div/div[2]/div[13]/div/div/nav/a[3]\")\n",
    "next_button2.click()"
   ]
  },
  {
   "cell_type": "code",
   "execution_count": null,
   "id": "f9a0d11b",
   "metadata": {},
   "outputs": [],
   "source": [
    "rating_tags3=driver.find_elements_by_xpath(\"//div[@class='_3LWZlK _1BLPMq']\")\n",
    "rating_tags3[0:10]"
   ]
  },
  {
   "cell_type": "code",
   "execution_count": null,
   "id": "fb7c8add",
   "metadata": {},
   "outputs": [],
   "source": [
    "for i in rating_tags3:\n",
    "    rating3=i.text\n",
    "    rating_list3.append(rating3)\n",
    "rating_list3[0:10]"
   ]
  },
  {
   "cell_type": "code",
   "execution_count": null,
   "id": "b4c45fb0",
   "metadata": {},
   "outputs": [],
   "source": [
    "review_summary_tags3=driver.find_elements_by_xpath(\"//p[@class='_2-N8zT']\")\n",
    "review_summary_tags3[0:10]"
   ]
  },
  {
   "cell_type": "code",
   "execution_count": null,
   "id": "bca2fdd6",
   "metadata": {},
   "outputs": [],
   "source": [
    "for i in review_summary_tags3:\n",
    "    review3=i.text\n",
    "    review_list3.append(review3)\n",
    "review_list3[0:10]"
   ]
  },
  {
   "cell_type": "code",
   "execution_count": null,
   "id": "7170b553",
   "metadata": {},
   "outputs": [],
   "source": [
    "full_review_tags3=driver.find_elements_by_xpath(\"//div[@class='t-ZTKy']\")\n",
    "full_review_tags3[0:10]"
   ]
  },
  {
   "cell_type": "code",
   "execution_count": null,
   "id": "3d8f56eb",
   "metadata": {},
   "outputs": [],
   "source": [
    "for i in full_review_tags3:\n",
    "    full3=i.text\n",
    "    full_review_list3.append(full3)\n",
    "full_review_list3[0:10]"
   ]
  },
  {
   "cell_type": "code",
   "execution_count": null,
   "id": "ccf85371",
   "metadata": {},
   "outputs": [],
   "source": [
    "rating_list4=[]\n",
    "review_list4=[]\n",
    "full_review_list4=[]"
   ]
  },
  {
   "cell_type": "code",
   "execution_count": null,
   "id": "5dce1de7",
   "metadata": {},
   "outputs": [],
   "source": [
    "next_button4=driver.find_element_by_xpath(\"/html/body/div[1]/div/div[3]/div/div/div[2]/div[13]/div/div/nav/a[5]\")\n",
    "next_button4.click()"
   ]
  },
  {
   "cell_type": "code",
   "execution_count": null,
   "id": "01e962ef",
   "metadata": {},
   "outputs": [],
   "source": [
    "rating_tags4=driver.find_elements_by_xpath(\"//div[@class='_3LWZlK _1BLPMq']\")\n",
    "rating_tags4[0:10]"
   ]
  },
  {
   "cell_type": "code",
   "execution_count": null,
   "id": "6925b722",
   "metadata": {},
   "outputs": [],
   "source": [
    "for i in rating_tags4:\n",
    "    rating4=i.text\n",
    "    rating_list4.append(rating4)\n",
    "rating_list4[0:10]"
   ]
  },
  {
   "cell_type": "code",
   "execution_count": null,
   "id": "646155ca",
   "metadata": {},
   "outputs": [],
   "source": [
    "review_summary_tags4=driver.find_elements_by_xpath(\"//p[@class='_2-N8zT']\")\n",
    "review_summary_tags4[0:10]"
   ]
  },
  {
   "cell_type": "code",
   "execution_count": null,
   "id": "1aa6130e",
   "metadata": {},
   "outputs": [],
   "source": [
    "for i in review_summary_tags4:\n",
    "    review4=i.text\n",
    "    review_list4.append(review4)\n",
    "review_list4[0:10]"
   ]
  },
  {
   "cell_type": "code",
   "execution_count": null,
   "id": "680e3371",
   "metadata": {},
   "outputs": [],
   "source": [
    "full_review_tags4=driver.find_elements_by_xpath(\"//div[@class='t-ZTKy']\")\n",
    "full_review_tags4[0:10]"
   ]
  },
  {
   "cell_type": "code",
   "execution_count": null,
   "id": "6308b035",
   "metadata": {},
   "outputs": [],
   "source": [
    "for i in full_review_tags4:\n",
    "    full4=i.text\n",
    "    full_review_list4.append(full4)\n",
    "full_review_list4[0:10]"
   ]
  },
  {
   "cell_type": "code",
   "execution_count": null,
   "id": "39f15f42",
   "metadata": {},
   "outputs": [],
   "source": [
    "rating_list5=[]\n",
    "review_list5=[]\n",
    "full_review_list5=[]"
   ]
  },
  {
   "cell_type": "code",
   "execution_count": null,
   "id": "59df3c26",
   "metadata": {},
   "outputs": [],
   "source": [
    "next_button5=driver.find_element_by_xpath(\"/html/body/div[1]/div/div[3]/div/div/div[2]/div[13]/div/div/nav/a[6]\")\n",
    "next_button5.click()"
   ]
  },
  {
   "cell_type": "code",
   "execution_count": null,
   "id": "c37d7832",
   "metadata": {},
   "outputs": [],
   "source": [
    "rating_tags5=driver.find_elements_by_xpath(\"//div[@class='_3LWZlK _1BLPMq']\")\n",
    "rating_tags5[0:10]"
   ]
  },
  {
   "cell_type": "code",
   "execution_count": null,
   "id": "340ee12d",
   "metadata": {},
   "outputs": [],
   "source": [
    "for i in rating_tags5:\n",
    "    rating5=i.text\n",
    "    rating_list5.append(rating5)\n",
    "rating_list5[0:10]"
   ]
  },
  {
   "cell_type": "code",
   "execution_count": null,
   "id": "dc04981a",
   "metadata": {},
   "outputs": [],
   "source": [
    "review_summary_tags5=driver.find_elements_by_xpath(\"//p[@class='_2-N8zT']\")\n",
    "review_summary_tags5[0:10]"
   ]
  },
  {
   "cell_type": "code",
   "execution_count": null,
   "id": "80bed556",
   "metadata": {},
   "outputs": [],
   "source": [
    "for i in review_summary_tags5:\n",
    "    review5=i.text\n",
    "    review_list5.append(review5)\n",
    "review_list5[0:10]"
   ]
  },
  {
   "cell_type": "code",
   "execution_count": null,
   "id": "055ce0e3",
   "metadata": {},
   "outputs": [],
   "source": [
    "full_review_tags5=driver.find_elements_by_xpath(\"//div[@class='t-ZTKy']\")\n",
    "full_review_tags5[0:10]"
   ]
  },
  {
   "cell_type": "code",
   "execution_count": null,
   "id": "3fabb581",
   "metadata": {},
   "outputs": [],
   "source": [
    "for i in full_review_tags5:\n",
    "    full5=i.text\n",
    "    full_review_list5.append(full5)\n",
    "full_review_list5[0:10]"
   ]
  },
  {
   "cell_type": "code",
   "execution_count": null,
   "id": "105fdac7",
   "metadata": {},
   "outputs": [],
   "source": [
    "rating_list6=[]\n",
    "review_list6=[]\n",
    "full_review_list6=[]"
   ]
  },
  {
   "cell_type": "code",
   "execution_count": null,
   "id": "9615bbef",
   "metadata": {},
   "outputs": [],
   "source": [
    "next_button6=driver.find_element_by_xpath(\"/html/body/div[1]/div/div[3]/div/div/div[2]/div[13]/div/div/nav/a[7]\")\n",
    "next_button6.click()"
   ]
  },
  {
   "cell_type": "code",
   "execution_count": null,
   "id": "d8ae0d64",
   "metadata": {},
   "outputs": [],
   "source": [
    "rating_tags6=driver.find_elements_by_xpath(\"//div[@class='_3LWZlK _1BLPMq']\")\n",
    "rating_tags6[0:10]"
   ]
  },
  {
   "cell_type": "code",
   "execution_count": null,
   "id": "1a48e73b",
   "metadata": {},
   "outputs": [],
   "source": [
    "for i in rating_tags6:\n",
    "    rating6=i.text\n",
    "    rating_list6.append(rating6)\n",
    "rating_list6[0:10]"
   ]
  },
  {
   "cell_type": "code",
   "execution_count": null,
   "id": "492696f4",
   "metadata": {},
   "outputs": [],
   "source": [
    "review_summary_tags6=driver.find_elements_by_xpath(\"//p[@class='_2-N8zT']\")\n",
    "review_summary_tags6[0:10]"
   ]
  },
  {
   "cell_type": "code",
   "execution_count": null,
   "id": "af361f88",
   "metadata": {},
   "outputs": [],
   "source": [
    "for i in review_summary_tags6:\n",
    "    review6=i.text\n",
    "    review_list6.append(review6)\n",
    "review_list6[0:10]"
   ]
  },
  {
   "cell_type": "code",
   "execution_count": null,
   "id": "51d0d2c2",
   "metadata": {},
   "outputs": [],
   "source": [
    "full_review_tags6=driver.find_elements_by_xpath(\"//div[@class='t-ZTKy']\")\n",
    "full_review_tags6[0:10]"
   ]
  },
  {
   "cell_type": "code",
   "execution_count": null,
   "id": "a01f979f",
   "metadata": {},
   "outputs": [],
   "source": [
    "for i in full_review_tags6:\n",
    "    full6=i.text\n",
    "    full_review_list6.append(full6)\n",
    "full_review_list6[0:10]"
   ]
  },
  {
   "cell_type": "code",
   "execution_count": null,
   "id": "082225a2",
   "metadata": {},
   "outputs": [],
   "source": [
    "rating_list7=[]\n",
    "review_list7=[]\n",
    "full_review_list7=[]"
   ]
  },
  {
   "cell_type": "code",
   "execution_count": null,
   "id": "9b404673",
   "metadata": {},
   "outputs": [],
   "source": [
    "next_button7=driver.find_element_by_xpath(\"/html/body/div[1]/div/div[3]/div/div/div[2]/div[13]/div/div/nav/a[6]\")\n",
    "next_button7.click()"
   ]
  },
  {
   "cell_type": "code",
   "execution_count": null,
   "id": "513ba720",
   "metadata": {},
   "outputs": [],
   "source": [
    "rating_tags7=driver.find_elements_by_xpath(\"//div[@class='_3LWZlK _1BLPMq']\")\n",
    "rating_tags7[0:10]"
   ]
  },
  {
   "cell_type": "code",
   "execution_count": null,
   "id": "3c265f29",
   "metadata": {},
   "outputs": [],
   "source": [
    "for i in rating_tags7:\n",
    "    rating7=i.text\n",
    "    rating_list7.append(rating7)\n",
    "rating_list7[0:10]"
   ]
  },
  {
   "cell_type": "code",
   "execution_count": null,
   "id": "680f1cda",
   "metadata": {},
   "outputs": [],
   "source": [
    "review_summary_tags7=driver.find_elements_by_xpath(\"//p[@class='_2-N8zT']\")\n",
    "review_summary_tags7[0:10]"
   ]
  },
  {
   "cell_type": "code",
   "execution_count": null,
   "id": "637233b4",
   "metadata": {},
   "outputs": [],
   "source": [
    "for i in review_summary_tags7:\n",
    "    review7=i.text\n",
    "    review_list7.append(review7)\n",
    "review_list7[0:10]"
   ]
  },
  {
   "cell_type": "code",
   "execution_count": null,
   "id": "5de8b590",
   "metadata": {},
   "outputs": [],
   "source": [
    "full_review_tags7=driver.find_elements_by_xpath(\"//div[@class='t-ZTKy']\")\n",
    "full_review_tags7[0:10]"
   ]
  },
  {
   "cell_type": "code",
   "execution_count": null,
   "id": "98f18e28",
   "metadata": {},
   "outputs": [],
   "source": [
    "for i in full_review_tags7:\n",
    "    full7=i.text\n",
    "    full_review_list7.append(full7)\n",
    "full_review_list7[0:10]"
   ]
  },
  {
   "cell_type": "code",
   "execution_count": null,
   "id": "3cb8a5e9",
   "metadata": {},
   "outputs": [],
   "source": [
    "rating_list8=[]\n",
    "review_list8=[]\n",
    "full_review_list8=[]"
   ]
  },
  {
   "cell_type": "code",
   "execution_count": null,
   "id": "288fc55b",
   "metadata": {},
   "outputs": [],
   "source": [
    "next_button8=driver.find_element_by_xpath(\"/html/body/div[1]/div/div[3]/div/div/div[2]/div[13]/div/div/nav/a[7]\")\n",
    "next_button8.click()"
   ]
  },
  {
   "cell_type": "code",
   "execution_count": null,
   "id": "90b3fe91",
   "metadata": {},
   "outputs": [],
   "source": [
    "rating_tags8=driver.find_elements_by_xpath(\"//div[@class='_3LWZlK _1BLPMq']\")\n",
    "rating_tags8[0:10]"
   ]
  },
  {
   "cell_type": "code",
   "execution_count": null,
   "id": "62a87e3c",
   "metadata": {},
   "outputs": [],
   "source": [
    "for i in rating_tags8:\n",
    "    rating8=i.text\n",
    "    rating_list8.append(rating8)\n",
    "rating_list8[0:10]"
   ]
  },
  {
   "cell_type": "code",
   "execution_count": null,
   "id": "34341c71",
   "metadata": {},
   "outputs": [],
   "source": [
    "review_summary_tags8=driver.find_elements_by_xpath(\"//p[@class='_2-N8zT']\")\n",
    "review_summary_tags8[0:10]"
   ]
  },
  {
   "cell_type": "code",
   "execution_count": null,
   "id": "5fc47f9a",
   "metadata": {},
   "outputs": [],
   "source": [
    "for i in review_summary_tags8:\n",
    "    review8=i.text\n",
    "    review_list8.append(review8)\n",
    "review_list8[0:10]"
   ]
  },
  {
   "cell_type": "code",
   "execution_count": null,
   "id": "e904ac9e",
   "metadata": {},
   "outputs": [],
   "source": [
    "full_review_tags8=driver.find_elements_by_xpath(\"//div[@class='t-ZTKy']\")\n",
    "full_review_tags8[0:10]"
   ]
  },
  {
   "cell_type": "code",
   "execution_count": null,
   "id": "6941ee12",
   "metadata": {},
   "outputs": [],
   "source": [
    "for i in full_review_tags8:\n",
    "    full8=i.text\n",
    "    full_review_list8.append(full8)\n",
    "full_review_list8[0:10]"
   ]
  },
  {
   "cell_type": "code",
   "execution_count": null,
   "id": "d64b574e",
   "metadata": {},
   "outputs": [],
   "source": [
    "rating_list9=[]\n",
    "review_list9=[]\n",
    "full_review_list9=[]"
   ]
  },
  {
   "cell_type": "code",
   "execution_count": null,
   "id": "75da3c4b",
   "metadata": {},
   "outputs": [],
   "source": [
    "next_button9=driver.find_element_by_xpath(\"/html/body/div[1]/div/div[3]/div/div/div[2]/div[13]/div/div/nav/a[7]\")\n",
    "next_button9.click()"
   ]
  },
  {
   "cell_type": "code",
   "execution_count": null,
   "id": "b09bdf46",
   "metadata": {},
   "outputs": [],
   "source": [
    "rating_tags9=driver.find_elements_by_xpath(\"//div[@class='_3LWZlK _1BLPMq']\")\n",
    "rating_tags9[0:10]"
   ]
  },
  {
   "cell_type": "code",
   "execution_count": null,
   "id": "d52bb5e4",
   "metadata": {},
   "outputs": [],
   "source": [
    "for i in rating_tags9:\n",
    "    rating9=i.text\n",
    "    rating_list9.append(rating9)\n",
    "rating_list9[0:10]"
   ]
  },
  {
   "cell_type": "code",
   "execution_count": null,
   "id": "8d4654c6",
   "metadata": {},
   "outputs": [],
   "source": [
    "review_summary_tags9=driver.find_elements_by_xpath(\"//p[@class='_2-N8zT']\")\n",
    "review_summary_tags9[0:10]"
   ]
  },
  {
   "cell_type": "code",
   "execution_count": null,
   "id": "4bf864fd",
   "metadata": {},
   "outputs": [],
   "source": [
    "for i in review_summary_tags9:\n",
    "    review9=i.text\n",
    "    review_list9.append(review9)\n",
    "review_list9[0:10]"
   ]
  },
  {
   "cell_type": "code",
   "execution_count": null,
   "id": "2c2c9e69",
   "metadata": {},
   "outputs": [],
   "source": [
    "full_review_tags9=driver.find_elements_by_xpath(\"//div[@class='t-ZTKy']\")\n",
    "full_review_tags9[0:10]"
   ]
  },
  {
   "cell_type": "code",
   "execution_count": null,
   "id": "d4bb8cf5",
   "metadata": {},
   "outputs": [],
   "source": [
    "for i in full_review_tags9:\n",
    "    full9=i.text\n",
    "    full_review_list9.append(full9)\n",
    "full_review_list9[0:10]"
   ]
  },
  {
   "cell_type": "code",
   "execution_count": null,
   "id": "0477f6a0",
   "metadata": {},
   "outputs": [],
   "source": [
    "rating_list10=[]\n",
    "review_list10=[]\n",
    "full_review_list10=[]"
   ]
  },
  {
   "cell_type": "code",
   "execution_count": null,
   "id": "127efbba",
   "metadata": {},
   "outputs": [],
   "source": [
    "next_button10=driver.find_element_by_xpath(\"/html/body/div[1]/div/div[3]/div/div/div[2]/div[13]/div/div/nav/a[7]\")\n",
    "next_button10.click()"
   ]
  },
  {
   "cell_type": "code",
   "execution_count": null,
   "id": "dcee4dd1",
   "metadata": {},
   "outputs": [],
   "source": [
    "rating_tags10=driver.find_elements_by_xpath(\"//div[@class='_3LWZlK _1BLPMq']\")\n",
    "rating_tags10[0:10]"
   ]
  },
  {
   "cell_type": "code",
   "execution_count": null,
   "id": "193ecd64",
   "metadata": {},
   "outputs": [],
   "source": [
    "for i in rating_tags10:\n",
    "    rating10=i.text\n",
    "    rating_list10.append(rating10)\n",
    "rating_list10[0:10]"
   ]
  },
  {
   "cell_type": "code",
   "execution_count": null,
   "id": "fb474dcf",
   "metadata": {},
   "outputs": [],
   "source": [
    "review_summary_tags10=driver.find_elements_by_xpath(\"//p[@class='_2-N8zT']\")\n",
    "review_summary_tags10[0:10]"
   ]
  },
  {
   "cell_type": "code",
   "execution_count": null,
   "id": "dd06c539",
   "metadata": {},
   "outputs": [],
   "source": [
    "for i in review_summary_tags10:\n",
    "    review10=i.text\n",
    "    review_list10.append(review10)\n",
    "review_list10[0:10]"
   ]
  },
  {
   "cell_type": "code",
   "execution_count": null,
   "id": "1465096f",
   "metadata": {},
   "outputs": [],
   "source": [
    "full_review_tags10=driver.find_elements_by_xpath(\"//div[@class='t-ZTKy']\")\n",
    "full_review_tags10[0:10]\n"
   ]
  },
  {
   "cell_type": "code",
   "execution_count": null,
   "id": "7cf923b5",
   "metadata": {},
   "outputs": [],
   "source": [
    "for i in full_review_tags10:\n",
    "    full10=i.text\n",
    "    full_review_list10.append(full10)\n",
    "full_review_list10[0:10]"
   ]
  },
  {
   "cell_type": "markdown",
   "id": "83a9fd36",
   "metadata": {},
   "source": [
    "8.Scrape data for first 100 sneakers you find when you visit flipkart.com"
   ]
  },
  {
   "cell_type": "code",
   "execution_count": 1,
   "id": "dbfd5bde",
   "metadata": {},
   "outputs": [],
   "source": [
    "import selenium\n",
    "import pandas as pd\n",
    "from selenium import webdriver\n",
    "import warnings\n",
    "warnings.filterwarnings('ignore')\n",
    "import time"
   ]
  },
  {
   "cell_type": "code",
   "execution_count": 2,
   "id": "513ab1ed",
   "metadata": {},
   "outputs": [],
   "source": [
    "driver=webdriver.Chrome('chromedriver.exe')"
   ]
  },
  {
   "cell_type": "code",
   "execution_count": 3,
   "id": "57fb3df7",
   "metadata": {},
   "outputs": [],
   "source": [
    "driver.get('https://www.flipkart.com/')"
   ]
  },
  {
   "cell_type": "code",
   "execution_count": 4,
   "id": "731bca32",
   "metadata": {},
   "outputs": [],
   "source": [
    "search_field_product=driver.find_element_by_xpath(\"/html/body/div[1]/div/div[1]/div[1]/div[2]/div[2]/form/div/div/input\")\n",
    "search_field_product.send_keys('Sneakers')"
   ]
  },
  {
   "cell_type": "code",
   "execution_count": 6,
   "id": "a14b7f94",
   "metadata": {},
   "outputs": [],
   "source": [
    "search_button=driver.find_element_by_xpath(\"//button[@class='L0Z3Pu']\")\n",
    "search_button.click()"
   ]
  },
  {
   "cell_type": "code",
   "execution_count": 7,
   "id": "89b03f4c",
   "metadata": {},
   "outputs": [],
   "source": [
    "brand_list1=[]\n",
    "product_list1=[]\n",
    "price_list1=[]"
   ]
  },
  {
   "cell_type": "code",
   "execution_count": 10,
   "id": "1f80e97a",
   "metadata": {},
   "outputs": [
    {
     "data": {
      "text/plain": [
       "[<selenium.webdriver.remote.webelement.WebElement (session=\"a65b6359e40415aa420f12851790c545\", element=\"eb8d611c-bb8e-4168-ac54-cf56ff6d09d0\")>,\n",
       " <selenium.webdriver.remote.webelement.WebElement (session=\"a65b6359e40415aa420f12851790c545\", element=\"516a2a4d-88f5-4ecd-b184-36ea1123653f\")>,\n",
       " <selenium.webdriver.remote.webelement.WebElement (session=\"a65b6359e40415aa420f12851790c545\", element=\"2e8a9811-c28c-4f91-a016-d1f8d9019118\")>,\n",
       " <selenium.webdriver.remote.webelement.WebElement (session=\"a65b6359e40415aa420f12851790c545\", element=\"6c1fec50-8a36-4047-ba56-68ddc7ee4817\")>,\n",
       " <selenium.webdriver.remote.webelement.WebElement (session=\"a65b6359e40415aa420f12851790c545\", element=\"b6128a63-5a38-402a-804d-161cb99f1ccf\")>,\n",
       " <selenium.webdriver.remote.webelement.WebElement (session=\"a65b6359e40415aa420f12851790c545\", element=\"0f981fea-f29f-40b4-8d5e-4631865caaaa\")>,\n",
       " <selenium.webdriver.remote.webelement.WebElement (session=\"a65b6359e40415aa420f12851790c545\", element=\"27829e4e-732e-4cc0-8be7-3e473f28932b\")>,\n",
       " <selenium.webdriver.remote.webelement.WebElement (session=\"a65b6359e40415aa420f12851790c545\", element=\"e31f49af-14b2-49bc-8088-fac781ce75a9\")>,\n",
       " <selenium.webdriver.remote.webelement.WebElement (session=\"a65b6359e40415aa420f12851790c545\", element=\"31104009-626e-4037-a03f-9aa582b6cc15\")>,\n",
       " <selenium.webdriver.remote.webelement.WebElement (session=\"a65b6359e40415aa420f12851790c545\", element=\"151d1701-b7cd-4f6a-9ce1-873db11a8baa\")>,\n",
       " <selenium.webdriver.remote.webelement.WebElement (session=\"a65b6359e40415aa420f12851790c545\", element=\"f73b206b-9fee-46b8-ae64-2951b5eb401a\")>,\n",
       " <selenium.webdriver.remote.webelement.WebElement (session=\"a65b6359e40415aa420f12851790c545\", element=\"dfa1f525-fe7a-4f71-a0e4-73ebc5648c42\")>,\n",
       " <selenium.webdriver.remote.webelement.WebElement (session=\"a65b6359e40415aa420f12851790c545\", element=\"a24550e4-91b7-45a2-84c9-cea14ff24899\")>,\n",
       " <selenium.webdriver.remote.webelement.WebElement (session=\"a65b6359e40415aa420f12851790c545\", element=\"b8b66cc0-4c1e-42c5-bab6-a84f33223a1c\")>,\n",
       " <selenium.webdriver.remote.webelement.WebElement (session=\"a65b6359e40415aa420f12851790c545\", element=\"804986a6-0002-4ef1-9cd7-cad38ced3cc4\")>,\n",
       " <selenium.webdriver.remote.webelement.WebElement (session=\"a65b6359e40415aa420f12851790c545\", element=\"38517af3-065d-428e-8662-bafb4c444b7a\")>,\n",
       " <selenium.webdriver.remote.webelement.WebElement (session=\"a65b6359e40415aa420f12851790c545\", element=\"ff793e93-a98a-4e25-ad10-e6ee18595e18\")>,\n",
       " <selenium.webdriver.remote.webelement.WebElement (session=\"a65b6359e40415aa420f12851790c545\", element=\"6db70efd-6b19-4fa7-9520-7cfb51d8dd7e\")>,\n",
       " <selenium.webdriver.remote.webelement.WebElement (session=\"a65b6359e40415aa420f12851790c545\", element=\"3a1f89ab-fb47-4ab5-a840-1158f8abf6d8\")>,\n",
       " <selenium.webdriver.remote.webelement.WebElement (session=\"a65b6359e40415aa420f12851790c545\", element=\"c8913431-cf53-4a65-97ea-e890dc5ecb52\")>,\n",
       " <selenium.webdriver.remote.webelement.WebElement (session=\"a65b6359e40415aa420f12851790c545\", element=\"4567135a-d95e-4f20-bd6a-2ba390dccf44\")>,\n",
       " <selenium.webdriver.remote.webelement.WebElement (session=\"a65b6359e40415aa420f12851790c545\", element=\"1ccf7ac9-b97b-468e-b450-e4cc57660643\")>,\n",
       " <selenium.webdriver.remote.webelement.WebElement (session=\"a65b6359e40415aa420f12851790c545\", element=\"47a9a64d-ae76-4cb7-8329-2fda22c5ce42\")>,\n",
       " <selenium.webdriver.remote.webelement.WebElement (session=\"a65b6359e40415aa420f12851790c545\", element=\"23e013c5-43fb-4b33-8212-a5b72e46f321\")>,\n",
       " <selenium.webdriver.remote.webelement.WebElement (session=\"a65b6359e40415aa420f12851790c545\", element=\"bdd3ef30-8a47-4888-ac43-14f7b61ee512\")>,\n",
       " <selenium.webdriver.remote.webelement.WebElement (session=\"a65b6359e40415aa420f12851790c545\", element=\"5d034f84-44a8-45ed-a5c3-26ea066a864c\")>,\n",
       " <selenium.webdriver.remote.webelement.WebElement (session=\"a65b6359e40415aa420f12851790c545\", element=\"5b86187e-1802-4de8-aa97-14e8815e455e\")>,\n",
       " <selenium.webdriver.remote.webelement.WebElement (session=\"a65b6359e40415aa420f12851790c545\", element=\"4ac3df92-be24-4e6b-b56d-7a8186a79ae0\")>,\n",
       " <selenium.webdriver.remote.webelement.WebElement (session=\"a65b6359e40415aa420f12851790c545\", element=\"4a79a866-0cc3-4774-a3f8-5ceebdce52bc\")>,\n",
       " <selenium.webdriver.remote.webelement.WebElement (session=\"a65b6359e40415aa420f12851790c545\", element=\"f94406e5-55f8-4833-a678-2fb79a50f2b4\")>,\n",
       " <selenium.webdriver.remote.webelement.WebElement (session=\"a65b6359e40415aa420f12851790c545\", element=\"69349e89-411a-47b1-9cc0-29a9479ad853\")>,\n",
       " <selenium.webdriver.remote.webelement.WebElement (session=\"a65b6359e40415aa420f12851790c545\", element=\"dd0a8207-3d20-414e-82da-460c14067053\")>,\n",
       " <selenium.webdriver.remote.webelement.WebElement (session=\"a65b6359e40415aa420f12851790c545\", element=\"b4e43c50-a9eb-4ea0-af08-6756f6dfb6b3\")>,\n",
       " <selenium.webdriver.remote.webelement.WebElement (session=\"a65b6359e40415aa420f12851790c545\", element=\"287b0b8a-e983-4a39-b0bf-2b27993dbe5b\")>,\n",
       " <selenium.webdriver.remote.webelement.WebElement (session=\"a65b6359e40415aa420f12851790c545\", element=\"c190623d-6005-4a08-b81f-d71950235ce1\")>,\n",
       " <selenium.webdriver.remote.webelement.WebElement (session=\"a65b6359e40415aa420f12851790c545\", element=\"b88e6d76-444d-469a-8501-f83af33be5a6\")>,\n",
       " <selenium.webdriver.remote.webelement.WebElement (session=\"a65b6359e40415aa420f12851790c545\", element=\"a05d11d0-9bb1-47bc-be1a-9acc05132b5d\")>,\n",
       " <selenium.webdriver.remote.webelement.WebElement (session=\"a65b6359e40415aa420f12851790c545\", element=\"ca2eaed7-984a-4559-a131-4ccd1816aecf\")>,\n",
       " <selenium.webdriver.remote.webelement.WebElement (session=\"a65b6359e40415aa420f12851790c545\", element=\"d6105350-335c-48bb-834f-25aa55b7e937\")>,\n",
       " <selenium.webdriver.remote.webelement.WebElement (session=\"a65b6359e40415aa420f12851790c545\", element=\"ece14a6c-0df6-4898-9425-bc45101fd5fc\")>]"
      ]
     },
     "execution_count": 10,
     "metadata": {},
     "output_type": "execute_result"
    }
   ],
   "source": [
    "#1 to 40\n",
    "brand_tags1=driver.find_elements_by_xpath(\"//div[@class='_2WkVRV']\")\n",
    "brand_tags1[0:40]"
   ]
  },
  {
   "cell_type": "code",
   "execution_count": 11,
   "id": "4929e027",
   "metadata": {},
   "outputs": [
    {
     "data": {
      "text/plain": [
       "[\"LEVI'S\",\n",
       " 'SPARX',\n",
       " 'PUMA',\n",
       " \"LEVI'S\",\n",
       " \"LEVI'S\",\n",
       " 'DUCATI',\n",
       " 'PUMA',\n",
       " 'SPARX',\n",
       " 'DUCATI',\n",
       " \"LEVI'S\",\n",
       " \"LEVI'S\",\n",
       " 'NIKE',\n",
       " 'ADIDAS',\n",
       " 'WROGN',\n",
       " 'SPARX',\n",
       " 'WROGN',\n",
       " 'WROGN',\n",
       " 'ADIDAS ORIGINALS',\n",
       " 'PUMA',\n",
       " 'SPARX',\n",
       " 'CROCS',\n",
       " 'U.S. POLO ASSN.',\n",
       " 'SPARX',\n",
       " 'DUCATI',\n",
       " 'WOODLAND',\n",
       " 'WROGN',\n",
       " 'Roadster',\n",
       " 'PUMA',\n",
       " 'DUCATI',\n",
       " 'DUCATI',\n",
       " 'DUCATI',\n",
       " 'DUCATI',\n",
       " 'SPARX',\n",
       " 'U.S. POLO ASSN.',\n",
       " 'RED TAPE',\n",
       " 'DUCATI',\n",
       " 'DUCATI',\n",
       " 'Roadster',\n",
       " 'PUMA',\n",
       " 'PUMA']"
      ]
     },
     "execution_count": 11,
     "metadata": {},
     "output_type": "execute_result"
    }
   ],
   "source": [
    "for i in brand_tags1:\n",
    "    brand=i.text\n",
    "    brand_list1.append(brand)\n",
    "brand_list1[0:40]"
   ]
  },
  {
   "cell_type": "code",
   "execution_count": 12,
   "id": "d547d9e5",
   "metadata": {},
   "outputs": [
    {
     "data": {
      "text/plain": [
       "[<selenium.webdriver.remote.webelement.WebElement (session=\"a65b6359e40415aa420f12851790c545\", element=\"96c52aa4-96b1-414a-af85-6d588168e6e9\")>,\n",
       " <selenium.webdriver.remote.webelement.WebElement (session=\"a65b6359e40415aa420f12851790c545\", element=\"88a06ed0-cf6e-458a-80f5-2d9d17683962\")>,\n",
       " <selenium.webdriver.remote.webelement.WebElement (session=\"a65b6359e40415aa420f12851790c545\", element=\"bb32e867-035a-48ab-8514-990e4cc071ab\")>,\n",
       " <selenium.webdriver.remote.webelement.WebElement (session=\"a65b6359e40415aa420f12851790c545\", element=\"e8e00682-9da9-4d98-88be-9133a58e8f7b\")>,\n",
       " <selenium.webdriver.remote.webelement.WebElement (session=\"a65b6359e40415aa420f12851790c545\", element=\"57e2bcf1-8fbd-48e4-80e2-73d3393a8f29\")>,\n",
       " <selenium.webdriver.remote.webelement.WebElement (session=\"a65b6359e40415aa420f12851790c545\", element=\"386a1bb3-a0d6-428e-82d2-362ca7905cb4\")>,\n",
       " <selenium.webdriver.remote.webelement.WebElement (session=\"a65b6359e40415aa420f12851790c545\", element=\"a0bc61a1-0eb7-42fd-a752-b235b7418069\")>,\n",
       " <selenium.webdriver.remote.webelement.WebElement (session=\"a65b6359e40415aa420f12851790c545\", element=\"795198a7-8e13-4517-bced-7bcf09b465a3\")>,\n",
       " <selenium.webdriver.remote.webelement.WebElement (session=\"a65b6359e40415aa420f12851790c545\", element=\"c3cfe8d1-7007-4fba-b644-911b9b3cd312\")>,\n",
       " <selenium.webdriver.remote.webelement.WebElement (session=\"a65b6359e40415aa420f12851790c545\", element=\"b13af45c-a9cf-4345-8ead-b7522a198bc0\")>,\n",
       " <selenium.webdriver.remote.webelement.WebElement (session=\"a65b6359e40415aa420f12851790c545\", element=\"11097f23-a0c7-4123-8406-7f6e65ce479d\")>,\n",
       " <selenium.webdriver.remote.webelement.WebElement (session=\"a65b6359e40415aa420f12851790c545\", element=\"62f5e1c9-2338-455f-b346-a2af950b816e\")>,\n",
       " <selenium.webdriver.remote.webelement.WebElement (session=\"a65b6359e40415aa420f12851790c545\", element=\"d4ab3087-96d6-4644-926c-4f5f0d2a556c\")>,\n",
       " <selenium.webdriver.remote.webelement.WebElement (session=\"a65b6359e40415aa420f12851790c545\", element=\"f452447f-2806-4c98-b4a2-af4050f6a11a\")>,\n",
       " <selenium.webdriver.remote.webelement.WebElement (session=\"a65b6359e40415aa420f12851790c545\", element=\"a5547d98-8dfc-48d6-90e1-062f06bfb2d7\")>,\n",
       " <selenium.webdriver.remote.webelement.WebElement (session=\"a65b6359e40415aa420f12851790c545\", element=\"96c81f3c-d46c-4cbd-aabe-df9d90dcb074\")>,\n",
       " <selenium.webdriver.remote.webelement.WebElement (session=\"a65b6359e40415aa420f12851790c545\", element=\"cef94450-eb38-4ba2-8c5f-c64761edf6e0\")>,\n",
       " <selenium.webdriver.remote.webelement.WebElement (session=\"a65b6359e40415aa420f12851790c545\", element=\"611245a3-c872-4be5-a2b9-f3f174403e0a\")>,\n",
       " <selenium.webdriver.remote.webelement.WebElement (session=\"a65b6359e40415aa420f12851790c545\", element=\"bfb11b24-1119-428f-b328-e4e5e82e4bed\")>,\n",
       " <selenium.webdriver.remote.webelement.WebElement (session=\"a65b6359e40415aa420f12851790c545\", element=\"b0eafd52-c6b9-4863-adb5-a3092724b74b\")>,\n",
       " <selenium.webdriver.remote.webelement.WebElement (session=\"a65b6359e40415aa420f12851790c545\", element=\"a902ca1c-8e92-4590-8a1b-475d63861799\")>,\n",
       " <selenium.webdriver.remote.webelement.WebElement (session=\"a65b6359e40415aa420f12851790c545\", element=\"b0ec09d0-4820-44ae-b669-ee5db28a180b\")>,\n",
       " <selenium.webdriver.remote.webelement.WebElement (session=\"a65b6359e40415aa420f12851790c545\", element=\"c6f33aba-5c1c-425d-b00b-65882805b1f6\")>,\n",
       " <selenium.webdriver.remote.webelement.WebElement (session=\"a65b6359e40415aa420f12851790c545\", element=\"465f1718-063f-47e0-9c53-8f55fbc8a099\")>,\n",
       " <selenium.webdriver.remote.webelement.WebElement (session=\"a65b6359e40415aa420f12851790c545\", element=\"9a931f4f-6485-48c2-bbd4-6a3d22a86757\")>,\n",
       " <selenium.webdriver.remote.webelement.WebElement (session=\"a65b6359e40415aa420f12851790c545\", element=\"2e6c03fc-12a2-48e5-9653-b4a9442b2abf\")>,\n",
       " <selenium.webdriver.remote.webelement.WebElement (session=\"a65b6359e40415aa420f12851790c545\", element=\"1f5a957a-d872-4c11-83ea-e749feae6072\")>,\n",
       " <selenium.webdriver.remote.webelement.WebElement (session=\"a65b6359e40415aa420f12851790c545\", element=\"bc8165a4-6ed5-4791-941a-752786188a8a\")>,\n",
       " <selenium.webdriver.remote.webelement.WebElement (session=\"a65b6359e40415aa420f12851790c545\", element=\"742675b4-58ee-4fc4-adaf-1ef8140df90f\")>,\n",
       " <selenium.webdriver.remote.webelement.WebElement (session=\"a65b6359e40415aa420f12851790c545\", element=\"4dee1bf9-323c-45bd-8efa-bcf0ca933688\")>,\n",
       " <selenium.webdriver.remote.webelement.WebElement (session=\"a65b6359e40415aa420f12851790c545\", element=\"149074fe-ae89-43ab-8657-6382077a1d9e\")>,\n",
       " <selenium.webdriver.remote.webelement.WebElement (session=\"a65b6359e40415aa420f12851790c545\", element=\"b22e1faa-c8a2-44ab-87ff-4bc012f9facd\")>,\n",
       " <selenium.webdriver.remote.webelement.WebElement (session=\"a65b6359e40415aa420f12851790c545\", element=\"5cd3ba29-4abb-4ee1-bc9d-bef311a9153f\")>,\n",
       " <selenium.webdriver.remote.webelement.WebElement (session=\"a65b6359e40415aa420f12851790c545\", element=\"8c33dd35-c31c-4512-a90b-c8a3ababa383\")>,\n",
       " <selenium.webdriver.remote.webelement.WebElement (session=\"a65b6359e40415aa420f12851790c545\", element=\"f121f75f-4b2a-4c0e-9252-3824f11e5b04\")>,\n",
       " <selenium.webdriver.remote.webelement.WebElement (session=\"a65b6359e40415aa420f12851790c545\", element=\"4a126a04-3e4a-404f-ada7-570d54a70f23\")>,\n",
       " <selenium.webdriver.remote.webelement.WebElement (session=\"a65b6359e40415aa420f12851790c545\", element=\"d8c7c904-85d2-4956-a44e-c23e572542eb\")>]"
      ]
     },
     "execution_count": 12,
     "metadata": {},
     "output_type": "execute_result"
    }
   ],
   "source": [
    "product_tags1=driver.find_elements_by_xpath(\"//a[@class='IRpwTa']\")\n",
    "product_tags1[0:40]"
   ]
  },
  {
   "cell_type": "code",
   "execution_count": 13,
   "id": "0b597b91",
   "metadata": {},
   "outputs": [
    {
     "data": {
      "text/plain": [
       "['BERN Sneakers For Men',\n",
       " 'Puma Wired Cage Sneakers For Men',\n",
       " 'INDI WISH Sneakers For Men',\n",
       " 'INDI BOOT High Tops For Men',\n",
       " 'Sneakers For Men',\n",
       " 'X-Ray Sneakers For Men',\n",
       " 'SM-675 Sneakers For Men',\n",
       " 'Sneakers For Men',\n",
       " 'INDI WISH Sneakers For Men',\n",
       " 'AART CORE Sneaker For Men',\n",
       " 'Ebernon Low Sneakers For Men',\n",
       " 'Street Icon M Sneakers For Men',\n",
       " 'Athleisure Sneakers For Men',\n",
       " 'SM-322 Sneakers For Men',\n",
       " 'Athleisure Sneakers For Men',\n",
       " 'Athleisure Sneakers For Men',\n",
       " 'SMOOTH RUNNER Sneakers For Men',\n",
       " 'Ferrari IONSpeed Sneakers For Men',\n",
       " 'SM-620 Sneakers For Men',\n",
       " '(Walu) Sneakers For Men',\n",
       " 'GAIMAN 2.O Sneakers For Men',\n",
       " 'SM-671 Sneakers For Men',\n",
       " 'Sneakers For Men',\n",
       " 'Sneakers For Men',\n",
       " 'Athleisure Sneakers For Men',\n",
       " 'Men Grey Solid Mid-Top Sneakers Sneakers For Men',\n",
       " 'Smash Vulc Sneakers For Men',\n",
       " 'Sneakers For Men',\n",
       " 'Sneakers For Men',\n",
       " 'Sneakers For Men',\n",
       " 'Sneakers For Men',\n",
       " 'KENRIDGE Sneakers For Men',\n",
       " 'Sneakers For Men',\n",
       " 'Sneakers For Men',\n",
       " 'Men White Solid Sneakers Sneakers For Men',\n",
       " 'RS-X TOYS Sneakers For Men',\n",
       " 'RS-X TOYS Sneakers For Men']"
      ]
     },
     "execution_count": 13,
     "metadata": {},
     "output_type": "execute_result"
    }
   ],
   "source": [
    "for i in product_tags1:\n",
    "    product1=i.text\n",
    "    product_list1.append(product1)\n",
    "product_list1[0:40]"
   ]
  },
  {
   "cell_type": "code",
   "execution_count": 14,
   "id": "b4147daf",
   "metadata": {},
   "outputs": [
    {
     "data": {
      "text/plain": [
       "[<selenium.webdriver.remote.webelement.WebElement (session=\"a65b6359e40415aa420f12851790c545\", element=\"362259b4-7ff7-4bf8-9467-ced1d9c50cff\")>,\n",
       " <selenium.webdriver.remote.webelement.WebElement (session=\"a65b6359e40415aa420f12851790c545\", element=\"42954b19-4f12-4066-b61b-2834a2ec29b6\")>,\n",
       " <selenium.webdriver.remote.webelement.WebElement (session=\"a65b6359e40415aa420f12851790c545\", element=\"45d881e7-9ceb-4c55-ba43-2df82ab57ecf\")>,\n",
       " <selenium.webdriver.remote.webelement.WebElement (session=\"a65b6359e40415aa420f12851790c545\", element=\"b9184fb9-7023-43f1-94b9-e91a3c714303\")>,\n",
       " <selenium.webdriver.remote.webelement.WebElement (session=\"a65b6359e40415aa420f12851790c545\", element=\"d6e571c6-61d3-42fd-a8f1-7e30a449d86e\")>,\n",
       " <selenium.webdriver.remote.webelement.WebElement (session=\"a65b6359e40415aa420f12851790c545\", element=\"4f849a1e-5ddd-49d3-a561-2405fe22ccba\")>,\n",
       " <selenium.webdriver.remote.webelement.WebElement (session=\"a65b6359e40415aa420f12851790c545\", element=\"d30d8560-4b67-48b8-b5be-32c3dfda7f49\")>,\n",
       " <selenium.webdriver.remote.webelement.WebElement (session=\"a65b6359e40415aa420f12851790c545\", element=\"22007742-1e53-4adb-923c-a6ffa39e580d\")>,\n",
       " <selenium.webdriver.remote.webelement.WebElement (session=\"a65b6359e40415aa420f12851790c545\", element=\"66e10054-2164-49cd-aeb1-27017a6f6f42\")>,\n",
       " <selenium.webdriver.remote.webelement.WebElement (session=\"a65b6359e40415aa420f12851790c545\", element=\"b546da4f-e1b6-4133-a285-49d18d7ac0e3\")>,\n",
       " <selenium.webdriver.remote.webelement.WebElement (session=\"a65b6359e40415aa420f12851790c545\", element=\"fdaa66b2-49c8-4c8e-b0f0-d03fa35a9ac5\")>,\n",
       " <selenium.webdriver.remote.webelement.WebElement (session=\"a65b6359e40415aa420f12851790c545\", element=\"36bed35e-5df4-47e4-b48e-b6623084db47\")>,\n",
       " <selenium.webdriver.remote.webelement.WebElement (session=\"a65b6359e40415aa420f12851790c545\", element=\"a3326d3f-1fab-4dc1-97ad-fda4fa1966cf\")>,\n",
       " <selenium.webdriver.remote.webelement.WebElement (session=\"a65b6359e40415aa420f12851790c545\", element=\"ff0aeb17-1446-445d-a3f5-5aff8ea7c47a\")>,\n",
       " <selenium.webdriver.remote.webelement.WebElement (session=\"a65b6359e40415aa420f12851790c545\", element=\"41ff8d93-dbe4-4b2d-9ad7-f7fd6285d6fc\")>,\n",
       " <selenium.webdriver.remote.webelement.WebElement (session=\"a65b6359e40415aa420f12851790c545\", element=\"fbe2bd23-65d0-43f7-88d0-5770d6b7dc3a\")>,\n",
       " <selenium.webdriver.remote.webelement.WebElement (session=\"a65b6359e40415aa420f12851790c545\", element=\"0cb66d8b-81b4-413e-9ca5-7a9e05fa3284\")>,\n",
       " <selenium.webdriver.remote.webelement.WebElement (session=\"a65b6359e40415aa420f12851790c545\", element=\"12fb3115-627b-451b-a0a2-3b2797aa8bba\")>,\n",
       " <selenium.webdriver.remote.webelement.WebElement (session=\"a65b6359e40415aa420f12851790c545\", element=\"f22dae5e-d288-4ae2-8636-5a5fb3d80b89\")>,\n",
       " <selenium.webdriver.remote.webelement.WebElement (session=\"a65b6359e40415aa420f12851790c545\", element=\"f6f64f5a-7905-4c41-aa4d-be8551c5ff30\")>,\n",
       " <selenium.webdriver.remote.webelement.WebElement (session=\"a65b6359e40415aa420f12851790c545\", element=\"7442b48b-9bfc-4812-933d-e5bfe47f7c63\")>,\n",
       " <selenium.webdriver.remote.webelement.WebElement (session=\"a65b6359e40415aa420f12851790c545\", element=\"c3001b21-a4ca-4a78-bc70-7b5d3c0f8b5b\")>,\n",
       " <selenium.webdriver.remote.webelement.WebElement (session=\"a65b6359e40415aa420f12851790c545\", element=\"82971baa-5a07-49f6-9938-71270d17acfd\")>,\n",
       " <selenium.webdriver.remote.webelement.WebElement (session=\"a65b6359e40415aa420f12851790c545\", element=\"a10f6d3e-2606-4e63-bb47-ddb9ee40121a\")>,\n",
       " <selenium.webdriver.remote.webelement.WebElement (session=\"a65b6359e40415aa420f12851790c545\", element=\"7293005c-714d-4a4a-8bc6-d26724ce0e0d\")>,\n",
       " <selenium.webdriver.remote.webelement.WebElement (session=\"a65b6359e40415aa420f12851790c545\", element=\"3e9de58b-97a9-4a77-bc12-aaff9bcb8950\")>,\n",
       " <selenium.webdriver.remote.webelement.WebElement (session=\"a65b6359e40415aa420f12851790c545\", element=\"0d245701-6bd5-43ca-859b-49bee07cd640\")>,\n",
       " <selenium.webdriver.remote.webelement.WebElement (session=\"a65b6359e40415aa420f12851790c545\", element=\"d0e069c0-eb94-4149-aa5d-9799d98a5379\")>,\n",
       " <selenium.webdriver.remote.webelement.WebElement (session=\"a65b6359e40415aa420f12851790c545\", element=\"c38e2238-8d78-4134-ab87-4406e7691081\")>,\n",
       " <selenium.webdriver.remote.webelement.WebElement (session=\"a65b6359e40415aa420f12851790c545\", element=\"4cff4f5a-4754-45c3-a0ed-c715d60924c5\")>,\n",
       " <selenium.webdriver.remote.webelement.WebElement (session=\"a65b6359e40415aa420f12851790c545\", element=\"660c72ab-5820-444f-85da-0ace0a88d4d5\")>,\n",
       " <selenium.webdriver.remote.webelement.WebElement (session=\"a65b6359e40415aa420f12851790c545\", element=\"9ddb802d-e1c7-4727-8851-d2b3961763fb\")>,\n",
       " <selenium.webdriver.remote.webelement.WebElement (session=\"a65b6359e40415aa420f12851790c545\", element=\"224abd32-93cb-4878-9119-eb11e94c2798\")>,\n",
       " <selenium.webdriver.remote.webelement.WebElement (session=\"a65b6359e40415aa420f12851790c545\", element=\"e342e479-a142-4bf8-8692-043730babd42\")>,\n",
       " <selenium.webdriver.remote.webelement.WebElement (session=\"a65b6359e40415aa420f12851790c545\", element=\"0c52fce7-ea58-4c00-a6ff-703bae03e893\")>,\n",
       " <selenium.webdriver.remote.webelement.WebElement (session=\"a65b6359e40415aa420f12851790c545\", element=\"d1fcbd77-1c33-46a2-9c3f-573be803ae6c\")>,\n",
       " <selenium.webdriver.remote.webelement.WebElement (session=\"a65b6359e40415aa420f12851790c545\", element=\"a32d53ad-8ad2-4395-9cef-2e88b16900c4\")>,\n",
       " <selenium.webdriver.remote.webelement.WebElement (session=\"a65b6359e40415aa420f12851790c545\", element=\"d70cb00d-8cd9-4cf4-a08b-cbd1393f2574\")>,\n",
       " <selenium.webdriver.remote.webelement.WebElement (session=\"a65b6359e40415aa420f12851790c545\", element=\"5a3abb25-458a-44c3-b7e8-47bdafb60978\")>,\n",
       " <selenium.webdriver.remote.webelement.WebElement (session=\"a65b6359e40415aa420f12851790c545\", element=\"d03a0760-e403-4478-baf1-dbad2a9d58c7\")>]"
      ]
     },
     "execution_count": 14,
     "metadata": {},
     "output_type": "execute_result"
    }
   ],
   "source": [
    "price_tags1=driver.find_elements_by_xpath(\"//div[@class='_30jeq3']\")\n",
    "price_tags1[0:40]"
   ]
  },
  {
   "cell_type": "code",
   "execution_count": 15,
   "id": "b855d23f",
   "metadata": {},
   "outputs": [
    {
     "data": {
      "text/plain": [
       "['₹1,279',\n",
       " '₹849',\n",
       " '₹1,272',\n",
       " '₹1,279',\n",
       " '₹1,119',\n",
       " '₹1,329',\n",
       " '₹2,364',\n",
       " '₹849',\n",
       " '₹1,359',\n",
       " '₹1,279',\n",
       " '₹959',\n",
       " '₹4,341',\n",
       " '₹1,907',\n",
       " '₹559',\n",
       " '₹829',\n",
       " '₹783',\n",
       " '₹923',\n",
       " '₹4,178',\n",
       " '₹7,199',\n",
       " '₹1,099',\n",
       " '₹2,196',\n",
       " '₹1,349',\n",
       " '₹1,099',\n",
       " '₹1,329',\n",
       " '₹1,696',\n",
       " '₹783',\n",
       " '₹1,999',\n",
       " '₹1,899',\n",
       " '₹1,289',\n",
       " '₹1,619',\n",
       " '₹1,479',\n",
       " '₹1,619',\n",
       " '₹849',\n",
       " '₹1,971',\n",
       " '₹1,149',\n",
       " '₹1,429',\n",
       " '₹1,319',\n",
       " '₹1,249',\n",
       " '₹3,483',\n",
       " '₹3,606']"
      ]
     },
     "execution_count": 15,
     "metadata": {},
     "output_type": "execute_result"
    }
   ],
   "source": [
    "for i in price_tags1:\n",
    "    price1=i.text\n",
    "    price_list1.append(price1)\n",
    "price_list1[0:40]"
   ]
  },
  {
   "cell_type": "code",
   "execution_count": 16,
   "id": "2ad11b2a",
   "metadata": {},
   "outputs": [
    {
     "data": {
      "text/html": [
       "<div>\n",
       "<style scoped>\n",
       "    .dataframe tbody tr th:only-of-type {\n",
       "        vertical-align: middle;\n",
       "    }\n",
       "\n",
       "    .dataframe tbody tr th {\n",
       "        vertical-align: top;\n",
       "    }\n",
       "\n",
       "    .dataframe thead th {\n",
       "        text-align: right;\n",
       "    }\n",
       "</style>\n",
       "<table border=\"1\" class=\"dataframe\">\n",
       "  <thead>\n",
       "    <tr style=\"text-align: right;\">\n",
       "      <th></th>\n",
       "      <th>Brand</th>\n",
       "      <th>Product</th>\n",
       "      <th>Price</th>\n",
       "    </tr>\n",
       "  </thead>\n",
       "  <tbody>\n",
       "    <tr>\n",
       "      <th>0</th>\n",
       "      <td>LEVI'S</td>\n",
       "      <td>BERN Sneakers For Men</td>\n",
       "      <td>₹1,279</td>\n",
       "    </tr>\n",
       "    <tr>\n",
       "      <th>1</th>\n",
       "      <td>SPARX</td>\n",
       "      <td>Puma Wired Cage Sneakers For Men</td>\n",
       "      <td>₹849</td>\n",
       "    </tr>\n",
       "    <tr>\n",
       "      <th>2</th>\n",
       "      <td>PUMA</td>\n",
       "      <td>INDI WISH Sneakers For Men</td>\n",
       "      <td>₹1,272</td>\n",
       "    </tr>\n",
       "    <tr>\n",
       "      <th>3</th>\n",
       "      <td>LEVI'S</td>\n",
       "      <td>INDI BOOT High Tops For Men</td>\n",
       "      <td>₹1,279</td>\n",
       "    </tr>\n",
       "    <tr>\n",
       "      <th>4</th>\n",
       "      <td>LEVI'S</td>\n",
       "      <td>Sneakers For Men</td>\n",
       "      <td>₹1,119</td>\n",
       "    </tr>\n",
       "    <tr>\n",
       "      <th>5</th>\n",
       "      <td>DUCATI</td>\n",
       "      <td>X-Ray Sneakers For Men</td>\n",
       "      <td>₹1,329</td>\n",
       "    </tr>\n",
       "    <tr>\n",
       "      <th>6</th>\n",
       "      <td>PUMA</td>\n",
       "      <td>SM-675 Sneakers For Men</td>\n",
       "      <td>₹2,364</td>\n",
       "    </tr>\n",
       "    <tr>\n",
       "      <th>7</th>\n",
       "      <td>SPARX</td>\n",
       "      <td>Sneakers For Men</td>\n",
       "      <td>₹849</td>\n",
       "    </tr>\n",
       "    <tr>\n",
       "      <th>8</th>\n",
       "      <td>DUCATI</td>\n",
       "      <td>INDI WISH Sneakers For Men</td>\n",
       "      <td>₹1,359</td>\n",
       "    </tr>\n",
       "    <tr>\n",
       "      <th>9</th>\n",
       "      <td>LEVI'S</td>\n",
       "      <td>AART CORE Sneaker For Men</td>\n",
       "      <td>₹1,279</td>\n",
       "    </tr>\n",
       "    <tr>\n",
       "      <th>10</th>\n",
       "      <td>LEVI'S</td>\n",
       "      <td>Ebernon Low Sneakers For Men</td>\n",
       "      <td>₹959</td>\n",
       "    </tr>\n",
       "    <tr>\n",
       "      <th>11</th>\n",
       "      <td>NIKE</td>\n",
       "      <td>Street Icon M Sneakers For Men</td>\n",
       "      <td>₹4,341</td>\n",
       "    </tr>\n",
       "    <tr>\n",
       "      <th>12</th>\n",
       "      <td>ADIDAS</td>\n",
       "      <td>Athleisure Sneakers For Men</td>\n",
       "      <td>₹1,907</td>\n",
       "    </tr>\n",
       "    <tr>\n",
       "      <th>13</th>\n",
       "      <td>WROGN</td>\n",
       "      <td>SM-322 Sneakers For Men</td>\n",
       "      <td>₹559</td>\n",
       "    </tr>\n",
       "    <tr>\n",
       "      <th>14</th>\n",
       "      <td>SPARX</td>\n",
       "      <td>Athleisure Sneakers For Men</td>\n",
       "      <td>₹829</td>\n",
       "    </tr>\n",
       "    <tr>\n",
       "      <th>15</th>\n",
       "      <td>WROGN</td>\n",
       "      <td>Athleisure Sneakers For Men</td>\n",
       "      <td>₹783</td>\n",
       "    </tr>\n",
       "    <tr>\n",
       "      <th>16</th>\n",
       "      <td>WROGN</td>\n",
       "      <td>SMOOTH RUNNER Sneakers For Men</td>\n",
       "      <td>₹923</td>\n",
       "    </tr>\n",
       "    <tr>\n",
       "      <th>17</th>\n",
       "      <td>ADIDAS ORIGINALS</td>\n",
       "      <td>Ferrari IONSpeed Sneakers For Men</td>\n",
       "      <td>₹4,178</td>\n",
       "    </tr>\n",
       "    <tr>\n",
       "      <th>18</th>\n",
       "      <td>PUMA</td>\n",
       "      <td>SM-620 Sneakers For Men</td>\n",
       "      <td>₹7,199</td>\n",
       "    </tr>\n",
       "    <tr>\n",
       "      <th>19</th>\n",
       "      <td>SPARX</td>\n",
       "      <td>(Walu) Sneakers For Men</td>\n",
       "      <td>₹1,099</td>\n",
       "    </tr>\n",
       "    <tr>\n",
       "      <th>20</th>\n",
       "      <td>CROCS</td>\n",
       "      <td>GAIMAN 2.O Sneakers For Men</td>\n",
       "      <td>₹2,196</td>\n",
       "    </tr>\n",
       "    <tr>\n",
       "      <th>21</th>\n",
       "      <td>U.S. POLO ASSN.</td>\n",
       "      <td>SM-671 Sneakers For Men</td>\n",
       "      <td>₹1,349</td>\n",
       "    </tr>\n",
       "    <tr>\n",
       "      <th>22</th>\n",
       "      <td>SPARX</td>\n",
       "      <td>Sneakers For Men</td>\n",
       "      <td>₹1,099</td>\n",
       "    </tr>\n",
       "    <tr>\n",
       "      <th>23</th>\n",
       "      <td>DUCATI</td>\n",
       "      <td>Sneakers For Men</td>\n",
       "      <td>₹1,329</td>\n",
       "    </tr>\n",
       "    <tr>\n",
       "      <th>24</th>\n",
       "      <td>WOODLAND</td>\n",
       "      <td>Athleisure Sneakers For Men</td>\n",
       "      <td>₹1,696</td>\n",
       "    </tr>\n",
       "    <tr>\n",
       "      <th>25</th>\n",
       "      <td>WROGN</td>\n",
       "      <td>Men Grey Solid Mid-Top Sneakers Sneakers For Men</td>\n",
       "      <td>₹783</td>\n",
       "    </tr>\n",
       "    <tr>\n",
       "      <th>26</th>\n",
       "      <td>Roadster</td>\n",
       "      <td>Smash Vulc Sneakers For Men</td>\n",
       "      <td>₹1,999</td>\n",
       "    </tr>\n",
       "    <tr>\n",
       "      <th>27</th>\n",
       "      <td>PUMA</td>\n",
       "      <td>Sneakers For Men</td>\n",
       "      <td>₹1,899</td>\n",
       "    </tr>\n",
       "    <tr>\n",
       "      <th>28</th>\n",
       "      <td>DUCATI</td>\n",
       "      <td>Sneakers For Men</td>\n",
       "      <td>₹1,289</td>\n",
       "    </tr>\n",
       "    <tr>\n",
       "      <th>29</th>\n",
       "      <td>DUCATI</td>\n",
       "      <td>Sneakers For Men</td>\n",
       "      <td>₹1,619</td>\n",
       "    </tr>\n",
       "    <tr>\n",
       "      <th>30</th>\n",
       "      <td>DUCATI</td>\n",
       "      <td>Sneakers For Men</td>\n",
       "      <td>₹1,479</td>\n",
       "    </tr>\n",
       "    <tr>\n",
       "      <th>31</th>\n",
       "      <td>DUCATI</td>\n",
       "      <td>KENRIDGE Sneakers For Men</td>\n",
       "      <td>₹1,619</td>\n",
       "    </tr>\n",
       "    <tr>\n",
       "      <th>32</th>\n",
       "      <td>SPARX</td>\n",
       "      <td>Sneakers For Men</td>\n",
       "      <td>₹849</td>\n",
       "    </tr>\n",
       "    <tr>\n",
       "      <th>33</th>\n",
       "      <td>U.S. POLO ASSN.</td>\n",
       "      <td>Sneakers For Men</td>\n",
       "      <td>₹1,971</td>\n",
       "    </tr>\n",
       "  </tbody>\n",
       "</table>\n",
       "</div>"
      ],
      "text/plain": [
       "               Brand                                           Product   Price\n",
       "0             LEVI'S                             BERN Sneakers For Men  ₹1,279\n",
       "1              SPARX                  Puma Wired Cage Sneakers For Men    ₹849\n",
       "2               PUMA                        INDI WISH Sneakers For Men  ₹1,272\n",
       "3             LEVI'S                       INDI BOOT High Tops For Men  ₹1,279\n",
       "4             LEVI'S                                  Sneakers For Men  ₹1,119\n",
       "5             DUCATI                            X-Ray Sneakers For Men  ₹1,329\n",
       "6               PUMA                           SM-675 Sneakers For Men  ₹2,364\n",
       "7              SPARX                                  Sneakers For Men    ₹849\n",
       "8             DUCATI                        INDI WISH Sneakers For Men  ₹1,359\n",
       "9             LEVI'S                         AART CORE Sneaker For Men  ₹1,279\n",
       "10            LEVI'S                      Ebernon Low Sneakers For Men    ₹959\n",
       "11              NIKE                    Street Icon M Sneakers For Men  ₹4,341\n",
       "12            ADIDAS                       Athleisure Sneakers For Men  ₹1,907\n",
       "13             WROGN                           SM-322 Sneakers For Men    ₹559\n",
       "14             SPARX                       Athleisure Sneakers For Men    ₹829\n",
       "15             WROGN                       Athleisure Sneakers For Men    ₹783\n",
       "16             WROGN                    SMOOTH RUNNER Sneakers For Men    ₹923\n",
       "17  ADIDAS ORIGINALS                 Ferrari IONSpeed Sneakers For Men  ₹4,178\n",
       "18              PUMA                           SM-620 Sneakers For Men  ₹7,199\n",
       "19             SPARX                           (Walu) Sneakers For Men  ₹1,099\n",
       "20             CROCS                       GAIMAN 2.O Sneakers For Men  ₹2,196\n",
       "21   U.S. POLO ASSN.                           SM-671 Sneakers For Men  ₹1,349\n",
       "22             SPARX                                  Sneakers For Men  ₹1,099\n",
       "23            DUCATI                                  Sneakers For Men  ₹1,329\n",
       "24          WOODLAND                       Athleisure Sneakers For Men  ₹1,696\n",
       "25             WROGN  Men Grey Solid Mid-Top Sneakers Sneakers For Men    ₹783\n",
       "26          Roadster                       Smash Vulc Sneakers For Men  ₹1,999\n",
       "27              PUMA                                  Sneakers For Men  ₹1,899\n",
       "28            DUCATI                                  Sneakers For Men  ₹1,289\n",
       "29            DUCATI                                  Sneakers For Men  ₹1,619\n",
       "30            DUCATI                                  Sneakers For Men  ₹1,479\n",
       "31            DUCATI                         KENRIDGE Sneakers For Men  ₹1,619\n",
       "32             SPARX                                  Sneakers For Men    ₹849\n",
       "33   U.S. POLO ASSN.                                  Sneakers For Men  ₹1,971"
      ]
     },
     "execution_count": 16,
     "metadata": {},
     "output_type": "execute_result"
    }
   ],
   "source": [
    "df1=pd.DataFrame({})\n",
    "df1['Brand']=brand_list1[0:34]\n",
    "df1['Product']=product_list1[0:34]\n",
    "df1['Price']=price_list1[0:34]\n",
    "df1"
   ]
  },
  {
   "cell_type": "code",
   "execution_count": 17,
   "id": "8bb13d23",
   "metadata": {},
   "outputs": [],
   "source": [
    "next_button2=driver.find_element_by_xpath(\"/html/body/div[1]/div/div[3]/div[1]/div[2]/div[12]/div/div/nav/a[2]\")\n",
    "next_button2.click()"
   ]
  },
  {
   "cell_type": "code",
   "execution_count": 18,
   "id": "2898325a",
   "metadata": {},
   "outputs": [],
   "source": [
    "brand_list2=[]\n",
    "product_list2=[]\n",
    "price_list2=[]"
   ]
  },
  {
   "cell_type": "code",
   "execution_count": 19,
   "id": "a234a783",
   "metadata": {},
   "outputs": [
    {
     "data": {
      "text/plain": [
       "[<selenium.webdriver.remote.webelement.WebElement (session=\"a65b6359e40415aa420f12851790c545\", element=\"76c1728c-98ba-4a1d-bffb-94b098d6fca3\")>,\n",
       " <selenium.webdriver.remote.webelement.WebElement (session=\"a65b6359e40415aa420f12851790c545\", element=\"fc45a681-682e-4e45-aede-075ff0eb5c17\")>,\n",
       " <selenium.webdriver.remote.webelement.WebElement (session=\"a65b6359e40415aa420f12851790c545\", element=\"dce9151a-f6fc-4ecb-b55f-05752bcc3183\")>,\n",
       " <selenium.webdriver.remote.webelement.WebElement (session=\"a65b6359e40415aa420f12851790c545\", element=\"7fd5d738-bf24-4373-bbba-14952e2820a6\")>,\n",
       " <selenium.webdriver.remote.webelement.WebElement (session=\"a65b6359e40415aa420f12851790c545\", element=\"ca1bb5e4-8592-43fb-8226-2ffb7b4cb5f2\")>,\n",
       " <selenium.webdriver.remote.webelement.WebElement (session=\"a65b6359e40415aa420f12851790c545\", element=\"34fdec62-25fb-4d17-9ee3-1caf1c2c5425\")>,\n",
       " <selenium.webdriver.remote.webelement.WebElement (session=\"a65b6359e40415aa420f12851790c545\", element=\"819a2418-a115-4412-a96b-391dc56564df\")>,\n",
       " <selenium.webdriver.remote.webelement.WebElement (session=\"a65b6359e40415aa420f12851790c545\", element=\"73ae6a0e-0f5f-41d5-b8de-01761552d408\")>,\n",
       " <selenium.webdriver.remote.webelement.WebElement (session=\"a65b6359e40415aa420f12851790c545\", element=\"fb5fb613-e04e-455a-a002-6478ee51651c\")>,\n",
       " <selenium.webdriver.remote.webelement.WebElement (session=\"a65b6359e40415aa420f12851790c545\", element=\"22c5c239-eaf9-4693-a12a-935cf81cdb91\")>,\n",
       " <selenium.webdriver.remote.webelement.WebElement (session=\"a65b6359e40415aa420f12851790c545\", element=\"ea973100-d9db-4bc8-a82f-a585c33b5ce4\")>,\n",
       " <selenium.webdriver.remote.webelement.WebElement (session=\"a65b6359e40415aa420f12851790c545\", element=\"0d44a4ed-5558-4d84-b9cb-937da9140f59\")>,\n",
       " <selenium.webdriver.remote.webelement.WebElement (session=\"a65b6359e40415aa420f12851790c545\", element=\"ff8f653a-994c-4843-894a-7e5e18c95be5\")>,\n",
       " <selenium.webdriver.remote.webelement.WebElement (session=\"a65b6359e40415aa420f12851790c545\", element=\"d71d2dcd-5001-4213-b5ce-5f690deb21a3\")>,\n",
       " <selenium.webdriver.remote.webelement.WebElement (session=\"a65b6359e40415aa420f12851790c545\", element=\"ea4b8834-b565-491c-b862-cee99dc75bdc\")>,\n",
       " <selenium.webdriver.remote.webelement.WebElement (session=\"a65b6359e40415aa420f12851790c545\", element=\"105da267-7478-4fb0-8ad3-67452a761995\")>,\n",
       " <selenium.webdriver.remote.webelement.WebElement (session=\"a65b6359e40415aa420f12851790c545\", element=\"0ba1a389-ca3a-45c0-9f0e-0d32f81f62de\")>,\n",
       " <selenium.webdriver.remote.webelement.WebElement (session=\"a65b6359e40415aa420f12851790c545\", element=\"37fe9025-9362-4305-aa03-3f919bba88d1\")>,\n",
       " <selenium.webdriver.remote.webelement.WebElement (session=\"a65b6359e40415aa420f12851790c545\", element=\"9e7993de-adfe-49e4-9d02-c36bdd9d77bc\")>,\n",
       " <selenium.webdriver.remote.webelement.WebElement (session=\"a65b6359e40415aa420f12851790c545\", element=\"a27f000e-ce55-49a9-b918-fbfc1963523b\")>,\n",
       " <selenium.webdriver.remote.webelement.WebElement (session=\"a65b6359e40415aa420f12851790c545\", element=\"7b99e3fd-0e16-4be5-a147-d2083bc2379f\")>,\n",
       " <selenium.webdriver.remote.webelement.WebElement (session=\"a65b6359e40415aa420f12851790c545\", element=\"38243c79-bca5-46f7-9cbe-5359326b76fb\")>,\n",
       " <selenium.webdriver.remote.webelement.WebElement (session=\"a65b6359e40415aa420f12851790c545\", element=\"8c3c23d1-74f0-4b26-afe0-d9e20c1a9807\")>,\n",
       " <selenium.webdriver.remote.webelement.WebElement (session=\"a65b6359e40415aa420f12851790c545\", element=\"8b35c99a-0e10-4778-a471-8c9865e4ac0d\")>,\n",
       " <selenium.webdriver.remote.webelement.WebElement (session=\"a65b6359e40415aa420f12851790c545\", element=\"e42cbfe0-ce8c-43e4-aeb5-3354f694cd24\")>,\n",
       " <selenium.webdriver.remote.webelement.WebElement (session=\"a65b6359e40415aa420f12851790c545\", element=\"f4121c29-37cb-446f-9a64-6ecf97f9136e\")>,\n",
       " <selenium.webdriver.remote.webelement.WebElement (session=\"a65b6359e40415aa420f12851790c545\", element=\"7e631f98-ef5a-4890-8324-6ab592308ba8\")>,\n",
       " <selenium.webdriver.remote.webelement.WebElement (session=\"a65b6359e40415aa420f12851790c545\", element=\"6a59d26a-1179-4381-90e7-8af763c36101\")>,\n",
       " <selenium.webdriver.remote.webelement.WebElement (session=\"a65b6359e40415aa420f12851790c545\", element=\"8da02e7c-6bc9-475d-8b81-752b2d45e70d\")>,\n",
       " <selenium.webdriver.remote.webelement.WebElement (session=\"a65b6359e40415aa420f12851790c545\", element=\"2dec6e20-43b2-451d-af22-1823796151a4\")>,\n",
       " <selenium.webdriver.remote.webelement.WebElement (session=\"a65b6359e40415aa420f12851790c545\", element=\"2982854c-905d-4d9e-8b97-71117af0796d\")>,\n",
       " <selenium.webdriver.remote.webelement.WebElement (session=\"a65b6359e40415aa420f12851790c545\", element=\"51e3f268-8ef2-4e8a-8f27-2b460eabea86\")>,\n",
       " <selenium.webdriver.remote.webelement.WebElement (session=\"a65b6359e40415aa420f12851790c545\", element=\"2d67ab19-b347-4cfb-8f53-3880cab03795\")>,\n",
       " <selenium.webdriver.remote.webelement.WebElement (session=\"a65b6359e40415aa420f12851790c545\", element=\"36e270b1-8ae8-4f53-90ed-dc3f11ccf8a4\")>,\n",
       " <selenium.webdriver.remote.webelement.WebElement (session=\"a65b6359e40415aa420f12851790c545\", element=\"9cf2b805-e5cb-4526-b218-97a0b87b8d1f\")>,\n",
       " <selenium.webdriver.remote.webelement.WebElement (session=\"a65b6359e40415aa420f12851790c545\", element=\"870eabc4-5762-48b2-bf29-830a58a8143a\")>,\n",
       " <selenium.webdriver.remote.webelement.WebElement (session=\"a65b6359e40415aa420f12851790c545\", element=\"da588c16-04a0-4fd4-86a9-7f1eed019184\")>,\n",
       " <selenium.webdriver.remote.webelement.WebElement (session=\"a65b6359e40415aa420f12851790c545\", element=\"b14dfc0b-8136-4607-873b-d23fe559c24c\")>,\n",
       " <selenium.webdriver.remote.webelement.WebElement (session=\"a65b6359e40415aa420f12851790c545\", element=\"f09b4e74-7ed4-4820-875d-c8a1ae0a1824\")>,\n",
       " <selenium.webdriver.remote.webelement.WebElement (session=\"a65b6359e40415aa420f12851790c545\", element=\"96715cf0-417b-47a7-a4d3-cdb442270d54\")>]"
      ]
     },
     "execution_count": 19,
     "metadata": {},
     "output_type": "execute_result"
    }
   ],
   "source": [
    "#41 to 80\n",
    "brand_tags2=driver.find_elements_by_xpath(\"//div[@class='_2WkVRV']\")\n",
    "brand_tags2[0:40]"
   ]
  },
  {
   "cell_type": "code",
   "execution_count": 20,
   "id": "fcd8b1b8",
   "metadata": {},
   "outputs": [
    {
     "data": {
      "text/plain": [
       "['SPARX',\n",
       " 'RED TAPE',\n",
       " 'ADIDAS ORIGINALS',\n",
       " \"LEVI'S\",\n",
       " 'DOC Martin',\n",
       " 'WOODLAND',\n",
       " 'NIKE',\n",
       " 'HIGHLANDER',\n",
       " 'NIKE',\n",
       " 'HIGHLANDER',\n",
       " 'PUMA',\n",
       " 'bacca bucci',\n",
       " 'DUCATI',\n",
       " \"LEVI'S\",\n",
       " 'SPARX',\n",
       " 'PUMA',\n",
       " 'Roadster',\n",
       " 'SPARX',\n",
       " 'DUCATI',\n",
       " 'RED TAPE',\n",
       " 'WROGN',\n",
       " 'WROGN',\n",
       " 'RED TAPE',\n",
       " 'WROGN',\n",
       " 'PROVOGUE',\n",
       " 'PUMA',\n",
       " 'PUMA',\n",
       " 'WOODLAND',\n",
       " 'U.S. POLO ASSN.',\n",
       " 'REEBOK CLASSICS',\n",
       " 'SPARX',\n",
       " 'PUMA',\n",
       " 'ADIDAS ORIGINALS',\n",
       " 'SPARX',\n",
       " 'REEBOK CLASSICS',\n",
       " 'HIGHLANDER',\n",
       " 'PROVOGUE',\n",
       " 'PUMA',\n",
       " 'Mast & Harbour',\n",
       " 'SPARX']"
      ]
     },
     "execution_count": 20,
     "metadata": {},
     "output_type": "execute_result"
    }
   ],
   "source": [
    "for i in brand_tags2:\n",
    "    brand2=i.text\n",
    "    brand_list2.append(brand2)\n",
    "brand_list2[0:40]"
   ]
  },
  {
   "cell_type": "code",
   "execution_count": 21,
   "id": "29ec8bde",
   "metadata": {},
   "outputs": [
    {
     "data": {
      "text/plain": [
       "[<selenium.webdriver.remote.webelement.WebElement (session=\"a65b6359e40415aa420f12851790c545\", element=\"07b00608-c1fb-4e0d-995a-d810379dfcf8\")>,\n",
       " <selenium.webdriver.remote.webelement.WebElement (session=\"a65b6359e40415aa420f12851790c545\", element=\"eabb0ffb-27e9-4786-b9d6-ac363bea55b9\")>,\n",
       " <selenium.webdriver.remote.webelement.WebElement (session=\"a65b6359e40415aa420f12851790c545\", element=\"ea7e5f76-1c37-463e-9ed4-28ae423a33b4\")>,\n",
       " <selenium.webdriver.remote.webelement.WebElement (session=\"a65b6359e40415aa420f12851790c545\", element=\"791ff87c-cdcd-423b-91a0-66bf5163e5ae\")>,\n",
       " <selenium.webdriver.remote.webelement.WebElement (session=\"a65b6359e40415aa420f12851790c545\", element=\"175d036a-68d4-4cfd-b1a7-632ad082bb49\")>,\n",
       " <selenium.webdriver.remote.webelement.WebElement (session=\"a65b6359e40415aa420f12851790c545\", element=\"da9fb2b9-915c-4981-b1ff-22b281792367\")>,\n",
       " <selenium.webdriver.remote.webelement.WebElement (session=\"a65b6359e40415aa420f12851790c545\", element=\"6c06bfe6-b9c2-44b2-9f4d-d0c52f4f703b\")>,\n",
       " <selenium.webdriver.remote.webelement.WebElement (session=\"a65b6359e40415aa420f12851790c545\", element=\"327386b1-c1ff-43a0-aaf1-4a866e5b80dc\")>,\n",
       " <selenium.webdriver.remote.webelement.WebElement (session=\"a65b6359e40415aa420f12851790c545\", element=\"5ca0176f-373f-47ee-9ea6-f98fe77eef17\")>,\n",
       " <selenium.webdriver.remote.webelement.WebElement (session=\"a65b6359e40415aa420f12851790c545\", element=\"02df6d57-3e8e-47c8-b91c-ce1e12bdf1a3\")>,\n",
       " <selenium.webdriver.remote.webelement.WebElement (session=\"a65b6359e40415aa420f12851790c545\", element=\"11d0d631-240e-4db1-ac0e-f5cced1eb95b\")>,\n",
       " <selenium.webdriver.remote.webelement.WebElement (session=\"a65b6359e40415aa420f12851790c545\", element=\"30564514-69de-4383-828a-5e8d3ca7ddd8\")>,\n",
       " <selenium.webdriver.remote.webelement.WebElement (session=\"a65b6359e40415aa420f12851790c545\", element=\"6ff57433-a2e3-42e2-a5e8-77524211b11a\")>,\n",
       " <selenium.webdriver.remote.webelement.WebElement (session=\"a65b6359e40415aa420f12851790c545\", element=\"8a92f4be-1d1d-4e99-b6b6-6691522f88d5\")>,\n",
       " <selenium.webdriver.remote.webelement.WebElement (session=\"a65b6359e40415aa420f12851790c545\", element=\"d25825d6-d737-4cbc-85b6-81fe063719a0\")>,\n",
       " <selenium.webdriver.remote.webelement.WebElement (session=\"a65b6359e40415aa420f12851790c545\", element=\"1b2de5b6-89a4-44d0-87b7-81e5afc9ec8b\")>,\n",
       " <selenium.webdriver.remote.webelement.WebElement (session=\"a65b6359e40415aa420f12851790c545\", element=\"1a9cf717-3515-48ef-8064-fdcbbb0bb006\")>,\n",
       " <selenium.webdriver.remote.webelement.WebElement (session=\"a65b6359e40415aa420f12851790c545\", element=\"15ecef39-38d5-4862-8815-3fce413fcf9b\")>,\n",
       " <selenium.webdriver.remote.webelement.WebElement (session=\"a65b6359e40415aa420f12851790c545\", element=\"bba46563-4840-4a47-b5f8-c8cee18a2880\")>,\n",
       " <selenium.webdriver.remote.webelement.WebElement (session=\"a65b6359e40415aa420f12851790c545\", element=\"ca270e56-de75-4cdf-a2de-ec8a6c525e40\")>,\n",
       " <selenium.webdriver.remote.webelement.WebElement (session=\"a65b6359e40415aa420f12851790c545\", element=\"131f4114-9987-469e-a792-d50980947f1c\")>,\n",
       " <selenium.webdriver.remote.webelement.WebElement (session=\"a65b6359e40415aa420f12851790c545\", element=\"63ae8e3a-d481-4570-a3fa-d512ce22d8c5\")>,\n",
       " <selenium.webdriver.remote.webelement.WebElement (session=\"a65b6359e40415aa420f12851790c545\", element=\"5f9bddcf-5de3-4925-abb5-d805a4f135e2\")>,\n",
       " <selenium.webdriver.remote.webelement.WebElement (session=\"a65b6359e40415aa420f12851790c545\", element=\"8101e17f-92c2-4b81-9ec8-3cee74a4e30b\")>,\n",
       " <selenium.webdriver.remote.webelement.WebElement (session=\"a65b6359e40415aa420f12851790c545\", element=\"2cd2c744-7003-47e0-90b1-274c5e49768d\")>,\n",
       " <selenium.webdriver.remote.webelement.WebElement (session=\"a65b6359e40415aa420f12851790c545\", element=\"d80b1445-2e37-4311-82e3-e21850e26aa4\")>,\n",
       " <selenium.webdriver.remote.webelement.WebElement (session=\"a65b6359e40415aa420f12851790c545\", element=\"28dd84fa-932a-4579-9d09-083bae9f54d8\")>,\n",
       " <selenium.webdriver.remote.webelement.WebElement (session=\"a65b6359e40415aa420f12851790c545\", element=\"748a8e3c-b5fd-4bfe-a402-463295662a8d\")>,\n",
       " <selenium.webdriver.remote.webelement.WebElement (session=\"a65b6359e40415aa420f12851790c545\", element=\"da414b1e-be18-433c-b05d-1a566895d31f\")>,\n",
       " <selenium.webdriver.remote.webelement.WebElement (session=\"a65b6359e40415aa420f12851790c545\", element=\"cd2ecf4e-4cc0-4f65-a457-fdd247246905\")>,\n",
       " <selenium.webdriver.remote.webelement.WebElement (session=\"a65b6359e40415aa420f12851790c545\", element=\"06be3933-cd5f-4416-b61a-e71006b675c6\")>,\n",
       " <selenium.webdriver.remote.webelement.WebElement (session=\"a65b6359e40415aa420f12851790c545\", element=\"5ba8f963-ce46-4dfb-b99c-a763e09b2725\")>,\n",
       " <selenium.webdriver.remote.webelement.WebElement (session=\"a65b6359e40415aa420f12851790c545\", element=\"033e1e01-b808-42c3-ab51-ea942e4733b5\")>]"
      ]
     },
     "execution_count": 21,
     "metadata": {},
     "output_type": "execute_result"
    }
   ],
   "source": [
    "product_tags2=driver.find_elements_by_xpath(\"//a[@class='IRpwTa']\")\n",
    "product_tags2[0:40]"
   ]
  },
  {
   "cell_type": "code",
   "execution_count": 22,
   "id": "35a0e96b",
   "metadata": {},
   "outputs": [
    {
     "data": {
      "text/plain": [
       "['NY 92 STRIPES Sneakers For Men',\n",
       " 'Sneakers For Men',\n",
       " 'White Ranger Sneakers For Men',\n",
       " 'Sneakers For Men',\n",
       " 'Retro GTS Sneakers For Men',\n",
       " 'Sneakers For Men',\n",
       " 'Ebernon Low Sneakers For Men',\n",
       " 'Sneakers For Men',\n",
       " 'Star Sneakers For Men',\n",
       " 'Mens Ultraforce Mid-top Athletic-Inspired Retro Fashion...',\n",
       " 'Sneakers For Men',\n",
       " 'INDI EXCLUSIVE Sneakers For Men',\n",
       " 'X-Ray Square Scary Sneakers For Men',\n",
       " 'Sneakers For Men',\n",
       " 'Sneakers For Men',\n",
       " 'Athleisure Sneakers For Men',\n",
       " 'Athleisure Sneakers For Men',\n",
       " 'Athleisure Sneakers For Men',\n",
       " 'Sneakers For Men',\n",
       " 'Lazy Knit Slip On Sneakers For Men',\n",
       " 'Backcourt Mid Sneakers For Men',\n",
       " 'Sneakers For Men',\n",
       " 'PANAL Sneakers For Men',\n",
       " 'Royal Complete Cln BSc Sneakers For Men',\n",
       " 'SM-734 Sneakers For Men',\n",
       " 'RS-Z College Sneakers For Men',\n",
       " 'NY 92 STRIPES Sneakers For Men',\n",
       " 'Men SM-406 Grey Sneakers For Men',\n",
       " 'Reebok Reetrek Sneakers For Men',\n",
       " 'Sneakers For Men',\n",
       " 'Sneakers For Men',\n",
       " 'Rigel Sneakers For Men',\n",
       " 'Sneakers For Men']"
      ]
     },
     "execution_count": 22,
     "metadata": {},
     "output_type": "execute_result"
    }
   ],
   "source": [
    "for i in product_tags2:\n",
    "    product2=i.text\n",
    "    product_list2.append(product2)\n",
    "product_list2[0:40]"
   ]
  },
  {
   "cell_type": "code",
   "execution_count": 23,
   "id": "c2738578",
   "metadata": {},
   "outputs": [
    {
     "data": {
      "text/plain": [
       "[<selenium.webdriver.remote.webelement.WebElement (session=\"a65b6359e40415aa420f12851790c545\", element=\"46079f14-6001-4a6d-9c20-d61c51faeef1\")>,\n",
       " <selenium.webdriver.remote.webelement.WebElement (session=\"a65b6359e40415aa420f12851790c545\", element=\"000aab9b-89b2-49b3-9b90-b91d8214caab\")>,\n",
       " <selenium.webdriver.remote.webelement.WebElement (session=\"a65b6359e40415aa420f12851790c545\", element=\"7bdc1a64-dcb0-4aa4-99e1-49221535da42\")>,\n",
       " <selenium.webdriver.remote.webelement.WebElement (session=\"a65b6359e40415aa420f12851790c545\", element=\"98c2fa84-b2c9-408b-9203-e03841734ea8\")>,\n",
       " <selenium.webdriver.remote.webelement.WebElement (session=\"a65b6359e40415aa420f12851790c545\", element=\"65144ffa-25ae-4412-abe2-d0fea3984445\")>,\n",
       " <selenium.webdriver.remote.webelement.WebElement (session=\"a65b6359e40415aa420f12851790c545\", element=\"cd4ab588-0e60-4a27-945a-d422b3e64423\")>,\n",
       " <selenium.webdriver.remote.webelement.WebElement (session=\"a65b6359e40415aa420f12851790c545\", element=\"c2c0e9de-f56c-4204-b9a6-5aca3f7ab65f\")>,\n",
       " <selenium.webdriver.remote.webelement.WebElement (session=\"a65b6359e40415aa420f12851790c545\", element=\"62539145-6df2-4198-8255-7d22e04c5017\")>,\n",
       " <selenium.webdriver.remote.webelement.WebElement (session=\"a65b6359e40415aa420f12851790c545\", element=\"f99f034b-c95b-41fb-9f7a-845df7dfb4e2\")>,\n",
       " <selenium.webdriver.remote.webelement.WebElement (session=\"a65b6359e40415aa420f12851790c545\", element=\"833a049c-4ab8-4599-8d3d-b8bb1bd32957\")>,\n",
       " <selenium.webdriver.remote.webelement.WebElement (session=\"a65b6359e40415aa420f12851790c545\", element=\"0b471a06-d2b2-496e-af0f-cbc4eddb8747\")>,\n",
       " <selenium.webdriver.remote.webelement.WebElement (session=\"a65b6359e40415aa420f12851790c545\", element=\"71e35e46-5b7b-42db-9bc0-8943c9371f56\")>,\n",
       " <selenium.webdriver.remote.webelement.WebElement (session=\"a65b6359e40415aa420f12851790c545\", element=\"7103ca2a-4298-4f78-8e67-a3d5c48ccafb\")>,\n",
       " <selenium.webdriver.remote.webelement.WebElement (session=\"a65b6359e40415aa420f12851790c545\", element=\"0ba53519-f5a6-4c2e-ba4f-c6dfd3d207c6\")>,\n",
       " <selenium.webdriver.remote.webelement.WebElement (session=\"a65b6359e40415aa420f12851790c545\", element=\"5738c3f7-a2fc-483e-9918-cfa70b85bd9e\")>,\n",
       " <selenium.webdriver.remote.webelement.WebElement (session=\"a65b6359e40415aa420f12851790c545\", element=\"6d5b806d-e8b7-4aab-ba61-70e3db767557\")>,\n",
       " <selenium.webdriver.remote.webelement.WebElement (session=\"a65b6359e40415aa420f12851790c545\", element=\"edc730ad-ce94-4195-bd8c-1d818424091f\")>,\n",
       " <selenium.webdriver.remote.webelement.WebElement (session=\"a65b6359e40415aa420f12851790c545\", element=\"f7884fc7-f094-4238-b0d7-f39affa953f3\")>,\n",
       " <selenium.webdriver.remote.webelement.WebElement (session=\"a65b6359e40415aa420f12851790c545\", element=\"bdb94387-6b47-4e9f-9375-24192deea27c\")>,\n",
       " <selenium.webdriver.remote.webelement.WebElement (session=\"a65b6359e40415aa420f12851790c545\", element=\"3687532e-01c3-4f9e-bff4-b5d9c7220d13\")>,\n",
       " <selenium.webdriver.remote.webelement.WebElement (session=\"a65b6359e40415aa420f12851790c545\", element=\"21dfe346-0571-4e2c-a99b-82f29fb7d895\")>,\n",
       " <selenium.webdriver.remote.webelement.WebElement (session=\"a65b6359e40415aa420f12851790c545\", element=\"e76775f8-1c47-4f92-aaef-f75409ada42a\")>,\n",
       " <selenium.webdriver.remote.webelement.WebElement (session=\"a65b6359e40415aa420f12851790c545\", element=\"c3aeca27-9bc6-4255-ba0a-8dfa80224a5c\")>,\n",
       " <selenium.webdriver.remote.webelement.WebElement (session=\"a65b6359e40415aa420f12851790c545\", element=\"f18b3a05-ff20-4768-b36c-9a36be35fd49\")>,\n",
       " <selenium.webdriver.remote.webelement.WebElement (session=\"a65b6359e40415aa420f12851790c545\", element=\"c630dfe6-e7bf-468d-93f4-2f870c9f4d10\")>,\n",
       " <selenium.webdriver.remote.webelement.WebElement (session=\"a65b6359e40415aa420f12851790c545\", element=\"044a900f-d30c-4a3d-91bf-f06cb6db3ebc\")>,\n",
       " <selenium.webdriver.remote.webelement.WebElement (session=\"a65b6359e40415aa420f12851790c545\", element=\"3084475c-8e5a-4cd0-9f40-ce00e406c89b\")>,\n",
       " <selenium.webdriver.remote.webelement.WebElement (session=\"a65b6359e40415aa420f12851790c545\", element=\"f9b533cf-92dd-481f-b648-b413e3f9b8c8\")>,\n",
       " <selenium.webdriver.remote.webelement.WebElement (session=\"a65b6359e40415aa420f12851790c545\", element=\"a9ef2d60-b122-43d7-bd45-e9120a29140d\")>,\n",
       " <selenium.webdriver.remote.webelement.WebElement (session=\"a65b6359e40415aa420f12851790c545\", element=\"6ef617d4-b501-486f-a262-82a96222c07c\")>,\n",
       " <selenium.webdriver.remote.webelement.WebElement (session=\"a65b6359e40415aa420f12851790c545\", element=\"77bb5faf-9609-4437-9493-606c06591e2f\")>,\n",
       " <selenium.webdriver.remote.webelement.WebElement (session=\"a65b6359e40415aa420f12851790c545\", element=\"8a8d849c-87fe-47f2-8caa-c81a5b35b937\")>,\n",
       " <selenium.webdriver.remote.webelement.WebElement (session=\"a65b6359e40415aa420f12851790c545\", element=\"eca53c4b-1d7e-4f39-86a7-324bf5f7286a\")>,\n",
       " <selenium.webdriver.remote.webelement.WebElement (session=\"a65b6359e40415aa420f12851790c545\", element=\"540183fe-d300-40bd-b97c-15efc1eb076b\")>,\n",
       " <selenium.webdriver.remote.webelement.WebElement (session=\"a65b6359e40415aa420f12851790c545\", element=\"cad905d0-3d5d-4a93-bf08-dc3458d2134e\")>,\n",
       " <selenium.webdriver.remote.webelement.WebElement (session=\"a65b6359e40415aa420f12851790c545\", element=\"bbcd00ef-a0ff-4296-8747-d1f2598c57c9\")>,\n",
       " <selenium.webdriver.remote.webelement.WebElement (session=\"a65b6359e40415aa420f12851790c545\", element=\"d0c2864d-0b55-48bb-89ac-bc00483dfd84\")>,\n",
       " <selenium.webdriver.remote.webelement.WebElement (session=\"a65b6359e40415aa420f12851790c545\", element=\"15e9cda2-3164-4e95-966d-4c2f0a563693\")>,\n",
       " <selenium.webdriver.remote.webelement.WebElement (session=\"a65b6359e40415aa420f12851790c545\", element=\"7d0db52d-905f-45bc-86dc-cae45f869a88\")>,\n",
       " <selenium.webdriver.remote.webelement.WebElement (session=\"a65b6359e40415aa420f12851790c545\", element=\"0849dc20-aebe-42e0-9290-da786448d2a5\")>]"
      ]
     },
     "execution_count": 23,
     "metadata": {},
     "output_type": "execute_result"
    }
   ],
   "source": [
    "price_tags2=driver.find_elements_by_xpath(\"//div[@class='_30jeq3']\")\n",
    "price_tags2[0:40]"
   ]
  },
  {
   "cell_type": "code",
   "execution_count": 24,
   "id": "8f3b0855",
   "metadata": {},
   "outputs": [
    {
     "data": {
      "text/plain": [
       "['₹1,104',\n",
       " '₹1,074',\n",
       " '₹3,848',\n",
       " '₹1,599',\n",
       " '₹1,116',\n",
       " '₹2,086',\n",
       " '₹3,147',\n",
       " '₹796',\n",
       " '₹2,877',\n",
       " '₹995',\n",
       " '₹1,245',\n",
       " '₹1,138',\n",
       " '₹1,289',\n",
       " '₹895',\n",
       " '₹636',\n",
       " '₹2,817',\n",
       " '₹1,379',\n",
       " '₹764',\n",
       " '₹1,479',\n",
       " '₹1,174',\n",
       " '₹615',\n",
       " '₹783',\n",
       " '₹1,149',\n",
       " '₹1,154',\n",
       " '₹799',\n",
       " '₹1,047',\n",
       " '₹3,499',\n",
       " '₹1,756',\n",
       " '₹1,739',\n",
       " '₹1,671',\n",
       " '₹849',\n",
       " '₹3,381',\n",
       " '₹3,078',\n",
       " '₹999',\n",
       " '₹1,759',\n",
       " '₹796',\n",
       " '₹769',\n",
       " '₹1,399',\n",
       " '₹1,599',\n",
       " '₹764']"
      ]
     },
     "execution_count": 24,
     "metadata": {},
     "output_type": "execute_result"
    }
   ],
   "source": [
    "for i in price_tags2:\n",
    "    price2=i.text\n",
    "    price_list2.append(price2)\n",
    "price_list2[0:40]"
   ]
  },
  {
   "cell_type": "code",
   "execution_count": 25,
   "id": "ad0fa0f5",
   "metadata": {},
   "outputs": [
    {
     "data": {
      "text/html": [
       "<div>\n",
       "<style scoped>\n",
       "    .dataframe tbody tr th:only-of-type {\n",
       "        vertical-align: middle;\n",
       "    }\n",
       "\n",
       "    .dataframe tbody tr th {\n",
       "        vertical-align: top;\n",
       "    }\n",
       "\n",
       "    .dataframe thead th {\n",
       "        text-align: right;\n",
       "    }\n",
       "</style>\n",
       "<table border=\"1\" class=\"dataframe\">\n",
       "  <thead>\n",
       "    <tr style=\"text-align: right;\">\n",
       "      <th></th>\n",
       "      <th>Brand2</th>\n",
       "      <th>Product2</th>\n",
       "      <th>Price</th>\n",
       "    </tr>\n",
       "  </thead>\n",
       "  <tbody>\n",
       "    <tr>\n",
       "      <th>0</th>\n",
       "      <td>SPARX</td>\n",
       "      <td>NY 92 STRIPES Sneakers For Men</td>\n",
       "      <td>₹1,104</td>\n",
       "    </tr>\n",
       "    <tr>\n",
       "      <th>1</th>\n",
       "      <td>RED TAPE</td>\n",
       "      <td>Sneakers For Men</td>\n",
       "      <td>₹1,074</td>\n",
       "    </tr>\n",
       "    <tr>\n",
       "      <th>2</th>\n",
       "      <td>ADIDAS ORIGINALS</td>\n",
       "      <td>White Ranger Sneakers For Men</td>\n",
       "      <td>₹3,848</td>\n",
       "    </tr>\n",
       "    <tr>\n",
       "      <th>3</th>\n",
       "      <td>LEVI'S</td>\n",
       "      <td>Sneakers For Men</td>\n",
       "      <td>₹1,599</td>\n",
       "    </tr>\n",
       "    <tr>\n",
       "      <th>4</th>\n",
       "      <td>DOC Martin</td>\n",
       "      <td>Retro GTS Sneakers For Men</td>\n",
       "      <td>₹1,116</td>\n",
       "    </tr>\n",
       "    <tr>\n",
       "      <th>5</th>\n",
       "      <td>WOODLAND</td>\n",
       "      <td>Sneakers For Men</td>\n",
       "      <td>₹2,086</td>\n",
       "    </tr>\n",
       "    <tr>\n",
       "      <th>6</th>\n",
       "      <td>NIKE</td>\n",
       "      <td>Ebernon Low Sneakers For Men</td>\n",
       "      <td>₹3,147</td>\n",
       "    </tr>\n",
       "    <tr>\n",
       "      <th>7</th>\n",
       "      <td>HIGHLANDER</td>\n",
       "      <td>Sneakers For Men</td>\n",
       "      <td>₹796</td>\n",
       "    </tr>\n",
       "    <tr>\n",
       "      <th>8</th>\n",
       "      <td>NIKE</td>\n",
       "      <td>Star Sneakers For Men</td>\n",
       "      <td>₹2,877</td>\n",
       "    </tr>\n",
       "    <tr>\n",
       "      <th>9</th>\n",
       "      <td>HIGHLANDER</td>\n",
       "      <td>Mens Ultraforce Mid-top Athletic-Inspired Retr...</td>\n",
       "      <td>₹995</td>\n",
       "    </tr>\n",
       "    <tr>\n",
       "      <th>10</th>\n",
       "      <td>PUMA</td>\n",
       "      <td>Sneakers For Men</td>\n",
       "      <td>₹1,245</td>\n",
       "    </tr>\n",
       "    <tr>\n",
       "      <th>11</th>\n",
       "      <td>bacca bucci</td>\n",
       "      <td>INDI EXCLUSIVE Sneakers For Men</td>\n",
       "      <td>₹1,138</td>\n",
       "    </tr>\n",
       "    <tr>\n",
       "      <th>12</th>\n",
       "      <td>DUCATI</td>\n",
       "      <td>X-Ray Square Scary Sneakers For Men</td>\n",
       "      <td>₹1,289</td>\n",
       "    </tr>\n",
       "    <tr>\n",
       "      <th>13</th>\n",
       "      <td>LEVI'S</td>\n",
       "      <td>Sneakers For Men</td>\n",
       "      <td>₹895</td>\n",
       "    </tr>\n",
       "    <tr>\n",
       "      <th>14</th>\n",
       "      <td>SPARX</td>\n",
       "      <td>Sneakers For Men</td>\n",
       "      <td>₹636</td>\n",
       "    </tr>\n",
       "    <tr>\n",
       "      <th>15</th>\n",
       "      <td>PUMA</td>\n",
       "      <td>Athleisure Sneakers For Men</td>\n",
       "      <td>₹2,817</td>\n",
       "    </tr>\n",
       "    <tr>\n",
       "      <th>16</th>\n",
       "      <td>Roadster</td>\n",
       "      <td>Athleisure Sneakers For Men</td>\n",
       "      <td>₹1,379</td>\n",
       "    </tr>\n",
       "    <tr>\n",
       "      <th>17</th>\n",
       "      <td>SPARX</td>\n",
       "      <td>Athleisure Sneakers For Men</td>\n",
       "      <td>₹764</td>\n",
       "    </tr>\n",
       "    <tr>\n",
       "      <th>18</th>\n",
       "      <td>DUCATI</td>\n",
       "      <td>Sneakers For Men</td>\n",
       "      <td>₹1,479</td>\n",
       "    </tr>\n",
       "    <tr>\n",
       "      <th>19</th>\n",
       "      <td>RED TAPE</td>\n",
       "      <td>Lazy Knit Slip On Sneakers For Men</td>\n",
       "      <td>₹1,174</td>\n",
       "    </tr>\n",
       "    <tr>\n",
       "      <th>20</th>\n",
       "      <td>WROGN</td>\n",
       "      <td>Backcourt Mid Sneakers For Men</td>\n",
       "      <td>₹615</td>\n",
       "    </tr>\n",
       "    <tr>\n",
       "      <th>21</th>\n",
       "      <td>WROGN</td>\n",
       "      <td>Sneakers For Men</td>\n",
       "      <td>₹783</td>\n",
       "    </tr>\n",
       "    <tr>\n",
       "      <th>22</th>\n",
       "      <td>RED TAPE</td>\n",
       "      <td>PANAL Sneakers For Men</td>\n",
       "      <td>₹1,149</td>\n",
       "    </tr>\n",
       "    <tr>\n",
       "      <th>23</th>\n",
       "      <td>WROGN</td>\n",
       "      <td>Royal Complete Cln BSc Sneakers For Men</td>\n",
       "      <td>₹1,154</td>\n",
       "    </tr>\n",
       "    <tr>\n",
       "      <th>24</th>\n",
       "      <td>PROVOGUE</td>\n",
       "      <td>SM-734 Sneakers For Men</td>\n",
       "      <td>₹799</td>\n",
       "    </tr>\n",
       "    <tr>\n",
       "      <th>25</th>\n",
       "      <td>PUMA</td>\n",
       "      <td>RS-Z College Sneakers For Men</td>\n",
       "      <td>₹1,047</td>\n",
       "    </tr>\n",
       "    <tr>\n",
       "      <th>26</th>\n",
       "      <td>PUMA</td>\n",
       "      <td>NY 92 STRIPES Sneakers For Men</td>\n",
       "      <td>₹3,499</td>\n",
       "    </tr>\n",
       "    <tr>\n",
       "      <th>27</th>\n",
       "      <td>WOODLAND</td>\n",
       "      <td>Men SM-406 Grey Sneakers For Men</td>\n",
       "      <td>₹1,756</td>\n",
       "    </tr>\n",
       "    <tr>\n",
       "      <th>28</th>\n",
       "      <td>U.S. POLO ASSN.</td>\n",
       "      <td>Reebok Reetrek Sneakers For Men</td>\n",
       "      <td>₹1,739</td>\n",
       "    </tr>\n",
       "    <tr>\n",
       "      <th>29</th>\n",
       "      <td>REEBOK CLASSICS</td>\n",
       "      <td>Sneakers For Men</td>\n",
       "      <td>₹1,671</td>\n",
       "    </tr>\n",
       "    <tr>\n",
       "      <th>30</th>\n",
       "      <td>SPARX</td>\n",
       "      <td>Sneakers For Men</td>\n",
       "      <td>₹849</td>\n",
       "    </tr>\n",
       "    <tr>\n",
       "      <th>31</th>\n",
       "      <td>PUMA</td>\n",
       "      <td>Rigel Sneakers For Men</td>\n",
       "      <td>₹3,381</td>\n",
       "    </tr>\n",
       "    <tr>\n",
       "      <th>32</th>\n",
       "      <td>ADIDAS ORIGINALS</td>\n",
       "      <td>Sneakers For Men</td>\n",
       "      <td>₹3,078</td>\n",
       "    </tr>\n",
       "  </tbody>\n",
       "</table>\n",
       "</div>"
      ],
      "text/plain": [
       "              Brand2                                           Product2  \\\n",
       "0              SPARX                     NY 92 STRIPES Sneakers For Men   \n",
       "1           RED TAPE                                   Sneakers For Men   \n",
       "2   ADIDAS ORIGINALS                      White Ranger Sneakers For Men   \n",
       "3             LEVI'S                                   Sneakers For Men   \n",
       "4         DOC Martin                         Retro GTS Sneakers For Men   \n",
       "5           WOODLAND                                   Sneakers For Men   \n",
       "6               NIKE                       Ebernon Low Sneakers For Men   \n",
       "7         HIGHLANDER                                   Sneakers For Men   \n",
       "8               NIKE                              Star Sneakers For Men   \n",
       "9         HIGHLANDER  Mens Ultraforce Mid-top Athletic-Inspired Retr...   \n",
       "10              PUMA                                   Sneakers For Men   \n",
       "11       bacca bucci                    INDI EXCLUSIVE Sneakers For Men   \n",
       "12            DUCATI                X-Ray Square Scary Sneakers For Men   \n",
       "13            LEVI'S                                   Sneakers For Men   \n",
       "14             SPARX                                   Sneakers For Men   \n",
       "15              PUMA                        Athleisure Sneakers For Men   \n",
       "16          Roadster                        Athleisure Sneakers For Men   \n",
       "17             SPARX                        Athleisure Sneakers For Men   \n",
       "18            DUCATI                                   Sneakers For Men   \n",
       "19          RED TAPE                 Lazy Knit Slip On Sneakers For Men   \n",
       "20             WROGN                     Backcourt Mid Sneakers For Men   \n",
       "21             WROGN                                   Sneakers For Men   \n",
       "22          RED TAPE                             PANAL Sneakers For Men   \n",
       "23             WROGN            Royal Complete Cln BSc Sneakers For Men   \n",
       "24          PROVOGUE                            SM-734 Sneakers For Men   \n",
       "25              PUMA                      RS-Z College Sneakers For Men   \n",
       "26              PUMA                     NY 92 STRIPES Sneakers For Men   \n",
       "27          WOODLAND                   Men SM-406 Grey Sneakers For Men   \n",
       "28   U.S. POLO ASSN.                    Reebok Reetrek Sneakers For Men   \n",
       "29   REEBOK CLASSICS                                   Sneakers For Men   \n",
       "30             SPARX                                   Sneakers For Men   \n",
       "31              PUMA                             Rigel Sneakers For Men   \n",
       "32  ADIDAS ORIGINALS                                   Sneakers For Men   \n",
       "\n",
       "     Price  \n",
       "0   ₹1,104  \n",
       "1   ₹1,074  \n",
       "2   ₹3,848  \n",
       "3   ₹1,599  \n",
       "4   ₹1,116  \n",
       "5   ₹2,086  \n",
       "6   ₹3,147  \n",
       "7     ₹796  \n",
       "8   ₹2,877  \n",
       "9     ₹995  \n",
       "10  ₹1,245  \n",
       "11  ₹1,138  \n",
       "12  ₹1,289  \n",
       "13    ₹895  \n",
       "14    ₹636  \n",
       "15  ₹2,817  \n",
       "16  ₹1,379  \n",
       "17    ₹764  \n",
       "18  ₹1,479  \n",
       "19  ₹1,174  \n",
       "20    ₹615  \n",
       "21    ₹783  \n",
       "22  ₹1,149  \n",
       "23  ₹1,154  \n",
       "24    ₹799  \n",
       "25  ₹1,047  \n",
       "26  ₹3,499  \n",
       "27  ₹1,756  \n",
       "28  ₹1,739  \n",
       "29  ₹1,671  \n",
       "30    ₹849  \n",
       "31  ₹3,381  \n",
       "32  ₹3,078  "
      ]
     },
     "execution_count": 25,
     "metadata": {},
     "output_type": "execute_result"
    }
   ],
   "source": [
    "df2=pd.DataFrame({})\n",
    "df2['Brand2']=brand_list2[0:33]\n",
    "df2['Product2']=product_list2[0:33]\n",
    "df2['Price']=price_list2[0:33]\n",
    "df2"
   ]
  },
  {
   "cell_type": "code",
   "execution_count": 26,
   "id": "9c9154de",
   "metadata": {},
   "outputs": [],
   "source": [
    "next_button3=driver.find_element_by_xpath(\"/html/body/div[1]/div/div[3]/div[1]/div[2]/div[12]/div/div/nav/a[4]\")\n",
    "next_button3.click()"
   ]
  },
  {
   "cell_type": "code",
   "execution_count": 27,
   "id": "6a3e8e00",
   "metadata": {},
   "outputs": [],
   "source": [
    "brand_list3=[]\n",
    "product_list3=[]\n",
    "price_list3=[]"
   ]
  },
  {
   "cell_type": "code",
   "execution_count": 28,
   "id": "84736eb8",
   "metadata": {},
   "outputs": [
    {
     "data": {
      "text/plain": [
       "[<selenium.webdriver.remote.webelement.WebElement (session=\"a65b6359e40415aa420f12851790c545\", element=\"d562c458-a541-4bd6-8658-96b0451cb344\")>,\n",
       " <selenium.webdriver.remote.webelement.WebElement (session=\"a65b6359e40415aa420f12851790c545\", element=\"14441c0a-d2a2-45b4-8198-aa2af123f7a7\")>,\n",
       " <selenium.webdriver.remote.webelement.WebElement (session=\"a65b6359e40415aa420f12851790c545\", element=\"21240759-4639-4247-9a8d-86f290283331\")>,\n",
       " <selenium.webdriver.remote.webelement.WebElement (session=\"a65b6359e40415aa420f12851790c545\", element=\"9a2f13af-9118-403a-bfa7-cc2f9b009b97\")>,\n",
       " <selenium.webdriver.remote.webelement.WebElement (session=\"a65b6359e40415aa420f12851790c545\", element=\"427edc6e-75d5-4e62-8404-71b229f27454\")>,\n",
       " <selenium.webdriver.remote.webelement.WebElement (session=\"a65b6359e40415aa420f12851790c545\", element=\"e1cf5433-db2a-41e5-8737-a43c621daa25\")>,\n",
       " <selenium.webdriver.remote.webelement.WebElement (session=\"a65b6359e40415aa420f12851790c545\", element=\"f0ea1c05-f5b2-4c26-a942-8751093502e0\")>,\n",
       " <selenium.webdriver.remote.webelement.WebElement (session=\"a65b6359e40415aa420f12851790c545\", element=\"904dc7c3-6233-4b56-94fc-fd0e3a3ab542\")>,\n",
       " <selenium.webdriver.remote.webelement.WebElement (session=\"a65b6359e40415aa420f12851790c545\", element=\"28cb5ea0-4bfb-4329-93c0-4a6a27e3d3ca\")>,\n",
       " <selenium.webdriver.remote.webelement.WebElement (session=\"a65b6359e40415aa420f12851790c545\", element=\"1553b559-77a0-4f4e-8fde-c76adf746abd\")>,\n",
       " <selenium.webdriver.remote.webelement.WebElement (session=\"a65b6359e40415aa420f12851790c545\", element=\"fea071a7-64a3-48db-bde6-ddcc40979ff2\")>,\n",
       " <selenium.webdriver.remote.webelement.WebElement (session=\"a65b6359e40415aa420f12851790c545\", element=\"cce99893-2e5d-4948-baa1-055561b96100\")>,\n",
       " <selenium.webdriver.remote.webelement.WebElement (session=\"a65b6359e40415aa420f12851790c545\", element=\"6149b13d-c4f0-48ac-9ebb-070a3f442c27\")>,\n",
       " <selenium.webdriver.remote.webelement.WebElement (session=\"a65b6359e40415aa420f12851790c545\", element=\"cfaa0ba0-cada-4f1e-b9aa-a0ddfa146eac\")>,\n",
       " <selenium.webdriver.remote.webelement.WebElement (session=\"a65b6359e40415aa420f12851790c545\", element=\"f9915547-c1b8-4375-a8f4-c9f7332a22af\")>,\n",
       " <selenium.webdriver.remote.webelement.WebElement (session=\"a65b6359e40415aa420f12851790c545\", element=\"4997001c-695b-49cf-aa46-2aaafbdea716\")>,\n",
       " <selenium.webdriver.remote.webelement.WebElement (session=\"a65b6359e40415aa420f12851790c545\", element=\"f5d44851-184c-43a1-b79a-7b9edbd496c5\")>,\n",
       " <selenium.webdriver.remote.webelement.WebElement (session=\"a65b6359e40415aa420f12851790c545\", element=\"c9ce632e-e0c0-4c06-88c1-2a43007e7e1e\")>,\n",
       " <selenium.webdriver.remote.webelement.WebElement (session=\"a65b6359e40415aa420f12851790c545\", element=\"d49ac67f-2bf7-4e9b-a33f-b5296fe65580\")>,\n",
       " <selenium.webdriver.remote.webelement.WebElement (session=\"a65b6359e40415aa420f12851790c545\", element=\"cc31448b-583f-4c36-849c-bfb38dbe87e2\")>,\n",
       " <selenium.webdriver.remote.webelement.WebElement (session=\"a65b6359e40415aa420f12851790c545\", element=\"c79c4c13-fd4f-428d-ace0-c2de35938223\")>,\n",
       " <selenium.webdriver.remote.webelement.WebElement (session=\"a65b6359e40415aa420f12851790c545\", element=\"dedc4498-b708-4621-8505-b1119772ad75\")>,\n",
       " <selenium.webdriver.remote.webelement.WebElement (session=\"a65b6359e40415aa420f12851790c545\", element=\"f1fcb788-f2ba-47a8-952a-02ef5755d3f5\")>,\n",
       " <selenium.webdriver.remote.webelement.WebElement (session=\"a65b6359e40415aa420f12851790c545\", element=\"8ab426b4-52e1-434a-8f8e-dea4ec12fb4f\")>,\n",
       " <selenium.webdriver.remote.webelement.WebElement (session=\"a65b6359e40415aa420f12851790c545\", element=\"2d9f5348-3c28-4043-b014-9ded0ff130d3\")>,\n",
       " <selenium.webdriver.remote.webelement.WebElement (session=\"a65b6359e40415aa420f12851790c545\", element=\"f62e4736-b706-48df-93e5-d32025148744\")>,\n",
       " <selenium.webdriver.remote.webelement.WebElement (session=\"a65b6359e40415aa420f12851790c545\", element=\"745aa925-6d7b-41bb-a37f-3ec5d7a17a90\")>,\n",
       " <selenium.webdriver.remote.webelement.WebElement (session=\"a65b6359e40415aa420f12851790c545\", element=\"ed71d2cd-e0ca-4941-a96d-edb920702f8f\")>,\n",
       " <selenium.webdriver.remote.webelement.WebElement (session=\"a65b6359e40415aa420f12851790c545\", element=\"93b5164b-79ef-43ea-8a39-9bf9e09acd72\")>,\n",
       " <selenium.webdriver.remote.webelement.WebElement (session=\"a65b6359e40415aa420f12851790c545\", element=\"0787479d-77c4-4370-bda3-ee7b5ab95c76\")>,\n",
       " <selenium.webdriver.remote.webelement.WebElement (session=\"a65b6359e40415aa420f12851790c545\", element=\"6338a657-556a-444f-b682-7937cd545396\")>,\n",
       " <selenium.webdriver.remote.webelement.WebElement (session=\"a65b6359e40415aa420f12851790c545\", element=\"fd444823-0d2b-41f3-b283-c383d88c5c50\")>,\n",
       " <selenium.webdriver.remote.webelement.WebElement (session=\"a65b6359e40415aa420f12851790c545\", element=\"e869db9b-045d-4b3b-872a-1e228867c737\")>,\n",
       " <selenium.webdriver.remote.webelement.WebElement (session=\"a65b6359e40415aa420f12851790c545\", element=\"8e2586ef-99c2-40f0-9cb4-05a6aba7d5da\")>,\n",
       " <selenium.webdriver.remote.webelement.WebElement (session=\"a65b6359e40415aa420f12851790c545\", element=\"456a4d5f-d441-4232-97c7-11705bccd9ba\")>,\n",
       " <selenium.webdriver.remote.webelement.WebElement (session=\"a65b6359e40415aa420f12851790c545\", element=\"20c64e45-5d3a-433c-a591-0ea6403f602b\")>,\n",
       " <selenium.webdriver.remote.webelement.WebElement (session=\"a65b6359e40415aa420f12851790c545\", element=\"0c6b0808-e947-406b-8243-b6ed8af70490\")>,\n",
       " <selenium.webdriver.remote.webelement.WebElement (session=\"a65b6359e40415aa420f12851790c545\", element=\"6b298042-c811-47f2-872b-ebcc1ff720a6\")>,\n",
       " <selenium.webdriver.remote.webelement.WebElement (session=\"a65b6359e40415aa420f12851790c545\", element=\"fceb4e44-cf6f-4d4b-8799-87557aa2822c\")>,\n",
       " <selenium.webdriver.remote.webelement.WebElement (session=\"a65b6359e40415aa420f12851790c545\", element=\"df3d7b35-e048-4b9c-8493-f88b5a8b7892\")>]"
      ]
     },
     "execution_count": 28,
     "metadata": {},
     "output_type": "execute_result"
    }
   ],
   "source": [
    "#81to100\n",
    "brand_tags3=driver.find_elements_by_xpath(\"//div[@class='_2WkVRV']\")\n",
    "brand_tags3[0:40]"
   ]
  },
  {
   "cell_type": "code",
   "execution_count": 29,
   "id": "8a729e9f",
   "metadata": {},
   "outputs": [
    {
     "data": {
      "text/plain": [
       "['FILA',\n",
       " 'ADIDAS ORIGINALS',\n",
       " 'Wildcraft',\n",
       " 'ALIVE',\n",
       " 'PUMA',\n",
       " 'PUMA',\n",
       " 'PUMA',\n",
       " 'STRANGER BROTHERS',\n",
       " 'PUMA',\n",
       " 'WROGN',\n",
       " 'NAUTICA',\n",
       " 'AIRBELL',\n",
       " 'PUMA',\n",
       " 'U.S. POLO ASSN.',\n",
       " 'WROGN',\n",
       " 'aadi',\n",
       " 'RED TAPE',\n",
       " 'PUMA',\n",
       " 'DUCATI',\n",
       " 'Hotmess',\n",
       " 'DUCATI',\n",
       " 'PUMA',\n",
       " 'PUMA',\n",
       " 'Bacan',\n",
       " 'Old Skool',\n",
       " 'PUMA',\n",
       " 'PUMA',\n",
       " 'ROCKFIELD',\n",
       " \"LEVI'S\",\n",
       " 'PUMA',\n",
       " 'RED TAPE',\n",
       " 'ROCKFIELD',\n",
       " 'U.S. POLO ASSN.',\n",
       " 'U.S. POLO ASSN.',\n",
       " 'Old Skool',\n",
       " 'Extoes',\n",
       " 'FILA',\n",
       " 'U.S. POLO ASSN.',\n",
       " 'DUCATI',\n",
       " 'ROCKFIELD']"
      ]
     },
     "execution_count": 29,
     "metadata": {},
     "output_type": "execute_result"
    }
   ],
   "source": [
    "for i in brand_tags3:\n",
    "    brand3=i.text\n",
    "    brand_list3.append(brand3)\n",
    "brand_list3[0:40]"
   ]
  },
  {
   "cell_type": "code",
   "execution_count": 30,
   "id": "8fe76ef9",
   "metadata": {},
   "outputs": [
    {
     "data": {
      "text/plain": [
       "[<selenium.webdriver.remote.webelement.WebElement (session=\"a65b6359e40415aa420f12851790c545\", element=\"3bdcfc6c-47a0-43ef-b052-11f0412cd0c1\")>,\n",
       " <selenium.webdriver.remote.webelement.WebElement (session=\"a65b6359e40415aa420f12851790c545\", element=\"7e0b0027-559f-4fdc-831b-acf76bb1a420\")>,\n",
       " <selenium.webdriver.remote.webelement.WebElement (session=\"a65b6359e40415aa420f12851790c545\", element=\"52154229-40a1-4da1-9ecc-1a85a704bf98\")>,\n",
       " <selenium.webdriver.remote.webelement.WebElement (session=\"a65b6359e40415aa420f12851790c545\", element=\"f620f34e-18ad-40d4-88dc-4cbaafeee072\")>,\n",
       " <selenium.webdriver.remote.webelement.WebElement (session=\"a65b6359e40415aa420f12851790c545\", element=\"02ae5b03-0bb0-43ab-8e82-992f83cc220e\")>,\n",
       " <selenium.webdriver.remote.webelement.WebElement (session=\"a65b6359e40415aa420f12851790c545\", element=\"601fbd3f-e561-4345-a28e-7a9a28114f21\")>,\n",
       " <selenium.webdriver.remote.webelement.WebElement (session=\"a65b6359e40415aa420f12851790c545\", element=\"fe8762e5-bff4-482a-9058-6b96c48e71bb\")>,\n",
       " <selenium.webdriver.remote.webelement.WebElement (session=\"a65b6359e40415aa420f12851790c545\", element=\"ddde79c0-df6b-403f-8522-26f2bbfbccb3\")>,\n",
       " <selenium.webdriver.remote.webelement.WebElement (session=\"a65b6359e40415aa420f12851790c545\", element=\"a6c39af8-848f-492e-80ff-01d67b7618b2\")>,\n",
       " <selenium.webdriver.remote.webelement.WebElement (session=\"a65b6359e40415aa420f12851790c545\", element=\"c1a7c743-d618-4686-b886-41ebd77f91c0\")>,\n",
       " <selenium.webdriver.remote.webelement.WebElement (session=\"a65b6359e40415aa420f12851790c545\", element=\"f200baad-8240-43b6-ac4f-2c6acc02c594\")>,\n",
       " <selenium.webdriver.remote.webelement.WebElement (session=\"a65b6359e40415aa420f12851790c545\", element=\"9f22d4c8-c617-48fa-8841-652c9b17a1cb\")>,\n",
       " <selenium.webdriver.remote.webelement.WebElement (session=\"a65b6359e40415aa420f12851790c545\", element=\"86503712-df71-44f7-9ab4-0593df25050a\")>,\n",
       " <selenium.webdriver.remote.webelement.WebElement (session=\"a65b6359e40415aa420f12851790c545\", element=\"1df4f8d0-872c-43f9-90ac-d4a1a53ebec0\")>,\n",
       " <selenium.webdriver.remote.webelement.WebElement (session=\"a65b6359e40415aa420f12851790c545\", element=\"a78a5454-ff4a-4119-bb41-49b14d6766df\")>,\n",
       " <selenium.webdriver.remote.webelement.WebElement (session=\"a65b6359e40415aa420f12851790c545\", element=\"253f36a8-5b9b-4cd3-ae35-8f6c8eebd929\")>,\n",
       " <selenium.webdriver.remote.webelement.WebElement (session=\"a65b6359e40415aa420f12851790c545\", element=\"a45e162a-5631-410b-8e53-64c1d18353c2\")>,\n",
       " <selenium.webdriver.remote.webelement.WebElement (session=\"a65b6359e40415aa420f12851790c545\", element=\"f67341d0-2915-4bb0-892f-6efea8189380\")>,\n",
       " <selenium.webdriver.remote.webelement.WebElement (session=\"a65b6359e40415aa420f12851790c545\", element=\"70229bd3-3188-478f-a72a-7e6ae7f1ae47\")>,\n",
       " <selenium.webdriver.remote.webelement.WebElement (session=\"a65b6359e40415aa420f12851790c545\", element=\"5b27ef73-6710-484c-9776-c6829e2fb2d2\")>,\n",
       " <selenium.webdriver.remote.webelement.WebElement (session=\"a65b6359e40415aa420f12851790c545\", element=\"ea94c673-b983-452b-a669-8b3315e34c97\")>,\n",
       " <selenium.webdriver.remote.webelement.WebElement (session=\"a65b6359e40415aa420f12851790c545\", element=\"4636d60e-a806-417d-b7ff-23275be249c5\")>,\n",
       " <selenium.webdriver.remote.webelement.WebElement (session=\"a65b6359e40415aa420f12851790c545\", element=\"c47c1603-17c7-4987-b02d-1e4f57e004af\")>,\n",
       " <selenium.webdriver.remote.webelement.WebElement (session=\"a65b6359e40415aa420f12851790c545\", element=\"a42e078d-1381-407e-9e8f-ac7d8217bf01\")>,\n",
       " <selenium.webdriver.remote.webelement.WebElement (session=\"a65b6359e40415aa420f12851790c545\", element=\"314da5fe-c20c-4ace-bb30-9f3f4b2ce371\")>,\n",
       " <selenium.webdriver.remote.webelement.WebElement (session=\"a65b6359e40415aa420f12851790c545\", element=\"0f15ed58-4776-480c-8f73-f5e8561f608c\")>,\n",
       " <selenium.webdriver.remote.webelement.WebElement (session=\"a65b6359e40415aa420f12851790c545\", element=\"56c19bd0-4c46-4e61-9dcb-260e830486e0\")>,\n",
       " <selenium.webdriver.remote.webelement.WebElement (session=\"a65b6359e40415aa420f12851790c545\", element=\"18513c17-cac7-48e7-ab6e-3b7bc2886d7c\")>,\n",
       " <selenium.webdriver.remote.webelement.WebElement (session=\"a65b6359e40415aa420f12851790c545\", element=\"9e36bac4-d624-4f40-853e-81d15cf1670c\")>,\n",
       " <selenium.webdriver.remote.webelement.WebElement (session=\"a65b6359e40415aa420f12851790c545\", element=\"3cac3f31-4e1a-4f54-9d39-706b4a020113\")>,\n",
       " <selenium.webdriver.remote.webelement.WebElement (session=\"a65b6359e40415aa420f12851790c545\", element=\"34b24131-51e5-4f46-8046-cf7aed411310\")>,\n",
       " <selenium.webdriver.remote.webelement.WebElement (session=\"a65b6359e40415aa420f12851790c545\", element=\"4fe2a7b3-d218-4693-ac4c-cd1b4a4ea747\")>,\n",
       " <selenium.webdriver.remote.webelement.WebElement (session=\"a65b6359e40415aa420f12851790c545\", element=\"4a8da99c-5317-4bfe-b4e4-3465c6f32206\")>,\n",
       " <selenium.webdriver.remote.webelement.WebElement (session=\"a65b6359e40415aa420f12851790c545\", element=\"9edab8a7-5f2d-4f0e-a03b-9e2e1fecf7da\")>,\n",
       " <selenium.webdriver.remote.webelement.WebElement (session=\"a65b6359e40415aa420f12851790c545\", element=\"28fbaf26-a8f0-4608-933d-5c19c9eb4773\")>]"
      ]
     },
     "execution_count": 30,
     "metadata": {},
     "output_type": "execute_result"
    }
   ],
   "source": [
    "product_tags3=driver.find_elements_by_xpath(\"//a[@class='IRpwTa']\")\n",
    "product_tags3[0:40]"
   ]
  },
  {
   "cell_type": "code",
   "execution_count": 31,
   "id": "d6e5e0c9",
   "metadata": {},
   "outputs": [
    {
     "data": {
      "text/plain": [
       "['RICO Sneakers For Men',\n",
       " 'NY 92 Sneakers For Men',\n",
       " 'True Black Shoe Sneakers For Men',\n",
       " 'Plus Size White Casual Sneakers For Men',\n",
       " 'Sneakers For Men',\n",
       " 'BMW MMS Drift Cat 8 Sneakers For Men',\n",
       " 'Rebound Joy Low Sneakers For Men',\n",
       " 'Sneakers For Men',\n",
       " 'one8 Prime Mid V3 Sneakers For Men',\n",
       " 'Athleisure Sneakers For Men',\n",
       " 'Sneakers For Men',\n",
       " 'white sports shoes , running shoes for men Running Shoe...',\n",
       " 'Respin SL Sneakers For Men',\n",
       " 'Athleisure Sneakers For Men',\n",
       " 'Sneakers For Men',\n",
       " 'Puma Smash v2 L Sneakers For Men',\n",
       " 'Sneakers For Men',\n",
       " 'Sneakers For Men',\n",
       " 'Sneakers For Men',\n",
       " 'PL SPEEDFUSION Sneakers For Men',\n",
       " 'Puma Smash v2 L Sneakers For Men',\n",
       " 'Sneakers For Men',\n",
       " 'Trinity Sneakers For Men',\n",
       " 'Mirage Tech Sneakers For Men',\n",
       " 'Sneakers For Men',\n",
       " 'Sneakers For Men',\n",
       " 'Smash v2 L Sneakers For Men',\n",
       " 'Sneakers For Men',\n",
       " 'LYANNE Sneakers For Men',\n",
       " 'LENTAS Sneakers For Men',\n",
       " 'Combo Pack Of 3 Sneakers For Men',\n",
       " 'RICO Sneakers For Men',\n",
       " 'Sneakers For Men',\n",
       " 'Sneakers For Men',\n",
       " 'Sneakers For Men']"
      ]
     },
     "execution_count": 31,
     "metadata": {},
     "output_type": "execute_result"
    }
   ],
   "source": [
    "for i in product_tags3:\n",
    "    product3=i.text\n",
    "    product_list3.append(product3)\n",
    "product_list3[0:40]"
   ]
  },
  {
   "cell_type": "code",
   "execution_count": 32,
   "id": "74eb2956",
   "metadata": {},
   "outputs": [
    {
     "data": {
      "text/plain": [
       "[<selenium.webdriver.remote.webelement.WebElement (session=\"a65b6359e40415aa420f12851790c545\", element=\"d318b73d-e8ab-4ddc-bbe0-1d17114f6469\")>,\n",
       " <selenium.webdriver.remote.webelement.WebElement (session=\"a65b6359e40415aa420f12851790c545\", element=\"c8e391d0-7084-4532-83cb-64f27a7bafab\")>,\n",
       " <selenium.webdriver.remote.webelement.WebElement (session=\"a65b6359e40415aa420f12851790c545\", element=\"c1d2c986-d84f-4896-8d74-c0c46a67cb1c\")>,\n",
       " <selenium.webdriver.remote.webelement.WebElement (session=\"a65b6359e40415aa420f12851790c545\", element=\"aa45b741-62db-4a02-a650-83e6f3fffb4f\")>,\n",
       " <selenium.webdriver.remote.webelement.WebElement (session=\"a65b6359e40415aa420f12851790c545\", element=\"70042499-ee33-4b52-b143-cded3ad30cd3\")>,\n",
       " <selenium.webdriver.remote.webelement.WebElement (session=\"a65b6359e40415aa420f12851790c545\", element=\"6968815a-5038-4911-8a07-d8733c0e504a\")>,\n",
       " <selenium.webdriver.remote.webelement.WebElement (session=\"a65b6359e40415aa420f12851790c545\", element=\"ccda1071-470a-4845-9ea8-508ab49e039f\")>,\n",
       " <selenium.webdriver.remote.webelement.WebElement (session=\"a65b6359e40415aa420f12851790c545\", element=\"81e4245a-7398-40a6-b858-f1cae6cd2a72\")>,\n",
       " <selenium.webdriver.remote.webelement.WebElement (session=\"a65b6359e40415aa420f12851790c545\", element=\"0be4b865-2aa6-44f0-bdd3-93db1207a2d5\")>,\n",
       " <selenium.webdriver.remote.webelement.WebElement (session=\"a65b6359e40415aa420f12851790c545\", element=\"3bcee270-56f5-46d2-878e-a9aa267411d3\")>,\n",
       " <selenium.webdriver.remote.webelement.WebElement (session=\"a65b6359e40415aa420f12851790c545\", element=\"e0359ecf-63a9-4c54-94b7-3072f0412b57\")>,\n",
       " <selenium.webdriver.remote.webelement.WebElement (session=\"a65b6359e40415aa420f12851790c545\", element=\"ca8f80f7-0cf6-476e-9820-ab6585dae4a3\")>,\n",
       " <selenium.webdriver.remote.webelement.WebElement (session=\"a65b6359e40415aa420f12851790c545\", element=\"12f1a9d6-0656-4da3-b91b-e3b53497f12c\")>,\n",
       " <selenium.webdriver.remote.webelement.WebElement (session=\"a65b6359e40415aa420f12851790c545\", element=\"dbba5b1c-29e8-4f75-a319-927a1d48b4ae\")>,\n",
       " <selenium.webdriver.remote.webelement.WebElement (session=\"a65b6359e40415aa420f12851790c545\", element=\"88d331fe-a94c-45be-a27e-23691191565c\")>,\n",
       " <selenium.webdriver.remote.webelement.WebElement (session=\"a65b6359e40415aa420f12851790c545\", element=\"8a4b9c10-ccf8-48ee-917a-16c6d1435f01\")>,\n",
       " <selenium.webdriver.remote.webelement.WebElement (session=\"a65b6359e40415aa420f12851790c545\", element=\"055aceb1-9c4f-42d1-bc1b-f813da83e7a9\")>,\n",
       " <selenium.webdriver.remote.webelement.WebElement (session=\"a65b6359e40415aa420f12851790c545\", element=\"ca28d956-9d20-48f0-bb97-873c0a46849d\")>,\n",
       " <selenium.webdriver.remote.webelement.WebElement (session=\"a65b6359e40415aa420f12851790c545\", element=\"208fbbae-67af-41e6-ad06-f4337d84a0c3\")>,\n",
       " <selenium.webdriver.remote.webelement.WebElement (session=\"a65b6359e40415aa420f12851790c545\", element=\"21d3386d-3474-4bce-9587-6d6759ae8a2a\")>,\n",
       " <selenium.webdriver.remote.webelement.WebElement (session=\"a65b6359e40415aa420f12851790c545\", element=\"6a8fb0bf-0897-4f4b-8434-d31369f94519\")>,\n",
       " <selenium.webdriver.remote.webelement.WebElement (session=\"a65b6359e40415aa420f12851790c545\", element=\"66be9110-96b6-4bcf-9c77-4855e99a46ac\")>,\n",
       " <selenium.webdriver.remote.webelement.WebElement (session=\"a65b6359e40415aa420f12851790c545\", element=\"4f24533b-e6d7-44fc-badb-5ef72b25ec02\")>,\n",
       " <selenium.webdriver.remote.webelement.WebElement (session=\"a65b6359e40415aa420f12851790c545\", element=\"428afd54-f74b-4aef-8a88-0e2e0c98e427\")>,\n",
       " <selenium.webdriver.remote.webelement.WebElement (session=\"a65b6359e40415aa420f12851790c545\", element=\"6b462948-f7b1-4024-8816-4a855a5a5ef9\")>,\n",
       " <selenium.webdriver.remote.webelement.WebElement (session=\"a65b6359e40415aa420f12851790c545\", element=\"7eb325c1-e3ac-4b94-8251-105e68bc7677\")>,\n",
       " <selenium.webdriver.remote.webelement.WebElement (session=\"a65b6359e40415aa420f12851790c545\", element=\"1dc1aa56-6073-4c31-9245-4c4be35014bf\")>,\n",
       " <selenium.webdriver.remote.webelement.WebElement (session=\"a65b6359e40415aa420f12851790c545\", element=\"4c07b030-2a11-4bb7-814a-37a60d2dcb49\")>,\n",
       " <selenium.webdriver.remote.webelement.WebElement (session=\"a65b6359e40415aa420f12851790c545\", element=\"1a2aecf3-bc51-4d32-b984-b2d3fee4309f\")>,\n",
       " <selenium.webdriver.remote.webelement.WebElement (session=\"a65b6359e40415aa420f12851790c545\", element=\"ca7c00cf-2630-4c5a-808e-ccd22701685a\")>,\n",
       " <selenium.webdriver.remote.webelement.WebElement (session=\"a65b6359e40415aa420f12851790c545\", element=\"13b0ed98-8836-47eb-81a8-d0018e2a70d4\")>,\n",
       " <selenium.webdriver.remote.webelement.WebElement (session=\"a65b6359e40415aa420f12851790c545\", element=\"56129023-25d0-4719-a968-e74514662347\")>,\n",
       " <selenium.webdriver.remote.webelement.WebElement (session=\"a65b6359e40415aa420f12851790c545\", element=\"8deb783a-30b1-4bb5-ac82-bbaf62fdeabb\")>,\n",
       " <selenium.webdriver.remote.webelement.WebElement (session=\"a65b6359e40415aa420f12851790c545\", element=\"13d2f47e-f64b-4943-b901-ee43775d7470\")>,\n",
       " <selenium.webdriver.remote.webelement.WebElement (session=\"a65b6359e40415aa420f12851790c545\", element=\"3608b344-060e-443e-a208-a66fc8af5fcb\")>,\n",
       " <selenium.webdriver.remote.webelement.WebElement (session=\"a65b6359e40415aa420f12851790c545\", element=\"75bfc7e1-13f9-482c-8694-4fe928df9650\")>,\n",
       " <selenium.webdriver.remote.webelement.WebElement (session=\"a65b6359e40415aa420f12851790c545\", element=\"d6b94e59-fbec-415a-843a-32d35c3b5647\")>,\n",
       " <selenium.webdriver.remote.webelement.WebElement (session=\"a65b6359e40415aa420f12851790c545\", element=\"832dbb4a-f008-48d5-a1a8-781a8d10f7ee\")>,\n",
       " <selenium.webdriver.remote.webelement.WebElement (session=\"a65b6359e40415aa420f12851790c545\", element=\"31d315d7-bd42-48b0-aeaf-2b2fbe1b8fb4\")>,\n",
       " <selenium.webdriver.remote.webelement.WebElement (session=\"a65b6359e40415aa420f12851790c545\", element=\"749ed1a7-948a-4195-8b67-8f7dd07b4e5f\")>]"
      ]
     },
     "execution_count": 32,
     "metadata": {},
     "output_type": "execute_result"
    }
   ],
   "source": [
    "price_tags3=driver.find_elements_by_xpath(\"//div[@class='_30jeq3']\")\n",
    "price_tags3[0:40]"
   ]
  },
  {
   "cell_type": "code",
   "execution_count": 33,
   "id": "d8eb02ca",
   "metadata": {},
   "outputs": [
    {
     "data": {
      "text/plain": [
       "['RICO Sneakers For Men',\n",
       " 'NY 92 Sneakers For Men',\n",
       " 'True Black Shoe Sneakers For Men',\n",
       " 'Plus Size White Casual Sneakers For Men',\n",
       " 'Sneakers For Men',\n",
       " 'BMW MMS Drift Cat 8 Sneakers For Men',\n",
       " 'Rebound Joy Low Sneakers For Men',\n",
       " 'Sneakers For Men',\n",
       " 'one8 Prime Mid V3 Sneakers For Men',\n",
       " 'Athleisure Sneakers For Men',\n",
       " 'Sneakers For Men',\n",
       " 'white sports shoes , running shoes for men Running Shoe...',\n",
       " 'Respin SL Sneakers For Men',\n",
       " 'Athleisure Sneakers For Men',\n",
       " 'Sneakers For Men',\n",
       " 'Puma Smash v2 L Sneakers For Men',\n",
       " 'Sneakers For Men',\n",
       " 'Sneakers For Men',\n",
       " 'Sneakers For Men',\n",
       " 'PL SPEEDFUSION Sneakers For Men',\n",
       " 'Puma Smash v2 L Sneakers For Men',\n",
       " 'Sneakers For Men',\n",
       " 'Trinity Sneakers For Men',\n",
       " 'Mirage Tech Sneakers For Men',\n",
       " 'Sneakers For Men',\n",
       " 'Sneakers For Men',\n",
       " 'Smash v2 L Sneakers For Men',\n",
       " 'Sneakers For Men',\n",
       " 'LYANNE Sneakers For Men',\n",
       " 'LENTAS Sneakers For Men',\n",
       " 'Combo Pack Of 3 Sneakers For Men',\n",
       " 'RICO Sneakers For Men',\n",
       " 'Sneakers For Men',\n",
       " 'Sneakers For Men',\n",
       " 'Sneakers For Men',\n",
       " 'RICO Sneakers For Men',\n",
       " 'NY 92 Sneakers For Men',\n",
       " 'True Black Shoe Sneakers For Men',\n",
       " 'Plus Size White Casual Sneakers For Men',\n",
       " 'Sneakers For Men']"
      ]
     },
     "execution_count": 33,
     "metadata": {},
     "output_type": "execute_result"
    }
   ],
   "source": [
    "for i in product_tags3:\n",
    "    product3=i.text\n",
    "    product_list3.append(product3)\n",
    "product_list3[0:40]"
   ]
  },
  {
   "cell_type": "code",
   "execution_count": 34,
   "id": "61a1f5e3",
   "metadata": {},
   "outputs": [
    {
     "data": {
      "text/plain": [
       "[<selenium.webdriver.remote.webelement.WebElement (session=\"a65b6359e40415aa420f12851790c545\", element=\"d318b73d-e8ab-4ddc-bbe0-1d17114f6469\")>,\n",
       " <selenium.webdriver.remote.webelement.WebElement (session=\"a65b6359e40415aa420f12851790c545\", element=\"c8e391d0-7084-4532-83cb-64f27a7bafab\")>,\n",
       " <selenium.webdriver.remote.webelement.WebElement (session=\"a65b6359e40415aa420f12851790c545\", element=\"c1d2c986-d84f-4896-8d74-c0c46a67cb1c\")>,\n",
       " <selenium.webdriver.remote.webelement.WebElement (session=\"a65b6359e40415aa420f12851790c545\", element=\"aa45b741-62db-4a02-a650-83e6f3fffb4f\")>,\n",
       " <selenium.webdriver.remote.webelement.WebElement (session=\"a65b6359e40415aa420f12851790c545\", element=\"70042499-ee33-4b52-b143-cded3ad30cd3\")>,\n",
       " <selenium.webdriver.remote.webelement.WebElement (session=\"a65b6359e40415aa420f12851790c545\", element=\"6968815a-5038-4911-8a07-d8733c0e504a\")>,\n",
       " <selenium.webdriver.remote.webelement.WebElement (session=\"a65b6359e40415aa420f12851790c545\", element=\"ccda1071-470a-4845-9ea8-508ab49e039f\")>,\n",
       " <selenium.webdriver.remote.webelement.WebElement (session=\"a65b6359e40415aa420f12851790c545\", element=\"81e4245a-7398-40a6-b858-f1cae6cd2a72\")>,\n",
       " <selenium.webdriver.remote.webelement.WebElement (session=\"a65b6359e40415aa420f12851790c545\", element=\"0be4b865-2aa6-44f0-bdd3-93db1207a2d5\")>,\n",
       " <selenium.webdriver.remote.webelement.WebElement (session=\"a65b6359e40415aa420f12851790c545\", element=\"3bcee270-56f5-46d2-878e-a9aa267411d3\")>,\n",
       " <selenium.webdriver.remote.webelement.WebElement (session=\"a65b6359e40415aa420f12851790c545\", element=\"e0359ecf-63a9-4c54-94b7-3072f0412b57\")>,\n",
       " <selenium.webdriver.remote.webelement.WebElement (session=\"a65b6359e40415aa420f12851790c545\", element=\"ca8f80f7-0cf6-476e-9820-ab6585dae4a3\")>,\n",
       " <selenium.webdriver.remote.webelement.WebElement (session=\"a65b6359e40415aa420f12851790c545\", element=\"12f1a9d6-0656-4da3-b91b-e3b53497f12c\")>,\n",
       " <selenium.webdriver.remote.webelement.WebElement (session=\"a65b6359e40415aa420f12851790c545\", element=\"dbba5b1c-29e8-4f75-a319-927a1d48b4ae\")>,\n",
       " <selenium.webdriver.remote.webelement.WebElement (session=\"a65b6359e40415aa420f12851790c545\", element=\"88d331fe-a94c-45be-a27e-23691191565c\")>,\n",
       " <selenium.webdriver.remote.webelement.WebElement (session=\"a65b6359e40415aa420f12851790c545\", element=\"8a4b9c10-ccf8-48ee-917a-16c6d1435f01\")>,\n",
       " <selenium.webdriver.remote.webelement.WebElement (session=\"a65b6359e40415aa420f12851790c545\", element=\"055aceb1-9c4f-42d1-bc1b-f813da83e7a9\")>,\n",
       " <selenium.webdriver.remote.webelement.WebElement (session=\"a65b6359e40415aa420f12851790c545\", element=\"ca28d956-9d20-48f0-bb97-873c0a46849d\")>,\n",
       " <selenium.webdriver.remote.webelement.WebElement (session=\"a65b6359e40415aa420f12851790c545\", element=\"208fbbae-67af-41e6-ad06-f4337d84a0c3\")>,\n",
       " <selenium.webdriver.remote.webelement.WebElement (session=\"a65b6359e40415aa420f12851790c545\", element=\"21d3386d-3474-4bce-9587-6d6759ae8a2a\")>,\n",
       " <selenium.webdriver.remote.webelement.WebElement (session=\"a65b6359e40415aa420f12851790c545\", element=\"6a8fb0bf-0897-4f4b-8434-d31369f94519\")>,\n",
       " <selenium.webdriver.remote.webelement.WebElement (session=\"a65b6359e40415aa420f12851790c545\", element=\"66be9110-96b6-4bcf-9c77-4855e99a46ac\")>,\n",
       " <selenium.webdriver.remote.webelement.WebElement (session=\"a65b6359e40415aa420f12851790c545\", element=\"4f24533b-e6d7-44fc-badb-5ef72b25ec02\")>,\n",
       " <selenium.webdriver.remote.webelement.WebElement (session=\"a65b6359e40415aa420f12851790c545\", element=\"428afd54-f74b-4aef-8a88-0e2e0c98e427\")>,\n",
       " <selenium.webdriver.remote.webelement.WebElement (session=\"a65b6359e40415aa420f12851790c545\", element=\"6b462948-f7b1-4024-8816-4a855a5a5ef9\")>,\n",
       " <selenium.webdriver.remote.webelement.WebElement (session=\"a65b6359e40415aa420f12851790c545\", element=\"7eb325c1-e3ac-4b94-8251-105e68bc7677\")>,\n",
       " <selenium.webdriver.remote.webelement.WebElement (session=\"a65b6359e40415aa420f12851790c545\", element=\"1dc1aa56-6073-4c31-9245-4c4be35014bf\")>,\n",
       " <selenium.webdriver.remote.webelement.WebElement (session=\"a65b6359e40415aa420f12851790c545\", element=\"4c07b030-2a11-4bb7-814a-37a60d2dcb49\")>,\n",
       " <selenium.webdriver.remote.webelement.WebElement (session=\"a65b6359e40415aa420f12851790c545\", element=\"1a2aecf3-bc51-4d32-b984-b2d3fee4309f\")>,\n",
       " <selenium.webdriver.remote.webelement.WebElement (session=\"a65b6359e40415aa420f12851790c545\", element=\"ca7c00cf-2630-4c5a-808e-ccd22701685a\")>,\n",
       " <selenium.webdriver.remote.webelement.WebElement (session=\"a65b6359e40415aa420f12851790c545\", element=\"13b0ed98-8836-47eb-81a8-d0018e2a70d4\")>,\n",
       " <selenium.webdriver.remote.webelement.WebElement (session=\"a65b6359e40415aa420f12851790c545\", element=\"56129023-25d0-4719-a968-e74514662347\")>,\n",
       " <selenium.webdriver.remote.webelement.WebElement (session=\"a65b6359e40415aa420f12851790c545\", element=\"8deb783a-30b1-4bb5-ac82-bbaf62fdeabb\")>,\n",
       " <selenium.webdriver.remote.webelement.WebElement (session=\"a65b6359e40415aa420f12851790c545\", element=\"13d2f47e-f64b-4943-b901-ee43775d7470\")>,\n",
       " <selenium.webdriver.remote.webelement.WebElement (session=\"a65b6359e40415aa420f12851790c545\", element=\"3608b344-060e-443e-a208-a66fc8af5fcb\")>,\n",
       " <selenium.webdriver.remote.webelement.WebElement (session=\"a65b6359e40415aa420f12851790c545\", element=\"75bfc7e1-13f9-482c-8694-4fe928df9650\")>,\n",
       " <selenium.webdriver.remote.webelement.WebElement (session=\"a65b6359e40415aa420f12851790c545\", element=\"d6b94e59-fbec-415a-843a-32d35c3b5647\")>,\n",
       " <selenium.webdriver.remote.webelement.WebElement (session=\"a65b6359e40415aa420f12851790c545\", element=\"832dbb4a-f008-48d5-a1a8-781a8d10f7ee\")>,\n",
       " <selenium.webdriver.remote.webelement.WebElement (session=\"a65b6359e40415aa420f12851790c545\", element=\"31d315d7-bd42-48b0-aeaf-2b2fbe1b8fb4\")>,\n",
       " <selenium.webdriver.remote.webelement.WebElement (session=\"a65b6359e40415aa420f12851790c545\", element=\"749ed1a7-948a-4195-8b67-8f7dd07b4e5f\")>]"
      ]
     },
     "execution_count": 34,
     "metadata": {},
     "output_type": "execute_result"
    }
   ],
   "source": [
    "price_tags3=driver.find_elements_by_xpath(\"//div[@class='_30jeq3']\")\n",
    "price_tags3[0:40]"
   ]
  },
  {
   "cell_type": "code",
   "execution_count": 35,
   "id": "f4be7f88",
   "metadata": {},
   "outputs": [
    {
     "data": {
      "text/plain": [
       "['₹986',\n",
       " '₹3,078',\n",
       " '₹935',\n",
       " '₹799',\n",
       " '₹4,319',\n",
       " '₹3,399',\n",
       " '₹2,974',\n",
       " '₹434',\n",
       " '₹3,299',\n",
       " '₹783',\n",
       " '₹1,271',\n",
       " '₹690',\n",
       " '₹3,249',\n",
       " '₹2,989',\n",
       " '₹881',\n",
       " '₹371',\n",
       " '₹1,149',\n",
       " '₹1,819',\n",
       " '₹1,319',\n",
       " '₹228',\n",
       " '₹1,359',\n",
       " '₹4,159',\n",
       " '₹1,749',\n",
       " '₹499',\n",
       " '₹1,690',\n",
       " '₹3,499',\n",
       " '₹7,999',\n",
       " '₹499',\n",
       " '₹1,199',\n",
       " '₹1,749',\n",
       " '₹1,174',\n",
       " '₹499',\n",
       " '₹1,439',\n",
       " '₹1,439',\n",
       " '₹1,800',\n",
       " '₹668',\n",
       " '₹986',\n",
       " '₹1,439',\n",
       " '₹1,409',\n",
       " '₹499']"
      ]
     },
     "execution_count": 35,
     "metadata": {},
     "output_type": "execute_result"
    }
   ],
   "source": [
    "for i in price_tags3:\n",
    "    price3=i.text\n",
    "    price_list3.append(price3)\n",
    "price_list3[0:40]"
   ]
  },
  {
   "cell_type": "code",
   "execution_count": 36,
   "id": "12283a53",
   "metadata": {},
   "outputs": [
    {
     "data": {
      "text/html": [
       "<div>\n",
       "<style scoped>\n",
       "    .dataframe tbody tr th:only-of-type {\n",
       "        vertical-align: middle;\n",
       "    }\n",
       "\n",
       "    .dataframe tbody tr th {\n",
       "        vertical-align: top;\n",
       "    }\n",
       "\n",
       "    .dataframe thead th {\n",
       "        text-align: right;\n",
       "    }\n",
       "</style>\n",
       "<table border=\"1\" class=\"dataframe\">\n",
       "  <thead>\n",
       "    <tr style=\"text-align: right;\">\n",
       "      <th></th>\n",
       "      <th>Brand3</th>\n",
       "      <th>Product3</th>\n",
       "      <th>Price3</th>\n",
       "    </tr>\n",
       "  </thead>\n",
       "  <tbody>\n",
       "    <tr>\n",
       "      <th>0</th>\n",
       "      <td>FILA</td>\n",
       "      <td>RICO Sneakers For Men</td>\n",
       "      <td>₹986</td>\n",
       "    </tr>\n",
       "    <tr>\n",
       "      <th>1</th>\n",
       "      <td>ADIDAS ORIGINALS</td>\n",
       "      <td>NY 92 Sneakers For Men</td>\n",
       "      <td>₹3,078</td>\n",
       "    </tr>\n",
       "    <tr>\n",
       "      <th>2</th>\n",
       "      <td>Wildcraft</td>\n",
       "      <td>True Black Shoe Sneakers For Men</td>\n",
       "      <td>₹935</td>\n",
       "    </tr>\n",
       "    <tr>\n",
       "      <th>3</th>\n",
       "      <td>ALIVE</td>\n",
       "      <td>Plus Size White Casual Sneakers For Men</td>\n",
       "      <td>₹799</td>\n",
       "    </tr>\n",
       "    <tr>\n",
       "      <th>4</th>\n",
       "      <td>PUMA</td>\n",
       "      <td>Sneakers For Men</td>\n",
       "      <td>₹4,319</td>\n",
       "    </tr>\n",
       "    <tr>\n",
       "      <th>5</th>\n",
       "      <td>PUMA</td>\n",
       "      <td>BMW MMS Drift Cat 8 Sneakers For Men</td>\n",
       "      <td>₹3,399</td>\n",
       "    </tr>\n",
       "    <tr>\n",
       "      <th>6</th>\n",
       "      <td>PUMA</td>\n",
       "      <td>Rebound Joy Low Sneakers For Men</td>\n",
       "      <td>₹2,974</td>\n",
       "    </tr>\n",
       "    <tr>\n",
       "      <th>7</th>\n",
       "      <td>STRANGER BROTHERS</td>\n",
       "      <td>Sneakers For Men</td>\n",
       "      <td>₹434</td>\n",
       "    </tr>\n",
       "    <tr>\n",
       "      <th>8</th>\n",
       "      <td>PUMA</td>\n",
       "      <td>one8 Prime Mid V3 Sneakers For Men</td>\n",
       "      <td>₹3,299</td>\n",
       "    </tr>\n",
       "    <tr>\n",
       "      <th>9</th>\n",
       "      <td>WROGN</td>\n",
       "      <td>Athleisure Sneakers For Men</td>\n",
       "      <td>₹783</td>\n",
       "    </tr>\n",
       "    <tr>\n",
       "      <th>10</th>\n",
       "      <td>NAUTICA</td>\n",
       "      <td>Sneakers For Men</td>\n",
       "      <td>₹1,271</td>\n",
       "    </tr>\n",
       "    <tr>\n",
       "      <th>11</th>\n",
       "      <td>AIRBELL</td>\n",
       "      <td>white sports shoes , running shoes for men Run...</td>\n",
       "      <td>₹690</td>\n",
       "    </tr>\n",
       "    <tr>\n",
       "      <th>12</th>\n",
       "      <td>PUMA</td>\n",
       "      <td>Respin SL Sneakers For Men</td>\n",
       "      <td>₹3,249</td>\n",
       "    </tr>\n",
       "    <tr>\n",
       "      <th>13</th>\n",
       "      <td>U.S. POLO ASSN.</td>\n",
       "      <td>Athleisure Sneakers For Men</td>\n",
       "      <td>₹2,989</td>\n",
       "    </tr>\n",
       "    <tr>\n",
       "      <th>14</th>\n",
       "      <td>WROGN</td>\n",
       "      <td>Sneakers For Men</td>\n",
       "      <td>₹881</td>\n",
       "    </tr>\n",
       "    <tr>\n",
       "      <th>15</th>\n",
       "      <td>aadi</td>\n",
       "      <td>Puma Smash v2 L Sneakers For Men</td>\n",
       "      <td>₹371</td>\n",
       "    </tr>\n",
       "    <tr>\n",
       "      <th>16</th>\n",
       "      <td>RED TAPE</td>\n",
       "      <td>Sneakers For Men</td>\n",
       "      <td>₹1,149</td>\n",
       "    </tr>\n",
       "    <tr>\n",
       "      <th>17</th>\n",
       "      <td>PUMA</td>\n",
       "      <td>Sneakers For Men</td>\n",
       "      <td>₹1,819</td>\n",
       "    </tr>\n",
       "    <tr>\n",
       "      <th>18</th>\n",
       "      <td>DUCATI</td>\n",
       "      <td>Sneakers For Men</td>\n",
       "      <td>₹1,319</td>\n",
       "    </tr>\n",
       "    <tr>\n",
       "      <th>19</th>\n",
       "      <td>Hotmess</td>\n",
       "      <td>PL SPEEDFUSION Sneakers For Men</td>\n",
       "      <td>₹228</td>\n",
       "    </tr>\n",
       "    <tr>\n",
       "      <th>20</th>\n",
       "      <td>DUCATI</td>\n",
       "      <td>Puma Smash v2 L Sneakers For Men</td>\n",
       "      <td>₹1,359</td>\n",
       "    </tr>\n",
       "    <tr>\n",
       "      <th>21</th>\n",
       "      <td>PUMA</td>\n",
       "      <td>Sneakers For Men</td>\n",
       "      <td>₹4,159</td>\n",
       "    </tr>\n",
       "    <tr>\n",
       "      <th>22</th>\n",
       "      <td>PUMA</td>\n",
       "      <td>Trinity Sneakers For Men</td>\n",
       "      <td>₹1,749</td>\n",
       "    </tr>\n",
       "    <tr>\n",
       "      <th>23</th>\n",
       "      <td>Bacan</td>\n",
       "      <td>Mirage Tech Sneakers For Men</td>\n",
       "      <td>₹499</td>\n",
       "    </tr>\n",
       "    <tr>\n",
       "      <th>24</th>\n",
       "      <td>Old Skool</td>\n",
       "      <td>Sneakers For Men</td>\n",
       "      <td>₹1,690</td>\n",
       "    </tr>\n",
       "    <tr>\n",
       "      <th>25</th>\n",
       "      <td>PUMA</td>\n",
       "      <td>Sneakers For Men</td>\n",
       "      <td>₹3,499</td>\n",
       "    </tr>\n",
       "    <tr>\n",
       "      <th>26</th>\n",
       "      <td>PUMA</td>\n",
       "      <td>Smash v2 L Sneakers For Men</td>\n",
       "      <td>₹7,999</td>\n",
       "    </tr>\n",
       "    <tr>\n",
       "      <th>27</th>\n",
       "      <td>ROCKFIELD</td>\n",
       "      <td>Sneakers For Men</td>\n",
       "      <td>₹499</td>\n",
       "    </tr>\n",
       "    <tr>\n",
       "      <th>28</th>\n",
       "      <td>LEVI'S</td>\n",
       "      <td>LYANNE Sneakers For Men</td>\n",
       "      <td>₹1,199</td>\n",
       "    </tr>\n",
       "    <tr>\n",
       "      <th>29</th>\n",
       "      <td>PUMA</td>\n",
       "      <td>LENTAS Sneakers For Men</td>\n",
       "      <td>₹1,749</td>\n",
       "    </tr>\n",
       "    <tr>\n",
       "      <th>30</th>\n",
       "      <td>RED TAPE</td>\n",
       "      <td>Combo Pack Of 3 Sneakers For Men</td>\n",
       "      <td>₹1,174</td>\n",
       "    </tr>\n",
       "    <tr>\n",
       "      <th>31</th>\n",
       "      <td>ROCKFIELD</td>\n",
       "      <td>RICO Sneakers For Men</td>\n",
       "      <td>₹499</td>\n",
       "    </tr>\n",
       "    <tr>\n",
       "      <th>32</th>\n",
       "      <td>U.S. POLO ASSN.</td>\n",
       "      <td>Sneakers For Men</td>\n",
       "      <td>₹1,439</td>\n",
       "    </tr>\n",
       "  </tbody>\n",
       "</table>\n",
       "</div>"
      ],
      "text/plain": [
       "               Brand3                                           Product3  \\\n",
       "0                FILA                              RICO Sneakers For Men   \n",
       "1    ADIDAS ORIGINALS                             NY 92 Sneakers For Men   \n",
       "2           Wildcraft                   True Black Shoe Sneakers For Men   \n",
       "3               ALIVE            Plus Size White Casual Sneakers For Men   \n",
       "4                PUMA                                   Sneakers For Men   \n",
       "5                PUMA               BMW MMS Drift Cat 8 Sneakers For Men   \n",
       "6                PUMA                   Rebound Joy Low Sneakers For Men   \n",
       "7   STRANGER BROTHERS                                   Sneakers For Men   \n",
       "8                PUMA                 one8 Prime Mid V3 Sneakers For Men   \n",
       "9               WROGN                        Athleisure Sneakers For Men   \n",
       "10            NAUTICA                                   Sneakers For Men   \n",
       "11            AIRBELL  white sports shoes , running shoes for men Run...   \n",
       "12               PUMA                         Respin SL Sneakers For Men   \n",
       "13    U.S. POLO ASSN.                        Athleisure Sneakers For Men   \n",
       "14              WROGN                                   Sneakers For Men   \n",
       "15               aadi                   Puma Smash v2 L Sneakers For Men   \n",
       "16           RED TAPE                                   Sneakers For Men   \n",
       "17               PUMA                                   Sneakers For Men   \n",
       "18             DUCATI                                   Sneakers For Men   \n",
       "19            Hotmess                    PL SPEEDFUSION Sneakers For Men   \n",
       "20             DUCATI                   Puma Smash v2 L Sneakers For Men   \n",
       "21               PUMA                                   Sneakers For Men   \n",
       "22               PUMA                           Trinity Sneakers For Men   \n",
       "23              Bacan                       Mirage Tech Sneakers For Men   \n",
       "24          Old Skool                                   Sneakers For Men   \n",
       "25               PUMA                                   Sneakers For Men   \n",
       "26               PUMA                        Smash v2 L Sneakers For Men   \n",
       "27          ROCKFIELD                                   Sneakers For Men   \n",
       "28             LEVI'S                            LYANNE Sneakers For Men   \n",
       "29               PUMA                            LENTAS Sneakers For Men   \n",
       "30           RED TAPE                   Combo Pack Of 3 Sneakers For Men   \n",
       "31          ROCKFIELD                              RICO Sneakers For Men   \n",
       "32    U.S. POLO ASSN.                                   Sneakers For Men   \n",
       "\n",
       "    Price3  \n",
       "0     ₹986  \n",
       "1   ₹3,078  \n",
       "2     ₹935  \n",
       "3     ₹799  \n",
       "4   ₹4,319  \n",
       "5   ₹3,399  \n",
       "6   ₹2,974  \n",
       "7     ₹434  \n",
       "8   ₹3,299  \n",
       "9     ₹783  \n",
       "10  ₹1,271  \n",
       "11    ₹690  \n",
       "12  ₹3,249  \n",
       "13  ₹2,989  \n",
       "14    ₹881  \n",
       "15    ₹371  \n",
       "16  ₹1,149  \n",
       "17  ₹1,819  \n",
       "18  ₹1,319  \n",
       "19    ₹228  \n",
       "20  ₹1,359  \n",
       "21  ₹4,159  \n",
       "22  ₹1,749  \n",
       "23    ₹499  \n",
       "24  ₹1,690  \n",
       "25  ₹3,499  \n",
       "26  ₹7,999  \n",
       "27    ₹499  \n",
       "28  ₹1,199  \n",
       "29  ₹1,749  \n",
       "30  ₹1,174  \n",
       "31    ₹499  \n",
       "32  ₹1,439  "
      ]
     },
     "execution_count": 36,
     "metadata": {},
     "output_type": "execute_result"
    }
   ],
   "source": [
    "df3=pd.DataFrame({})\n",
    "df3['Brand3']=brand_list3[0:33]\n",
    "df3['Product3']=product_list3[0:33]\n",
    "df3['Price3']=price_list3[0:33]\n",
    "df3"
   ]
  },
  {
   "cell_type": "markdown",
   "id": "d663039d",
   "metadata": {},
   "source": [
    "9.Scrape First 100 shoes data in https://www.myntra.com/shoes"
   ]
  },
  {
   "cell_type": "code",
   "execution_count": 38,
   "id": "883b2834",
   "metadata": {},
   "outputs": [],
   "source": [
    "driver=webdriver.Chrome('chromedriver.exe')"
   ]
  },
  {
   "cell_type": "code",
   "execution_count": 39,
   "id": "e9d5cb89",
   "metadata": {},
   "outputs": [],
   "source": [
    "driver.get('https://www.myntra.com/shoes')"
   ]
  },
  {
   "cell_type": "code",
   "execution_count": 40,
   "id": "afd7479a",
   "metadata": {},
   "outputs": [],
   "source": [
    "price_filter=driver.find_element_by_xpath(\"/html/body/div[2]/div/div[1]/main/div[3]/div[1]/section/div/div[5]/ul/li[2]/label\")\n",
    "price_filter.click()"
   ]
  },
  {
   "cell_type": "code",
   "execution_count": 41,
   "id": "21f346a9",
   "metadata": {},
   "outputs": [],
   "source": [
    "color_filter=driver.find_element_by_xpath(\"/html/body/div[2]/div/div[1]/main/div[3]/div[1]/section/div/div[6]/ul/li[1]/label\")\n",
    "color_filter.click()"
   ]
  },
  {
   "cell_type": "code",
   "execution_count": 42,
   "id": "57123295",
   "metadata": {},
   "outputs": [],
   "source": [
    "brand_list1=[]\n",
    "shoe_descrp_list1=[]\n",
    "price_list1=[]"
   ]
  },
  {
   "cell_type": "code",
   "execution_count": 43,
   "id": "6b871d32",
   "metadata": {},
   "outputs": [
    {
     "data": {
      "text/plain": [
       "[<selenium.webdriver.remote.webelement.WebElement (session=\"9eb36f5364f2f010ff16512020a1c961\", element=\"50eda184-c6c9-4918-86fc-18a874a61976\")>,\n",
       " <selenium.webdriver.remote.webelement.WebElement (session=\"9eb36f5364f2f010ff16512020a1c961\", element=\"64cfa1ef-e65a-415d-81b7-b688abbedf1d\")>,\n",
       " <selenium.webdriver.remote.webelement.WebElement (session=\"9eb36f5364f2f010ff16512020a1c961\", element=\"7df64b74-591b-4a8b-bc3e-d63cce2f883b\")>,\n",
       " <selenium.webdriver.remote.webelement.WebElement (session=\"9eb36f5364f2f010ff16512020a1c961\", element=\"713e7865-4d84-41b5-b0a1-0d4c81a62466\")>,\n",
       " <selenium.webdriver.remote.webelement.WebElement (session=\"9eb36f5364f2f010ff16512020a1c961\", element=\"bb330b57-33ba-41b8-8b13-8276b81475c7\")>,\n",
       " <selenium.webdriver.remote.webelement.WebElement (session=\"9eb36f5364f2f010ff16512020a1c961\", element=\"cbf19299-e362-497a-b356-9d0f34e1ae71\")>,\n",
       " <selenium.webdriver.remote.webelement.WebElement (session=\"9eb36f5364f2f010ff16512020a1c961\", element=\"98f6f7d7-070e-435e-99b6-52e643f24fff\")>,\n",
       " <selenium.webdriver.remote.webelement.WebElement (session=\"9eb36f5364f2f010ff16512020a1c961\", element=\"76b234cb-d440-4561-82af-590db55e8edc\")>,\n",
       " <selenium.webdriver.remote.webelement.WebElement (session=\"9eb36f5364f2f010ff16512020a1c961\", element=\"df90b622-ce5e-4bc6-882d-cedfbe3f1cc1\")>,\n",
       " <selenium.webdriver.remote.webelement.WebElement (session=\"9eb36f5364f2f010ff16512020a1c961\", element=\"5e7e0dbb-e5b3-43d5-8c93-f674cfe666da\")>,\n",
       " <selenium.webdriver.remote.webelement.WebElement (session=\"9eb36f5364f2f010ff16512020a1c961\", element=\"42c40e41-9e1e-4aa0-b710-65db3d33f806\")>,\n",
       " <selenium.webdriver.remote.webelement.WebElement (session=\"9eb36f5364f2f010ff16512020a1c961\", element=\"a3a6eb87-5bd1-49eb-a3b9-5a3a85932c9d\")>,\n",
       " <selenium.webdriver.remote.webelement.WebElement (session=\"9eb36f5364f2f010ff16512020a1c961\", element=\"d77d867b-3b08-410b-b711-08883febcf14\")>,\n",
       " <selenium.webdriver.remote.webelement.WebElement (session=\"9eb36f5364f2f010ff16512020a1c961\", element=\"01e3d696-fc55-4b31-bdd1-1896dfdf8999\")>,\n",
       " <selenium.webdriver.remote.webelement.WebElement (session=\"9eb36f5364f2f010ff16512020a1c961\", element=\"2d706f8c-7ab9-4d84-8c59-0b96e7aaf64f\")>,\n",
       " <selenium.webdriver.remote.webelement.WebElement (session=\"9eb36f5364f2f010ff16512020a1c961\", element=\"b12c3b76-6c51-425c-9e7c-8df54befc9ed\")>,\n",
       " <selenium.webdriver.remote.webelement.WebElement (session=\"9eb36f5364f2f010ff16512020a1c961\", element=\"9cf1efc9-5bd8-47f3-85ad-688308b9d201\")>,\n",
       " <selenium.webdriver.remote.webelement.WebElement (session=\"9eb36f5364f2f010ff16512020a1c961\", element=\"7de4bb37-b73b-4852-840d-73adbc86d66c\")>,\n",
       " <selenium.webdriver.remote.webelement.WebElement (session=\"9eb36f5364f2f010ff16512020a1c961\", element=\"5b7e37f0-f19f-4414-b42c-8318c5bddec9\")>,\n",
       " <selenium.webdriver.remote.webelement.WebElement (session=\"9eb36f5364f2f010ff16512020a1c961\", element=\"789389ef-eade-4af9-a608-c350b6cf44f9\")>,\n",
       " <selenium.webdriver.remote.webelement.WebElement (session=\"9eb36f5364f2f010ff16512020a1c961\", element=\"a9d47e80-9db5-4678-ba50-ce9605fbb597\")>,\n",
       " <selenium.webdriver.remote.webelement.WebElement (session=\"9eb36f5364f2f010ff16512020a1c961\", element=\"841d25de-04a4-4cb3-8725-d6f58dbc3cdb\")>,\n",
       " <selenium.webdriver.remote.webelement.WebElement (session=\"9eb36f5364f2f010ff16512020a1c961\", element=\"ca23e5d6-5b65-435f-8b46-a20c4a9e80e5\")>,\n",
       " <selenium.webdriver.remote.webelement.WebElement (session=\"9eb36f5364f2f010ff16512020a1c961\", element=\"971d5824-c3a4-4092-870f-909aaddf5859\")>,\n",
       " <selenium.webdriver.remote.webelement.WebElement (session=\"9eb36f5364f2f010ff16512020a1c961\", element=\"99210c0f-768e-4889-a809-1d7f5729e7d4\")>,\n",
       " <selenium.webdriver.remote.webelement.WebElement (session=\"9eb36f5364f2f010ff16512020a1c961\", element=\"afc21a79-aac1-4eae-a486-3f693192bf35\")>,\n",
       " <selenium.webdriver.remote.webelement.WebElement (session=\"9eb36f5364f2f010ff16512020a1c961\", element=\"c8fbb954-122b-4fb5-b84e-60e5f4950d62\")>,\n",
       " <selenium.webdriver.remote.webelement.WebElement (session=\"9eb36f5364f2f010ff16512020a1c961\", element=\"04887d87-2c1c-419a-b164-f64bff74573f\")>,\n",
       " <selenium.webdriver.remote.webelement.WebElement (session=\"9eb36f5364f2f010ff16512020a1c961\", element=\"86820237-417a-4544-ba9b-ea84dfd3ccd1\")>,\n",
       " <selenium.webdriver.remote.webelement.WebElement (session=\"9eb36f5364f2f010ff16512020a1c961\", element=\"84e5f7d3-7f4c-4bf2-913a-ddfff60db2f3\")>,\n",
       " <selenium.webdriver.remote.webelement.WebElement (session=\"9eb36f5364f2f010ff16512020a1c961\", element=\"f97914c1-cbc0-486c-979f-d5853ab7644a\")>,\n",
       " <selenium.webdriver.remote.webelement.WebElement (session=\"9eb36f5364f2f010ff16512020a1c961\", element=\"fa4e0fd3-7d99-4a74-bfb3-ea00a227a07b\")>,\n",
       " <selenium.webdriver.remote.webelement.WebElement (session=\"9eb36f5364f2f010ff16512020a1c961\", element=\"935f520f-cf88-4139-ba13-5dd4d3685d58\")>,\n",
       " <selenium.webdriver.remote.webelement.WebElement (session=\"9eb36f5364f2f010ff16512020a1c961\", element=\"1b588331-7813-48f4-ba77-d2c3e9a77976\")>,\n",
       " <selenium.webdriver.remote.webelement.WebElement (session=\"9eb36f5364f2f010ff16512020a1c961\", element=\"2c4cf78b-9b81-48bf-a360-b0119052f4e9\")>,\n",
       " <selenium.webdriver.remote.webelement.WebElement (session=\"9eb36f5364f2f010ff16512020a1c961\", element=\"cf3fec33-be41-438c-8cac-4ff128b7f548\")>,\n",
       " <selenium.webdriver.remote.webelement.WebElement (session=\"9eb36f5364f2f010ff16512020a1c961\", element=\"5e317af4-7b49-4dbf-bac9-dbf11db5d1a4\")>,\n",
       " <selenium.webdriver.remote.webelement.WebElement (session=\"9eb36f5364f2f010ff16512020a1c961\", element=\"f2bf4802-a0e2-4667-a635-7abd005e362b\")>,\n",
       " <selenium.webdriver.remote.webelement.WebElement (session=\"9eb36f5364f2f010ff16512020a1c961\", element=\"4c4e280e-3941-4902-8c3c-f77f515d6180\")>,\n",
       " <selenium.webdriver.remote.webelement.WebElement (session=\"9eb36f5364f2f010ff16512020a1c961\", element=\"f14914e1-c4a0-4834-9869-dc0c658d4736\")>,\n",
       " <selenium.webdriver.remote.webelement.WebElement (session=\"9eb36f5364f2f010ff16512020a1c961\", element=\"e6292b5c-58bb-472e-8692-789cf5366656\")>,\n",
       " <selenium.webdriver.remote.webelement.WebElement (session=\"9eb36f5364f2f010ff16512020a1c961\", element=\"4fb7ddf9-0d7d-4dec-a913-61fe20d3f240\")>,\n",
       " <selenium.webdriver.remote.webelement.WebElement (session=\"9eb36f5364f2f010ff16512020a1c961\", element=\"e08d4d4e-e9d0-4799-9a7d-cb113cc1bbcf\")>,\n",
       " <selenium.webdriver.remote.webelement.WebElement (session=\"9eb36f5364f2f010ff16512020a1c961\", element=\"884bf616-bd39-47e6-8c27-bf5c204edf85\")>,\n",
       " <selenium.webdriver.remote.webelement.WebElement (session=\"9eb36f5364f2f010ff16512020a1c961\", element=\"b5fec6b6-e292-4cc5-83b5-0cebdd6fb675\")>,\n",
       " <selenium.webdriver.remote.webelement.WebElement (session=\"9eb36f5364f2f010ff16512020a1c961\", element=\"6a04614d-3371-4fd1-b5a0-74933ec2c8e4\")>,\n",
       " <selenium.webdriver.remote.webelement.WebElement (session=\"9eb36f5364f2f010ff16512020a1c961\", element=\"9a65945c-9074-478f-9602-e9db5e39fc92\")>,\n",
       " <selenium.webdriver.remote.webelement.WebElement (session=\"9eb36f5364f2f010ff16512020a1c961\", element=\"fee735b3-9af5-4867-a9fc-05ead6982853\")>,\n",
       " <selenium.webdriver.remote.webelement.WebElement (session=\"9eb36f5364f2f010ff16512020a1c961\", element=\"5588922a-26ff-49a8-b7eb-e57fdc344858\")>,\n",
       " <selenium.webdriver.remote.webelement.WebElement (session=\"9eb36f5364f2f010ff16512020a1c961\", element=\"6e4eb30d-e14a-4be4-bee0-62716bb8e205\")>]"
      ]
     },
     "execution_count": 43,
     "metadata": {},
     "output_type": "execute_result"
    }
   ],
   "source": [
    "brand_tags1=driver.find_elements_by_xpath(\"//h3[@class='product-brand']\")\n",
    "brand_tags1[0:50]"
   ]
  },
  {
   "cell_type": "code",
   "execution_count": 44,
   "id": "8bda8e82",
   "metadata": {},
   "outputs": [
    {
     "data": {
      "text/plain": [
       "['Puma',\n",
       " 'U.S. Polo Assn.',\n",
       " 'Puma',\n",
       " 'Newfeel By Decathlon',\n",
       " 'Killer',\n",
       " 'H&M',\n",
       " 'U.S. Polo Assn.',\n",
       " 'Nike',\n",
       " 'PUMA Motorsport',\n",
       " 'Nike',\n",
       " 'H&M',\n",
       " 'HRX by Hrithik Roshan',\n",
       " 'Roadster',\n",
       " 'U.S. Polo Assn.',\n",
       " 'Puma',\n",
       " 'DEAS',\n",
       " 'Nike',\n",
       " 'Red Tape',\n",
       " 'Red Tape',\n",
       " 'HRX by Hrithik Roshan',\n",
       " 'Lancer',\n",
       " 'Skechers',\n",
       " 'Nike',\n",
       " 'Puma',\n",
       " 'Lancer',\n",
       " 'HRX by Hrithik Roshan',\n",
       " 'Skechers',\n",
       " 'PUMA Motorsport',\n",
       " 'Nike',\n",
       " 'U.S. Polo Assn.',\n",
       " 'Lancer',\n",
       " 'TWIN TOES',\n",
       " 'Puma',\n",
       " 'Provogue',\n",
       " 'Louis Philippe',\n",
       " 'Red Tape',\n",
       " 'Skechers',\n",
       " 'ALDO',\n",
       " 'Woakers',\n",
       " 'Killer',\n",
       " 'Puma',\n",
       " 'U.S. Polo Assn.',\n",
       " 'HRX by Hrithik Roshan',\n",
       " 'ALDO',\n",
       " 'YK',\n",
       " 'Nike',\n",
       " 'Eego Italy',\n",
       " 'HIGHLANDER',\n",
       " 'Lancer',\n",
       " 'Louis Philippe']"
      ]
     },
     "execution_count": 44,
     "metadata": {},
     "output_type": "execute_result"
    }
   ],
   "source": [
    "for i in brand_tags1:\n",
    "    brand1=i.text\n",
    "    brand_list1.append(brand1)\n",
    "brand_list1[0:50]"
   ]
  },
  {
   "cell_type": "code",
   "execution_count": 45,
   "id": "4c750f0f",
   "metadata": {},
   "outputs": [
    {
     "data": {
      "text/plain": [
       "[<selenium.webdriver.remote.webelement.WebElement (session=\"9eb36f5364f2f010ff16512020a1c961\", element=\"a49598f4-3564-4994-ab14-101741cde9eb\")>,\n",
       " <selenium.webdriver.remote.webelement.WebElement (session=\"9eb36f5364f2f010ff16512020a1c961\", element=\"5839fd03-df2b-453d-893c-90fc0904a5dc\")>,\n",
       " <selenium.webdriver.remote.webelement.WebElement (session=\"9eb36f5364f2f010ff16512020a1c961\", element=\"856e3fbf-38c7-46c5-8f04-16292539f632\")>,\n",
       " <selenium.webdriver.remote.webelement.WebElement (session=\"9eb36f5364f2f010ff16512020a1c961\", element=\"78709dba-dbf7-476f-b604-6d30c7070167\")>,\n",
       " <selenium.webdriver.remote.webelement.WebElement (session=\"9eb36f5364f2f010ff16512020a1c961\", element=\"a858c8ed-1a26-4424-88e1-075651fb3469\")>,\n",
       " <selenium.webdriver.remote.webelement.WebElement (session=\"9eb36f5364f2f010ff16512020a1c961\", element=\"77754717-331f-4719-910d-26d320fbd7ba\")>,\n",
       " <selenium.webdriver.remote.webelement.WebElement (session=\"9eb36f5364f2f010ff16512020a1c961\", element=\"9f5613cd-ecbe-4376-ba60-360eed333b35\")>,\n",
       " <selenium.webdriver.remote.webelement.WebElement (session=\"9eb36f5364f2f010ff16512020a1c961\", element=\"dca13544-4d5d-4bcc-bd85-6f6887763103\")>,\n",
       " <selenium.webdriver.remote.webelement.WebElement (session=\"9eb36f5364f2f010ff16512020a1c961\", element=\"ef797923-304f-4bfa-b2c5-a0e03ba4e2d7\")>,\n",
       " <selenium.webdriver.remote.webelement.WebElement (session=\"9eb36f5364f2f010ff16512020a1c961\", element=\"fa20685c-7070-4e07-94b4-a4dbb4f8b32c\")>,\n",
       " <selenium.webdriver.remote.webelement.WebElement (session=\"9eb36f5364f2f010ff16512020a1c961\", element=\"e6d62a68-aad8-4602-96cc-087328ccbb73\")>,\n",
       " <selenium.webdriver.remote.webelement.WebElement (session=\"9eb36f5364f2f010ff16512020a1c961\", element=\"234c7b55-6e70-4ad1-aa6c-b932585ea68e\")>,\n",
       " <selenium.webdriver.remote.webelement.WebElement (session=\"9eb36f5364f2f010ff16512020a1c961\", element=\"26638bfd-ff3e-441b-91ac-58dea673b1b0\")>,\n",
       " <selenium.webdriver.remote.webelement.WebElement (session=\"9eb36f5364f2f010ff16512020a1c961\", element=\"c3213541-de5d-4c60-b89e-a036a8c893fb\")>,\n",
       " <selenium.webdriver.remote.webelement.WebElement (session=\"9eb36f5364f2f010ff16512020a1c961\", element=\"36552ac7-649e-4acb-835c-2e0c236c926e\")>,\n",
       " <selenium.webdriver.remote.webelement.WebElement (session=\"9eb36f5364f2f010ff16512020a1c961\", element=\"92c3cb62-f8cd-4e7a-81e9-9bdebed83b37\")>,\n",
       " <selenium.webdriver.remote.webelement.WebElement (session=\"9eb36f5364f2f010ff16512020a1c961\", element=\"48e10c9d-51e5-40ac-8f95-df74dfce3210\")>,\n",
       " <selenium.webdriver.remote.webelement.WebElement (session=\"9eb36f5364f2f010ff16512020a1c961\", element=\"8c5e940c-6c4c-446f-8a7e-f2d52dbcb46f\")>,\n",
       " <selenium.webdriver.remote.webelement.WebElement (session=\"9eb36f5364f2f010ff16512020a1c961\", element=\"319845e9-de68-4fbd-922c-7f94863aa2d0\")>,\n",
       " <selenium.webdriver.remote.webelement.WebElement (session=\"9eb36f5364f2f010ff16512020a1c961\", element=\"adb58d34-77f1-4ea9-a9ac-c9f0f27e77f6\")>,\n",
       " <selenium.webdriver.remote.webelement.WebElement (session=\"9eb36f5364f2f010ff16512020a1c961\", element=\"90632b19-4a28-4691-a070-32ddc93a652c\")>,\n",
       " <selenium.webdriver.remote.webelement.WebElement (session=\"9eb36f5364f2f010ff16512020a1c961\", element=\"975eb058-f90b-45cd-a5c8-0d19a6c136a2\")>,\n",
       " <selenium.webdriver.remote.webelement.WebElement (session=\"9eb36f5364f2f010ff16512020a1c961\", element=\"c5501d60-c602-4eef-a3cd-9459a1cd4751\")>,\n",
       " <selenium.webdriver.remote.webelement.WebElement (session=\"9eb36f5364f2f010ff16512020a1c961\", element=\"6a03183f-8fa1-46d5-808d-56dd25012f75\")>,\n",
       " <selenium.webdriver.remote.webelement.WebElement (session=\"9eb36f5364f2f010ff16512020a1c961\", element=\"fe945267-1a8d-4ff5-8408-4ad523746f92\")>,\n",
       " <selenium.webdriver.remote.webelement.WebElement (session=\"9eb36f5364f2f010ff16512020a1c961\", element=\"d95e28a3-57d5-4d4a-a0d2-f4b7c1fb4de3\")>,\n",
       " <selenium.webdriver.remote.webelement.WebElement (session=\"9eb36f5364f2f010ff16512020a1c961\", element=\"c3507f55-e7c9-46a9-992e-38068a5e7043\")>,\n",
       " <selenium.webdriver.remote.webelement.WebElement (session=\"9eb36f5364f2f010ff16512020a1c961\", element=\"a975ebc9-88d3-4afb-9561-1830378aafc5\")>,\n",
       " <selenium.webdriver.remote.webelement.WebElement (session=\"9eb36f5364f2f010ff16512020a1c961\", element=\"ad14c678-2ed0-486e-b4fe-a9019c2a88f9\")>,\n",
       " <selenium.webdriver.remote.webelement.WebElement (session=\"9eb36f5364f2f010ff16512020a1c961\", element=\"765c7c46-b517-4b6e-bc9e-33e38fbc1ae5\")>,\n",
       " <selenium.webdriver.remote.webelement.WebElement (session=\"9eb36f5364f2f010ff16512020a1c961\", element=\"84a8fd85-84b7-45f7-83b1-dbc69cbbb8c3\")>,\n",
       " <selenium.webdriver.remote.webelement.WebElement (session=\"9eb36f5364f2f010ff16512020a1c961\", element=\"12af2884-596c-4003-ae92-e322656ac050\")>,\n",
       " <selenium.webdriver.remote.webelement.WebElement (session=\"9eb36f5364f2f010ff16512020a1c961\", element=\"1e7c2d30-08a6-4422-9728-be729a90f3cf\")>,\n",
       " <selenium.webdriver.remote.webelement.WebElement (session=\"9eb36f5364f2f010ff16512020a1c961\", element=\"95d04509-59b5-40e9-b444-d2322cd195f1\")>,\n",
       " <selenium.webdriver.remote.webelement.WebElement (session=\"9eb36f5364f2f010ff16512020a1c961\", element=\"0af7b7ef-1689-432b-a63b-434fa66818e3\")>,\n",
       " <selenium.webdriver.remote.webelement.WebElement (session=\"9eb36f5364f2f010ff16512020a1c961\", element=\"5574e719-36a6-4b4b-a1a7-e143a440ade6\")>,\n",
       " <selenium.webdriver.remote.webelement.WebElement (session=\"9eb36f5364f2f010ff16512020a1c961\", element=\"216a1bc4-1e1f-4c34-bc9d-58f49a74c832\")>,\n",
       " <selenium.webdriver.remote.webelement.WebElement (session=\"9eb36f5364f2f010ff16512020a1c961\", element=\"35f9d0ec-6249-4da6-87e1-5bb2440ff257\")>,\n",
       " <selenium.webdriver.remote.webelement.WebElement (session=\"9eb36f5364f2f010ff16512020a1c961\", element=\"60dc29a3-59ea-4065-935e-0213c2501bd8\")>,\n",
       " <selenium.webdriver.remote.webelement.WebElement (session=\"9eb36f5364f2f010ff16512020a1c961\", element=\"9bffdb42-00ff-4d0e-bc5b-2d100fa5f934\")>,\n",
       " <selenium.webdriver.remote.webelement.WebElement (session=\"9eb36f5364f2f010ff16512020a1c961\", element=\"24f4a9c3-e375-49bf-b71f-65634b211d5a\")>,\n",
       " <selenium.webdriver.remote.webelement.WebElement (session=\"9eb36f5364f2f010ff16512020a1c961\", element=\"ae965dea-5e41-4cd3-8553-88236cdd08c3\")>,\n",
       " <selenium.webdriver.remote.webelement.WebElement (session=\"9eb36f5364f2f010ff16512020a1c961\", element=\"fa8e65b2-ae70-40b3-9222-07356d483490\")>,\n",
       " <selenium.webdriver.remote.webelement.WebElement (session=\"9eb36f5364f2f010ff16512020a1c961\", element=\"f0757c23-fcf3-4929-96be-b06a8fe423b5\")>,\n",
       " <selenium.webdriver.remote.webelement.WebElement (session=\"9eb36f5364f2f010ff16512020a1c961\", element=\"ad1ed3e7-2432-47fd-a033-ad102f3f1af1\")>,\n",
       " <selenium.webdriver.remote.webelement.WebElement (session=\"9eb36f5364f2f010ff16512020a1c961\", element=\"b48bcb4b-6d49-4332-ae6b-b8cef30c7daf\")>,\n",
       " <selenium.webdriver.remote.webelement.WebElement (session=\"9eb36f5364f2f010ff16512020a1c961\", element=\"24916e19-a608-4198-a1a5-89785beabbf2\")>,\n",
       " <selenium.webdriver.remote.webelement.WebElement (session=\"9eb36f5364f2f010ff16512020a1c961\", element=\"a71d884c-f6a6-4ba2-b98b-0507642b7e1d\")>,\n",
       " <selenium.webdriver.remote.webelement.WebElement (session=\"9eb36f5364f2f010ff16512020a1c961\", element=\"02997c8b-2e8e-4413-8c2a-c5f91d717798\")>,\n",
       " <selenium.webdriver.remote.webelement.WebElement (session=\"9eb36f5364f2f010ff16512020a1c961\", element=\"e62735cc-eacc-4d10-9297-8cb6cdfc5276\")>]"
      ]
     },
     "execution_count": 45,
     "metadata": {},
     "output_type": "execute_result"
    }
   ],
   "source": [
    "shoe_tags1=driver.find_elements_by_xpath(\"//h4[@class='product-product']\")\n",
    "shoe_tags1[0:50]"
   ]
  },
  {
   "cell_type": "code",
   "execution_count": 46,
   "id": "51ee313c",
   "metadata": {},
   "outputs": [
    {
     "data": {
      "text/plain": [
       "['Unisex Kent 2.0 IDP Sneakers',\n",
       " 'Men Clarkin Sneakers',\n",
       " 'Men Running Shoes',\n",
       " 'Men Walking Shoes',\n",
       " 'Men Slip-On Sneakers',\n",
       " 'Men Canvas Trainers',\n",
       " 'Men Colourblocked Sneakers',\n",
       " 'Kids Revolution 4 Running',\n",
       " 'Unisex Mercedes F1 Drift Cat',\n",
       " 'Men Quest 4 Road Running Shoes',\n",
       " 'Men Canvas Hi-Top Trainers',\n",
       " 'Men Core Sports Shoe',\n",
       " 'Men Sneakers',\n",
       " 'Men LEBRON 2.0 Walking Shoes',\n",
       " 'Men Solid Running Shoes',\n",
       " 'Women Mules Flats',\n",
       " 'Men QUEST 3 Running Shoes',\n",
       " 'Men Walking Shoes',\n",
       " 'Women Walking Shoes',\n",
       " 'Men N-FLUX Running Shoe',\n",
       " 'Men Running Shoes',\n",
       " 'ULTRA FLEX 2.0 - LITEWILDE Run',\n",
       " 'Men SUPERREP 3Training or Gym',\n",
       " 'Women Better Foam Training',\n",
       " 'Men Running Shoes',\n",
       " 'Men Core 1.0 Running Shoes',\n",
       " 'Men GO WALK EVOLUTION Walking',\n",
       " 'Unisex Mercedes F1 R-Cat',\n",
       " 'Men Winflo 7 Running Shoes',\n",
       " 'Men Colourblocked Sneakers',\n",
       " 'Men Running Shoes',\n",
       " 'Women Solid Sneakers',\n",
       " 'Unisex Future Rider Sneakers',\n",
       " 'Men Black Solid Formal Debys',\n",
       " 'Men Solid Driving Shoes',\n",
       " 'Men Solid Leather Formal Oxfords',\n",
       " 'Women Walking Shoes',\n",
       " 'Men Colourblocked Sneakers',\n",
       " 'Men Colourblocked Loafers',\n",
       " 'Men Solid Mesh Sneakers',\n",
       " 'Men HYBRID Fuego Running Shoes',\n",
       " 'Men Solid Sneakers',\n",
       " 'Men Skate Street Sneakers',\n",
       " 'Men Derbys',\n",
       " 'Girls Printed Slip-On Sneakers',\n",
       " 'Men Flex Control Training',\n",
       " 'Men Trekking Shoes',\n",
       " 'Men Solid Sneakers',\n",
       " 'Men Running Shoes',\n",
       " 'Men Solid Driving Shoes']"
      ]
     },
     "execution_count": 46,
     "metadata": {},
     "output_type": "execute_result"
    }
   ],
   "source": [
    "for i in shoe_tags1:\n",
    "    shoe1=i.text\n",
    "    shoe_descrp_list1.append(shoe1)\n",
    "shoe_descrp_list1[0:50]"
   ]
  },
  {
   "cell_type": "code",
   "execution_count": 47,
   "id": "bf4f0ca8",
   "metadata": {},
   "outputs": [
    {
     "data": {
      "text/plain": [
       "[<selenium.webdriver.remote.webelement.WebElement (session=\"9eb36f5364f2f010ff16512020a1c961\", element=\"631eac09-568b-40ec-b252-b82d3a71e5f1\")>,\n",
       " <selenium.webdriver.remote.webelement.WebElement (session=\"9eb36f5364f2f010ff16512020a1c961\", element=\"c056db6d-439f-411b-b3cb-907c107b98bf\")>,\n",
       " <selenium.webdriver.remote.webelement.WebElement (session=\"9eb36f5364f2f010ff16512020a1c961\", element=\"00be345b-81ad-4c4c-9e1c-90fa0de59e17\")>,\n",
       " <selenium.webdriver.remote.webelement.WebElement (session=\"9eb36f5364f2f010ff16512020a1c961\", element=\"f7d8774a-8eb1-4522-b154-780b303c957d\")>,\n",
       " <selenium.webdriver.remote.webelement.WebElement (session=\"9eb36f5364f2f010ff16512020a1c961\", element=\"fb5f69ac-fc33-4a46-993f-3ad9d0c48900\")>,\n",
       " <selenium.webdriver.remote.webelement.WebElement (session=\"9eb36f5364f2f010ff16512020a1c961\", element=\"859a2708-1627-4ca1-bbd1-22979dce30fb\")>,\n",
       " <selenium.webdriver.remote.webelement.WebElement (session=\"9eb36f5364f2f010ff16512020a1c961\", element=\"f50e03d2-a87e-4952-9fe0-fd13dbb5273c\")>,\n",
       " <selenium.webdriver.remote.webelement.WebElement (session=\"9eb36f5364f2f010ff16512020a1c961\", element=\"5d260b28-2a58-4ba9-8853-909802aed57f\")>,\n",
       " <selenium.webdriver.remote.webelement.WebElement (session=\"9eb36f5364f2f010ff16512020a1c961\", element=\"e7558172-681b-454d-946d-bf9c3e5e81fc\")>,\n",
       " <selenium.webdriver.remote.webelement.WebElement (session=\"9eb36f5364f2f010ff16512020a1c961\", element=\"cc094333-b2cd-44b7-bd9c-997ff907c364\")>,\n",
       " <selenium.webdriver.remote.webelement.WebElement (session=\"9eb36f5364f2f010ff16512020a1c961\", element=\"03a99c77-99e9-4b8b-bf0d-89d18ef6c798\")>,\n",
       " <selenium.webdriver.remote.webelement.WebElement (session=\"9eb36f5364f2f010ff16512020a1c961\", element=\"dd28c1c2-90be-44a6-9573-76aa50e75bce\")>,\n",
       " <selenium.webdriver.remote.webelement.WebElement (session=\"9eb36f5364f2f010ff16512020a1c961\", element=\"7ccb58e1-098d-4c57-9acb-d12bbf0ab9f0\")>,\n",
       " <selenium.webdriver.remote.webelement.WebElement (session=\"9eb36f5364f2f010ff16512020a1c961\", element=\"3f88558a-c18c-4cc8-ad56-44ad5f3066e1\")>,\n",
       " <selenium.webdriver.remote.webelement.WebElement (session=\"9eb36f5364f2f010ff16512020a1c961\", element=\"ccebdfc2-da2f-47fc-bb1f-d8dd0a480204\")>,\n",
       " <selenium.webdriver.remote.webelement.WebElement (session=\"9eb36f5364f2f010ff16512020a1c961\", element=\"0deb7b8b-7fbd-4244-b9ed-b0c85a0edf87\")>,\n",
       " <selenium.webdriver.remote.webelement.WebElement (session=\"9eb36f5364f2f010ff16512020a1c961\", element=\"dbea22a0-bff3-4c40-ae4a-170c0a002f1b\")>,\n",
       " <selenium.webdriver.remote.webelement.WebElement (session=\"9eb36f5364f2f010ff16512020a1c961\", element=\"09401235-a5ba-463d-9d2f-94b62f7df778\")>,\n",
       " <selenium.webdriver.remote.webelement.WebElement (session=\"9eb36f5364f2f010ff16512020a1c961\", element=\"2c4abfa5-f6a5-45c6-9a52-9d8f9a741920\")>,\n",
       " <selenium.webdriver.remote.webelement.WebElement (session=\"9eb36f5364f2f010ff16512020a1c961\", element=\"d73d54d0-03dc-4828-a0ce-4f3e0a307646\")>,\n",
       " <selenium.webdriver.remote.webelement.WebElement (session=\"9eb36f5364f2f010ff16512020a1c961\", element=\"fbfa2fab-c484-4640-9f6a-fc4f17270f83\")>,\n",
       " <selenium.webdriver.remote.webelement.WebElement (session=\"9eb36f5364f2f010ff16512020a1c961\", element=\"41e27af9-5394-4912-b30e-b33d95cedb08\")>,\n",
       " <selenium.webdriver.remote.webelement.WebElement (session=\"9eb36f5364f2f010ff16512020a1c961\", element=\"4c0c70f3-e1bd-4a62-8ef0-55a317ff43ff\")>,\n",
       " <selenium.webdriver.remote.webelement.WebElement (session=\"9eb36f5364f2f010ff16512020a1c961\", element=\"ee671440-f527-44e8-86b8-c12ff32e8edc\")>,\n",
       " <selenium.webdriver.remote.webelement.WebElement (session=\"9eb36f5364f2f010ff16512020a1c961\", element=\"46b3fae0-29de-464b-83b5-05490dffea49\")>,\n",
       " <selenium.webdriver.remote.webelement.WebElement (session=\"9eb36f5364f2f010ff16512020a1c961\", element=\"ba5663e4-fe46-40b2-96b0-bd6d8cfe6bf1\")>,\n",
       " <selenium.webdriver.remote.webelement.WebElement (session=\"9eb36f5364f2f010ff16512020a1c961\", element=\"7d7dc0c6-988e-4460-a008-6f41d0ed90e1\")>,\n",
       " <selenium.webdriver.remote.webelement.WebElement (session=\"9eb36f5364f2f010ff16512020a1c961\", element=\"e7fd7510-d715-4587-a70d-ed99e2fe49bb\")>,\n",
       " <selenium.webdriver.remote.webelement.WebElement (session=\"9eb36f5364f2f010ff16512020a1c961\", element=\"47402e11-7afc-426d-92d5-27e6f86d7dde\")>,\n",
       " <selenium.webdriver.remote.webelement.WebElement (session=\"9eb36f5364f2f010ff16512020a1c961\", element=\"ca3004cc-026f-428c-9d73-ef644ac62a10\")>,\n",
       " <selenium.webdriver.remote.webelement.WebElement (session=\"9eb36f5364f2f010ff16512020a1c961\", element=\"9b84affc-559d-4b36-90df-fd285419c939\")>,\n",
       " <selenium.webdriver.remote.webelement.WebElement (session=\"9eb36f5364f2f010ff16512020a1c961\", element=\"59139bd9-ccb2-469e-9d62-e6afa77436fe\")>,\n",
       " <selenium.webdriver.remote.webelement.WebElement (session=\"9eb36f5364f2f010ff16512020a1c961\", element=\"e7f796da-baf1-49d7-bfc7-59e11a968de4\")>,\n",
       " <selenium.webdriver.remote.webelement.WebElement (session=\"9eb36f5364f2f010ff16512020a1c961\", element=\"bcc9da3d-bb1c-44d6-8462-75454daf00ce\")>,\n",
       " <selenium.webdriver.remote.webelement.WebElement (session=\"9eb36f5364f2f010ff16512020a1c961\", element=\"c248cb9b-863c-40a2-af5f-1d16c081a025\")>,\n",
       " <selenium.webdriver.remote.webelement.WebElement (session=\"9eb36f5364f2f010ff16512020a1c961\", element=\"346d71dc-5760-4594-88e8-cb1bab5b25aa\")>,\n",
       " <selenium.webdriver.remote.webelement.WebElement (session=\"9eb36f5364f2f010ff16512020a1c961\", element=\"7c9ed50a-e421-4fc0-b62b-e09d0d30765f\")>,\n",
       " <selenium.webdriver.remote.webelement.WebElement (session=\"9eb36f5364f2f010ff16512020a1c961\", element=\"a1735c19-f26d-4b96-b606-558849d5d634\")>,\n",
       " <selenium.webdriver.remote.webelement.WebElement (session=\"9eb36f5364f2f010ff16512020a1c961\", element=\"943cfc36-a392-416a-b4e4-67949d4e1aff\")>,\n",
       " <selenium.webdriver.remote.webelement.WebElement (session=\"9eb36f5364f2f010ff16512020a1c961\", element=\"a9649dc7-9145-49f4-b3d6-bddd5d2124a2\")>,\n",
       " <selenium.webdriver.remote.webelement.WebElement (session=\"9eb36f5364f2f010ff16512020a1c961\", element=\"e362da9c-4d19-4489-8a01-fbf4d649b0a8\")>,\n",
       " <selenium.webdriver.remote.webelement.WebElement (session=\"9eb36f5364f2f010ff16512020a1c961\", element=\"062c3619-ae33-4785-bd1d-d6ff7aafc000\")>,\n",
       " <selenium.webdriver.remote.webelement.WebElement (session=\"9eb36f5364f2f010ff16512020a1c961\", element=\"bce9e97f-5a5e-4366-b32b-8d9c9a777e31\")>,\n",
       " <selenium.webdriver.remote.webelement.WebElement (session=\"9eb36f5364f2f010ff16512020a1c961\", element=\"c352c1e5-559f-4b6e-9f81-aebe94f37fbb\")>,\n",
       " <selenium.webdriver.remote.webelement.WebElement (session=\"9eb36f5364f2f010ff16512020a1c961\", element=\"dfb88108-c369-4a00-bd2c-79916f3b6214\")>,\n",
       " <selenium.webdriver.remote.webelement.WebElement (session=\"9eb36f5364f2f010ff16512020a1c961\", element=\"3bf98b6d-5458-4237-9e6b-180f0b0f0f55\")>,\n",
       " <selenium.webdriver.remote.webelement.WebElement (session=\"9eb36f5364f2f010ff16512020a1c961\", element=\"482cc429-23c4-47fc-aa6d-e615f99d13f5\")>,\n",
       " <selenium.webdriver.remote.webelement.WebElement (session=\"9eb36f5364f2f010ff16512020a1c961\", element=\"4c023cfb-e220-4ae5-b0f2-e5186d18e951\")>,\n",
       " <selenium.webdriver.remote.webelement.WebElement (session=\"9eb36f5364f2f010ff16512020a1c961\", element=\"7899a3e9-d279-4ed8-8e3a-499af0e45a06\")>,\n",
       " <selenium.webdriver.remote.webelement.WebElement (session=\"9eb36f5364f2f010ff16512020a1c961\", element=\"ebef9e84-0826-4ce8-84fe-5ca960620a5f\")>]"
      ]
     },
     "execution_count": 47,
     "metadata": {},
     "output_type": "execute_result"
    }
   ],
   "source": [
    "price_tags1=driver.find_elements_by_xpath(\"//div[@class='product-price']\")\n",
    "price_tags1[0:50]"
   ]
  },
  {
   "cell_type": "code",
   "execution_count": 48,
   "id": "15672af7",
   "metadata": {},
   "outputs": [
    {
     "data": {
      "text/plain": [
       "['Rs. 1649Rs. 2999(45% OFF)',\n",
       " 'Rs. 1799Rs. 2999(40% OFF)',\n",
       " 'Rs. 2749Rs. 5499(50% OFF)',\n",
       " 'Rs. 899',\n",
       " 'Rs. 699Rs. 1999(Rs. 1300 OFF)',\n",
       " 'Rs. 1999',\n",
       " 'Rs. 1799Rs. 2999(40% OFF)',\n",
       " 'Rs. 1502Rs. 3495(57% OFF)',\n",
       " 'Rs. 3599Rs. 7999(55% OFF)',\n",
       " 'Rs. 5995',\n",
       " 'Rs. 1999',\n",
       " 'Rs. 1959Rs. 4899(60% OFF)',\n",
       " 'Rs. 872Rs. 3795(77% OFF)',\n",
       " 'Rs. 2399Rs. 3999(40% OFF)',\n",
       " 'Rs. 2249Rs. 2999(25% OFF)',\n",
       " 'Rs. 599Rs. 999(40% OFF)',\n",
       " 'Rs. 4796Rs. 5995(20% OFF)',\n",
       " 'Rs. 1349Rs. 5399(75% OFF)',\n",
       " 'Rs. 1524Rs. 6099(75% OFF)',\n",
       " 'Rs. 2359Rs. 5899(60% OFF)',\n",
       " 'Rs. 1599Rs. 1999(20% OFF)',\n",
       " 'Rs. 3999Rs. 4999(20% OFF)',\n",
       " 'Rs. 10295',\n",
       " 'Rs. 2499Rs. 4999(50% OFF)',\n",
       " 'Rs. 999Rs. 1249(20% OFF)',\n",
       " 'Rs. 2749Rs. 4999( 45 % OFF)',\n",
       " 'Rs. 4399Rs. 5499(20% OFF)',\n",
       " 'Rs. 6374Rs. 7499(15% OFF)',\n",
       " 'Rs. 7195Rs. 7995(10% OFF)',\n",
       " 'Rs. 1649Rs. 2999(45% OFF)',\n",
       " 'Rs. 999Rs. 1249(20% OFF)',\n",
       " 'Rs. 599Rs. 999(Rs. 400 OFF)',\n",
       " 'Rs. 3499Rs. 6999(50% OFF)',\n",
       " 'Rs. 899Rs. 4495(80% OFF)',\n",
       " 'Rs. 3599Rs. 4999(28% OFF)',\n",
       " 'Rs. 1724Rs. 6899(75% OFF)',\n",
       " 'Rs. 3999',\n",
       " 'Rs. 9999',\n",
       " 'Rs. 659Rs. 3299(80% OFF)',\n",
       " 'Rs. 1149Rs. 1999(Rs. 850 OFF)',\n",
       " 'Rs. 5524Rs. 6499(15% OFF)',\n",
       " 'Rs. 3149Rs. 4499(30% OFF)',\n",
       " 'Rs. 1719Rs. 4299(60% OFF)',\n",
       " 'Rs. 8999',\n",
       " 'Rs. 399Rs. 999(60% OFF)',\n",
       " 'Rs. 4670Rs. 5495(15% OFF)',\n",
       " 'Rs. 987Rs. 2599(62% OFF)',\n",
       " 'Rs. 995Rs. 1990(50% OFF)',\n",
       " 'Rs. 1359Rs. 1699(20% OFF)',\n",
       " 'Rs. 3249Rs. 4999(35% OFF)']"
      ]
     },
     "execution_count": 48,
     "metadata": {},
     "output_type": "execute_result"
    }
   ],
   "source": [
    "for i in price_tags1:\n",
    "    price1=i.text\n",
    "    price_list1.append(price1)\n",
    "price_list1[0:50]"
   ]
  },
  {
   "cell_type": "code",
   "execution_count": 49,
   "id": "9e15d00f",
   "metadata": {},
   "outputs": [],
   "source": [
    "brand_list2=[]\n",
    "shoe_descrp_list2=[]\n",
    "price_list2=[]"
   ]
  },
  {
   "cell_type": "code",
   "execution_count": 50,
   "id": "dce1c28a",
   "metadata": {},
   "outputs": [],
   "source": [
    "next_button=driver.find_element_by_xpath(\"/html/body/div[2]/div/div[1]/main/div[3]/div[2]/div/div[2]/section/div[2]/ul/li[3]/a\")\n",
    "next_button.click()"
   ]
  },
  {
   "cell_type": "code",
   "execution_count": 51,
   "id": "e63bdb9d",
   "metadata": {},
   "outputs": [
    {
     "data": {
      "text/plain": [
       "[<selenium.webdriver.remote.webelement.WebElement (session=\"9eb36f5364f2f010ff16512020a1c961\", element=\"6e4eb30d-e14a-4be4-bee0-62716bb8e205\")>,\n",
       " <selenium.webdriver.remote.webelement.WebElement (session=\"9eb36f5364f2f010ff16512020a1c961\", element=\"efb84caa-4bd0-475c-9da3-21e776412c8c\")>,\n",
       " <selenium.webdriver.remote.webelement.WebElement (session=\"9eb36f5364f2f010ff16512020a1c961\", element=\"5979dc77-808a-410b-a4ca-42c3728b761b\")>,\n",
       " <selenium.webdriver.remote.webelement.WebElement (session=\"9eb36f5364f2f010ff16512020a1c961\", element=\"ea110fdb-d1b2-45e1-a819-8a48f1852d3f\")>,\n",
       " <selenium.webdriver.remote.webelement.WebElement (session=\"9eb36f5364f2f010ff16512020a1c961\", element=\"c1963b57-56b0-49b8-b603-faee4c10219f\")>,\n",
       " <selenium.webdriver.remote.webelement.WebElement (session=\"9eb36f5364f2f010ff16512020a1c961\", element=\"46b009e0-5d70-4059-85d0-14d71f0e642a\")>,\n",
       " <selenium.webdriver.remote.webelement.WebElement (session=\"9eb36f5364f2f010ff16512020a1c961\", element=\"880af056-d3a2-4042-9416-9373a1d9d059\")>,\n",
       " <selenium.webdriver.remote.webelement.WebElement (session=\"9eb36f5364f2f010ff16512020a1c961\", element=\"cc535669-994b-4555-b929-88756ac1d931\")>,\n",
       " <selenium.webdriver.remote.webelement.WebElement (session=\"9eb36f5364f2f010ff16512020a1c961\", element=\"844a2f24-08ce-40bd-a02a-c73abada1cdc\")>,\n",
       " <selenium.webdriver.remote.webelement.WebElement (session=\"9eb36f5364f2f010ff16512020a1c961\", element=\"c03a3113-3d8b-44f1-a6be-447e3a543bbc\")>,\n",
       " <selenium.webdriver.remote.webelement.WebElement (session=\"9eb36f5364f2f010ff16512020a1c961\", element=\"f925eeaf-724d-42b2-adb4-c6c95296bce1\")>,\n",
       " <selenium.webdriver.remote.webelement.WebElement (session=\"9eb36f5364f2f010ff16512020a1c961\", element=\"3fcf4c24-a384-4f10-a091-87c86b9497e2\")>,\n",
       " <selenium.webdriver.remote.webelement.WebElement (session=\"9eb36f5364f2f010ff16512020a1c961\", element=\"45f7d448-0106-4db4-9b9a-bced6e6e7e4e\")>,\n",
       " <selenium.webdriver.remote.webelement.WebElement (session=\"9eb36f5364f2f010ff16512020a1c961\", element=\"3f3b2189-78e4-4081-83bc-6d4b59d065d5\")>,\n",
       " <selenium.webdriver.remote.webelement.WebElement (session=\"9eb36f5364f2f010ff16512020a1c961\", element=\"6ec15b89-1553-484c-bc57-5d08e854aa2c\")>,\n",
       " <selenium.webdriver.remote.webelement.WebElement (session=\"9eb36f5364f2f010ff16512020a1c961\", element=\"cc3bf170-d5b0-4d54-8b7a-27332ec16485\")>,\n",
       " <selenium.webdriver.remote.webelement.WebElement (session=\"9eb36f5364f2f010ff16512020a1c961\", element=\"6e2981c6-eefb-4156-83b4-e44fbd667af6\")>,\n",
       " <selenium.webdriver.remote.webelement.WebElement (session=\"9eb36f5364f2f010ff16512020a1c961\", element=\"fc992c6e-3fca-45bc-90f3-d1fb93902555\")>,\n",
       " <selenium.webdriver.remote.webelement.WebElement (session=\"9eb36f5364f2f010ff16512020a1c961\", element=\"38ac01e3-a0fe-4229-8d1e-7c1709f06fd5\")>,\n",
       " <selenium.webdriver.remote.webelement.WebElement (session=\"9eb36f5364f2f010ff16512020a1c961\", element=\"feb39ecc-376e-4da8-965b-17466d908d44\")>,\n",
       " <selenium.webdriver.remote.webelement.WebElement (session=\"9eb36f5364f2f010ff16512020a1c961\", element=\"6ec07999-ae52-4f52-b05d-67ff901d5513\")>,\n",
       " <selenium.webdriver.remote.webelement.WebElement (session=\"9eb36f5364f2f010ff16512020a1c961\", element=\"169ff68a-7408-412b-b668-340ee1c4a14f\")>,\n",
       " <selenium.webdriver.remote.webelement.WebElement (session=\"9eb36f5364f2f010ff16512020a1c961\", element=\"72b5884b-528b-4b2f-a801-3365e4b4b862\")>,\n",
       " <selenium.webdriver.remote.webelement.WebElement (session=\"9eb36f5364f2f010ff16512020a1c961\", element=\"43bb47e0-b561-4894-a89c-93a3a579d8f1\")>,\n",
       " <selenium.webdriver.remote.webelement.WebElement (session=\"9eb36f5364f2f010ff16512020a1c961\", element=\"0f6e3e1c-443b-4abd-bd1f-372717716772\")>,\n",
       " <selenium.webdriver.remote.webelement.WebElement (session=\"9eb36f5364f2f010ff16512020a1c961\", element=\"8e5dc967-7146-4557-be64-f2d5079314e5\")>,\n",
       " <selenium.webdriver.remote.webelement.WebElement (session=\"9eb36f5364f2f010ff16512020a1c961\", element=\"d9296579-15af-461a-bbe4-1c1913c5b1d8\")>,\n",
       " <selenium.webdriver.remote.webelement.WebElement (session=\"9eb36f5364f2f010ff16512020a1c961\", element=\"59e144f5-df76-4aa7-b5c6-6fe6edd48e38\")>,\n",
       " <selenium.webdriver.remote.webelement.WebElement (session=\"9eb36f5364f2f010ff16512020a1c961\", element=\"3154c466-f104-448c-ab4f-7f5e661c3740\")>,\n",
       " <selenium.webdriver.remote.webelement.WebElement (session=\"9eb36f5364f2f010ff16512020a1c961\", element=\"d167553d-7d48-4c1f-8ae1-558d9b0ff4ce\")>,\n",
       " <selenium.webdriver.remote.webelement.WebElement (session=\"9eb36f5364f2f010ff16512020a1c961\", element=\"35cf4c38-ac9f-4638-a708-27d32690c1b1\")>,\n",
       " <selenium.webdriver.remote.webelement.WebElement (session=\"9eb36f5364f2f010ff16512020a1c961\", element=\"924aac12-cfec-4bb4-94ba-8f69a4082df6\")>,\n",
       " <selenium.webdriver.remote.webelement.WebElement (session=\"9eb36f5364f2f010ff16512020a1c961\", element=\"b4b7860b-0b35-43d1-8670-eae85384700b\")>,\n",
       " <selenium.webdriver.remote.webelement.WebElement (session=\"9eb36f5364f2f010ff16512020a1c961\", element=\"1ff9862f-6239-47d2-a8ff-ea8d475ccfff\")>,\n",
       " <selenium.webdriver.remote.webelement.WebElement (session=\"9eb36f5364f2f010ff16512020a1c961\", element=\"c19eed55-cb0f-4101-afe2-c456c38fa2f8\")>,\n",
       " <selenium.webdriver.remote.webelement.WebElement (session=\"9eb36f5364f2f010ff16512020a1c961\", element=\"574a9850-c872-4470-90a3-860126173f93\")>,\n",
       " <selenium.webdriver.remote.webelement.WebElement (session=\"9eb36f5364f2f010ff16512020a1c961\", element=\"fe1ab05b-6447-4e51-86a5-14d3a3ae4c3a\")>,\n",
       " <selenium.webdriver.remote.webelement.WebElement (session=\"9eb36f5364f2f010ff16512020a1c961\", element=\"dd4b71c0-b058-455f-bca3-aff04a1ab661\")>,\n",
       " <selenium.webdriver.remote.webelement.WebElement (session=\"9eb36f5364f2f010ff16512020a1c961\", element=\"b2d1d2be-6bfa-4648-a0e4-86dd240a7f44\")>,\n",
       " <selenium.webdriver.remote.webelement.WebElement (session=\"9eb36f5364f2f010ff16512020a1c961\", element=\"4a2a4a74-3382-416a-b2e4-f24ced756130\")>,\n",
       " <selenium.webdriver.remote.webelement.WebElement (session=\"9eb36f5364f2f010ff16512020a1c961\", element=\"41158e2e-6b28-448a-bd08-c2c1fc557c60\")>,\n",
       " <selenium.webdriver.remote.webelement.WebElement (session=\"9eb36f5364f2f010ff16512020a1c961\", element=\"58edf6cb-388a-457c-ac58-ba0dd0413111\")>,\n",
       " <selenium.webdriver.remote.webelement.WebElement (session=\"9eb36f5364f2f010ff16512020a1c961\", element=\"e9cbdb1d-f9be-4f1d-b55c-2d12ea6cd958\")>,\n",
       " <selenium.webdriver.remote.webelement.WebElement (session=\"9eb36f5364f2f010ff16512020a1c961\", element=\"2fa801d5-5ff5-4d91-8a2b-a5796a4d0332\")>,\n",
       " <selenium.webdriver.remote.webelement.WebElement (session=\"9eb36f5364f2f010ff16512020a1c961\", element=\"e08c9bf2-21ea-4876-a6c2-66f6706ac7b5\")>,\n",
       " <selenium.webdriver.remote.webelement.WebElement (session=\"9eb36f5364f2f010ff16512020a1c961\", element=\"3f1f9fb1-d5fe-46f1-926c-d9c11af865c8\")>,\n",
       " <selenium.webdriver.remote.webelement.WebElement (session=\"9eb36f5364f2f010ff16512020a1c961\", element=\"d8c0761a-48e7-4375-9694-67b68c7dce9d\")>,\n",
       " <selenium.webdriver.remote.webelement.WebElement (session=\"9eb36f5364f2f010ff16512020a1c961\", element=\"a3f0e505-3c27-4644-9675-fb373c894d4d\")>,\n",
       " <selenium.webdriver.remote.webelement.WebElement (session=\"9eb36f5364f2f010ff16512020a1c961\", element=\"2d6d8420-1671-499d-bb3f-44f228f7713d\")>,\n",
       " <selenium.webdriver.remote.webelement.WebElement (session=\"9eb36f5364f2f010ff16512020a1c961\", element=\"ed5b442c-f6e3-4f68-8cf1-c646ccb34c27\")>]"
      ]
     },
     "execution_count": 51,
     "metadata": {},
     "output_type": "execute_result"
    }
   ],
   "source": [
    "brand_tags2=driver.find_elements_by_xpath(\"//h3[@class='product-brand']\")\n",
    "brand_tags2[0:50]"
   ]
  },
  {
   "cell_type": "code",
   "execution_count": 52,
   "id": "b5754c33",
   "metadata": {},
   "outputs": [
    {
     "data": {
      "text/plain": [
       "['Louis Philippe',\n",
       " 'U.S. Polo Assn.',\n",
       " 'HRX by Hrithik Roshan',\n",
       " 'one8 x PUMA',\n",
       " 'Nike',\n",
       " 'ASIAN',\n",
       " 'PUMA Motorsport',\n",
       " 'ALDO',\n",
       " 'Nike',\n",
       " 'Catwalk',\n",
       " 'HIGHLANDER',\n",
       " 'U.S. Polo Assn.',\n",
       " 'Lancer',\n",
       " 'Red Tape',\n",
       " 'Roadster',\n",
       " 'one8 x PUMA',\n",
       " 'Skechers',\n",
       " 'ALDO',\n",
       " 'INVICTUS',\n",
       " 'HIGHLANDER',\n",
       " 'H&M',\n",
       " 'Roadster',\n",
       " 'ALDO',\n",
       " 'Puma',\n",
       " 'Skechers',\n",
       " 'Nike',\n",
       " 'Nike',\n",
       " 'Puma',\n",
       " 'HRX by Hrithik Roshan',\n",
       " 'Mactree',\n",
       " 'Louis Philippe',\n",
       " 'Nike',\n",
       " 'HRX by Hrithik Roshan',\n",
       " 'Skechers',\n",
       " 'ADIDAS',\n",
       " 'ASIAN',\n",
       " 'DressBerry',\n",
       " 'U.S. Polo Assn.',\n",
       " 'Skechers',\n",
       " 'Puma',\n",
       " 'TWIN TOES',\n",
       " 'Nike',\n",
       " 'Monrow',\n",
       " 'Crocs',\n",
       " 'Red Tape',\n",
       " 'HRX by Hrithik Roshan',\n",
       " 'Sparx',\n",
       " 'ADIDAS',\n",
       " 'Nike',\n",
       " 'HIGHLANDER']"
      ]
     },
     "execution_count": 52,
     "metadata": {},
     "output_type": "execute_result"
    }
   ],
   "source": [
    "for i in brand_tags2:\n",
    "    brand2=i.text\n",
    "    brand_list2.append(brand2)\n",
    "brand_list2[0:50]"
   ]
  },
  {
   "cell_type": "code",
   "execution_count": 53,
   "id": "6acd7df4",
   "metadata": {},
   "outputs": [
    {
     "data": {
      "text/plain": [
       "[<selenium.webdriver.remote.webelement.WebElement (session=\"9eb36f5364f2f010ff16512020a1c961\", element=\"e62735cc-eacc-4d10-9297-8cb6cdfc5276\")>,\n",
       " <selenium.webdriver.remote.webelement.WebElement (session=\"9eb36f5364f2f010ff16512020a1c961\", element=\"f75dbbbb-0ff7-451a-81be-84f17b8af378\")>,\n",
       " <selenium.webdriver.remote.webelement.WebElement (session=\"9eb36f5364f2f010ff16512020a1c961\", element=\"6df467b2-3851-407a-8c03-2cc3bc512c8f\")>,\n",
       " <selenium.webdriver.remote.webelement.WebElement (session=\"9eb36f5364f2f010ff16512020a1c961\", element=\"2b54228b-eabd-4b7b-9709-0355d991a474\")>,\n",
       " <selenium.webdriver.remote.webelement.WebElement (session=\"9eb36f5364f2f010ff16512020a1c961\", element=\"a4193739-3d06-4157-9ca3-21e0da88a807\")>,\n",
       " <selenium.webdriver.remote.webelement.WebElement (session=\"9eb36f5364f2f010ff16512020a1c961\", element=\"db60d3aa-b6f3-4dd2-bda1-152e5dea29cc\")>,\n",
       " <selenium.webdriver.remote.webelement.WebElement (session=\"9eb36f5364f2f010ff16512020a1c961\", element=\"fe21a114-7362-4b37-b6f2-bfb5bc8457bd\")>,\n",
       " <selenium.webdriver.remote.webelement.WebElement (session=\"9eb36f5364f2f010ff16512020a1c961\", element=\"5e1deed4-ee5f-4e59-87f3-d13bdad1ea4d\")>,\n",
       " <selenium.webdriver.remote.webelement.WebElement (session=\"9eb36f5364f2f010ff16512020a1c961\", element=\"15c93a71-1cea-4d80-adc7-b855976245c2\")>,\n",
       " <selenium.webdriver.remote.webelement.WebElement (session=\"9eb36f5364f2f010ff16512020a1c961\", element=\"00a94a12-2322-4044-ac8a-67653c2c9d86\")>,\n",
       " <selenium.webdriver.remote.webelement.WebElement (session=\"9eb36f5364f2f010ff16512020a1c961\", element=\"43101577-00aa-4504-89f3-6f13b7188190\")>,\n",
       " <selenium.webdriver.remote.webelement.WebElement (session=\"9eb36f5364f2f010ff16512020a1c961\", element=\"3f17e4f2-58cf-4f83-aba2-92a3de477a8b\")>,\n",
       " <selenium.webdriver.remote.webelement.WebElement (session=\"9eb36f5364f2f010ff16512020a1c961\", element=\"c6859e76-70d1-4856-beb9-1278e7037988\")>,\n",
       " <selenium.webdriver.remote.webelement.WebElement (session=\"9eb36f5364f2f010ff16512020a1c961\", element=\"bdb49e0c-4d71-4b3a-81ff-6505631504d2\")>,\n",
       " <selenium.webdriver.remote.webelement.WebElement (session=\"9eb36f5364f2f010ff16512020a1c961\", element=\"50a9c4c3-59f7-490e-b246-6a9639309f67\")>,\n",
       " <selenium.webdriver.remote.webelement.WebElement (session=\"9eb36f5364f2f010ff16512020a1c961\", element=\"cbd41974-72d8-4359-9098-24eebf046328\")>,\n",
       " <selenium.webdriver.remote.webelement.WebElement (session=\"9eb36f5364f2f010ff16512020a1c961\", element=\"1f0b0b8a-7a3c-44fe-94de-3d66a7adcdf7\")>,\n",
       " <selenium.webdriver.remote.webelement.WebElement (session=\"9eb36f5364f2f010ff16512020a1c961\", element=\"fc3af3b4-823f-4423-b7ea-49a2cb780681\")>,\n",
       " <selenium.webdriver.remote.webelement.WebElement (session=\"9eb36f5364f2f010ff16512020a1c961\", element=\"81766985-0258-4879-ad7b-09cd1d537d24\")>,\n",
       " <selenium.webdriver.remote.webelement.WebElement (session=\"9eb36f5364f2f010ff16512020a1c961\", element=\"ecc67e0b-1320-4929-b4e5-a21b4ed3054d\")>,\n",
       " <selenium.webdriver.remote.webelement.WebElement (session=\"9eb36f5364f2f010ff16512020a1c961\", element=\"2953413f-dc37-4a39-8a15-1bddc846ac0a\")>,\n",
       " <selenium.webdriver.remote.webelement.WebElement (session=\"9eb36f5364f2f010ff16512020a1c961\", element=\"98481be9-8480-4fab-8001-522259ba9945\")>,\n",
       " <selenium.webdriver.remote.webelement.WebElement (session=\"9eb36f5364f2f010ff16512020a1c961\", element=\"63f680f3-6a4f-4ec7-991d-10df8cc6b83e\")>,\n",
       " <selenium.webdriver.remote.webelement.WebElement (session=\"9eb36f5364f2f010ff16512020a1c961\", element=\"6114914e-a0f6-4fbb-a10d-ddeced620499\")>,\n",
       " <selenium.webdriver.remote.webelement.WebElement (session=\"9eb36f5364f2f010ff16512020a1c961\", element=\"9ee30929-ad46-4150-8b95-db8edaf2cb77\")>,\n",
       " <selenium.webdriver.remote.webelement.WebElement (session=\"9eb36f5364f2f010ff16512020a1c961\", element=\"7d93d5c6-d195-4349-9785-746a5d6b5486\")>,\n",
       " <selenium.webdriver.remote.webelement.WebElement (session=\"9eb36f5364f2f010ff16512020a1c961\", element=\"d8af64e4-8c4f-4a7f-8173-aa5c78ae3c40\")>,\n",
       " <selenium.webdriver.remote.webelement.WebElement (session=\"9eb36f5364f2f010ff16512020a1c961\", element=\"36280a5b-221d-4ad2-9c7e-a4aa6e2b9cad\")>,\n",
       " <selenium.webdriver.remote.webelement.WebElement (session=\"9eb36f5364f2f010ff16512020a1c961\", element=\"a95fd082-7e6f-47fd-82fb-0f40372c0862\")>,\n",
       " <selenium.webdriver.remote.webelement.WebElement (session=\"9eb36f5364f2f010ff16512020a1c961\", element=\"1d9d371a-82ac-4ac5-ac04-193076c0ed58\")>,\n",
       " <selenium.webdriver.remote.webelement.WebElement (session=\"9eb36f5364f2f010ff16512020a1c961\", element=\"1a1c74d8-5c9d-4202-be4e-43b3d23932b4\")>,\n",
       " <selenium.webdriver.remote.webelement.WebElement (session=\"9eb36f5364f2f010ff16512020a1c961\", element=\"baeea2b4-23b5-468a-97ff-bc334aaad9e0\")>,\n",
       " <selenium.webdriver.remote.webelement.WebElement (session=\"9eb36f5364f2f010ff16512020a1c961\", element=\"7fabd054-2226-451e-9cd3-0f47109c42bf\")>,\n",
       " <selenium.webdriver.remote.webelement.WebElement (session=\"9eb36f5364f2f010ff16512020a1c961\", element=\"07bf37f3-59bb-45c5-aaab-4d1a10149fbe\")>,\n",
       " <selenium.webdriver.remote.webelement.WebElement (session=\"9eb36f5364f2f010ff16512020a1c961\", element=\"d29d2650-48eb-4e63-81d5-60e5f66759d3\")>,\n",
       " <selenium.webdriver.remote.webelement.WebElement (session=\"9eb36f5364f2f010ff16512020a1c961\", element=\"ca932b78-65d3-474f-aaf1-c9d93381502c\")>,\n",
       " <selenium.webdriver.remote.webelement.WebElement (session=\"9eb36f5364f2f010ff16512020a1c961\", element=\"a903ace2-5868-4012-8fb0-494448c3ec33\")>,\n",
       " <selenium.webdriver.remote.webelement.WebElement (session=\"9eb36f5364f2f010ff16512020a1c961\", element=\"ccde4dfd-9223-480c-a400-0e2437aa7bb5\")>,\n",
       " <selenium.webdriver.remote.webelement.WebElement (session=\"9eb36f5364f2f010ff16512020a1c961\", element=\"abc13416-44f4-4a69-a0c1-96ee56e111f5\")>,\n",
       " <selenium.webdriver.remote.webelement.WebElement (session=\"9eb36f5364f2f010ff16512020a1c961\", element=\"4174a3e3-da60-4bb1-a164-cba68b479403\")>,\n",
       " <selenium.webdriver.remote.webelement.WebElement (session=\"9eb36f5364f2f010ff16512020a1c961\", element=\"99399b07-20ab-4bce-9cc3-82bd809df354\")>,\n",
       " <selenium.webdriver.remote.webelement.WebElement (session=\"9eb36f5364f2f010ff16512020a1c961\", element=\"1f7759b1-bb6b-408f-aadb-cbb55197ffbb\")>,\n",
       " <selenium.webdriver.remote.webelement.WebElement (session=\"9eb36f5364f2f010ff16512020a1c961\", element=\"b1a29af8-b8ef-48da-aacf-f1830373bc1e\")>,\n",
       " <selenium.webdriver.remote.webelement.WebElement (session=\"9eb36f5364f2f010ff16512020a1c961\", element=\"4aff2d56-0a36-4d78-98d1-b3fb32c0fa3e\")>,\n",
       " <selenium.webdriver.remote.webelement.WebElement (session=\"9eb36f5364f2f010ff16512020a1c961\", element=\"a1a1d75b-ab42-48fa-b711-74048b314d01\")>,\n",
       " <selenium.webdriver.remote.webelement.WebElement (session=\"9eb36f5364f2f010ff16512020a1c961\", element=\"fe3ada01-76f0-4144-8f20-1a6035392a47\")>,\n",
       " <selenium.webdriver.remote.webelement.WebElement (session=\"9eb36f5364f2f010ff16512020a1c961\", element=\"b7f8e335-6e52-4481-9c01-ab2712cf2f17\")>,\n",
       " <selenium.webdriver.remote.webelement.WebElement (session=\"9eb36f5364f2f010ff16512020a1c961\", element=\"8f54d1b3-2239-48a6-816c-3adf87fde48f\")>,\n",
       " <selenium.webdriver.remote.webelement.WebElement (session=\"9eb36f5364f2f010ff16512020a1c961\", element=\"88c56367-4cf7-4196-8354-685c0960dbe9\")>,\n",
       " <selenium.webdriver.remote.webelement.WebElement (session=\"9eb36f5364f2f010ff16512020a1c961\", element=\"0caaa51a-1e92-4c9e-a825-19723c8c3f34\")>]"
      ]
     },
     "execution_count": 53,
     "metadata": {},
     "output_type": "execute_result"
    }
   ],
   "source": [
    "shoe_tags2=driver.find_elements_by_xpath(\"//h4[@class='product-product']\")\n",
    "shoe_tags2[0:50]"
   ]
  },
  {
   "cell_type": "code",
   "execution_count": 54,
   "id": "2a3051c6",
   "metadata": {},
   "outputs": [
    {
     "data": {
      "text/plain": [
       "['Men Solid Driving Shoes',\n",
       " 'Men Solid Sneakers',\n",
       " 'Women Alpha Training Shoes',\n",
       " 'Men Fuse One8 Training Shoes',\n",
       " 'LEGEND ESSENTIAL Training Shoe',\n",
       " 'Women Woven Design Sneakers',\n",
       " 'Unisex Mercedes F1 Sneakers',\n",
       " 'Men Leather Penny Loafers',\n",
       " 'Women Training Shoes',\n",
       " 'Women Solid Sandals',\n",
       " 'Men Sneakers',\n",
       " 'Men Solid CARLIN Sneakers',\n",
       " 'Men Running Shoes',\n",
       " 'Women Walking Shoes',\n",
       " 'Men Casual Sneakers',\n",
       " 'Men Play one8 sneakers',\n",
       " 'Women Go Walk J Walking Shoes',\n",
       " 'Men Textured Leather Loafers',\n",
       " 'Men Solid Synthetic Leather Formal Loafers',\n",
       " 'Men Solid Leather Sneakers',\n",
       " 'Men Trainers',\n",
       " 'Men Solid Sneakers',\n",
       " 'Men Leather Loafers',\n",
       " 'Men Running Shoes',\n",
       " 'Men GO WALK 4 Walking Shoes',\n",
       " 'Men Vapor Lite HC Tennis Shoes',\n",
       " 'Kids REVOLUTION 4 Shoes',\n",
       " 'Men Running Shoes',\n",
       " 'Men Trainer-1 Training Shoes',\n",
       " 'Men Suede Loafers',\n",
       " 'Men Solid Driving Shoes',\n",
       " 'Women REVOLUTION 6 Running',\n",
       " 'Men Propulsion Running Shoes',\n",
       " 'Men BOUNDER-MIRKLE Sneakers',\n",
       " 'Men Runesy Running Shoes',\n",
       " 'Men Regular Height Sneakers',\n",
       " 'Women Solid Flatform Sneakers',\n",
       " 'Men Walking Shoes',\n",
       " 'Men TRACK - KNOCKHILL Sneakers',\n",
       " 'Men Trinity IDP Sneakers',\n",
       " 'Women Colourblocked Sneakers',\n",
       " 'Men MC TRAINER Shoes',\n",
       " 'Women Sandals',\n",
       " 'Women Open Toe Flats',\n",
       " 'Men Walking Shoes',\n",
       " 'Men TR-100 Training Shoe',\n",
       " 'Men Running Sports Shoes',\n",
       " 'Men Quickflow Running Shoes',\n",
       " 'ZOOM COURT LITE 3 Tennis Shoes',\n",
       " 'Men Solid Sneakers']"
      ]
     },
     "execution_count": 54,
     "metadata": {},
     "output_type": "execute_result"
    }
   ],
   "source": [
    "for i in shoe_tags2:\n",
    "    shoe2=i.text\n",
    "    shoe_descrp_list2.append(shoe2)\n",
    "shoe_descrp_list2[0:50]"
   ]
  },
  {
   "cell_type": "code",
   "execution_count": 55,
   "id": "d7e2d411",
   "metadata": {},
   "outputs": [
    {
     "data": {
      "text/plain": [
       "[<selenium.webdriver.remote.webelement.WebElement (session=\"9eb36f5364f2f010ff16512020a1c961\", element=\"ebef9e84-0826-4ce8-84fe-5ca960620a5f\")>,\n",
       " <selenium.webdriver.remote.webelement.WebElement (session=\"9eb36f5364f2f010ff16512020a1c961\", element=\"745cd60c-8cbf-480f-b94a-a52ffc4c0216\")>,\n",
       " <selenium.webdriver.remote.webelement.WebElement (session=\"9eb36f5364f2f010ff16512020a1c961\", element=\"06782f68-3d1a-4e94-b91b-045a6a1388c5\")>,\n",
       " <selenium.webdriver.remote.webelement.WebElement (session=\"9eb36f5364f2f010ff16512020a1c961\", element=\"7ca2aa5d-9309-4933-94cc-e68782fa6af9\")>,\n",
       " <selenium.webdriver.remote.webelement.WebElement (session=\"9eb36f5364f2f010ff16512020a1c961\", element=\"f2cab170-7b7d-4977-87e8-109c5774797a\")>,\n",
       " <selenium.webdriver.remote.webelement.WebElement (session=\"9eb36f5364f2f010ff16512020a1c961\", element=\"e06c4d56-129f-44e4-b0a9-3e0c9223d6d4\")>,\n",
       " <selenium.webdriver.remote.webelement.WebElement (session=\"9eb36f5364f2f010ff16512020a1c961\", element=\"a4a97ec5-d371-42a3-9707-d5731896bb8c\")>,\n",
       " <selenium.webdriver.remote.webelement.WebElement (session=\"9eb36f5364f2f010ff16512020a1c961\", element=\"fd6f3685-526d-4307-b3a0-ed286451a79c\")>,\n",
       " <selenium.webdriver.remote.webelement.WebElement (session=\"9eb36f5364f2f010ff16512020a1c961\", element=\"0c6a539a-5184-4849-8005-b437849ce218\")>,\n",
       " <selenium.webdriver.remote.webelement.WebElement (session=\"9eb36f5364f2f010ff16512020a1c961\", element=\"d42b8228-0a33-493e-8d7a-f6a35d004c1d\")>,\n",
       " <selenium.webdriver.remote.webelement.WebElement (session=\"9eb36f5364f2f010ff16512020a1c961\", element=\"ac63d430-adc1-4028-99cc-916a278ff226\")>,\n",
       " <selenium.webdriver.remote.webelement.WebElement (session=\"9eb36f5364f2f010ff16512020a1c961\", element=\"0e4f0f92-8037-412b-94ca-ace09fee5432\")>,\n",
       " <selenium.webdriver.remote.webelement.WebElement (session=\"9eb36f5364f2f010ff16512020a1c961\", element=\"5d4612c1-d7a2-4894-a02a-ddab9fb85319\")>,\n",
       " <selenium.webdriver.remote.webelement.WebElement (session=\"9eb36f5364f2f010ff16512020a1c961\", element=\"9c3a3d06-c3f9-4c52-945a-8bcb36d7fd7d\")>,\n",
       " <selenium.webdriver.remote.webelement.WebElement (session=\"9eb36f5364f2f010ff16512020a1c961\", element=\"14880f39-076f-4ede-afc3-e6b24b94900a\")>,\n",
       " <selenium.webdriver.remote.webelement.WebElement (session=\"9eb36f5364f2f010ff16512020a1c961\", element=\"39da3dda-2640-4f7f-94dc-8ec8cdfd5fa5\")>,\n",
       " <selenium.webdriver.remote.webelement.WebElement (session=\"9eb36f5364f2f010ff16512020a1c961\", element=\"848276b5-ac7c-44f9-95c5-9f2b47d9d4b3\")>,\n",
       " <selenium.webdriver.remote.webelement.WebElement (session=\"9eb36f5364f2f010ff16512020a1c961\", element=\"e1ca4745-15cf-4c34-93f1-86ec48c5c428\")>,\n",
       " <selenium.webdriver.remote.webelement.WebElement (session=\"9eb36f5364f2f010ff16512020a1c961\", element=\"bee8e845-7d2a-4c2e-809e-b926a3329571\")>,\n",
       " <selenium.webdriver.remote.webelement.WebElement (session=\"9eb36f5364f2f010ff16512020a1c961\", element=\"a407d4a5-6ff9-4bfa-8b3f-c9c4d9a2ff2c\")>,\n",
       " <selenium.webdriver.remote.webelement.WebElement (session=\"9eb36f5364f2f010ff16512020a1c961\", element=\"95f9d8c0-057c-4dd6-bdfd-13e70207df74\")>,\n",
       " <selenium.webdriver.remote.webelement.WebElement (session=\"9eb36f5364f2f010ff16512020a1c961\", element=\"62a0fe30-2ff7-48b8-8ca2-936b34583b8c\")>,\n",
       " <selenium.webdriver.remote.webelement.WebElement (session=\"9eb36f5364f2f010ff16512020a1c961\", element=\"156954a8-22ff-468d-8530-0d6300962a6a\")>,\n",
       " <selenium.webdriver.remote.webelement.WebElement (session=\"9eb36f5364f2f010ff16512020a1c961\", element=\"68a4bb87-d1c5-47b7-aedb-4b2d7a9fe647\")>,\n",
       " <selenium.webdriver.remote.webelement.WebElement (session=\"9eb36f5364f2f010ff16512020a1c961\", element=\"cd1d77d1-e57c-4749-bec7-06ca24cac077\")>,\n",
       " <selenium.webdriver.remote.webelement.WebElement (session=\"9eb36f5364f2f010ff16512020a1c961\", element=\"c7622a63-af22-403f-99ae-bcf42b9db784\")>,\n",
       " <selenium.webdriver.remote.webelement.WebElement (session=\"9eb36f5364f2f010ff16512020a1c961\", element=\"b153f92d-9f6e-41ce-96a3-f983161b8fb8\")>,\n",
       " <selenium.webdriver.remote.webelement.WebElement (session=\"9eb36f5364f2f010ff16512020a1c961\", element=\"f84421e7-b53c-4ad4-971e-24610955f4a3\")>,\n",
       " <selenium.webdriver.remote.webelement.WebElement (session=\"9eb36f5364f2f010ff16512020a1c961\", element=\"90feb812-a21a-422e-9f12-d1d0b645f007\")>,\n",
       " <selenium.webdriver.remote.webelement.WebElement (session=\"9eb36f5364f2f010ff16512020a1c961\", element=\"215b37ec-c022-47d9-8c1a-1d89eb109123\")>,\n",
       " <selenium.webdriver.remote.webelement.WebElement (session=\"9eb36f5364f2f010ff16512020a1c961\", element=\"95485ba0-e592-43fe-8351-9c2c6256dbf6\")>,\n",
       " <selenium.webdriver.remote.webelement.WebElement (session=\"9eb36f5364f2f010ff16512020a1c961\", element=\"4895d470-b84d-4ee5-8c24-bff0d9064376\")>,\n",
       " <selenium.webdriver.remote.webelement.WebElement (session=\"9eb36f5364f2f010ff16512020a1c961\", element=\"622e432e-14d9-44fb-be09-1cf8c28976ee\")>,\n",
       " <selenium.webdriver.remote.webelement.WebElement (session=\"9eb36f5364f2f010ff16512020a1c961\", element=\"22c25cfd-7995-4ff5-8062-49300d672332\")>,\n",
       " <selenium.webdriver.remote.webelement.WebElement (session=\"9eb36f5364f2f010ff16512020a1c961\", element=\"71298e31-bb4a-43fb-8584-f2928e58e725\")>,\n",
       " <selenium.webdriver.remote.webelement.WebElement (session=\"9eb36f5364f2f010ff16512020a1c961\", element=\"fefd6cb5-fcbb-4861-8e60-d366ec202d07\")>,\n",
       " <selenium.webdriver.remote.webelement.WebElement (session=\"9eb36f5364f2f010ff16512020a1c961\", element=\"471a9bd1-3ae8-4d82-b100-02b31b49b032\")>,\n",
       " <selenium.webdriver.remote.webelement.WebElement (session=\"9eb36f5364f2f010ff16512020a1c961\", element=\"eee82074-a70c-45a7-a60c-dc811fdc3d3e\")>,\n",
       " <selenium.webdriver.remote.webelement.WebElement (session=\"9eb36f5364f2f010ff16512020a1c961\", element=\"125a6f0e-72d5-4202-9dbd-c22050b923a8\")>,\n",
       " <selenium.webdriver.remote.webelement.WebElement (session=\"9eb36f5364f2f010ff16512020a1c961\", element=\"cee0941c-7568-4e6e-889b-f18689734d65\")>,\n",
       " <selenium.webdriver.remote.webelement.WebElement (session=\"9eb36f5364f2f010ff16512020a1c961\", element=\"1fbb9117-b9a6-4ea1-9081-22ef90cca483\")>,\n",
       " <selenium.webdriver.remote.webelement.WebElement (session=\"9eb36f5364f2f010ff16512020a1c961\", element=\"cc335556-0ae0-48e4-a2cc-8cec81a4fba5\")>,\n",
       " <selenium.webdriver.remote.webelement.WebElement (session=\"9eb36f5364f2f010ff16512020a1c961\", element=\"f2e33a5b-9b09-4ae5-9b61-36849bb8274e\")>,\n",
       " <selenium.webdriver.remote.webelement.WebElement (session=\"9eb36f5364f2f010ff16512020a1c961\", element=\"73b2d878-d72b-4d79-a21d-b66b3fd6317f\")>,\n",
       " <selenium.webdriver.remote.webelement.WebElement (session=\"9eb36f5364f2f010ff16512020a1c961\", element=\"2d038e54-afd5-407d-9e1e-227b03e5bf01\")>,\n",
       " <selenium.webdriver.remote.webelement.WebElement (session=\"9eb36f5364f2f010ff16512020a1c961\", element=\"a86aa0f3-1fff-415a-873c-88c2d339c8b9\")>,\n",
       " <selenium.webdriver.remote.webelement.WebElement (session=\"9eb36f5364f2f010ff16512020a1c961\", element=\"85627f1e-b368-46f5-ad7a-9e4053925270\")>,\n",
       " <selenium.webdriver.remote.webelement.WebElement (session=\"9eb36f5364f2f010ff16512020a1c961\", element=\"c0df1ad6-7e2a-41f0-b282-711d25d5f836\")>,\n",
       " <selenium.webdriver.remote.webelement.WebElement (session=\"9eb36f5364f2f010ff16512020a1c961\", element=\"1520bd7c-ff70-491b-97f1-486ef2f4cf88\")>,\n",
       " <selenium.webdriver.remote.webelement.WebElement (session=\"9eb36f5364f2f010ff16512020a1c961\", element=\"d35ed289-516b-4432-b4f3-009c6be54d1c\")>]"
      ]
     },
     "execution_count": 55,
     "metadata": {},
     "output_type": "execute_result"
    }
   ],
   "source": [
    "price_tags2=driver.find_elements_by_xpath(\"//div[@class='product-price']\")\n",
    "price_tags2[0:50]"
   ]
  },
  {
   "cell_type": "code",
   "execution_count": 56,
   "id": "3695e942",
   "metadata": {},
   "outputs": [
    {
     "data": {
      "text/plain": [
       "['Rs. 3249Rs. 4999(35% OFF)',\n",
       " 'Rs. 2099Rs. 2999(30% OFF)',\n",
       " 'Rs. 2199Rs. 3999( 45 % OFF)',\n",
       " 'Rs. 6799Rs. 7999(15% OFF)',\n",
       " 'Rs. 3596Rs. 4495(20% OFF)',\n",
       " 'Rs. 629Rs. 999(37% OFF)',\n",
       " 'Rs. 6799Rs. 7999(15% OFF)',\n",
       " 'Rs. 18999',\n",
       " 'Rs. 5995',\n",
       " 'Rs. 1746Rs. 2495(30% OFF)',\n",
       " 'Rs. 995Rs. 1990(50% OFF)',\n",
       " 'Rs. 1819Rs. 2599(30% OFF)',\n",
       " 'Rs. 1049Rs. 1399(25% OFF)',\n",
       " 'Rs. 1124Rs. 4499(75% OFF)',\n",
       " 'Rs. 880Rs. 4195(79% OFF)',\n",
       " 'Rs. 4499',\n",
       " 'Rs. 4399Rs. 5499(20% OFF)',\n",
       " 'Rs. 15999',\n",
       " 'Rs. 1006Rs. 4195(76% OFF)',\n",
       " 'Rs. 995Rs. 1990(50% OFF)',\n",
       " 'Rs. 1999',\n",
       " 'Rs. 1319Rs. 3299(60% OFF)',\n",
       " 'Rs. 15999',\n",
       " 'Rs. 4999Rs. 9999(50% OFF)',\n",
       " 'Rs. 4844Rs. 5699(15% OFF)',\n",
       " 'Rs. 5436Rs. 6795(20% OFF)',\n",
       " 'Rs. 1502Rs. 3495(57% OFF)',\n",
       " 'Rs. 3024Rs. 5499(45% OFF)',\n",
       " 'Rs. 1719Rs. 4299(60% OFF)',\n",
       " 'Rs. 898Rs. 4490(80% OFF)',\n",
       " 'Rs. 3249Rs. 4999(35% OFF)',\n",
       " 'Rs. 3695',\n",
       " 'Rs. 2799Rs. 6999(60% OFF)',\n",
       " 'Rs. 3684Rs. 5499(33% OFF)',\n",
       " 'Rs. 3199Rs. 3999(20% OFF)',\n",
       " 'Rs. 599Rs. 999(40% OFF)',\n",
       " 'Rs. 1159Rs. 2899(60% OFF)',\n",
       " 'Rs. 4599',\n",
       " 'Rs. 2999Rs. 4999(40% OFF)',\n",
       " 'Rs. 2799Rs. 3499(20% OFF)',\n",
       " 'Rs. 799Rs. 999(Rs. 200 OFF)',\n",
       " 'Rs. 5495',\n",
       " 'Rs. 1299Rs. 2599(Rs. 1300 OFF)',\n",
       " 'Rs. 1197Rs. 1995(40% OFF)',\n",
       " 'Rs. 1224Rs. 4899(75% OFF)',\n",
       " 'Rs. 3134Rs. 5699( 45 % OFF)',\n",
       " 'Rs. 1574Rs. 1749(10% OFF)',\n",
       " 'Rs. 3439Rs. 4299(20% OFF)',\n",
       " 'Rs. 4556Rs. 5695(20% OFF)',\n",
       " 'Rs. 995Rs. 1990(50% OFF)']"
      ]
     },
     "execution_count": 56,
     "metadata": {},
     "output_type": "execute_result"
    }
   ],
   "source": [
    "for i in price_tags2:\n",
    "    price2=i.text\n",
    "    price_list2.append(price2)\n",
    "price_list2[0:50]"
   ]
  },
  {
   "cell_type": "code",
   "execution_count": null,
   "id": "e4e79da8",
   "metadata": {},
   "outputs": [],
   "source": []
  }
 ],
 "metadata": {
  "kernelspec": {
   "display_name": "Python 3 (ipykernel)",
   "language": "python",
   "name": "python3"
  },
  "language_info": {
   "codemirror_mode": {
    "name": "ipython",
    "version": 3
   },
   "file_extension": ".py",
   "mimetype": "text/x-python",
   "name": "python",
   "nbconvert_exporter": "python",
   "pygments_lexer": "ipython3",
   "version": "3.9.7"
  }
 },
 "nbformat": 4,
 "nbformat_minor": 5
}
