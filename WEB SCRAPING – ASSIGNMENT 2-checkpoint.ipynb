{
 "cells": [
  {
   "cell_type": "markdown",
   "id": "ddead590",
   "metadata": {},
   "source": [
    "Q1: Write a python program to scrape data for “Data Analyst” Job position in “Bangalore” location. You\n",
    "have to scrape the job-title, job-location, company_name, experience_required. You have to scrape first 10\n",
    "jobs data"
   ]
  },
  {
   "cell_type": "code",
   "execution_count": 1,
   "id": "a68692ba",
   "metadata": {},
   "outputs": [
    {
     "name": "stdout",
     "output_type": "stream",
     "text": [
      "Requirement already satisfied: selenium in c:\\users\\91888\\anaconda3\\lib\\site-packages (4.1.3)\n",
      "Requirement already satisfied: trio~=0.17 in c:\\users\\91888\\anaconda3\\lib\\site-packages (from selenium) (0.20.0)\n",
      "Requirement already satisfied: trio-websocket~=0.9 in c:\\users\\91888\\anaconda3\\lib\\site-packages (from selenium) (0.9.2)\n",
      "Requirement already satisfied: urllib3[secure,socks]~=1.26 in c:\\users\\91888\\anaconda3\\lib\\site-packages (from selenium) (1.26.7)\n",
      "Requirement already satisfied: sortedcontainers in c:\\users\\91888\\anaconda3\\lib\\site-packages (from trio~=0.17->selenium) (2.4.0)\n",
      "Requirement already satisfied: outcome in c:\\users\\91888\\anaconda3\\lib\\site-packages (from trio~=0.17->selenium) (1.1.0)\n",
      "Requirement already satisfied: sniffio in c:\\users\\91888\\anaconda3\\lib\\site-packages (from trio~=0.17->selenium) (1.2.0)\n",
      "Requirement already satisfied: cffi>=1.14 in c:\\users\\91888\\anaconda3\\lib\\site-packages (from trio~=0.17->selenium) (1.14.6)\n",
      "Requirement already satisfied: attrs>=19.2.0 in c:\\users\\91888\\anaconda3\\lib\\site-packages (from trio~=0.17->selenium) (21.2.0)\n",
      "Requirement already satisfied: async-generator>=1.9 in c:\\users\\91888\\anaconda3\\lib\\site-packages (from trio~=0.17->selenium) (1.10)\n",
      "Requirement already satisfied: idna in c:\\users\\91888\\anaconda3\\lib\\site-packages (from trio~=0.17->selenium) (3.2)\n",
      "Requirement already satisfied: pycparser in c:\\users\\91888\\anaconda3\\lib\\site-packages (from cffi>=1.14->trio~=0.17->selenium) (2.20)\n",
      "Requirement already satisfied: wsproto>=0.14 in c:\\users\\91888\\anaconda3\\lib\\site-packages (from trio-websocket~=0.9->selenium) (1.1.0)\n",
      "Requirement already satisfied: pyOpenSSL>=0.14 in c:\\users\\91888\\anaconda3\\lib\\site-packages (from urllib3[secure,socks]~=1.26->selenium) (21.0.0)\n",
      "Requirement already satisfied: cryptography>=1.3.4 in c:\\users\\91888\\anaconda3\\lib\\site-packages (from urllib3[secure,socks]~=1.26->selenium) (3.4.8)\n",
      "Requirement already satisfied: certifi in c:\\users\\91888\\anaconda3\\lib\\site-packages (from urllib3[secure,socks]~=1.26->selenium) (2021.10.8)\n",
      "Requirement already satisfied: PySocks!=1.5.7,<2.0,>=1.5.6 in c:\\users\\91888\\anaconda3\\lib\\site-packages (from urllib3[secure,socks]~=1.26->selenium) (1.7.1)\n",
      "Requirement already satisfied: six>=1.5.2 in c:\\users\\91888\\anaconda3\\lib\\site-packages (from pyOpenSSL>=0.14->urllib3[secure,socks]~=1.26->selenium) (1.16.0)\n",
      "Requirement already satisfied: h11<1,>=0.9.0 in c:\\users\\91888\\anaconda3\\lib\\site-packages (from wsproto>=0.14->trio-websocket~=0.9->selenium) (0.13.0)\n"
     ]
    }
   ],
   "source": [
    "#first instaling the selenium library\n",
    "! pip install selenium"
   ]
  },
  {
   "cell_type": "code",
   "execution_count": 2,
   "id": "0117b774",
   "metadata": {},
   "outputs": [],
   "source": [
    "# downloading the webdriver for the web browser"
   ]
  },
  {
   "cell_type": "code",
   "execution_count": 3,
   "id": "324e1cae",
   "metadata": {},
   "outputs": [],
   "source": [
    "#https://chromedriver.chromium.org/downloads"
   ]
  },
  {
   "cell_type": "code",
   "execution_count": 4,
   "id": "b7a494cb",
   "metadata": {},
   "outputs": [],
   "source": [
    "# now importing all the required libraries\n",
    "import selenium\n",
    "import pandas as pd \n",
    "from selenium import webdriver\n",
    "import warnings\n",
    "warnings.filterwarnings(\"ignore\")\n",
    "import time"
   ]
  },
  {
   "cell_type": "code",
   "execution_count": 5,
   "id": "8e2a1d52",
   "metadata": {},
   "outputs": [],
   "source": [
    "driver=webdriver.Chrome(\"chromedriver.exe\")"
   ]
  },
  {
   "cell_type": "code",
   "execution_count": 6,
   "id": "470bacdd",
   "metadata": {},
   "outputs": [],
   "source": [
    "time.sleep(2)"
   ]
  },
  {
   "cell_type": "code",
   "execution_count": 7,
   "id": "be5f874e",
   "metadata": {},
   "outputs": [],
   "source": [
    "driver.get('https://www.naukri.com/')"
   ]
  },
  {
   "cell_type": "code",
   "execution_count": 8,
   "id": "2257092d",
   "metadata": {},
   "outputs": [],
   "source": [
    "search_field_designation=driver.find_element_by_class_name(\"suggestor-input \")\n",
    "search_field_designation.send_keys(\"Data Analyst\")"
   ]
  },
  {
   "cell_type": "code",
   "execution_count": 9,
   "id": "4de262ab",
   "metadata": {},
   "outputs": [],
   "source": [
    "search_field_location=driver.find_element_by_xpath(\"/html/body/div/div[2]/div[3]/div/div/div[3]/div/div/div/input\")\n",
    "search_field_location.send_keys('Bangalore')"
   ]
  },
  {
   "cell_type": "code",
   "execution_count": 10,
   "id": "5d17922f",
   "metadata": {},
   "outputs": [],
   "source": [
    "search_button=driver.find_element_by_xpath(\"/html/body/div/div[2]/div[3]/div/div/div[6]\")\n",
    "search_button.click()"
   ]
  },
  {
   "cell_type": "code",
   "execution_count": 11,
   "id": "bf235921",
   "metadata": {},
   "outputs": [],
   "source": [
    "job_title=[]\n",
    "job_location=[]\n",
    "company_name=[]\n",
    "experience_required=[]\n"
   ]
  },
  {
   "cell_type": "code",
   "execution_count": 12,
   "id": "8115669a",
   "metadata": {},
   "outputs": [
    {
     "data": {
      "text/plain": [
       "[]"
      ]
     },
     "execution_count": 12,
     "metadata": {},
     "output_type": "execute_result"
    }
   ],
   "source": [
    "title_tags=driver.find_elements_by_xpath(\"//a[@class='title fw500 ellipsis']\")\n",
    "title_tags[0:10]"
   ]
  },
  {
   "cell_type": "code",
   "execution_count": 13,
   "id": "0a2b0797",
   "metadata": {},
   "outputs": [
    {
     "data": {
      "text/plain": [
       "[]"
      ]
     },
     "execution_count": 13,
     "metadata": {},
     "output_type": "execute_result"
    }
   ],
   "source": [
    "for i in title_tags:\n",
    "    title=i.text\n",
    "    job_title.append(title)\n",
    "job_title[0:10]"
   ]
  },
  {
   "cell_type": "code",
   "execution_count": 14,
   "id": "acf70c27",
   "metadata": {},
   "outputs": [
    {
     "data": {
      "text/plain": [
       "[]"
      ]
     },
     "execution_count": 14,
     "metadata": {},
     "output_type": "execute_result"
    }
   ],
   "source": [
    "companies_tags=driver.find_elements_by_xpath(\"//a[@class='subTitle ellipsis fleft']\")\n",
    "companies_tags[0:10]"
   ]
  },
  {
   "cell_type": "code",
   "execution_count": 15,
   "id": "7ddf8fb7",
   "metadata": {},
   "outputs": [
    {
     "data": {
      "text/plain": [
       "[]"
      ]
     },
     "execution_count": 15,
     "metadata": {},
     "output_type": "execute_result"
    }
   ],
   "source": [
    "for i in companies_tags:\n",
    "    company=i.text\n",
    "    company_name.append(company)\n",
    "company_name[0:10]"
   ]
  },
  {
   "cell_type": "code",
   "execution_count": 16,
   "id": "bbe59b76",
   "metadata": {},
   "outputs": [
    {
     "data": {
      "text/plain": [
       "[]"
      ]
     },
     "execution_count": 16,
     "metadata": {},
     "output_type": "execute_result"
    }
   ],
   "source": [
    "location_tags=driver.find_elements_by_xpath(\"//li[@class='fleft grey-text br2 placeHolderLi location']\")\n",
    "location_tags[0:10]"
   ]
  },
  {
   "cell_type": "code",
   "execution_count": 17,
   "id": "72a706c2",
   "metadata": {},
   "outputs": [
    {
     "data": {
      "text/plain": [
       "[]"
      ]
     },
     "execution_count": 17,
     "metadata": {},
     "output_type": "execute_result"
    }
   ],
   "source": [
    "for i in location_tags:\n",
    "    location=i.text\n",
    "    job_location.append(location)\n",
    "job_location[0:10]"
   ]
  },
  {
   "cell_type": "code",
   "execution_count": 18,
   "id": "fb418d12",
   "metadata": {},
   "outputs": [
    {
     "data": {
      "text/plain": [
       "[<selenium.webdriver.remote.webelement.WebElement (session=\"2447ddc1c5722d35e70251704ad5e9f5\", element=\"b57fe783-e61b-45ae-bbfe-6ace02cfe17c\")>,\n",
       " <selenium.webdriver.remote.webelement.WebElement (session=\"2447ddc1c5722d35e70251704ad5e9f5\", element=\"72016612-2cfa-41f9-96cf-8a79165e47b0\")>,\n",
       " <selenium.webdriver.remote.webelement.WebElement (session=\"2447ddc1c5722d35e70251704ad5e9f5\", element=\"4a05cfa2-ea4a-48fe-bd7d-d9a7dc1b3e50\")>,\n",
       " <selenium.webdriver.remote.webelement.WebElement (session=\"2447ddc1c5722d35e70251704ad5e9f5\", element=\"c0b4d10a-6d8c-43e1-aeee-c1c632c0066f\")>,\n",
       " <selenium.webdriver.remote.webelement.WebElement (session=\"2447ddc1c5722d35e70251704ad5e9f5\", element=\"e1ac81c6-1fa3-4b36-b0e4-fc9f4e3b5e69\")>,\n",
       " <selenium.webdriver.remote.webelement.WebElement (session=\"2447ddc1c5722d35e70251704ad5e9f5\", element=\"cb86eae0-ffcd-404e-bebc-dbd5cfaff68c\")>,\n",
       " <selenium.webdriver.remote.webelement.WebElement (session=\"2447ddc1c5722d35e70251704ad5e9f5\", element=\"4f076292-a9dd-43de-a2a9-a285a143280e\")>,\n",
       " <selenium.webdriver.remote.webelement.WebElement (session=\"2447ddc1c5722d35e70251704ad5e9f5\", element=\"f7ebfa59-77c6-4c7e-a136-f1422c014fc0\")>,\n",
       " <selenium.webdriver.remote.webelement.WebElement (session=\"2447ddc1c5722d35e70251704ad5e9f5\", element=\"fa6b123c-6e19-4ceb-9f0d-d55593edac2b\")>,\n",
       " <selenium.webdriver.remote.webelement.WebElement (session=\"2447ddc1c5722d35e70251704ad5e9f5\", element=\"2bd6e5dc-57cb-47c0-926d-726ff71a4989\")>]"
      ]
     },
     "execution_count": 18,
     "metadata": {},
     "output_type": "execute_result"
    }
   ],
   "source": [
    "experience_tags=driver.find_elements_by_xpath(\"//li[@class='fleft grey-text br2 placeHolderLi experience']\")\n",
    "experience_tags[0:10]"
   ]
  },
  {
   "cell_type": "code",
   "execution_count": 19,
   "id": "a379c995",
   "metadata": {},
   "outputs": [
    {
     "data": {
      "text/plain": [
       "['3-7 Yrs',\n",
       " '3-6 Yrs',\n",
       " '5-10 Yrs',\n",
       " '1-3 Yrs',\n",
       " '7-10 Yrs',\n",
       " '3-7 Yrs',\n",
       " '0-5 Yrs',\n",
       " '5-8 Yrs',\n",
       " '2-7 Yrs',\n",
       " '2-4 Yrs']"
      ]
     },
     "execution_count": 19,
     "metadata": {},
     "output_type": "execute_result"
    }
   ],
   "source": [
    "for i in experience_tags:\n",
    "    experience=i.text\n",
    "    experience_required.append(experience)\n",
    "experience_required[0:10]"
   ]
  },
  {
   "cell_type": "code",
   "execution_count": 20,
   "id": "44aec671",
   "metadata": {},
   "outputs": [
    {
     "name": "stdout",
     "output_type": "stream",
     "text": [
      "0 0 0 20\n"
     ]
    }
   ],
   "source": [
    "#printing length\n",
    "print(len(job_title),len(job_location),len(company_name),len(experience_required))"
   ]
  },
  {
   "cell_type": "code",
   "execution_count": 21,
   "id": "fae8203a",
   "metadata": {},
   "outputs": [],
   "source": [
    "#Making DataFrame\n",
    "import pandas as pd"
   ]
  },
  {
   "cell_type": "code",
   "execution_count": 22,
   "id": "6ab2c5d5",
   "metadata": {},
   "outputs": [
    {
     "data": {
      "text/html": [
       "<div>\n",
       "<style scoped>\n",
       "    .dataframe tbody tr th:only-of-type {\n",
       "        vertical-align: middle;\n",
       "    }\n",
       "\n",
       "    .dataframe tbody tr th {\n",
       "        vertical-align: top;\n",
       "    }\n",
       "\n",
       "    .dataframe thead th {\n",
       "        text-align: right;\n",
       "    }\n",
       "</style>\n",
       "<table border=\"1\" class=\"dataframe\">\n",
       "  <thead>\n",
       "    <tr style=\"text-align: right;\">\n",
       "      <th></th>\n",
       "      <th>Job title</th>\n",
       "      <th>Job location</th>\n",
       "      <th>Company name</th>\n",
       "      <th>Experience required</th>\n",
       "    </tr>\n",
       "  </thead>\n",
       "  <tbody>\n",
       "    <tr>\n",
       "      <th>0</th>\n",
       "      <td>NaN</td>\n",
       "      <td>NaN</td>\n",
       "      <td>NaN</td>\n",
       "      <td>3-7 Yrs</td>\n",
       "    </tr>\n",
       "    <tr>\n",
       "      <th>1</th>\n",
       "      <td>NaN</td>\n",
       "      <td>NaN</td>\n",
       "      <td>NaN</td>\n",
       "      <td>3-6 Yrs</td>\n",
       "    </tr>\n",
       "    <tr>\n",
       "      <th>2</th>\n",
       "      <td>NaN</td>\n",
       "      <td>NaN</td>\n",
       "      <td>NaN</td>\n",
       "      <td>5-10 Yrs</td>\n",
       "    </tr>\n",
       "    <tr>\n",
       "      <th>3</th>\n",
       "      <td>NaN</td>\n",
       "      <td>NaN</td>\n",
       "      <td>NaN</td>\n",
       "      <td>1-3 Yrs</td>\n",
       "    </tr>\n",
       "    <tr>\n",
       "      <th>4</th>\n",
       "      <td>NaN</td>\n",
       "      <td>NaN</td>\n",
       "      <td>NaN</td>\n",
       "      <td>7-10 Yrs</td>\n",
       "    </tr>\n",
       "    <tr>\n",
       "      <th>5</th>\n",
       "      <td>NaN</td>\n",
       "      <td>NaN</td>\n",
       "      <td>NaN</td>\n",
       "      <td>3-7 Yrs</td>\n",
       "    </tr>\n",
       "    <tr>\n",
       "      <th>6</th>\n",
       "      <td>NaN</td>\n",
       "      <td>NaN</td>\n",
       "      <td>NaN</td>\n",
       "      <td>0-5 Yrs</td>\n",
       "    </tr>\n",
       "    <tr>\n",
       "      <th>7</th>\n",
       "      <td>NaN</td>\n",
       "      <td>NaN</td>\n",
       "      <td>NaN</td>\n",
       "      <td>5-8 Yrs</td>\n",
       "    </tr>\n",
       "    <tr>\n",
       "      <th>8</th>\n",
       "      <td>NaN</td>\n",
       "      <td>NaN</td>\n",
       "      <td>NaN</td>\n",
       "      <td>2-7 Yrs</td>\n",
       "    </tr>\n",
       "    <tr>\n",
       "      <th>9</th>\n",
       "      <td>NaN</td>\n",
       "      <td>NaN</td>\n",
       "      <td>NaN</td>\n",
       "      <td>2-4 Yrs</td>\n",
       "    </tr>\n",
       "    <tr>\n",
       "      <th>10</th>\n",
       "      <td>NaN</td>\n",
       "      <td>NaN</td>\n",
       "      <td>NaN</td>\n",
       "      <td>7-12 Yrs</td>\n",
       "    </tr>\n",
       "    <tr>\n",
       "      <th>11</th>\n",
       "      <td>NaN</td>\n",
       "      <td>NaN</td>\n",
       "      <td>NaN</td>\n",
       "      <td>0-3 Yrs</td>\n",
       "    </tr>\n",
       "    <tr>\n",
       "      <th>12</th>\n",
       "      <td>NaN</td>\n",
       "      <td>NaN</td>\n",
       "      <td>NaN</td>\n",
       "      <td>4-7 Yrs</td>\n",
       "    </tr>\n",
       "    <tr>\n",
       "      <th>13</th>\n",
       "      <td>NaN</td>\n",
       "      <td>NaN</td>\n",
       "      <td>NaN</td>\n",
       "      <td>4-9 Yrs</td>\n",
       "    </tr>\n",
       "    <tr>\n",
       "      <th>14</th>\n",
       "      <td>NaN</td>\n",
       "      <td>NaN</td>\n",
       "      <td>NaN</td>\n",
       "      <td>2-7 Yrs</td>\n",
       "    </tr>\n",
       "    <tr>\n",
       "      <th>15</th>\n",
       "      <td>NaN</td>\n",
       "      <td>NaN</td>\n",
       "      <td>NaN</td>\n",
       "      <td>0-2 Yrs</td>\n",
       "    </tr>\n",
       "    <tr>\n",
       "      <th>16</th>\n",
       "      <td>NaN</td>\n",
       "      <td>NaN</td>\n",
       "      <td>NaN</td>\n",
       "      <td>6-10 Yrs</td>\n",
       "    </tr>\n",
       "    <tr>\n",
       "      <th>17</th>\n",
       "      <td>NaN</td>\n",
       "      <td>NaN</td>\n",
       "      <td>NaN</td>\n",
       "      <td>2-4 Yrs</td>\n",
       "    </tr>\n",
       "    <tr>\n",
       "      <th>18</th>\n",
       "      <td>NaN</td>\n",
       "      <td>NaN</td>\n",
       "      <td>NaN</td>\n",
       "      <td>1-4 Yrs</td>\n",
       "    </tr>\n",
       "    <tr>\n",
       "      <th>19</th>\n",
       "      <td>NaN</td>\n",
       "      <td>NaN</td>\n",
       "      <td>NaN</td>\n",
       "      <td>2-5 Yrs</td>\n",
       "    </tr>\n",
       "  </tbody>\n",
       "</table>\n",
       "</div>"
      ],
      "text/plain": [
       "    Job title  Job location  Company name Experience required\n",
       "0         NaN           NaN           NaN             3-7 Yrs\n",
       "1         NaN           NaN           NaN             3-6 Yrs\n",
       "2         NaN           NaN           NaN            5-10 Yrs\n",
       "3         NaN           NaN           NaN             1-3 Yrs\n",
       "4         NaN           NaN           NaN            7-10 Yrs\n",
       "5         NaN           NaN           NaN             3-7 Yrs\n",
       "6         NaN           NaN           NaN             0-5 Yrs\n",
       "7         NaN           NaN           NaN             5-8 Yrs\n",
       "8         NaN           NaN           NaN             2-7 Yrs\n",
       "9         NaN           NaN           NaN             2-4 Yrs\n",
       "10        NaN           NaN           NaN            7-12 Yrs\n",
       "11        NaN           NaN           NaN             0-3 Yrs\n",
       "12        NaN           NaN           NaN             4-7 Yrs\n",
       "13        NaN           NaN           NaN             4-9 Yrs\n",
       "14        NaN           NaN           NaN             2-7 Yrs\n",
       "15        NaN           NaN           NaN             0-2 Yrs\n",
       "16        NaN           NaN           NaN            6-10 Yrs\n",
       "17        NaN           NaN           NaN             2-4 Yrs\n",
       "18        NaN           NaN           NaN             1-4 Yrs\n",
       "19        NaN           NaN           NaN             2-5 Yrs"
      ]
     },
     "execution_count": 22,
     "metadata": {},
     "output_type": "execute_result"
    }
   ],
   "source": [
    "jobs=pd.DataFrame({})\n",
    "jobs['Job title']=job_title\n",
    "jobs['Job location']=job_location\n",
    "jobs['Company name']=company_name\n",
    "jobs['Experience required']=experience_required\n",
    "jobs"
   ]
  },
  {
   "cell_type": "markdown",
   "id": "70ff8020",
   "metadata": {},
   "source": [
    "2.Python program to scrape data for “Data Scientist” Job position in “Bangalore” location"
   ]
  },
  {
   "cell_type": "code",
   "execution_count": 23,
   "id": "d8accb7a",
   "metadata": {},
   "outputs": [],
   "source": [
    "driver=webdriver.Chrome(\"chromedriver.exe\")"
   ]
  },
  {
   "cell_type": "code",
   "execution_count": 24,
   "id": "6b6c8dc2",
   "metadata": {},
   "outputs": [],
   "source": [
    "time.sleep(2)"
   ]
  },
  {
   "cell_type": "code",
   "execution_count": 25,
   "id": "660a17df",
   "metadata": {},
   "outputs": [],
   "source": [
    "driver.get(\"https://www.naukri.com/\")"
   ]
  },
  {
   "cell_type": "code",
   "execution_count": 26,
   "id": "2aa80212",
   "metadata": {},
   "outputs": [],
   "source": [
    "search_field_designation=driver.find_element_by_class_name(\"suggestor-input \")\n",
    "search_field_designation.send_keys(\"Data Scientist\")"
   ]
  },
  {
   "cell_type": "code",
   "execution_count": 27,
   "id": "6693761d",
   "metadata": {},
   "outputs": [],
   "source": [
    "search_field_location=driver.find_element_by_xpath(\"/html/body/div/div[2]/div[3]/div/div/div[3]/div/div/div/input\")\n",
    "search_field_location.send_keys('Bangalore')"
   ]
  },
  {
   "cell_type": "code",
   "execution_count": 28,
   "id": "4248975d",
   "metadata": {},
   "outputs": [],
   "source": [
    "search_button=driver.find_element_by_xpath('/html/body/div/div[2]/div[3]/div/div/div[6]')\n",
    "search_button.click()"
   ]
  },
  {
   "cell_type": "code",
   "execution_count": 29,
   "id": "40eaf2f2",
   "metadata": {},
   "outputs": [],
   "source": [
    "job_titles=[]\n",
    "job_location=[]\n",
    "company_name=[]"
   ]
  },
  {
   "cell_type": "code",
   "execution_count": 30,
   "id": "4a6120af",
   "metadata": {},
   "outputs": [
    {
     "data": {
      "text/plain": [
       "[<selenium.webdriver.remote.webelement.WebElement (session=\"ea94c888350a4f337a48ca1517ec287a\", element=\"2772d78e-0908-4f2c-9e3a-1906c8fecee4\")>,\n",
       " <selenium.webdriver.remote.webelement.WebElement (session=\"ea94c888350a4f337a48ca1517ec287a\", element=\"1b9bad0c-ed81-4ffb-be57-87d2c80390b2\")>,\n",
       " <selenium.webdriver.remote.webelement.WebElement (session=\"ea94c888350a4f337a48ca1517ec287a\", element=\"5073f2d3-cd3b-4f94-83ad-d036b2c6a941\")>,\n",
       " <selenium.webdriver.remote.webelement.WebElement (session=\"ea94c888350a4f337a48ca1517ec287a\", element=\"b1f30cf3-dec5-47f6-b401-90cc47004bea\")>,\n",
       " <selenium.webdriver.remote.webelement.WebElement (session=\"ea94c888350a4f337a48ca1517ec287a\", element=\"f22c7018-5c2b-4fac-8862-a829f1dd8c10\")>,\n",
       " <selenium.webdriver.remote.webelement.WebElement (session=\"ea94c888350a4f337a48ca1517ec287a\", element=\"a00e37a0-f111-4306-8580-af57ef82be3a\")>,\n",
       " <selenium.webdriver.remote.webelement.WebElement (session=\"ea94c888350a4f337a48ca1517ec287a\", element=\"005b34d5-dde4-40c0-a403-6be04de5b60b\")>,\n",
       " <selenium.webdriver.remote.webelement.WebElement (session=\"ea94c888350a4f337a48ca1517ec287a\", element=\"dde7bd47-998c-431e-91d2-9f58d853c59a\")>,\n",
       " <selenium.webdriver.remote.webelement.WebElement (session=\"ea94c888350a4f337a48ca1517ec287a\", element=\"b87249bb-6f9c-4ebb-b894-c2a5e3a80e83\")>,\n",
       " <selenium.webdriver.remote.webelement.WebElement (session=\"ea94c888350a4f337a48ca1517ec287a\", element=\"915a99bc-2589-43b7-8a7d-c5a430129b50\")>]"
      ]
     },
     "execution_count": 30,
     "metadata": {},
     "output_type": "execute_result"
    }
   ],
   "source": [
    "title_tags=driver.find_elements_by_xpath(\"//a[@class='title fw500 ellipsis']\")\n",
    "title_tags[0:10]"
   ]
  },
  {
   "cell_type": "code",
   "execution_count": 31,
   "id": "888e2d61",
   "metadata": {},
   "outputs": [
    {
     "data": {
      "text/plain": [
       "['Senior Data Scientist Grade12',\n",
       " 'Senior Data Scientist Grade12',\n",
       " 'Senior Data Scientist',\n",
       " 'Data Scientist: Advanced Analytics',\n",
       " 'Data Scientist',\n",
       " 'Data Scientist',\n",
       " 'Data Scientist: Artificial Intelligence',\n",
       " 'Data Scientist: Artificial Intelligence',\n",
       " 'Data Scientist: Artificial Intelligence',\n",
       " 'Data Scientist: Artificial Intelligence']"
      ]
     },
     "execution_count": 31,
     "metadata": {},
     "output_type": "execute_result"
    }
   ],
   "source": [
    "for i in title_tags:\n",
    "    title=i.text\n",
    "    job_titles.append(title)\n",
    "job_titles[0:10]"
   ]
  },
  {
   "cell_type": "code",
   "execution_count": 32,
   "id": "91740f81",
   "metadata": {},
   "outputs": [
    {
     "data": {
      "text/plain": [
       "[<selenium.webdriver.remote.webelement.WebElement (session=\"ea94c888350a4f337a48ca1517ec287a\", element=\"a532c033-2de9-4bfb-ad8a-a9b16837616d\")>,\n",
       " <selenium.webdriver.remote.webelement.WebElement (session=\"ea94c888350a4f337a48ca1517ec287a\", element=\"7962b9d6-45cf-4e9b-b971-859eb75664a5\")>,\n",
       " <selenium.webdriver.remote.webelement.WebElement (session=\"ea94c888350a4f337a48ca1517ec287a\", element=\"c65aa37b-16d7-48b9-88ef-3557a5b0c161\")>,\n",
       " <selenium.webdriver.remote.webelement.WebElement (session=\"ea94c888350a4f337a48ca1517ec287a\", element=\"d02342c5-afeb-4029-8b91-68b6c71240e2\")>,\n",
       " <selenium.webdriver.remote.webelement.WebElement (session=\"ea94c888350a4f337a48ca1517ec287a\", element=\"34ca109c-a54e-44e8-87f0-8206034a6c3e\")>,\n",
       " <selenium.webdriver.remote.webelement.WebElement (session=\"ea94c888350a4f337a48ca1517ec287a\", element=\"4bf2ad71-bbd3-46fb-a8c6-5a187d2fac8b\")>,\n",
       " <selenium.webdriver.remote.webelement.WebElement (session=\"ea94c888350a4f337a48ca1517ec287a\", element=\"bf2efd37-fd51-42f9-bb9c-59a7e5ef373c\")>,\n",
       " <selenium.webdriver.remote.webelement.WebElement (session=\"ea94c888350a4f337a48ca1517ec287a\", element=\"de583129-dbd4-405e-98d5-27160d3e1817\")>,\n",
       " <selenium.webdriver.remote.webelement.WebElement (session=\"ea94c888350a4f337a48ca1517ec287a\", element=\"d5bff835-eb66-4932-9794-80d8cb475dbc\")>,\n",
       " <selenium.webdriver.remote.webelement.WebElement (session=\"ea94c888350a4f337a48ca1517ec287a\", element=\"9c168b6a-6b3e-4eff-8d3b-b004a6d4ceab\")>]"
      ]
     },
     "execution_count": 32,
     "metadata": {},
     "output_type": "execute_result"
    }
   ],
   "source": [
    "location_tags=driver.find_elements_by_xpath(\"//li[@class='fleft grey-text br2 placeHolderLi location']\")\n",
    "location_tags[0:10]"
   ]
  },
  {
   "cell_type": "code",
   "execution_count": 33,
   "id": "3a1d3a2f",
   "metadata": {},
   "outputs": [
    {
     "data": {
      "text/plain": [
       "['Bangalore/Bengaluru',\n",
       " 'Bangalore/Bengaluru',\n",
       " 'Bangalore/Bengaluru',\n",
       " 'Bengaluru/Bangalore',\n",
       " 'Hyderabad/Secunderabad, Bangalore/Bengaluru, Delhi / NCR',\n",
       " 'Bangalore/Bengaluru',\n",
       " 'Bangalore/Bengaluru',\n",
       " 'Bengaluru/Bangalore',\n",
       " 'Bengaluru/Bangalore',\n",
       " 'Bengaluru/Bangalore']"
      ]
     },
     "execution_count": 33,
     "metadata": {},
     "output_type": "execute_result"
    }
   ],
   "source": [
    "for i in location_tags:\n",
    "    location=i.text\n",
    "    job_location.append(location)\n",
    "job_location[0:10]"
   ]
  },
  {
   "cell_type": "code",
   "execution_count": 34,
   "id": "0bc830d4",
   "metadata": {},
   "outputs": [
    {
     "data": {
      "text/plain": [
       "[<selenium.webdriver.remote.webelement.WebElement (session=\"ea94c888350a4f337a48ca1517ec287a\", element=\"e0282899-26c4-42a8-843f-d7e4e121ae93\")>,\n",
       " <selenium.webdriver.remote.webelement.WebElement (session=\"ea94c888350a4f337a48ca1517ec287a\", element=\"2db8ea17-a95c-451a-ad14-5726a4b30885\")>,\n",
       " <selenium.webdriver.remote.webelement.WebElement (session=\"ea94c888350a4f337a48ca1517ec287a\", element=\"4eb295f9-0873-48d8-bbd7-fd0f57c765c2\")>,\n",
       " <selenium.webdriver.remote.webelement.WebElement (session=\"ea94c888350a4f337a48ca1517ec287a\", element=\"e6b18bd5-390f-4278-81b3-51d679f6a3b2\")>,\n",
       " <selenium.webdriver.remote.webelement.WebElement (session=\"ea94c888350a4f337a48ca1517ec287a\", element=\"4da31890-fdde-4b0e-8158-b368ae928aca\")>,\n",
       " <selenium.webdriver.remote.webelement.WebElement (session=\"ea94c888350a4f337a48ca1517ec287a\", element=\"b289ee0d-65d3-49c3-86a5-8de64961750b\")>,\n",
       " <selenium.webdriver.remote.webelement.WebElement (session=\"ea94c888350a4f337a48ca1517ec287a\", element=\"fffe0be1-1361-46d8-b3cf-daf12afa15ab\")>,\n",
       " <selenium.webdriver.remote.webelement.WebElement (session=\"ea94c888350a4f337a48ca1517ec287a\", element=\"8a834d85-a7e0-4a35-99ac-dad6be2f83b8\")>,\n",
       " <selenium.webdriver.remote.webelement.WebElement (session=\"ea94c888350a4f337a48ca1517ec287a\", element=\"1d924701-2eec-467d-9e89-4da0f301d8db\")>,\n",
       " <selenium.webdriver.remote.webelement.WebElement (session=\"ea94c888350a4f337a48ca1517ec287a\", element=\"a7b18073-44c8-4aa2-b427-7ccbba8ec0e9\")>]"
      ]
     },
     "execution_count": 34,
     "metadata": {},
     "output_type": "execute_result"
    }
   ],
   "source": [
    "company_tags=driver.find_elements_by_xpath(\"//a[@class='subTitle ellipsis fleft']\")\n",
    "company_tags[0:10]"
   ]
  },
  {
   "cell_type": "code",
   "execution_count": 35,
   "id": "3bf0f60f",
   "metadata": {},
   "outputs": [
    {
     "data": {
      "text/plain": [
       "['Flipkart',\n",
       " 'Flipkart',\n",
       " 'Fractal Analytics',\n",
       " 'IBM',\n",
       " 'Genpact',\n",
       " 'VISA',\n",
       " 'IBM',\n",
       " 'IBM',\n",
       " 'IBM',\n",
       " 'IBM']"
      ]
     },
     "execution_count": 35,
     "metadata": {},
     "output_type": "execute_result"
    }
   ],
   "source": [
    "for i in company_tags:\n",
    "    company=i.text\n",
    "    company_name.append(company)\n",
    "company_name[0:10]"
   ]
  },
  {
   "cell_type": "code",
   "execution_count": 36,
   "id": "fdcfea93",
   "metadata": {},
   "outputs": [
    {
     "data": {
      "text/html": [
       "<div>\n",
       "<style scoped>\n",
       "    .dataframe tbody tr th:only-of-type {\n",
       "        vertical-align: middle;\n",
       "    }\n",
       "\n",
       "    .dataframe tbody tr th {\n",
       "        vertical-align: top;\n",
       "    }\n",
       "\n",
       "    .dataframe thead th {\n",
       "        text-align: right;\n",
       "    }\n",
       "</style>\n",
       "<table border=\"1\" class=\"dataframe\">\n",
       "  <thead>\n",
       "    <tr style=\"text-align: right;\">\n",
       "      <th></th>\n",
       "      <th>Title</th>\n",
       "      <th>Location</th>\n",
       "      <th>Company name</th>\n",
       "    </tr>\n",
       "  </thead>\n",
       "  <tbody>\n",
       "    <tr>\n",
       "      <th>0</th>\n",
       "      <td>Senior Data Scientist Grade12</td>\n",
       "      <td>Bangalore/Bengaluru</td>\n",
       "      <td>Flipkart</td>\n",
       "    </tr>\n",
       "    <tr>\n",
       "      <th>1</th>\n",
       "      <td>Senior Data Scientist Grade12</td>\n",
       "      <td>Bangalore/Bengaluru</td>\n",
       "      <td>Flipkart</td>\n",
       "    </tr>\n",
       "    <tr>\n",
       "      <th>2</th>\n",
       "      <td>Senior Data Scientist</td>\n",
       "      <td>Bangalore/Bengaluru</td>\n",
       "      <td>Fractal Analytics</td>\n",
       "    </tr>\n",
       "    <tr>\n",
       "      <th>3</th>\n",
       "      <td>Data Scientist: Advanced Analytics</td>\n",
       "      <td>Bengaluru/Bangalore</td>\n",
       "      <td>IBM</td>\n",
       "    </tr>\n",
       "    <tr>\n",
       "      <th>4</th>\n",
       "      <td>Data Scientist</td>\n",
       "      <td>Hyderabad/Secunderabad, Bangalore/Bengaluru, D...</td>\n",
       "      <td>Genpact</td>\n",
       "    </tr>\n",
       "    <tr>\n",
       "      <th>5</th>\n",
       "      <td>Data Scientist</td>\n",
       "      <td>Bangalore/Bengaluru</td>\n",
       "      <td>VISA</td>\n",
       "    </tr>\n",
       "    <tr>\n",
       "      <th>6</th>\n",
       "      <td>Data Scientist: Artificial Intelligence</td>\n",
       "      <td>Bangalore/Bengaluru</td>\n",
       "      <td>IBM</td>\n",
       "    </tr>\n",
       "    <tr>\n",
       "      <th>7</th>\n",
       "      <td>Data Scientist: Artificial Intelligence</td>\n",
       "      <td>Bengaluru/Bangalore</td>\n",
       "      <td>IBM</td>\n",
       "    </tr>\n",
       "    <tr>\n",
       "      <th>8</th>\n",
       "      <td>Data Scientist: Artificial Intelligence</td>\n",
       "      <td>Bengaluru/Bangalore</td>\n",
       "      <td>IBM</td>\n",
       "    </tr>\n",
       "    <tr>\n",
       "      <th>9</th>\n",
       "      <td>Data Scientist: Artificial Intelligence</td>\n",
       "      <td>Bengaluru/Bangalore</td>\n",
       "      <td>IBM</td>\n",
       "    </tr>\n",
       "  </tbody>\n",
       "</table>\n",
       "</div>"
      ],
      "text/plain": [
       "                                     Title  \\\n",
       "0            Senior Data Scientist Grade12   \n",
       "1            Senior Data Scientist Grade12   \n",
       "2                    Senior Data Scientist   \n",
       "3       Data Scientist: Advanced Analytics   \n",
       "4                           Data Scientist   \n",
       "5                           Data Scientist   \n",
       "6  Data Scientist: Artificial Intelligence   \n",
       "7  Data Scientist: Artificial Intelligence   \n",
       "8  Data Scientist: Artificial Intelligence   \n",
       "9  Data Scientist: Artificial Intelligence   \n",
       "\n",
       "                                            Location       Company name  \n",
       "0                                Bangalore/Bengaluru           Flipkart  \n",
       "1                                Bangalore/Bengaluru           Flipkart  \n",
       "2                                Bangalore/Bengaluru  Fractal Analytics  \n",
       "3                                Bengaluru/Bangalore                IBM  \n",
       "4  Hyderabad/Secunderabad, Bangalore/Bengaluru, D...            Genpact  \n",
       "5                                Bangalore/Bengaluru               VISA  \n",
       "6                                Bangalore/Bengaluru                IBM  \n",
       "7                                Bengaluru/Bangalore                IBM  \n",
       "8                                Bengaluru/Bangalore                IBM  \n",
       "9                                Bengaluru/Bangalore                IBM  "
      ]
     },
     "execution_count": 36,
     "metadata": {},
     "output_type": "execute_result"
    }
   ],
   "source": [
    "jobs=pd.DataFrame({})\n",
    "jobs['Title']=job_titles[0:10]\n",
    "jobs['Location']=job_location[0:10]\n",
    "jobs['Company name']=company_name[0:10]\n",
    "jobs"
   ]
  },
  {
   "cell_type": "markdown",
   "id": "0a70a642",
   "metadata": {},
   "source": [
    "3.Python program to scrape data using the filters available on the webpage"
   ]
  },
  {
   "cell_type": "code",
   "execution_count": 37,
   "id": "23597e0e",
   "metadata": {},
   "outputs": [],
   "source": [
    "driver=webdriver.Chrome('chromedriver.exe')"
   ]
  },
  {
   "cell_type": "code",
   "execution_count": 38,
   "id": "1c507a70",
   "metadata": {},
   "outputs": [],
   "source": [
    "driver.get('https://www.naukri.com/')\n"
   ]
  },
  {
   "cell_type": "code",
   "execution_count": 39,
   "id": "03df98ce",
   "metadata": {},
   "outputs": [],
   "source": [
    "search_field_designation=driver.find_element_by_class_name(\"suggestor-input \")\n",
    "search_field_designation.send_keys('Data Scientist')"
   ]
  },
  {
   "cell_type": "code",
   "execution_count": 40,
   "id": "0a4b50b7",
   "metadata": {},
   "outputs": [],
   "source": [
    "search_button=driver.find_element_by_xpath(\"/html/body/div/div[2]/div[3]/div/div/div[6]\")\n",
    "search_button.click()"
   ]
  },
  {
   "cell_type": "code",
   "execution_count": 41,
   "id": "70ddc06b",
   "metadata": {},
   "outputs": [],
   "source": [
    "job_title=[]\n",
    "job_location=[]\n",
    "company_name=[]\n",
    "experience_required=[]"
   ]
  },
  {
   "cell_type": "code",
   "execution_count": 42,
   "id": "e505f202",
   "metadata": {},
   "outputs": [
    {
     "data": {
      "text/plain": [
       "[]"
      ]
     },
     "execution_count": 42,
     "metadata": {},
     "output_type": "execute_result"
    }
   ],
   "source": [
    "title_tags=driver.find_elements_by_xpath(\"//a[@class='title fw500 ellipsis']\")\n",
    "title_tags[0:10]"
   ]
  },
  {
   "cell_type": "code",
   "execution_count": 43,
   "id": "5c38107e",
   "metadata": {},
   "outputs": [
    {
     "data": {
      "text/plain": [
       "[]"
      ]
     },
     "execution_count": 43,
     "metadata": {},
     "output_type": "execute_result"
    }
   ],
   "source": [
    "for i in title_tags:\n",
    "    title=i.text\n",
    "    job_title.append(title)\n",
    "job_title[0:10]"
   ]
  },
  {
   "cell_type": "code",
   "execution_count": 44,
   "id": "d582f7fc",
   "metadata": {},
   "outputs": [
    {
     "data": {
      "text/plain": [
       "[]"
      ]
     },
     "execution_count": 44,
     "metadata": {},
     "output_type": "execute_result"
    }
   ],
   "source": [
    "location_tags=driver.find_elements_by_xpath(\"//li[@class='fleft grey-text br2 placeHolderLi location']\")\n",
    "location_tags[0:10]"
   ]
  },
  {
   "cell_type": "code",
   "execution_count": 45,
   "id": "a5e16c07",
   "metadata": {},
   "outputs": [
    {
     "data": {
      "text/plain": [
       "[]"
      ]
     },
     "execution_count": 45,
     "metadata": {},
     "output_type": "execute_result"
    }
   ],
   "source": [
    "for i in location_tags:\n",
    "    location=i.text\n",
    "    job_location.append(location)\n",
    "job_location[0:10]"
   ]
  },
  {
   "cell_type": "code",
   "execution_count": 46,
   "id": "f603adb4",
   "metadata": {},
   "outputs": [
    {
     "data": {
      "text/plain": [
       "[]"
      ]
     },
     "execution_count": 46,
     "metadata": {},
     "output_type": "execute_result"
    }
   ],
   "source": [
    "company_tags=driver.find_elements_by_xpath(\"//a[@class='subTitle ellipsis fleft']\")\n",
    "company_tags[0:10]"
   ]
  },
  {
   "cell_type": "code",
   "execution_count": 47,
   "id": "0b00e43b",
   "metadata": {},
   "outputs": [
    {
     "data": {
      "text/plain": [
       "[]"
      ]
     },
     "execution_count": 47,
     "metadata": {},
     "output_type": "execute_result"
    }
   ],
   "source": [
    "for i in company_tags:\n",
    "    company=i.text\n",
    "    company_name.append(company)\n",
    "company_name[0:10]"
   ]
  },
  {
   "cell_type": "code",
   "execution_count": 48,
   "id": "e86cf661",
   "metadata": {},
   "outputs": [
    {
     "data": {
      "text/plain": [
       "[]"
      ]
     },
     "execution_count": 48,
     "metadata": {},
     "output_type": "execute_result"
    }
   ],
   "source": [
    "experience_tags=driver.find_elements_by_xpath(\"//li[@class='fleft grey-text br2 placeHolderLi experience']\")\n",
    "experience_tags[0:10]"
   ]
  },
  {
   "cell_type": "code",
   "execution_count": 49,
   "id": "792b94ab",
   "metadata": {},
   "outputs": [
    {
     "data": {
      "text/plain": [
       "[]"
      ]
     },
     "execution_count": 49,
     "metadata": {},
     "output_type": "execute_result"
    }
   ],
   "source": [
    "for i in experience_tags:\n",
    "    experience=i.text\n",
    "    experience_required.append(experience)\n",
    "experience_required[0:10]"
   ]
  },
  {
   "cell_type": "code",
   "execution_count": 50,
   "id": "1c30b8a9",
   "metadata": {},
   "outputs": [
    {
     "data": {
      "text/html": [
       "<div>\n",
       "<style scoped>\n",
       "    .dataframe tbody tr th:only-of-type {\n",
       "        vertical-align: middle;\n",
       "    }\n",
       "\n",
       "    .dataframe tbody tr th {\n",
       "        vertical-align: top;\n",
       "    }\n",
       "\n",
       "    .dataframe thead th {\n",
       "        text-align: right;\n",
       "    }\n",
       "</style>\n",
       "<table border=\"1\" class=\"dataframe\">\n",
       "  <thead>\n",
       "    <tr style=\"text-align: right;\">\n",
       "      <th></th>\n",
       "      <th>Job title</th>\n",
       "      <th>Location</th>\n",
       "      <th>Company_name</th>\n",
       "      <th>Experience</th>\n",
       "    </tr>\n",
       "  </thead>\n",
       "  <tbody>\n",
       "  </tbody>\n",
       "</table>\n",
       "</div>"
      ],
      "text/plain": [
       "Empty DataFrame\n",
       "Columns: [Job title, Location, Company_name, Experience]\n",
       "Index: []"
      ]
     },
     "execution_count": 50,
     "metadata": {},
     "output_type": "execute_result"
    }
   ],
   "source": [
    "jobs=pd.DataFrame({})\n",
    "jobs['Job title']=job_title[0:10]\n",
    "jobs['Location']=job_location[0:10]\n",
    "jobs['Company_name']=company_name[0:10]\n",
    "jobs['Experience']=experience_required[0:10]\n",
    "jobs"
   ]
  },
  {
   "cell_type": "markdown",
   "id": "1b014dae",
   "metadata": {},
   "source": [
    "4.Python program to scrape data for first 10 job results for Data Scientist Designation in Noida location through ambitionbox.com webpage"
   ]
  },
  {
   "cell_type": "code",
   "execution_count": 51,
   "id": "72441608",
   "metadata": {},
   "outputs": [],
   "source": [
    "driver=webdriver.Chrome(\"chromedriver.exe\")"
   ]
  },
  {
   "cell_type": "code",
   "execution_count": 52,
   "id": "c71080d0",
   "metadata": {},
   "outputs": [],
   "source": [
    "driver.get('https://www.ambitionbox.com/')"
   ]
  },
  {
   "cell_type": "code",
   "execution_count": 53,
   "id": "7f3746d4",
   "metadata": {},
   "outputs": [],
   "source": [
    "job_option=driver.find_element_by_xpath('/html/body/div[1]/nav/nav/a[6]')\n",
    "job_option.click()"
   ]
  },
  {
   "cell_type": "code",
   "execution_count": 54,
   "id": "1ea1ab59",
   "metadata": {},
   "outputs": [],
   "source": [
    "search_field_designation=driver.find_element_by_xpath('/html/body/div/div/div/div[2]/div[1]/div[1]/div/div/div/div/span/input')\n",
    "search_field_designation.send_keys(\"Data Scientist\")"
   ]
  },
  {
   "cell_type": "code",
   "execution_count": 55,
   "id": "e7c3a155",
   "metadata": {},
   "outputs": [],
   "source": [
    "search_button=driver.find_element_by_xpath('/html/body/div/div/div/div[2]/div[1]/div[1]/div/div/div/button')\n",
    "search_button.click()"
   ]
  },
  {
   "cell_type": "code",
   "execution_count": 56,
   "id": "a570963a",
   "metadata": {},
   "outputs": [],
   "source": [
    "company_name=[]\n",
    "job_posted=[]\n",
    "rating_of_company=[]"
   ]
  },
  {
   "cell_type": "code",
   "execution_count": 57,
   "id": "2d94efb9",
   "metadata": {},
   "outputs": [
    {
     "data": {
      "text/plain": [
       "[]"
      ]
     },
     "execution_count": 57,
     "metadata": {},
     "output_type": "execute_result"
    }
   ],
   "source": [
    "company_tags=driver.find_elements_by_xpath(\"//p[@class='company body-medium']\")\n",
    "company_tags[0:10]"
   ]
  },
  {
   "cell_type": "code",
   "execution_count": 58,
   "id": "fc3fc37c",
   "metadata": {},
   "outputs": [
    {
     "data": {
      "text/plain": [
       "[]"
      ]
     },
     "execution_count": 58,
     "metadata": {},
     "output_type": "execute_result"
    }
   ],
   "source": [
    "for i in company_tags:\n",
    "    company=i.text\n",
    "    company_name.append(company)\n",
    "company_name[0:10]"
   ]
  },
  {
   "cell_type": "code",
   "execution_count": 59,
   "id": "2da5bab6",
   "metadata": {},
   "outputs": [
    {
     "data": {
      "text/plain": [
       "[]"
      ]
     },
     "execution_count": 59,
     "metadata": {},
     "output_type": "execute_result"
    }
   ],
   "source": [
    "posted_date=driver.find_elements_by_xpath(\"//span[@class='body-small-l']\")\n",
    "posted_date[0:10]"
   ]
  },
  {
   "cell_type": "code",
   "execution_count": 60,
   "id": "67b16590",
   "metadata": {},
   "outputs": [
    {
     "data": {
      "text/plain": [
       "[]"
      ]
     },
     "execution_count": 60,
     "metadata": {},
     "output_type": "execute_result"
    }
   ],
   "source": [
    "for i in posted_date:\n",
    "    posted=i.text\n",
    "    job_posted.append(posted)\n",
    "job_posted[0:20]"
   ]
  },
  {
   "cell_type": "code",
   "execution_count": 61,
   "id": "f2b05359",
   "metadata": {},
   "outputs": [
    {
     "data": {
      "text/plain": [
       "[]"
      ]
     },
     "execution_count": 61,
     "metadata": {},
     "output_type": "execute_result"
    }
   ],
   "source": [
    "rating_tags=driver.find_elements_by_xpath(\"//span[@class='body-small']\")\n",
    "rating_tags[0:10]"
   ]
  },
  {
   "cell_type": "code",
   "execution_count": 62,
   "id": "16a6b683",
   "metadata": {},
   "outputs": [
    {
     "data": {
      "text/plain": [
       "[]"
      ]
     },
     "execution_count": 62,
     "metadata": {},
     "output_type": "execute_result"
    }
   ],
   "source": [
    "for i in rating_tags:\n",
    "    rating=i.text\n",
    "    rating_of_company.append(rating)\n",
    "rating_of_company[0:10]"
   ]
  },
  {
   "cell_type": "code",
   "execution_count": 63,
   "id": "2c24ea2f",
   "metadata": {},
   "outputs": [
    {
     "name": "stdout",
     "output_type": "stream",
     "text": [
      "0 0 0\n"
     ]
    }
   ],
   "source": [
    "print(len(company_name),len(job_posted),len(rating_of_company))"
   ]
  },
  {
   "cell_type": "code",
   "execution_count": 64,
   "id": "69568a8e",
   "metadata": {},
   "outputs": [
    {
     "data": {
      "text/html": [
       "<div>\n",
       "<style scoped>\n",
       "    .dataframe tbody tr th:only-of-type {\n",
       "        vertical-align: middle;\n",
       "    }\n",
       "\n",
       "    .dataframe tbody tr th {\n",
       "        vertical-align: top;\n",
       "    }\n",
       "\n",
       "    .dataframe thead th {\n",
       "        text-align: right;\n",
       "    }\n",
       "</style>\n",
       "<table border=\"1\" class=\"dataframe\">\n",
       "  <thead>\n",
       "    <tr style=\"text-align: right;\">\n",
       "      <th></th>\n",
       "      <th>Company name</th>\n",
       "      <th>Job posted date</th>\n",
       "      <th>Rating of company</th>\n",
       "    </tr>\n",
       "  </thead>\n",
       "  <tbody>\n",
       "  </tbody>\n",
       "</table>\n",
       "</div>"
      ],
      "text/plain": [
       "Empty DataFrame\n",
       "Columns: [Company name, Job posted date, Rating of company]\n",
       "Index: []"
      ]
     },
     "execution_count": 64,
     "metadata": {},
     "output_type": "execute_result"
    }
   ],
   "source": [
    "#Making DataFrame\n",
    "jobs=pd.DataFrame({})\n",
    "jobs['Company name']=company_name[0:10]\n",
    "jobs['Job posted date']=job_posted[0:10]\n",
    "jobs['Rating of company']=rating_of_company[0:10]\n",
    "jobs"
   ]
  },
  {
   "cell_type": "markdown",
   "id": "4fe2e260",
   "metadata": {},
   "source": [
    "5.Python program to scrape the salary data for Data Scientist designation5"
   ]
  },
  {
   "cell_type": "code",
   "execution_count": 65,
   "id": "b428d65a",
   "metadata": {},
   "outputs": [],
   "source": [
    "driver=webdriver.Chrome('chromedriver.exe')"
   ]
  },
  {
   "cell_type": "code",
   "execution_count": 66,
   "id": "e05257c1",
   "metadata": {},
   "outputs": [],
   "source": [
    "driver.get('https://www.ambitionbox.com/')"
   ]
  },
  {
   "cell_type": "code",
   "execution_count": 67,
   "id": "2fbb1704",
   "metadata": {},
   "outputs": [],
   "source": [
    "salary_option=driver.find_element_by_xpath('/html/body/div[1]/nav/nav/a[4]')\n",
    "salary_option.click()"
   ]
  },
  {
   "cell_type": "code",
   "execution_count": 68,
   "id": "fe1a2380",
   "metadata": {},
   "outputs": [],
   "source": [
    "search_field_designation=driver.find_element_by_xpath('/html/body/div/div/div/main/section[1]/div[2]/div[1]/span/input')\n",
    "search_field_designation.send_keys('Data Scientist')"
   ]
  },
  {
   "cell_type": "code",
   "execution_count": 69,
   "id": "baeaa8f2",
   "metadata": {},
   "outputs": [],
   "source": [
    "company_name=[]\n",
    "no_of_salaries=[]\n",
    "experience_required=[]\n",
    "min_salary=[]\n",
    "avg_salary=[]\n",
    "max_salary=[]"
   ]
  },
  {
   "cell_type": "code",
   "execution_count": 70,
   "id": "8dea05cd",
   "metadata": {},
   "outputs": [
    {
     "data": {
      "text/plain": [
       "[<selenium.webdriver.remote.webelement.WebElement (session=\"ae3fbec99631989236183b112a668064\", element=\"1e9b962e-0bd9-44d7-89f7-7c5ff37e5a7e\")>,\n",
       " <selenium.webdriver.remote.webelement.WebElement (session=\"ae3fbec99631989236183b112a668064\", element=\"63e92970-21c5-49a8-b7dc-fa91a4fad158\")>,\n",
       " <selenium.webdriver.remote.webelement.WebElement (session=\"ae3fbec99631989236183b112a668064\", element=\"1da2ab8d-2998-4b45-8775-e8068b5e19ad\")>,\n",
       " <selenium.webdriver.remote.webelement.WebElement (session=\"ae3fbec99631989236183b112a668064\", element=\"4546a03d-6016-4a36-9c34-856920a8b94d\")>,\n",
       " <selenium.webdriver.remote.webelement.WebElement (session=\"ae3fbec99631989236183b112a668064\", element=\"02744581-002f-43f5-a19b-78e690ec661a\")>,\n",
       " <selenium.webdriver.remote.webelement.WebElement (session=\"ae3fbec99631989236183b112a668064\", element=\"dbcd20b0-d272-47f9-ba4d-8ede47ce6372\")>,\n",
       " <selenium.webdriver.remote.webelement.WebElement (session=\"ae3fbec99631989236183b112a668064\", element=\"3e7f83a0-990d-4bce-b0fc-157ba568cf6d\")>,\n",
       " <selenium.webdriver.remote.webelement.WebElement (session=\"ae3fbec99631989236183b112a668064\", element=\"c706b446-f92b-4201-bc4a-b2863cc282bc\")>,\n",
       " <selenium.webdriver.remote.webelement.WebElement (session=\"ae3fbec99631989236183b112a668064\", element=\"8fb62a84-6a36-4aa8-b629-99425363a038\")>,\n",
       " <selenium.webdriver.remote.webelement.WebElement (session=\"ae3fbec99631989236183b112a668064\", element=\"b78a0e94-8d74-4775-af43-53ca8489af93\")>]"
      ]
     },
     "execution_count": 70,
     "metadata": {},
     "output_type": "execute_result"
    }
   ],
   "source": [
    "company_tags=driver.find_elements_by_xpath(\"//div[@class='name']\")\n",
    "company_tags[0:10]"
   ]
  },
  {
   "cell_type": "code",
   "execution_count": 71,
   "id": "c020f0dd",
   "metadata": {},
   "outputs": [
    {
     "data": {
      "text/plain": [
       "['Google\\nbased on 11 salaries',\n",
       " 'Arista Networks\\nbased on 13 salaries',\n",
       " 'Microsoft Corporation\\nbased on 253 salaries',\n",
       " 'Goldman Sachs\\nbased on 16 salaries',\n",
       " 'Tekion\\nbased on 32 salaries',\n",
       " 'Flipkart\\nbased on 61 salaries',\n",
       " 'Servicenow Software Development India\\nbased on 54 salaries',\n",
       " 'Walmart\\nbased on 81 salaries',\n",
       " 'PayPal\\nbased on 26 salaries',\n",
       " 'Amazon\\nbased on 103 salaries']"
      ]
     },
     "execution_count": 71,
     "metadata": {},
     "output_type": "execute_result"
    }
   ],
   "source": [
    "for i in company_tags:\n",
    "    company=i.text\n",
    "    company_name.append(company)\n",
    "company_name[0:10]"
   ]
  },
  {
   "cell_type": "code",
   "execution_count": 72,
   "id": "609fd842",
   "metadata": {},
   "outputs": [
    {
     "data": {
      "text/plain": [
       "[<selenium.webdriver.remote.webelement.WebElement (session=\"ae3fbec99631989236183b112a668064\", element=\"080ad833-cd0f-4855-9ba6-cc6fdcd4ae6b\")>,\n",
       " <selenium.webdriver.remote.webelement.WebElement (session=\"ae3fbec99631989236183b112a668064\", element=\"9985cea4-62e7-490f-bb32-d06730ed7a61\")>,\n",
       " <selenium.webdriver.remote.webelement.WebElement (session=\"ae3fbec99631989236183b112a668064\", element=\"b3b2c820-63ec-4e9e-a522-cedbe5b49a2c\")>,\n",
       " <selenium.webdriver.remote.webelement.WebElement (session=\"ae3fbec99631989236183b112a668064\", element=\"02de1bb8-009c-4e80-b580-61de3db39f54\")>,\n",
       " <selenium.webdriver.remote.webelement.WebElement (session=\"ae3fbec99631989236183b112a668064\", element=\"7434135b-0578-4334-892f-d07c99734262\")>,\n",
       " <selenium.webdriver.remote.webelement.WebElement (session=\"ae3fbec99631989236183b112a668064\", element=\"6bba8624-b55b-42d6-ba2f-a620c9f53f03\")>,\n",
       " <selenium.webdriver.remote.webelement.WebElement (session=\"ae3fbec99631989236183b112a668064\", element=\"3b9f3bec-6fd1-4567-b14b-29b6529e59d8\")>,\n",
       " <selenium.webdriver.remote.webelement.WebElement (session=\"ae3fbec99631989236183b112a668064\", element=\"e13e44d1-8157-4d1e-9c22-7170039cc8d8\")>,\n",
       " <selenium.webdriver.remote.webelement.WebElement (session=\"ae3fbec99631989236183b112a668064\", element=\"4d953d1b-7919-4def-b60f-3428a5ab66ae\")>,\n",
       " <selenium.webdriver.remote.webelement.WebElement (session=\"ae3fbec99631989236183b112a668064\", element=\"f617b897-cd66-41ff-825c-ca5a1dae4151\")>]"
      ]
     },
     "execution_count": 72,
     "metadata": {},
     "output_type": "execute_result"
    }
   ],
   "source": [
    "experience_tags=driver.find_elements_by_xpath(\"//div[@class='salaries sbold-list-header']\")\n",
    "experience_tags[0:10]"
   ]
  },
  {
   "cell_type": "code",
   "execution_count": 73,
   "id": "8934a211",
   "metadata": {},
   "outputs": [
    {
     "data": {
      "text/plain": [
       "['Software Engineer\\n . \\n1 yr exp',\n",
       " 'Software Engineer\\n . \\n3 yrs exp',\n",
       " 'Software Engineer\\n . \\n1-4 yrs exp',\n",
       " 'Software Engineer\\n . \\n2 yrs exp',\n",
       " 'Software Engineer\\n . \\n2-4 yrs exp',\n",
       " 'Software Engineer\\n . \\n1-4 yrs exp',\n",
       " 'Software Engineer\\n . \\n2-4 yrs exp',\n",
       " 'Software Engineer\\n . \\n1-4 yrs exp',\n",
       " 'Software Engineer\\n . \\n1-2 yrs exp',\n",
       " 'Software Engineer\\n . \\n1-4 yrs exp']"
      ]
     },
     "execution_count": 73,
     "metadata": {},
     "output_type": "execute_result"
    }
   ],
   "source": [
    "for i in experience_tags:\n",
    "    experience=i.text\n",
    "    experience_required.append(experience)\n",
    "experience_required[0:10]"
   ]
  },
  {
   "cell_type": "code",
   "execution_count": 74,
   "id": "9a04f52a",
   "metadata": {},
   "outputs": [
    {
     "data": {
      "text/plain": [
       "[<selenium.webdriver.remote.webelement.WebElement (session=\"ae3fbec99631989236183b112a668064\", element=\"c5b62341-de1f-443a-8c2f-b6a74b99b77c\")>,\n",
       " <selenium.webdriver.remote.webelement.WebElement (session=\"ae3fbec99631989236183b112a668064\", element=\"2509b474-a193-4cf1-bd68-4ca919adb296\")>,\n",
       " <selenium.webdriver.remote.webelement.WebElement (session=\"ae3fbec99631989236183b112a668064\", element=\"0257245f-99eb-472e-83e9-75fc93e4857b\")>,\n",
       " <selenium.webdriver.remote.webelement.WebElement (session=\"ae3fbec99631989236183b112a668064\", element=\"e3211b86-5088-424b-a5b3-4f5ac3f843e9\")>,\n",
       " <selenium.webdriver.remote.webelement.WebElement (session=\"ae3fbec99631989236183b112a668064\", element=\"2f2ab803-0a16-499e-92bc-48ed18bd58ec\")>,\n",
       " <selenium.webdriver.remote.webelement.WebElement (session=\"ae3fbec99631989236183b112a668064\", element=\"974b0d76-a47f-438c-9bf3-459eda1d7464\")>,\n",
       " <selenium.webdriver.remote.webelement.WebElement (session=\"ae3fbec99631989236183b112a668064\", element=\"8e3b9695-a636-498b-ab63-3a1996fb84d6\")>,\n",
       " <selenium.webdriver.remote.webelement.WebElement (session=\"ae3fbec99631989236183b112a668064\", element=\"8ac42d7e-d5b3-4a62-90d3-6846e529a568\")>,\n",
       " <selenium.webdriver.remote.webelement.WebElement (session=\"ae3fbec99631989236183b112a668064\", element=\"803f6ec9-9950-45ab-9997-3fbb276fa080\")>,\n",
       " <selenium.webdriver.remote.webelement.WebElement (session=\"ae3fbec99631989236183b112a668064\", element=\"00943027-d418-4e32-9622-e8620cf08206\")>]"
      ]
     },
     "execution_count": 74,
     "metadata": {},
     "output_type": "execute_result"
    }
   ],
   "source": [
    "min_tags=driver.find_elements_by_xpath('//div[@class=\"value body-medium\"]')\n",
    "min_tags[0:10]"
   ]
  },
  {
   "cell_type": "code",
   "execution_count": 75,
   "id": "7b4eae99",
   "metadata": {},
   "outputs": [
    {
     "data": {
      "text/plain": [
       "['₹ 10.4L',\n",
       " '₹ 40.0L',\n",
       " '₹ 10.7L',\n",
       " '₹ 38.0L',\n",
       " '₹ 13.0L',\n",
       " '₹ 45.0L',\n",
       " '₹ 12.0L',\n",
       " '₹ 34.0L',\n",
       " '₹ 12.0L',\n",
       " '₹ 33.0L']"
      ]
     },
     "execution_count": 75,
     "metadata": {},
     "output_type": "execute_result"
    }
   ],
   "source": [
    "for i in min_tags:\n",
    "    min=i.text\n",
    "    min_salary.append(min)\n",
    "min_salary[0:10]"
   ]
  },
  {
   "cell_type": "code",
   "execution_count": 76,
   "id": "6316c151",
   "metadata": {},
   "outputs": [
    {
     "data": {
      "text/plain": [
       "[<selenium.webdriver.remote.webelement.WebElement (session=\"ae3fbec99631989236183b112a668064\", element=\"d3276c9d-d33a-4e31-880a-df82c96bbd68\")>,\n",
       " <selenium.webdriver.remote.webelement.WebElement (session=\"ae3fbec99631989236183b112a668064\", element=\"83cdc3f6-d57c-4a28-a993-377210decd37\")>,\n",
       " <selenium.webdriver.remote.webelement.WebElement (session=\"ae3fbec99631989236183b112a668064\", element=\"717c5be3-a841-457a-ba5d-4f87854395d6\")>,\n",
       " <selenium.webdriver.remote.webelement.WebElement (session=\"ae3fbec99631989236183b112a668064\", element=\"d9445ad8-071e-4896-9f7e-f8bc139f6078\")>,\n",
       " <selenium.webdriver.remote.webelement.WebElement (session=\"ae3fbec99631989236183b112a668064\", element=\"f8546d8b-90d9-457f-8a2d-1df8ec1ac1d0\")>,\n",
       " <selenium.webdriver.remote.webelement.WebElement (session=\"ae3fbec99631989236183b112a668064\", element=\"f1b73ffd-36a4-4e70-aec0-9e3b2bdbec34\")>,\n",
       " <selenium.webdriver.remote.webelement.WebElement (session=\"ae3fbec99631989236183b112a668064\", element=\"140d99a6-429f-4de1-a1e6-d2ea103bcca0\")>,\n",
       " <selenium.webdriver.remote.webelement.WebElement (session=\"ae3fbec99631989236183b112a668064\", element=\"3a135d6b-745b-4c8a-a4c6-f77370bba74e\")>,\n",
       " <selenium.webdriver.remote.webelement.WebElement (session=\"ae3fbec99631989236183b112a668064\", element=\"2415d31e-b66e-4371-b11e-c52c7a3e0550\")>,\n",
       " <selenium.webdriver.remote.webelement.WebElement (session=\"ae3fbec99631989236183b112a668064\", element=\"67b2da27-177e-46be-bb2f-2ed5fcc92578\")>]"
      ]
     },
     "execution_count": 76,
     "metadata": {},
     "output_type": "execute_result"
    }
   ],
   "source": [
    "avg_tags=driver.find_elements_by_xpath(\"//p[@class='averageCtc']\")\n",
    "avg_tags[0:10]"
   ]
  },
  {
   "cell_type": "code",
   "execution_count": 77,
   "id": "9b713549",
   "metadata": {},
   "outputs": [
    {
     "data": {
      "text/plain": [
       "['₹ 26.9L',\n",
       " '₹ 24.7L',\n",
       " '₹ 23.7L',\n",
       " '₹ 22.3L',\n",
       " '₹ 21.0L',\n",
       " '₹ 20.3L',\n",
       " '₹ 20.2L',\n",
       " '₹ 19.9L',\n",
       " '₹ 19.8L',\n",
       " '₹ 19.7L']"
      ]
     },
     "execution_count": 77,
     "metadata": {},
     "output_type": "execute_result"
    }
   ],
   "source": [
    "for i in avg_tags:\n",
    "    avg=i.text\n",
    "    avg_salary.append(avg)\n",
    "avg_salary[0:10]"
   ]
  },
  {
   "cell_type": "code",
   "execution_count": 78,
   "id": "6160cefa",
   "metadata": {},
   "outputs": [
    {
     "data": {
      "text/html": [
       "<div>\n",
       "<style scoped>\n",
       "    .dataframe tbody tr th:only-of-type {\n",
       "        vertical-align: middle;\n",
       "    }\n",
       "\n",
       "    .dataframe tbody tr th {\n",
       "        vertical-align: top;\n",
       "    }\n",
       "\n",
       "    .dataframe thead th {\n",
       "        text-align: right;\n",
       "    }\n",
       "</style>\n",
       "<table border=\"1\" class=\"dataframe\">\n",
       "  <thead>\n",
       "    <tr style=\"text-align: right;\">\n",
       "      <th></th>\n",
       "      <th>Company name &amp; No of salaries</th>\n",
       "      <th>Experience</th>\n",
       "      <th>Min salary</th>\n",
       "      <th>Average salary</th>\n",
       "    </tr>\n",
       "  </thead>\n",
       "  <tbody>\n",
       "    <tr>\n",
       "      <th>0</th>\n",
       "      <td>Google\\nbased on 11 salaries</td>\n",
       "      <td>Software Engineer\\n . \\n1 yr exp</td>\n",
       "      <td>₹ 10.4L</td>\n",
       "      <td>₹ 26.9L</td>\n",
       "    </tr>\n",
       "    <tr>\n",
       "      <th>1</th>\n",
       "      <td>Arista Networks\\nbased on 13 salaries</td>\n",
       "      <td>Software Engineer\\n . \\n3 yrs exp</td>\n",
       "      <td>₹ 40.0L</td>\n",
       "      <td>₹ 24.7L</td>\n",
       "    </tr>\n",
       "    <tr>\n",
       "      <th>2</th>\n",
       "      <td>Microsoft Corporation\\nbased on 253 salaries</td>\n",
       "      <td>Software Engineer\\n . \\n1-4 yrs exp</td>\n",
       "      <td>₹ 10.7L</td>\n",
       "      <td>₹ 23.7L</td>\n",
       "    </tr>\n",
       "    <tr>\n",
       "      <th>3</th>\n",
       "      <td>Goldman Sachs\\nbased on 16 salaries</td>\n",
       "      <td>Software Engineer\\n . \\n2 yrs exp</td>\n",
       "      <td>₹ 38.0L</td>\n",
       "      <td>₹ 22.3L</td>\n",
       "    </tr>\n",
       "    <tr>\n",
       "      <th>4</th>\n",
       "      <td>Tekion\\nbased on 32 salaries</td>\n",
       "      <td>Software Engineer\\n . \\n2-4 yrs exp</td>\n",
       "      <td>₹ 13.0L</td>\n",
       "      <td>₹ 21.0L</td>\n",
       "    </tr>\n",
       "    <tr>\n",
       "      <th>5</th>\n",
       "      <td>Flipkart\\nbased on 61 salaries</td>\n",
       "      <td>Software Engineer\\n . \\n1-4 yrs exp</td>\n",
       "      <td>₹ 45.0L</td>\n",
       "      <td>₹ 20.3L</td>\n",
       "    </tr>\n",
       "    <tr>\n",
       "      <th>6</th>\n",
       "      <td>Servicenow Software Development India\\nbased o...</td>\n",
       "      <td>Software Engineer\\n . \\n2-4 yrs exp</td>\n",
       "      <td>₹ 12.0L</td>\n",
       "      <td>₹ 20.2L</td>\n",
       "    </tr>\n",
       "    <tr>\n",
       "      <th>7</th>\n",
       "      <td>Walmart\\nbased on 81 salaries</td>\n",
       "      <td>Software Engineer\\n . \\n1-4 yrs exp</td>\n",
       "      <td>₹ 34.0L</td>\n",
       "      <td>₹ 19.9L</td>\n",
       "    </tr>\n",
       "    <tr>\n",
       "      <th>8</th>\n",
       "      <td>PayPal\\nbased on 26 salaries</td>\n",
       "      <td>Software Engineer\\n . \\n1-2 yrs exp</td>\n",
       "      <td>₹ 12.0L</td>\n",
       "      <td>₹ 19.8L</td>\n",
       "    </tr>\n",
       "    <tr>\n",
       "      <th>9</th>\n",
       "      <td>Amazon\\nbased on 103 salaries</td>\n",
       "      <td>Software Engineer\\n . \\n1-4 yrs exp</td>\n",
       "      <td>₹ 33.0L</td>\n",
       "      <td>₹ 19.7L</td>\n",
       "    </tr>\n",
       "  </tbody>\n",
       "</table>\n",
       "</div>"
      ],
      "text/plain": [
       "                       Company name & No of salaries  \\\n",
       "0                       Google\\nbased on 11 salaries   \n",
       "1              Arista Networks\\nbased on 13 salaries   \n",
       "2       Microsoft Corporation\\nbased on 253 salaries   \n",
       "3                Goldman Sachs\\nbased on 16 salaries   \n",
       "4                       Tekion\\nbased on 32 salaries   \n",
       "5                     Flipkart\\nbased on 61 salaries   \n",
       "6  Servicenow Software Development India\\nbased o...   \n",
       "7                      Walmart\\nbased on 81 salaries   \n",
       "8                       PayPal\\nbased on 26 salaries   \n",
       "9                      Amazon\\nbased on 103 salaries   \n",
       "\n",
       "                            Experience Min salary Average salary  \n",
       "0     Software Engineer\\n . \\n1 yr exp    ₹ 10.4L        ₹ 26.9L  \n",
       "1    Software Engineer\\n . \\n3 yrs exp    ₹ 40.0L        ₹ 24.7L  \n",
       "2  Software Engineer\\n . \\n1-4 yrs exp    ₹ 10.7L        ₹ 23.7L  \n",
       "3    Software Engineer\\n . \\n2 yrs exp    ₹ 38.0L        ₹ 22.3L  \n",
       "4  Software Engineer\\n . \\n2-4 yrs exp    ₹ 13.0L        ₹ 21.0L  \n",
       "5  Software Engineer\\n . \\n1-4 yrs exp    ₹ 45.0L        ₹ 20.3L  \n",
       "6  Software Engineer\\n . \\n2-4 yrs exp    ₹ 12.0L        ₹ 20.2L  \n",
       "7  Software Engineer\\n . \\n1-4 yrs exp    ₹ 34.0L        ₹ 19.9L  \n",
       "8  Software Engineer\\n . \\n1-2 yrs exp    ₹ 12.0L        ₹ 19.8L  \n",
       "9  Software Engineer\\n . \\n1-4 yrs exp    ₹ 33.0L        ₹ 19.7L  "
      ]
     },
     "execution_count": 78,
     "metadata": {},
     "output_type": "execute_result"
    }
   ],
   "source": [
    "jobs=pd.DataFrame({})\n",
    "jobs['Company name & No of salaries']=company_name[0:10]\n",
    "jobs['Experience']=experience_required[0:10]\n",
    "jobs['Min salary']=min_salary[0:10]\n",
    "jobs['Average salary']=avg_salary[0:10]\n",
    "jobs"
   ]
  },
  {
   "cell_type": "markdown",
   "id": "a3a2e4ad",
   "metadata": {},
   "source": [
    "6.Scrape data of first 100 sunglasses listings on flipkart.com. You have to scrape four attributes"
   ]
  },
  {
   "cell_type": "code",
   "execution_count": 83,
   "id": "85e28e13",
   "metadata": {},
   "outputs": [],
   "source": [
    "driver=webdriver.Chrome('chromedriver.exe')"
   ]
  },
  {
   "cell_type": "code",
   "execution_count": 84,
   "id": "4bd32e1e",
   "metadata": {},
   "outputs": [],
   "source": [
    "driver.get('https://www.flipkart.com/')"
   ]
  },
  {
   "cell_type": "code",
   "execution_count": 85,
   "id": "ac67f947",
   "metadata": {},
   "outputs": [],
   "source": [
    "search_field_product=driver.find_element_by_class_name(\"_3704LK\")\n",
    "search_field_product.send_keys('Sunglasses')"
   ]
  },
  {
   "cell_type": "code",
   "execution_count": 87,
   "id": "db58e11c",
   "metadata": {},
   "outputs": [],
   "source": [
    "search_button=driver.find_element_by_xpath(\"//button[@class='L0Z3Pu']\")\n",
    "search_button.click()"
   ]
  },
  {
   "cell_type": "code",
   "execution_count": 88,
   "id": "070f237e",
   "metadata": {},
   "outputs": [],
   "source": [
    "brand=[]\n",
    "product=[]\n",
    "price=[]"
   ]
  },
  {
   "cell_type": "code",
   "execution_count": 89,
   "id": "36be7f96",
   "metadata": {},
   "outputs": [
    {
     "data": {
      "text/plain": [
       "[<selenium.webdriver.remote.webelement.WebElement (session=\"535fe32f361d58513745e9cb789831ec\", element=\"ff1bd205-1bed-4060-b220-721bb52e3445\")>,\n",
       " <selenium.webdriver.remote.webelement.WebElement (session=\"535fe32f361d58513745e9cb789831ec\", element=\"44a10c39-87d1-4b3b-a5bf-7fe7f7fb4306\")>,\n",
       " <selenium.webdriver.remote.webelement.WebElement (session=\"535fe32f361d58513745e9cb789831ec\", element=\"052c6bb6-d166-4988-8335-2fb542a91311\")>,\n",
       " <selenium.webdriver.remote.webelement.WebElement (session=\"535fe32f361d58513745e9cb789831ec\", element=\"5969974b-5f27-419d-a09d-cf0c5dd9c026\")>,\n",
       " <selenium.webdriver.remote.webelement.WebElement (session=\"535fe32f361d58513745e9cb789831ec\", element=\"fdc22ec7-c27e-48ef-b352-b697d92ee87e\")>,\n",
       " <selenium.webdriver.remote.webelement.WebElement (session=\"535fe32f361d58513745e9cb789831ec\", element=\"d8088131-e723-4109-9944-6593c89c5dfc\")>,\n",
       " <selenium.webdriver.remote.webelement.WebElement (session=\"535fe32f361d58513745e9cb789831ec\", element=\"1b4c33d5-3ad7-404d-a15c-e0a6a2e3dd9d\")>,\n",
       " <selenium.webdriver.remote.webelement.WebElement (session=\"535fe32f361d58513745e9cb789831ec\", element=\"57e7c022-86dc-409d-a809-ee41a062e277\")>,\n",
       " <selenium.webdriver.remote.webelement.WebElement (session=\"535fe32f361d58513745e9cb789831ec\", element=\"ef4ae339-31b3-458f-82bd-f27577bc7122\")>,\n",
       " <selenium.webdriver.remote.webelement.WebElement (session=\"535fe32f361d58513745e9cb789831ec\", element=\"a05a99b4-30c9-43ef-a087-62f90546ea67\")>,\n",
       " <selenium.webdriver.remote.webelement.WebElement (session=\"535fe32f361d58513745e9cb789831ec\", element=\"59d73ff5-7a0d-43ad-b7a6-1ee4e46e8fec\")>,\n",
       " <selenium.webdriver.remote.webelement.WebElement (session=\"535fe32f361d58513745e9cb789831ec\", element=\"44a38221-57be-44db-b027-2d4348b50ee3\")>,\n",
       " <selenium.webdriver.remote.webelement.WebElement (session=\"535fe32f361d58513745e9cb789831ec\", element=\"2e4ec562-f016-44d9-af41-29ffc1971d6b\")>,\n",
       " <selenium.webdriver.remote.webelement.WebElement (session=\"535fe32f361d58513745e9cb789831ec\", element=\"dff7fa24-80b4-4bb2-aec0-fab6219aa33b\")>,\n",
       " <selenium.webdriver.remote.webelement.WebElement (session=\"535fe32f361d58513745e9cb789831ec\", element=\"8bb42a18-cf82-4fa2-8fb9-3508a17b6c73\")>,\n",
       " <selenium.webdriver.remote.webelement.WebElement (session=\"535fe32f361d58513745e9cb789831ec\", element=\"0b53013e-aee5-4d3d-b8cd-b6efef73532d\")>,\n",
       " <selenium.webdriver.remote.webelement.WebElement (session=\"535fe32f361d58513745e9cb789831ec\", element=\"5da281ec-8d68-4de8-9284-3317b3d6d2de\")>,\n",
       " <selenium.webdriver.remote.webelement.WebElement (session=\"535fe32f361d58513745e9cb789831ec\", element=\"3f58d98e-caff-493d-9ad4-87bf25adafb9\")>,\n",
       " <selenium.webdriver.remote.webelement.WebElement (session=\"535fe32f361d58513745e9cb789831ec\", element=\"acd959aa-a1ce-4050-9bf6-5e965c104c77\")>,\n",
       " <selenium.webdriver.remote.webelement.WebElement (session=\"535fe32f361d58513745e9cb789831ec\", element=\"c6fecbbf-c10d-40fb-b35b-ea1cd493f55c\")>,\n",
       " <selenium.webdriver.remote.webelement.WebElement (session=\"535fe32f361d58513745e9cb789831ec\", element=\"4f322c87-2554-401b-8686-e6b89672173a\")>,\n",
       " <selenium.webdriver.remote.webelement.WebElement (session=\"535fe32f361d58513745e9cb789831ec\", element=\"a68c0d01-f475-4ef9-a693-d418114da53a\")>,\n",
       " <selenium.webdriver.remote.webelement.WebElement (session=\"535fe32f361d58513745e9cb789831ec\", element=\"a1194e02-1c40-4417-a17f-91c81c482725\")>,\n",
       " <selenium.webdriver.remote.webelement.WebElement (session=\"535fe32f361d58513745e9cb789831ec\", element=\"815a78b0-67cb-4de9-81a4-82b25eeb4378\")>,\n",
       " <selenium.webdriver.remote.webelement.WebElement (session=\"535fe32f361d58513745e9cb789831ec\", element=\"ffd54e4b-5dc1-466d-9178-7920ae934c4c\")>,\n",
       " <selenium.webdriver.remote.webelement.WebElement (session=\"535fe32f361d58513745e9cb789831ec\", element=\"b386d082-229d-49ac-9d4d-686e9b9d9ae6\")>,\n",
       " <selenium.webdriver.remote.webelement.WebElement (session=\"535fe32f361d58513745e9cb789831ec\", element=\"9dd83505-ecb5-4af3-b769-84b7d77c6ae6\")>,\n",
       " <selenium.webdriver.remote.webelement.WebElement (session=\"535fe32f361d58513745e9cb789831ec\", element=\"b1bc08b9-37d5-42c8-9d97-103fc66be315\")>,\n",
       " <selenium.webdriver.remote.webelement.WebElement (session=\"535fe32f361d58513745e9cb789831ec\", element=\"ef62df01-ddaa-4c22-880d-24686012b094\")>,\n",
       " <selenium.webdriver.remote.webelement.WebElement (session=\"535fe32f361d58513745e9cb789831ec\", element=\"111a0f48-8aa6-4f0f-a3d6-1b915fef4eba\")>,\n",
       " <selenium.webdriver.remote.webelement.WebElement (session=\"535fe32f361d58513745e9cb789831ec\", element=\"8903835d-ed29-4fa6-821e-05c740e692a5\")>,\n",
       " <selenium.webdriver.remote.webelement.WebElement (session=\"535fe32f361d58513745e9cb789831ec\", element=\"194518b6-f11a-4197-b723-308065066388\")>,\n",
       " <selenium.webdriver.remote.webelement.WebElement (session=\"535fe32f361d58513745e9cb789831ec\", element=\"9e4c1fde-f185-4fe9-9d85-6157221e9b10\")>,\n",
       " <selenium.webdriver.remote.webelement.WebElement (session=\"535fe32f361d58513745e9cb789831ec\", element=\"c46df420-72dd-4727-99c5-5b0cf9ac0be9\")>,\n",
       " <selenium.webdriver.remote.webelement.WebElement (session=\"535fe32f361d58513745e9cb789831ec\", element=\"3263e7fa-7f1d-43fe-a8fc-4d50971cd9cc\")>,\n",
       " <selenium.webdriver.remote.webelement.WebElement (session=\"535fe32f361d58513745e9cb789831ec\", element=\"14453359-3f7d-4e19-a23a-526c9ab2b73e\")>,\n",
       " <selenium.webdriver.remote.webelement.WebElement (session=\"535fe32f361d58513745e9cb789831ec\", element=\"685b450c-4e3d-4e8a-b91b-adae0867308c\")>,\n",
       " <selenium.webdriver.remote.webelement.WebElement (session=\"535fe32f361d58513745e9cb789831ec\", element=\"c0654ff2-95fa-4db4-b506-5807ca129dde\")>,\n",
       " <selenium.webdriver.remote.webelement.WebElement (session=\"535fe32f361d58513745e9cb789831ec\", element=\"d3bddd28-d706-49b0-b536-cd275a0ed052\")>,\n",
       " <selenium.webdriver.remote.webelement.WebElement (session=\"535fe32f361d58513745e9cb789831ec\", element=\"7519f266-4550-4b6b-9fe0-23d046915f80\")>]"
      ]
     },
     "execution_count": 89,
     "metadata": {},
     "output_type": "execute_result"
    }
   ],
   "source": [
    "brand_tags=driver.find_elements_by_xpath(\"//div[@class='_2WkVRV']\")\n",
    "brand_tags[0:40]"
   ]
  },
  {
   "cell_type": "code",
   "execution_count": 90,
   "id": "147d9ba7",
   "metadata": {},
   "outputs": [
    {
     "data": {
      "text/plain": [
       "['AISLIN',\n",
       " 'AISLIN',\n",
       " 'Fastrack',\n",
       " 'Elligator',\n",
       " 'Fastrack',\n",
       " 'DAHAAZIL',\n",
       " 'SRPM',\n",
       " 'ROZZETTA CRAFT',\n",
       " 'Ray-Ban',\n",
       " 'New Specs',\n",
       " 'Rich Club',\n",
       " 'AISLIN',\n",
       " 'Lee Topper',\n",
       " 'Singco India',\n",
       " 'New Specs',\n",
       " 'AISLIN',\n",
       " 'Mi',\n",
       " 'PIRASO',\n",
       " 'Mi',\n",
       " 'ROZZETTA CRAFT',\n",
       " 'kingsunglasses',\n",
       " 'Rich Club',\n",
       " 'Fastrack',\n",
       " 'AISLIN',\n",
       " 'ROZZETTA CRAFT',\n",
       " 'SUNBEE',\n",
       " 'ROYAL SON',\n",
       " 'AISLIN',\n",
       " 'CRYSTAL CART',\n",
       " 'SRPM',\n",
       " 'Fastrack',\n",
       " 'AISLIN',\n",
       " 'Fastrack',\n",
       " 'Fastrack',\n",
       " 'Poloport',\n",
       " 'AISLIN',\n",
       " 'maxa',\n",
       " 'ROZZETTA CRAFT',\n",
       " 'New Specs',\n",
       " 'ROZZETTA CRAFT']"
      ]
     },
     "execution_count": 90,
     "metadata": {},
     "output_type": "execute_result"
    }
   ],
   "source": [
    "for i in brand_tags:\n",
    "    brand_list=i.text\n",
    "    brand.append(brand_list)\n",
    "brand[0:40]"
   ]
  },
  {
   "cell_type": "code",
   "execution_count": 91,
   "id": "5b87613e",
   "metadata": {},
   "outputs": [
    {
     "data": {
      "text/plain": [
       "[<selenium.webdriver.remote.webelement.WebElement (session=\"535fe32f361d58513745e9cb789831ec\", element=\"c61d713d-14a2-4eb5-8ea4-b7de63347161\")>,\n",
       " <selenium.webdriver.remote.webelement.WebElement (session=\"535fe32f361d58513745e9cb789831ec\", element=\"b85e2887-f585-48c3-b8c6-7240cc7af0ee\")>,\n",
       " <selenium.webdriver.remote.webelement.WebElement (session=\"535fe32f361d58513745e9cb789831ec\", element=\"043f974e-56fe-4257-9ab0-8763ff13b153\")>,\n",
       " <selenium.webdriver.remote.webelement.WebElement (session=\"535fe32f361d58513745e9cb789831ec\", element=\"bd1df40a-6ed5-4d9b-adee-703700aa556d\")>,\n",
       " <selenium.webdriver.remote.webelement.WebElement (session=\"535fe32f361d58513745e9cb789831ec\", element=\"433c7bf5-8f67-4d21-bcc6-e31248b59f56\")>,\n",
       " <selenium.webdriver.remote.webelement.WebElement (session=\"535fe32f361d58513745e9cb789831ec\", element=\"c18d28a9-3156-4e49-a4fe-508ea3ccc24a\")>,\n",
       " <selenium.webdriver.remote.webelement.WebElement (session=\"535fe32f361d58513745e9cb789831ec\", element=\"36d7e4b5-a7f4-4dc2-b19a-e7017ba4ca3a\")>,\n",
       " <selenium.webdriver.remote.webelement.WebElement (session=\"535fe32f361d58513745e9cb789831ec\", element=\"958a7bfa-1d57-4d81-a62f-2fe9327bd60e\")>,\n",
       " <selenium.webdriver.remote.webelement.WebElement (session=\"535fe32f361d58513745e9cb789831ec\", element=\"b3f3ce4e-d9f3-4838-a074-944957404149\")>,\n",
       " <selenium.webdriver.remote.webelement.WebElement (session=\"535fe32f361d58513745e9cb789831ec\", element=\"d3b9c4c2-208c-49e7-83bb-5e4e39822b98\")>,\n",
       " <selenium.webdriver.remote.webelement.WebElement (session=\"535fe32f361d58513745e9cb789831ec\", element=\"a309d486-a45b-41da-aca9-7be52b18358a\")>,\n",
       " <selenium.webdriver.remote.webelement.WebElement (session=\"535fe32f361d58513745e9cb789831ec\", element=\"d8ea6d6e-8473-4141-a134-dfdf2185eff5\")>,\n",
       " <selenium.webdriver.remote.webelement.WebElement (session=\"535fe32f361d58513745e9cb789831ec\", element=\"406253d0-fc66-4d39-8e91-234e323baf20\")>,\n",
       " <selenium.webdriver.remote.webelement.WebElement (session=\"535fe32f361d58513745e9cb789831ec\", element=\"21d5766d-0cb6-45ad-9cef-517950748282\")>,\n",
       " <selenium.webdriver.remote.webelement.WebElement (session=\"535fe32f361d58513745e9cb789831ec\", element=\"6696a424-fe61-4676-ae61-6d6cae5a4315\")>,\n",
       " <selenium.webdriver.remote.webelement.WebElement (session=\"535fe32f361d58513745e9cb789831ec\", element=\"2487e9c1-9885-4f51-b9c3-0c063debe2bb\")>,\n",
       " <selenium.webdriver.remote.webelement.WebElement (session=\"535fe32f361d58513745e9cb789831ec\", element=\"32033521-683d-4b71-bbaf-0ee2ea4efbb6\")>,\n",
       " <selenium.webdriver.remote.webelement.WebElement (session=\"535fe32f361d58513745e9cb789831ec\", element=\"ff8a8275-591e-4cc2-91a6-a907c06d9f09\")>,\n",
       " <selenium.webdriver.remote.webelement.WebElement (session=\"535fe32f361d58513745e9cb789831ec\", element=\"cef9a60d-e795-40c3-aed4-f247bc98e703\")>,\n",
       " <selenium.webdriver.remote.webelement.WebElement (session=\"535fe32f361d58513745e9cb789831ec\", element=\"26e5a560-dbe5-4966-a68d-888c0a76909b\")>,\n",
       " <selenium.webdriver.remote.webelement.WebElement (session=\"535fe32f361d58513745e9cb789831ec\", element=\"70028ba0-4cb1-44d1-9b10-5323a0e91464\")>,\n",
       " <selenium.webdriver.remote.webelement.WebElement (session=\"535fe32f361d58513745e9cb789831ec\", element=\"e2e7d1e6-12b3-41f9-af6f-25a2518eb432\")>,\n",
       " <selenium.webdriver.remote.webelement.WebElement (session=\"535fe32f361d58513745e9cb789831ec\", element=\"41ea0a96-90f8-48a8-8c10-e6cc7a94d074\")>,\n",
       " <selenium.webdriver.remote.webelement.WebElement (session=\"535fe32f361d58513745e9cb789831ec\", element=\"70cb17df-3d71-4646-a0e5-95cef0f951ee\")>,\n",
       " <selenium.webdriver.remote.webelement.WebElement (session=\"535fe32f361d58513745e9cb789831ec\", element=\"0d99e1a1-0a00-4d5d-bdd1-753bfb0603fb\")>,\n",
       " <selenium.webdriver.remote.webelement.WebElement (session=\"535fe32f361d58513745e9cb789831ec\", element=\"b573350a-d571-434f-aa52-530ea2576d72\")>,\n",
       " <selenium.webdriver.remote.webelement.WebElement (session=\"535fe32f361d58513745e9cb789831ec\", element=\"c1481211-9a4b-4d8e-8145-bfb21ff49ec4\")>,\n",
       " <selenium.webdriver.remote.webelement.WebElement (session=\"535fe32f361d58513745e9cb789831ec\", element=\"4751e2ef-28c6-45a1-8764-c27fe68519b1\")>,\n",
       " <selenium.webdriver.remote.webelement.WebElement (session=\"535fe32f361d58513745e9cb789831ec\", element=\"1ed34132-8366-4bf6-bab1-ffeb088abf3e\")>,\n",
       " <selenium.webdriver.remote.webelement.WebElement (session=\"535fe32f361d58513745e9cb789831ec\", element=\"b9fa29ee-2400-4d03-8b22-8722d495e75e\")>,\n",
       " <selenium.webdriver.remote.webelement.WebElement (session=\"535fe32f361d58513745e9cb789831ec\", element=\"1e3e48a2-7817-4507-883e-e46c33f372ea\")>,\n",
       " <selenium.webdriver.remote.webelement.WebElement (session=\"535fe32f361d58513745e9cb789831ec\", element=\"128d721d-bff2-415c-abb2-ca1e87ab926a\")>,\n",
       " <selenium.webdriver.remote.webelement.WebElement (session=\"535fe32f361d58513745e9cb789831ec\", element=\"3601d93b-0e87-462b-80fa-730e359a2d25\")>,\n",
       " <selenium.webdriver.remote.webelement.WebElement (session=\"535fe32f361d58513745e9cb789831ec\", element=\"d432fb3c-e2d2-44d3-aa3e-f3682eef1921\")>,\n",
       " <selenium.webdriver.remote.webelement.WebElement (session=\"535fe32f361d58513745e9cb789831ec\", element=\"3cb6a9a9-0d15-4045-80a7-47b087ffd050\")>,\n",
       " <selenium.webdriver.remote.webelement.WebElement (session=\"535fe32f361d58513745e9cb789831ec\", element=\"e7177507-8335-4808-ac78-1da6132821cc\")>,\n",
       " <selenium.webdriver.remote.webelement.WebElement (session=\"535fe32f361d58513745e9cb789831ec\", element=\"4f8b1b4f-c8f9-4db2-9542-bcf7bc310e82\")>,\n",
       " <selenium.webdriver.remote.webelement.WebElement (session=\"535fe32f361d58513745e9cb789831ec\", element=\"eca91a6a-f003-47b1-8a3e-9ab332657af3\")>,\n",
       " <selenium.webdriver.remote.webelement.WebElement (session=\"535fe32f361d58513745e9cb789831ec\", element=\"5cd16fbc-cd27-4f20-ac7c-5c5290e2c691\")>,\n",
       " <selenium.webdriver.remote.webelement.WebElement (session=\"535fe32f361d58513745e9cb789831ec\", element=\"de3cd895-7dc5-4950-854c-bbfd368ac4a4\")>]"
      ]
     },
     "execution_count": 91,
     "metadata": {},
     "output_type": "execute_result"
    }
   ],
   "source": [
    "product_tags=driver.find_elements_by_xpath(\"//a[@class='IRpwTa']\")\n",
    "product_tags[0:40]"
   ]
  },
  {
   "cell_type": "code",
   "execution_count": 92,
   "id": "a8450019",
   "metadata": {},
   "outputs": [
    {
     "data": {
      "text/plain": [
       "['UV Protection Oval Sunglasses (60)',\n",
       " 'UV Protection, Gradient Cat-eye Sunglasses (58)',\n",
       " 'UV Protection Rectangular Sunglasses (Free Size)',\n",
       " 'UV Protection Round Sunglasses (54)',\n",
       " 'UV Protection Wayfarer Sunglasses (Free Size)',\n",
       " 'UV Protection, Night Vision, Riding Glasses Wayfarer, W...',\n",
       " 'UV Protection Wayfarer Sunglasses (50)',\n",
       " 'UV Protection Aviator Sunglasses (62)',\n",
       " 'Mirrored, UV Protection Aviator Sunglasses (58)',\n",
       " 'UV Protection Aviator Sunglasses (Free Size)',\n",
       " 'UV Protection, Mirrored, Gradient Round Sunglasses (51)',\n",
       " 'UV Protection, Gradient Oval Sunglasses (58)',\n",
       " 'UV Protection Rectangular Sunglasses (Free Size)',\n",
       " 'UV Protection, Riding Glasses, Others Aviator, Wayfarer...',\n",
       " 'UV Protection Rectangular Sunglasses (Free Size)',\n",
       " 'UV Protection, Gradient Wayfarer, Retro Square Sunglass...',\n",
       " 'Polarized Aviator Sunglasses (Free Size)',\n",
       " 'UV Protection Aviator Sunglasses (54)',\n",
       " 'Polarized Wayfarer Sunglasses (Free Size)',\n",
       " 'UV Protection Aviator Sunglasses (62)',\n",
       " 'UV Protection Round Sunglasses (54)',\n",
       " 'UV Protection Round Sunglasses (48)',\n",
       " 'UV Protection Aviator Sunglasses (58)',\n",
       " 'UV Protection, Gradient Round Sunglasses (58)',\n",
       " 'UV Protection, Gradient Rectangular Sunglasses (Free Si...',\n",
       " 'UV Protection, Polarized Wayfarer Sunglasses (Free Size...',\n",
       " 'UV Protection Rectangular, Retro Square Sunglasses (58)',\n",
       " 'Polarized, UV Protection Round, Aviator Sunglasses (55)',\n",
       " 'Polarized, UV Protection Retro Square Sunglasses (Free ...',\n",
       " 'UV Protection Wayfarer Sunglasses (53)',\n",
       " 'UV Protection Wayfarer Sunglasses (Free Size)',\n",
       " 'Toughened Glass Lens, UV Protection Aviator, Wrap-aroun...',\n",
       " 'UV Protection Aviator Sunglasses (Free Size)',\n",
       " 'UV Protection Rectangular Sunglasses (56)',\n",
       " 'UV Protection Wayfarer Sunglasses (Free Size)',\n",
       " 'Toughened Glass Lens, UV Protection Aviator, Wrap-aroun...',\n",
       " 'UV Protection, Riding Glasses Rectangular, Wayfarer, Ov...',\n",
       " 'UV Protection, Gradient Retro Square Sunglasses (Free S...',\n",
       " 'UV Protection, Mirrored Round Sunglasses (Free Size)',\n",
       " 'Polarized, Riding Glasses Sports, Wrap-around Sunglasse...']"
      ]
     },
     "execution_count": 92,
     "metadata": {},
     "output_type": "execute_result"
    }
   ],
   "source": [
    "for i in product_tags:\n",
    "    product_description=i.text\n",
    "    product.append(product_description)\n",
    "product[0:40]"
   ]
  },
  {
   "cell_type": "code",
   "execution_count": 93,
   "id": "f9fde903",
   "metadata": {},
   "outputs": [
    {
     "data": {
      "text/plain": [
       "[<selenium.webdriver.remote.webelement.WebElement (session=\"535fe32f361d58513745e9cb789831ec\", element=\"1606c78b-d414-41c0-aa1a-a95704bbf7c2\")>,\n",
       " <selenium.webdriver.remote.webelement.WebElement (session=\"535fe32f361d58513745e9cb789831ec\", element=\"1e196d76-a10a-4a78-b63f-985894228abe\")>,\n",
       " <selenium.webdriver.remote.webelement.WebElement (session=\"535fe32f361d58513745e9cb789831ec\", element=\"0fb7a47e-9e23-45ad-8321-9ef8db39487d\")>,\n",
       " <selenium.webdriver.remote.webelement.WebElement (session=\"535fe32f361d58513745e9cb789831ec\", element=\"7ae40048-da9c-4060-8317-0ec5fbefeb40\")>,\n",
       " <selenium.webdriver.remote.webelement.WebElement (session=\"535fe32f361d58513745e9cb789831ec\", element=\"9f90949d-81f3-4650-a7ee-62ebb9cc9eeb\")>,\n",
       " <selenium.webdriver.remote.webelement.WebElement (session=\"535fe32f361d58513745e9cb789831ec\", element=\"71464b42-60ce-4d26-969b-df8b6b7cde3c\")>,\n",
       " <selenium.webdriver.remote.webelement.WebElement (session=\"535fe32f361d58513745e9cb789831ec\", element=\"b43c7514-4678-44fa-9b7e-b7e35bf314da\")>,\n",
       " <selenium.webdriver.remote.webelement.WebElement (session=\"535fe32f361d58513745e9cb789831ec\", element=\"99dc7876-7819-4e67-85d6-6d7ad084a740\")>,\n",
       " <selenium.webdriver.remote.webelement.WebElement (session=\"535fe32f361d58513745e9cb789831ec\", element=\"6b3470dd-b774-403d-84d2-2ee4f0784d3d\")>,\n",
       " <selenium.webdriver.remote.webelement.WebElement (session=\"535fe32f361d58513745e9cb789831ec\", element=\"ada02f22-cfaf-43d7-8b24-cefa9858618a\")>,\n",
       " <selenium.webdriver.remote.webelement.WebElement (session=\"535fe32f361d58513745e9cb789831ec\", element=\"cd772567-db36-4308-b809-c3d237546615\")>,\n",
       " <selenium.webdriver.remote.webelement.WebElement (session=\"535fe32f361d58513745e9cb789831ec\", element=\"f5e5d8e1-70ea-40a7-8d38-661890e978c4\")>,\n",
       " <selenium.webdriver.remote.webelement.WebElement (session=\"535fe32f361d58513745e9cb789831ec\", element=\"18125854-7e0b-42a0-886d-abf824dbc89b\")>,\n",
       " <selenium.webdriver.remote.webelement.WebElement (session=\"535fe32f361d58513745e9cb789831ec\", element=\"98d9c68a-779f-456b-b96c-d6303e65b9d1\")>,\n",
       " <selenium.webdriver.remote.webelement.WebElement (session=\"535fe32f361d58513745e9cb789831ec\", element=\"bf807e64-96f3-41f3-abe1-f004e699215f\")>,\n",
       " <selenium.webdriver.remote.webelement.WebElement (session=\"535fe32f361d58513745e9cb789831ec\", element=\"725c5115-620a-44a2-9e37-cd60228fce6b\")>,\n",
       " <selenium.webdriver.remote.webelement.WebElement (session=\"535fe32f361d58513745e9cb789831ec\", element=\"462cb669-d4bb-4b2c-99b7-a8d6e89e1be9\")>,\n",
       " <selenium.webdriver.remote.webelement.WebElement (session=\"535fe32f361d58513745e9cb789831ec\", element=\"f49c0d10-26b5-47d1-8e84-5e9b37bcd078\")>,\n",
       " <selenium.webdriver.remote.webelement.WebElement (session=\"535fe32f361d58513745e9cb789831ec\", element=\"f3702448-f7e3-4740-a01b-11829b438580\")>,\n",
       " <selenium.webdriver.remote.webelement.WebElement (session=\"535fe32f361d58513745e9cb789831ec\", element=\"652e04ec-c31b-4611-aff7-4625d9f104da\")>,\n",
       " <selenium.webdriver.remote.webelement.WebElement (session=\"535fe32f361d58513745e9cb789831ec\", element=\"efbaf2a9-bf61-4874-89ab-cfafb1a7e269\")>,\n",
       " <selenium.webdriver.remote.webelement.WebElement (session=\"535fe32f361d58513745e9cb789831ec\", element=\"5c5f9a1d-4a1c-4b62-b382-59766febe241\")>,\n",
       " <selenium.webdriver.remote.webelement.WebElement (session=\"535fe32f361d58513745e9cb789831ec\", element=\"786ed9ee-1791-423f-95a2-0af062df3f4f\")>,\n",
       " <selenium.webdriver.remote.webelement.WebElement (session=\"535fe32f361d58513745e9cb789831ec\", element=\"ee02d813-34a1-4dc0-a869-bea949294c91\")>,\n",
       " <selenium.webdriver.remote.webelement.WebElement (session=\"535fe32f361d58513745e9cb789831ec\", element=\"5991071d-7cfb-4056-949a-b73f2467b2b9\")>,\n",
       " <selenium.webdriver.remote.webelement.WebElement (session=\"535fe32f361d58513745e9cb789831ec\", element=\"4f49788c-655f-4067-a77f-3cf6f68fb1e6\")>,\n",
       " <selenium.webdriver.remote.webelement.WebElement (session=\"535fe32f361d58513745e9cb789831ec\", element=\"d9be069e-d91b-45e1-93ba-e6e1961f7d7b\")>,\n",
       " <selenium.webdriver.remote.webelement.WebElement (session=\"535fe32f361d58513745e9cb789831ec\", element=\"cb9d8917-1fb9-4b31-a5b3-0fa4b8512af5\")>,\n",
       " <selenium.webdriver.remote.webelement.WebElement (session=\"535fe32f361d58513745e9cb789831ec\", element=\"a3c02055-64af-40fa-9fab-94c2543c692c\")>,\n",
       " <selenium.webdriver.remote.webelement.WebElement (session=\"535fe32f361d58513745e9cb789831ec\", element=\"7bd7c0c4-f62c-4bd0-bf0e-9399fc29b6e1\")>,\n",
       " <selenium.webdriver.remote.webelement.WebElement (session=\"535fe32f361d58513745e9cb789831ec\", element=\"f7cef4ac-65c8-47ab-ba02-d1b8220246e9\")>,\n",
       " <selenium.webdriver.remote.webelement.WebElement (session=\"535fe32f361d58513745e9cb789831ec\", element=\"e469e48d-56ef-47e9-9dc1-80fe99fad38a\")>,\n",
       " <selenium.webdriver.remote.webelement.WebElement (session=\"535fe32f361d58513745e9cb789831ec\", element=\"9c82f515-ae74-4caa-bc6c-25bcac8391fb\")>,\n",
       " <selenium.webdriver.remote.webelement.WebElement (session=\"535fe32f361d58513745e9cb789831ec\", element=\"574fc04a-e9c2-42e4-9c57-65d16f028143\")>,\n",
       " <selenium.webdriver.remote.webelement.WebElement (session=\"535fe32f361d58513745e9cb789831ec\", element=\"df1301cf-9765-4137-b669-a0eecda9133a\")>,\n",
       " <selenium.webdriver.remote.webelement.WebElement (session=\"535fe32f361d58513745e9cb789831ec\", element=\"afbd7e52-8d64-446b-b3ae-178ff6862dc9\")>,\n",
       " <selenium.webdriver.remote.webelement.WebElement (session=\"535fe32f361d58513745e9cb789831ec\", element=\"6cc92744-486a-4a4f-a25f-3bdbade24374\")>,\n",
       " <selenium.webdriver.remote.webelement.WebElement (session=\"535fe32f361d58513745e9cb789831ec\", element=\"34ca02be-9659-4de6-a4ff-016b1b106f85\")>,\n",
       " <selenium.webdriver.remote.webelement.WebElement (session=\"535fe32f361d58513745e9cb789831ec\", element=\"72d5b422-25e9-42af-b4e1-5e29e231d220\")>,\n",
       " <selenium.webdriver.remote.webelement.WebElement (session=\"535fe32f361d58513745e9cb789831ec\", element=\"06435b34-23df-4ea5-94c6-413cb9ea3db6\")>]"
      ]
     },
     "execution_count": 93,
     "metadata": {},
     "output_type": "execute_result"
    }
   ],
   "source": [
    "price_tags=driver.find_elements_by_xpath(\"//div[@class='_30jeq3']\")\n",
    "price_tags[0:40]"
   ]
  },
  {
   "cell_type": "code",
   "execution_count": 94,
   "id": "4f854c56",
   "metadata": {},
   "outputs": [
    {
     "data": {
      "text/plain": [
       "['₹498',\n",
       " '₹498',\n",
       " '₹639',\n",
       " '₹295',\n",
       " '₹719',\n",
       " '₹219',\n",
       " '₹249',\n",
       " '₹649',\n",
       " '₹3,349',\n",
       " '₹214',\n",
       " '₹223',\n",
       " '₹498',\n",
       " '₹219',\n",
       " '₹239',\n",
       " '₹265',\n",
       " '₹498',\n",
       " '₹1,009',\n",
       " '₹249',\n",
       " '₹849',\n",
       " '₹649',\n",
       " '₹214',\n",
       " '₹260',\n",
       " '₹1,099',\n",
       " '₹498',\n",
       " '₹399',\n",
       " '₹283',\n",
       " '₹499',\n",
       " '₹998',\n",
       " '₹319',\n",
       " '₹246',\n",
       " '₹719',\n",
       " '₹998',\n",
       " '₹639',\n",
       " '₹639',\n",
       " '₹279',\n",
       " '₹890',\n",
       " '₹189',\n",
       " '₹349',\n",
       " '₹299',\n",
       " '₹499']"
      ]
     },
     "execution_count": 94,
     "metadata": {},
     "output_type": "execute_result"
    }
   ],
   "source": [
    "for i in price_tags:\n",
    "    price_list=i.text\n",
    "    price.append(price_list)\n",
    "price[0:40]"
   ]
  },
  {
   "cell_type": "code",
   "execution_count": 96,
   "id": "690086d3",
   "metadata": {},
   "outputs": [
    {
     "data": {
      "text/html": [
       "<div>\n",
       "<style scoped>\n",
       "    .dataframe tbody tr th:only-of-type {\n",
       "        vertical-align: middle;\n",
       "    }\n",
       "\n",
       "    .dataframe tbody tr th {\n",
       "        vertical-align: top;\n",
       "    }\n",
       "\n",
       "    .dataframe thead th {\n",
       "        text-align: right;\n",
       "    }\n",
       "</style>\n",
       "<table border=\"1\" class=\"dataframe\">\n",
       "  <thead>\n",
       "    <tr style=\"text-align: right;\">\n",
       "      <th></th>\n",
       "      <th>Brand</th>\n",
       "      <th>Product description</th>\n",
       "      <th>Price</th>\n",
       "    </tr>\n",
       "  </thead>\n",
       "  <tbody>\n",
       "    <tr>\n",
       "      <th>0</th>\n",
       "      <td>AISLIN</td>\n",
       "      <td>UV Protection Oval Sunglasses (60)</td>\n",
       "      <td>₹498</td>\n",
       "    </tr>\n",
       "    <tr>\n",
       "      <th>1</th>\n",
       "      <td>AISLIN</td>\n",
       "      <td>UV Protection, Gradient Cat-eye Sunglasses (58)</td>\n",
       "      <td>₹498</td>\n",
       "    </tr>\n",
       "    <tr>\n",
       "      <th>2</th>\n",
       "      <td>Fastrack</td>\n",
       "      <td>UV Protection Rectangular Sunglasses (Free Size)</td>\n",
       "      <td>₹639</td>\n",
       "    </tr>\n",
       "    <tr>\n",
       "      <th>3</th>\n",
       "      <td>Elligator</td>\n",
       "      <td>UV Protection Round Sunglasses (54)</td>\n",
       "      <td>₹295</td>\n",
       "    </tr>\n",
       "    <tr>\n",
       "      <th>4</th>\n",
       "      <td>Fastrack</td>\n",
       "      <td>UV Protection Wayfarer Sunglasses (Free Size)</td>\n",
       "      <td>₹719</td>\n",
       "    </tr>\n",
       "    <tr>\n",
       "      <th>5</th>\n",
       "      <td>DAHAAZIL</td>\n",
       "      <td>UV Protection, Night Vision, Riding Glasses Wa...</td>\n",
       "      <td>₹219</td>\n",
       "    </tr>\n",
       "    <tr>\n",
       "      <th>6</th>\n",
       "      <td>SRPM</td>\n",
       "      <td>UV Protection Wayfarer Sunglasses (50)</td>\n",
       "      <td>₹249</td>\n",
       "    </tr>\n",
       "    <tr>\n",
       "      <th>7</th>\n",
       "      <td>ROZZETTA CRAFT</td>\n",
       "      <td>UV Protection Aviator Sunglasses (62)</td>\n",
       "      <td>₹649</td>\n",
       "    </tr>\n",
       "    <tr>\n",
       "      <th>8</th>\n",
       "      <td>Ray-Ban</td>\n",
       "      <td>Mirrored, UV Protection Aviator Sunglasses (58)</td>\n",
       "      <td>₹3,349</td>\n",
       "    </tr>\n",
       "    <tr>\n",
       "      <th>9</th>\n",
       "      <td>New Specs</td>\n",
       "      <td>UV Protection Aviator Sunglasses (Free Size)</td>\n",
       "      <td>₹214</td>\n",
       "    </tr>\n",
       "    <tr>\n",
       "      <th>10</th>\n",
       "      <td>Rich Club</td>\n",
       "      <td>UV Protection, Mirrored, Gradient Round Sungla...</td>\n",
       "      <td>₹223</td>\n",
       "    </tr>\n",
       "    <tr>\n",
       "      <th>11</th>\n",
       "      <td>AISLIN</td>\n",
       "      <td>UV Protection, Gradient Oval Sunglasses (58)</td>\n",
       "      <td>₹498</td>\n",
       "    </tr>\n",
       "    <tr>\n",
       "      <th>12</th>\n",
       "      <td>Lee Topper</td>\n",
       "      <td>UV Protection Rectangular Sunglasses (Free Size)</td>\n",
       "      <td>₹219</td>\n",
       "    </tr>\n",
       "    <tr>\n",
       "      <th>13</th>\n",
       "      <td>Singco India</td>\n",
       "      <td>UV Protection, Riding Glasses, Others Aviator,...</td>\n",
       "      <td>₹239</td>\n",
       "    </tr>\n",
       "    <tr>\n",
       "      <th>14</th>\n",
       "      <td>New Specs</td>\n",
       "      <td>UV Protection Rectangular Sunglasses (Free Size)</td>\n",
       "      <td>₹265</td>\n",
       "    </tr>\n",
       "    <tr>\n",
       "      <th>15</th>\n",
       "      <td>AISLIN</td>\n",
       "      <td>UV Protection, Gradient Wayfarer, Retro Square...</td>\n",
       "      <td>₹498</td>\n",
       "    </tr>\n",
       "    <tr>\n",
       "      <th>16</th>\n",
       "      <td>Mi</td>\n",
       "      <td>Polarized Aviator Sunglasses (Free Size)</td>\n",
       "      <td>₹1,009</td>\n",
       "    </tr>\n",
       "    <tr>\n",
       "      <th>17</th>\n",
       "      <td>PIRASO</td>\n",
       "      <td>UV Protection Aviator Sunglasses (54)</td>\n",
       "      <td>₹249</td>\n",
       "    </tr>\n",
       "    <tr>\n",
       "      <th>18</th>\n",
       "      <td>Mi</td>\n",
       "      <td>Polarized Wayfarer Sunglasses (Free Size)</td>\n",
       "      <td>₹849</td>\n",
       "    </tr>\n",
       "    <tr>\n",
       "      <th>19</th>\n",
       "      <td>ROZZETTA CRAFT</td>\n",
       "      <td>UV Protection Aviator Sunglasses (62)</td>\n",
       "      <td>₹649</td>\n",
       "    </tr>\n",
       "    <tr>\n",
       "      <th>20</th>\n",
       "      <td>kingsunglasses</td>\n",
       "      <td>UV Protection Round Sunglasses (54)</td>\n",
       "      <td>₹214</td>\n",
       "    </tr>\n",
       "    <tr>\n",
       "      <th>21</th>\n",
       "      <td>Rich Club</td>\n",
       "      <td>UV Protection Round Sunglasses (48)</td>\n",
       "      <td>₹260</td>\n",
       "    </tr>\n",
       "    <tr>\n",
       "      <th>22</th>\n",
       "      <td>Fastrack</td>\n",
       "      <td>UV Protection Aviator Sunglasses (58)</td>\n",
       "      <td>₹1,099</td>\n",
       "    </tr>\n",
       "    <tr>\n",
       "      <th>23</th>\n",
       "      <td>AISLIN</td>\n",
       "      <td>UV Protection, Gradient Round Sunglasses (58)</td>\n",
       "      <td>₹498</td>\n",
       "    </tr>\n",
       "    <tr>\n",
       "      <th>24</th>\n",
       "      <td>ROZZETTA CRAFT</td>\n",
       "      <td>UV Protection, Gradient Rectangular Sunglasses...</td>\n",
       "      <td>₹399</td>\n",
       "    </tr>\n",
       "    <tr>\n",
       "      <th>25</th>\n",
       "      <td>SUNBEE</td>\n",
       "      <td>UV Protection, Polarized Wayfarer Sunglasses (...</td>\n",
       "      <td>₹283</td>\n",
       "    </tr>\n",
       "    <tr>\n",
       "      <th>26</th>\n",
       "      <td>ROYAL SON</td>\n",
       "      <td>UV Protection Rectangular, Retro Square Sungla...</td>\n",
       "      <td>₹499</td>\n",
       "    </tr>\n",
       "    <tr>\n",
       "      <th>27</th>\n",
       "      <td>AISLIN</td>\n",
       "      <td>Polarized, UV Protection Round, Aviator Sungla...</td>\n",
       "      <td>₹998</td>\n",
       "    </tr>\n",
       "    <tr>\n",
       "      <th>28</th>\n",
       "      <td>CRYSTAL CART</td>\n",
       "      <td>Polarized, UV Protection Retro Square Sunglass...</td>\n",
       "      <td>₹319</td>\n",
       "    </tr>\n",
       "    <tr>\n",
       "      <th>29</th>\n",
       "      <td>SRPM</td>\n",
       "      <td>UV Protection Wayfarer Sunglasses (53)</td>\n",
       "      <td>₹246</td>\n",
       "    </tr>\n",
       "    <tr>\n",
       "      <th>30</th>\n",
       "      <td>Fastrack</td>\n",
       "      <td>UV Protection Wayfarer Sunglasses (Free Size)</td>\n",
       "      <td>₹719</td>\n",
       "    </tr>\n",
       "    <tr>\n",
       "      <th>31</th>\n",
       "      <td>AISLIN</td>\n",
       "      <td>Toughened Glass Lens, UV Protection Aviator, W...</td>\n",
       "      <td>₹998</td>\n",
       "    </tr>\n",
       "    <tr>\n",
       "      <th>32</th>\n",
       "      <td>Fastrack</td>\n",
       "      <td>UV Protection Aviator Sunglasses (Free Size)</td>\n",
       "      <td>₹639</td>\n",
       "    </tr>\n",
       "    <tr>\n",
       "      <th>33</th>\n",
       "      <td>Fastrack</td>\n",
       "      <td>UV Protection Rectangular Sunglasses (56)</td>\n",
       "      <td>₹639</td>\n",
       "    </tr>\n",
       "    <tr>\n",
       "      <th>34</th>\n",
       "      <td>Poloport</td>\n",
       "      <td>UV Protection Wayfarer Sunglasses (Free Size)</td>\n",
       "      <td>₹279</td>\n",
       "    </tr>\n",
       "    <tr>\n",
       "      <th>35</th>\n",
       "      <td>AISLIN</td>\n",
       "      <td>Toughened Glass Lens, UV Protection Aviator, W...</td>\n",
       "      <td>₹890</td>\n",
       "    </tr>\n",
       "    <tr>\n",
       "      <th>36</th>\n",
       "      <td>maxa</td>\n",
       "      <td>UV Protection, Riding Glasses Rectangular, Way...</td>\n",
       "      <td>₹189</td>\n",
       "    </tr>\n",
       "    <tr>\n",
       "      <th>37</th>\n",
       "      <td>ROZZETTA CRAFT</td>\n",
       "      <td>UV Protection, Gradient Retro Square Sunglasse...</td>\n",
       "      <td>₹349</td>\n",
       "    </tr>\n",
       "    <tr>\n",
       "      <th>38</th>\n",
       "      <td>New Specs</td>\n",
       "      <td>UV Protection, Mirrored Round Sunglasses (Free...</td>\n",
       "      <td>₹299</td>\n",
       "    </tr>\n",
       "    <tr>\n",
       "      <th>39</th>\n",
       "      <td>ROZZETTA CRAFT</td>\n",
       "      <td>Polarized, Riding Glasses Sports, Wrap-around ...</td>\n",
       "      <td>₹499</td>\n",
       "    </tr>\n",
       "  </tbody>\n",
       "</table>\n",
       "</div>"
      ],
      "text/plain": [
       "             Brand                                Product description   Price\n",
       "0           AISLIN                 UV Protection Oval Sunglasses (60)    ₹498\n",
       "1           AISLIN    UV Protection, Gradient Cat-eye Sunglasses (58)    ₹498\n",
       "2         Fastrack   UV Protection Rectangular Sunglasses (Free Size)    ₹639\n",
       "3        Elligator                UV Protection Round Sunglasses (54)    ₹295\n",
       "4         Fastrack      UV Protection Wayfarer Sunglasses (Free Size)    ₹719\n",
       "5         DAHAAZIL  UV Protection, Night Vision, Riding Glasses Wa...    ₹219\n",
       "6             SRPM             UV Protection Wayfarer Sunglasses (50)    ₹249\n",
       "7   ROZZETTA CRAFT              UV Protection Aviator Sunglasses (62)    ₹649\n",
       "8          Ray-Ban    Mirrored, UV Protection Aviator Sunglasses (58)  ₹3,349\n",
       "9        New Specs       UV Protection Aviator Sunglasses (Free Size)    ₹214\n",
       "10       Rich Club  UV Protection, Mirrored, Gradient Round Sungla...    ₹223\n",
       "11          AISLIN       UV Protection, Gradient Oval Sunglasses (58)    ₹498\n",
       "12      Lee Topper   UV Protection Rectangular Sunglasses (Free Size)    ₹219\n",
       "13    Singco India  UV Protection, Riding Glasses, Others Aviator,...    ₹239\n",
       "14       New Specs   UV Protection Rectangular Sunglasses (Free Size)    ₹265\n",
       "15          AISLIN  UV Protection, Gradient Wayfarer, Retro Square...    ₹498\n",
       "16              Mi           Polarized Aviator Sunglasses (Free Size)  ₹1,009\n",
       "17          PIRASO              UV Protection Aviator Sunglasses (54)    ₹249\n",
       "18              Mi          Polarized Wayfarer Sunglasses (Free Size)    ₹849\n",
       "19  ROZZETTA CRAFT              UV Protection Aviator Sunglasses (62)    ₹649\n",
       "20  kingsunglasses                UV Protection Round Sunglasses (54)    ₹214\n",
       "21       Rich Club                UV Protection Round Sunglasses (48)    ₹260\n",
       "22        Fastrack              UV Protection Aviator Sunglasses (58)  ₹1,099\n",
       "23          AISLIN      UV Protection, Gradient Round Sunglasses (58)    ₹498\n",
       "24  ROZZETTA CRAFT  UV Protection, Gradient Rectangular Sunglasses...    ₹399\n",
       "25          SUNBEE  UV Protection, Polarized Wayfarer Sunglasses (...    ₹283\n",
       "26       ROYAL SON  UV Protection Rectangular, Retro Square Sungla...    ₹499\n",
       "27          AISLIN  Polarized, UV Protection Round, Aviator Sungla...    ₹998\n",
       "28    CRYSTAL CART  Polarized, UV Protection Retro Square Sunglass...    ₹319\n",
       "29            SRPM             UV Protection Wayfarer Sunglasses (53)    ₹246\n",
       "30        Fastrack      UV Protection Wayfarer Sunglasses (Free Size)    ₹719\n",
       "31          AISLIN  Toughened Glass Lens, UV Protection Aviator, W...    ₹998\n",
       "32        Fastrack       UV Protection Aviator Sunglasses (Free Size)    ₹639\n",
       "33        Fastrack          UV Protection Rectangular Sunglasses (56)    ₹639\n",
       "34        Poloport      UV Protection Wayfarer Sunglasses (Free Size)    ₹279\n",
       "35          AISLIN  Toughened Glass Lens, UV Protection Aviator, W...    ₹890\n",
       "36            maxa  UV Protection, Riding Glasses Rectangular, Way...    ₹189\n",
       "37  ROZZETTA CRAFT  UV Protection, Gradient Retro Square Sunglasse...    ₹349\n",
       "38       New Specs  UV Protection, Mirrored Round Sunglasses (Free...    ₹299\n",
       "39  ROZZETTA CRAFT  Polarized, Riding Glasses Sports, Wrap-around ...    ₹499"
      ]
     },
     "execution_count": 96,
     "metadata": {},
     "output_type": "execute_result"
    }
   ],
   "source": [
    "df1=pd.DataFrame({})\n",
    "df1['Brand']=brand[0:40]\n",
    "df1['Product description']=product[0:40]\n",
    "df1['Price']=price[0:40]\n",
    "df1"
   ]
  },
  {
   "cell_type": "code",
   "execution_count": 97,
   "id": "bb9aa78e",
   "metadata": {},
   "outputs": [],
   "source": [
    "# 41 to 80\n",
    "next_button=driver.find_element_by_xpath(\"//a[@class='ge-49M']\")\n",
    "next_button.click()"
   ]
  },
  {
   "cell_type": "code",
   "execution_count": 98,
   "id": "24663f3b",
   "metadata": {},
   "outputs": [],
   "source": [
    "brand2=[]\n",
    "product2=[]\n",
    "price2=[]"
   ]
  },
  {
   "cell_type": "code",
   "execution_count": 99,
   "id": "df54bda0",
   "metadata": {},
   "outputs": [
    {
     "data": {
      "text/plain": [
       "[<selenium.webdriver.remote.webelement.WebElement (session=\"535fe32f361d58513745e9cb789831ec\", element=\"7acf41b9-fe6a-4ab6-88bd-b0ce9cae9e5c\")>,\n",
       " <selenium.webdriver.remote.webelement.WebElement (session=\"535fe32f361d58513745e9cb789831ec\", element=\"faf91380-b8c6-4449-9ee1-717f55e223c5\")>,\n",
       " <selenium.webdriver.remote.webelement.WebElement (session=\"535fe32f361d58513745e9cb789831ec\", element=\"f89e78ac-f01f-4e36-8804-2b720d6457ab\")>,\n",
       " <selenium.webdriver.remote.webelement.WebElement (session=\"535fe32f361d58513745e9cb789831ec\", element=\"cac027f0-71c0-4a62-9a8b-29b3252c431f\")>,\n",
       " <selenium.webdriver.remote.webelement.WebElement (session=\"535fe32f361d58513745e9cb789831ec\", element=\"4c635b47-6b9a-4ab0-95cc-fc1328314b7a\")>,\n",
       " <selenium.webdriver.remote.webelement.WebElement (session=\"535fe32f361d58513745e9cb789831ec\", element=\"506edb58-c97d-4641-a34c-633ab2979f6a\")>,\n",
       " <selenium.webdriver.remote.webelement.WebElement (session=\"535fe32f361d58513745e9cb789831ec\", element=\"9b0ba5bb-ef1a-418f-b434-20bd931ea663\")>,\n",
       " <selenium.webdriver.remote.webelement.WebElement (session=\"535fe32f361d58513745e9cb789831ec\", element=\"40bc0f0b-3f86-4af7-8cd4-e2f2d8fa1578\")>,\n",
       " <selenium.webdriver.remote.webelement.WebElement (session=\"535fe32f361d58513745e9cb789831ec\", element=\"36155ff3-3d7e-4c9b-81d4-a1cc6848f73a\")>,\n",
       " <selenium.webdriver.remote.webelement.WebElement (session=\"535fe32f361d58513745e9cb789831ec\", element=\"6276adab-859a-43c0-ab40-b04b26838604\")>,\n",
       " <selenium.webdriver.remote.webelement.WebElement (session=\"535fe32f361d58513745e9cb789831ec\", element=\"431bff8a-8285-4590-a983-fd08f3268bb3\")>,\n",
       " <selenium.webdriver.remote.webelement.WebElement (session=\"535fe32f361d58513745e9cb789831ec\", element=\"ed2982ff-0e3c-4cf8-a00e-1b7cdb76e8f4\")>,\n",
       " <selenium.webdriver.remote.webelement.WebElement (session=\"535fe32f361d58513745e9cb789831ec\", element=\"edfa9452-c96d-457b-b84d-67997a4373eb\")>,\n",
       " <selenium.webdriver.remote.webelement.WebElement (session=\"535fe32f361d58513745e9cb789831ec\", element=\"1dbf2392-2d45-49bb-9633-39959ae4e7c3\")>,\n",
       " <selenium.webdriver.remote.webelement.WebElement (session=\"535fe32f361d58513745e9cb789831ec\", element=\"9b6fea1c-5e96-46bc-b051-828b2757587a\")>,\n",
       " <selenium.webdriver.remote.webelement.WebElement (session=\"535fe32f361d58513745e9cb789831ec\", element=\"2f46d5ab-33ca-4b45-bc74-4b8ff6bf4514\")>,\n",
       " <selenium.webdriver.remote.webelement.WebElement (session=\"535fe32f361d58513745e9cb789831ec\", element=\"414c1164-e188-4491-8441-11d4df866f44\")>,\n",
       " <selenium.webdriver.remote.webelement.WebElement (session=\"535fe32f361d58513745e9cb789831ec\", element=\"3bfbcac5-16e3-4aaf-b4a6-c4d5cf87a3cc\")>,\n",
       " <selenium.webdriver.remote.webelement.WebElement (session=\"535fe32f361d58513745e9cb789831ec\", element=\"0097ed07-9b40-44b4-8856-5b792621d115\")>,\n",
       " <selenium.webdriver.remote.webelement.WebElement (session=\"535fe32f361d58513745e9cb789831ec\", element=\"833ff45c-052a-4ed8-90ba-98bccb8ddb2f\")>,\n",
       " <selenium.webdriver.remote.webelement.WebElement (session=\"535fe32f361d58513745e9cb789831ec\", element=\"f02ce016-3d95-4a57-b6f6-5bfa9a572f34\")>,\n",
       " <selenium.webdriver.remote.webelement.WebElement (session=\"535fe32f361d58513745e9cb789831ec\", element=\"5c8380ab-4ba0-4388-a24f-157d93397a14\")>,\n",
       " <selenium.webdriver.remote.webelement.WebElement (session=\"535fe32f361d58513745e9cb789831ec\", element=\"6f182896-1c2e-48d1-b7c0-8befeb7796d8\")>,\n",
       " <selenium.webdriver.remote.webelement.WebElement (session=\"535fe32f361d58513745e9cb789831ec\", element=\"5ea7094e-998a-4092-a1d8-18f9919968ae\")>,\n",
       " <selenium.webdriver.remote.webelement.WebElement (session=\"535fe32f361d58513745e9cb789831ec\", element=\"1d782611-a9c2-4a22-87ba-e5c615e25fdc\")>,\n",
       " <selenium.webdriver.remote.webelement.WebElement (session=\"535fe32f361d58513745e9cb789831ec\", element=\"3b00cee3-1880-4aa7-ac9b-c3554b84d0cc\")>,\n",
       " <selenium.webdriver.remote.webelement.WebElement (session=\"535fe32f361d58513745e9cb789831ec\", element=\"05bd3684-9e69-4570-bae4-5faa2749a85b\")>,\n",
       " <selenium.webdriver.remote.webelement.WebElement (session=\"535fe32f361d58513745e9cb789831ec\", element=\"a7a23d61-4919-4f90-85e3-f7a10cf33052\")>,\n",
       " <selenium.webdriver.remote.webelement.WebElement (session=\"535fe32f361d58513745e9cb789831ec\", element=\"0fc399a5-21b6-4de8-92cc-4d94bf0c8c52\")>,\n",
       " <selenium.webdriver.remote.webelement.WebElement (session=\"535fe32f361d58513745e9cb789831ec\", element=\"98270070-4092-438d-9b34-eda03302dd96\")>,\n",
       " <selenium.webdriver.remote.webelement.WebElement (session=\"535fe32f361d58513745e9cb789831ec\", element=\"28fe0a5f-8afc-4866-9ed5-cff954cc5074\")>,\n",
       " <selenium.webdriver.remote.webelement.WebElement (session=\"535fe32f361d58513745e9cb789831ec\", element=\"2d4e9258-905f-4407-847d-500d26a843cc\")>,\n",
       " <selenium.webdriver.remote.webelement.WebElement (session=\"535fe32f361d58513745e9cb789831ec\", element=\"be7f0da1-6a36-4010-893f-f606190627a6\")>,\n",
       " <selenium.webdriver.remote.webelement.WebElement (session=\"535fe32f361d58513745e9cb789831ec\", element=\"b8133f78-2708-44a3-aa5b-14933e04e9fb\")>,\n",
       " <selenium.webdriver.remote.webelement.WebElement (session=\"535fe32f361d58513745e9cb789831ec\", element=\"e65a0e1f-2773-4d9b-b803-c4983dba5408\")>,\n",
       " <selenium.webdriver.remote.webelement.WebElement (session=\"535fe32f361d58513745e9cb789831ec\", element=\"f4c5ccf5-7ba3-474f-96aa-b9796aa2b1e2\")>,\n",
       " <selenium.webdriver.remote.webelement.WebElement (session=\"535fe32f361d58513745e9cb789831ec\", element=\"4f970a68-aa72-48aa-ac04-a19e77f4a436\")>,\n",
       " <selenium.webdriver.remote.webelement.WebElement (session=\"535fe32f361d58513745e9cb789831ec\", element=\"93c9a3fa-068b-4daa-ad15-1823aa2a8016\")>,\n",
       " <selenium.webdriver.remote.webelement.WebElement (session=\"535fe32f361d58513745e9cb789831ec\", element=\"84714759-4896-4d92-bce6-e00fcde07088\")>,\n",
       " <selenium.webdriver.remote.webelement.WebElement (session=\"535fe32f361d58513745e9cb789831ec\", element=\"6a02ed90-6571-4bf2-9e11-f52c4a93526a\")>]"
      ]
     },
     "execution_count": 99,
     "metadata": {},
     "output_type": "execute_result"
    }
   ],
   "source": [
    "brand_tags2=driver.find_elements_by_xpath(\"//div[@class='_2WkVRV']\")\n",
    "brand_tags2[0:40]"
   ]
  },
  {
   "cell_type": "code",
   "execution_count": 100,
   "id": "6ffd0138",
   "metadata": {},
   "outputs": [
    {
     "data": {
      "text/plain": [
       "['New Specs',\n",
       " 'kingscape',\n",
       " 'Rich Club',\n",
       " 'AISLIN',\n",
       " 'United Colors of Benetton',\n",
       " 'VINCENT CHASE',\n",
       " 'CRYSTAL CART',\n",
       " 'AISLIN',\n",
       " 'HIPPON',\n",
       " 'Fastrack',\n",
       " 'PIRASO',\n",
       " 'AISLIN',\n",
       " 'Singco India',\n",
       " 'Mi',\n",
       " 'Silver Kartz',\n",
       " 'AISLIN',\n",
       " 'kingsunglasses',\n",
       " 'DEIXELS',\n",
       " 'PIRASO',\n",
       " 'ROZZETTA CRAFT',\n",
       " 'PIRASO',\n",
       " 'ROZZETTA CRAFT',\n",
       " 'SHAAH COLLECTIONS',\n",
       " 'ROYAL SON',\n",
       " 'PIRASO',\n",
       " 'WROGN',\n",
       " 'kingsunglasses',\n",
       " 'AISLIN',\n",
       " 'New Specs',\n",
       " 'Elligator',\n",
       " 'Fastrack',\n",
       " 'AISLIN',\n",
       " 'elegante',\n",
       " 'ROYAL SON',\n",
       " 'ROZZETTA CRAFT',\n",
       " 'AISLIN',\n",
       " 'VINCENT CHASE',\n",
       " 'PIRASO',\n",
       " 'SUNBEE',\n",
       " 'AISLIN']"
      ]
     },
     "execution_count": 100,
     "metadata": {},
     "output_type": "execute_result"
    }
   ],
   "source": [
    "for i in brand_tags2:\n",
    "    brand_2_text=i.text\n",
    "    brand2.append(brand_2_text)\n",
    "brand2[0:40]"
   ]
  },
  {
   "cell_type": "code",
   "execution_count": 101,
   "id": "f9709bac",
   "metadata": {},
   "outputs": [
    {
     "data": {
      "text/plain": [
       "[<selenium.webdriver.remote.webelement.WebElement (session=\"535fe32f361d58513745e9cb789831ec\", element=\"02a101d9-0cd2-4a3f-bb63-29bdfa0ce626\")>,\n",
       " <selenium.webdriver.remote.webelement.WebElement (session=\"535fe32f361d58513745e9cb789831ec\", element=\"c0268b5b-3c81-43fa-8680-da60bdc92397\")>,\n",
       " <selenium.webdriver.remote.webelement.WebElement (session=\"535fe32f361d58513745e9cb789831ec\", element=\"ac9c87bd-437d-4185-b218-eeeff64fcb59\")>,\n",
       " <selenium.webdriver.remote.webelement.WebElement (session=\"535fe32f361d58513745e9cb789831ec\", element=\"66646545-f533-4853-862a-0c7f34dabba9\")>,\n",
       " <selenium.webdriver.remote.webelement.WebElement (session=\"535fe32f361d58513745e9cb789831ec\", element=\"4804595f-286a-4d46-92c1-a139b34b2c4a\")>,\n",
       " <selenium.webdriver.remote.webelement.WebElement (session=\"535fe32f361d58513745e9cb789831ec\", element=\"e9e8d8ff-8bb9-493f-a4fa-a7840078bce7\")>,\n",
       " <selenium.webdriver.remote.webelement.WebElement (session=\"535fe32f361d58513745e9cb789831ec\", element=\"5e6c16c6-65f3-4ef4-961a-18a4caf4a9ac\")>,\n",
       " <selenium.webdriver.remote.webelement.WebElement (session=\"535fe32f361d58513745e9cb789831ec\", element=\"cf20933d-c92b-4b2b-a6b6-bab2874a279e\")>,\n",
       " <selenium.webdriver.remote.webelement.WebElement (session=\"535fe32f361d58513745e9cb789831ec\", element=\"2c8885c6-d438-4907-8b0d-5418c8f91bd6\")>,\n",
       " <selenium.webdriver.remote.webelement.WebElement (session=\"535fe32f361d58513745e9cb789831ec\", element=\"4530cf2b-4ec0-4150-9125-d2ef06612dce\")>,\n",
       " <selenium.webdriver.remote.webelement.WebElement (session=\"535fe32f361d58513745e9cb789831ec\", element=\"0b458dee-822e-4009-8498-3a8e2b5e6cd3\")>,\n",
       " <selenium.webdriver.remote.webelement.WebElement (session=\"535fe32f361d58513745e9cb789831ec\", element=\"4aa5eb29-8f5f-49c1-8e34-bf4072e51371\")>,\n",
       " <selenium.webdriver.remote.webelement.WebElement (session=\"535fe32f361d58513745e9cb789831ec\", element=\"349d125c-3c3c-4fcd-87a9-d6c60d59a73d\")>,\n",
       " <selenium.webdriver.remote.webelement.WebElement (session=\"535fe32f361d58513745e9cb789831ec\", element=\"c8542bb3-64cb-4d9b-b691-d4633ec53c38\")>,\n",
       " <selenium.webdriver.remote.webelement.WebElement (session=\"535fe32f361d58513745e9cb789831ec\", element=\"b8d72e41-ad05-4bbf-97db-057ece0a8761\")>,\n",
       " <selenium.webdriver.remote.webelement.WebElement (session=\"535fe32f361d58513745e9cb789831ec\", element=\"c8bf42a8-5144-4b44-bba0-8da0e7d0a78c\")>,\n",
       " <selenium.webdriver.remote.webelement.WebElement (session=\"535fe32f361d58513745e9cb789831ec\", element=\"cca59781-ed43-4000-87d8-c6993244c994\")>,\n",
       " <selenium.webdriver.remote.webelement.WebElement (session=\"535fe32f361d58513745e9cb789831ec\", element=\"be3a846d-3c51-4f45-8439-ebcc7f41f976\")>,\n",
       " <selenium.webdriver.remote.webelement.WebElement (session=\"535fe32f361d58513745e9cb789831ec\", element=\"66e5bd38-bb49-47ac-aae8-38d8246d93b2\")>,\n",
       " <selenium.webdriver.remote.webelement.WebElement (session=\"535fe32f361d58513745e9cb789831ec\", element=\"f7ddd580-6332-4986-86d8-746cbac02aee\")>,\n",
       " <selenium.webdriver.remote.webelement.WebElement (session=\"535fe32f361d58513745e9cb789831ec\", element=\"2472cb76-f17b-4fed-b268-989d2137d677\")>,\n",
       " <selenium.webdriver.remote.webelement.WebElement (session=\"535fe32f361d58513745e9cb789831ec\", element=\"c4c143a8-edab-4a11-b218-70a667544472\")>,\n",
       " <selenium.webdriver.remote.webelement.WebElement (session=\"535fe32f361d58513745e9cb789831ec\", element=\"8a8d7d9e-dfcb-4cbd-b73d-b962c58ccd30\")>,\n",
       " <selenium.webdriver.remote.webelement.WebElement (session=\"535fe32f361d58513745e9cb789831ec\", element=\"52ce294c-fa68-46f4-a2dc-704571664800\")>,\n",
       " <selenium.webdriver.remote.webelement.WebElement (session=\"535fe32f361d58513745e9cb789831ec\", element=\"bce9853c-8dbf-4e0d-acf9-000921453e96\")>,\n",
       " <selenium.webdriver.remote.webelement.WebElement (session=\"535fe32f361d58513745e9cb789831ec\", element=\"94b79616-3204-4797-ada7-75bfd1330527\")>,\n",
       " <selenium.webdriver.remote.webelement.WebElement (session=\"535fe32f361d58513745e9cb789831ec\", element=\"a2bc3472-75a0-4e00-ba9b-339185cee516\")>,\n",
       " <selenium.webdriver.remote.webelement.WebElement (session=\"535fe32f361d58513745e9cb789831ec\", element=\"db7a8689-ad1a-46ba-a44e-5555536bc9cf\")>,\n",
       " <selenium.webdriver.remote.webelement.WebElement (session=\"535fe32f361d58513745e9cb789831ec\", element=\"ddc82332-9f19-47b3-8f4f-b37896938d22\")>,\n",
       " <selenium.webdriver.remote.webelement.WebElement (session=\"535fe32f361d58513745e9cb789831ec\", element=\"d676cf10-9ecc-4f0a-8bc7-85e04967f334\")>,\n",
       " <selenium.webdriver.remote.webelement.WebElement (session=\"535fe32f361d58513745e9cb789831ec\", element=\"18e19177-f6e0-4c75-9721-c20cda42a265\")>,\n",
       " <selenium.webdriver.remote.webelement.WebElement (session=\"535fe32f361d58513745e9cb789831ec\", element=\"6f07bfa4-e0a6-40fe-9992-78fb7e2f3724\")>,\n",
       " <selenium.webdriver.remote.webelement.WebElement (session=\"535fe32f361d58513745e9cb789831ec\", element=\"6fe64baa-8905-42a0-a67b-750e8a5696af\")>,\n",
       " <selenium.webdriver.remote.webelement.WebElement (session=\"535fe32f361d58513745e9cb789831ec\", element=\"33730a46-93a7-4719-88f5-5b10580baf2f\")>,\n",
       " <selenium.webdriver.remote.webelement.WebElement (session=\"535fe32f361d58513745e9cb789831ec\", element=\"d42c126f-2596-4745-a42b-e814998c2e58\")>,\n",
       " <selenium.webdriver.remote.webelement.WebElement (session=\"535fe32f361d58513745e9cb789831ec\", element=\"db3333ff-37d9-4b4c-9ae6-2c1cc2030335\")>,\n",
       " <selenium.webdriver.remote.webelement.WebElement (session=\"535fe32f361d58513745e9cb789831ec\", element=\"37a99115-c999-48c9-b045-13ce4ce5e5c3\")>,\n",
       " <selenium.webdriver.remote.webelement.WebElement (session=\"535fe32f361d58513745e9cb789831ec\", element=\"2749fd56-2f9a-458d-9042-99ab84e239b9\")>,\n",
       " <selenium.webdriver.remote.webelement.WebElement (session=\"535fe32f361d58513745e9cb789831ec\", element=\"57c5881a-2b19-4253-a809-1fb867134cab\")>,\n",
       " <selenium.webdriver.remote.webelement.WebElement (session=\"535fe32f361d58513745e9cb789831ec\", element=\"741e67aa-a4d0-432b-815b-b5a544352c7c\")>]"
      ]
     },
     "execution_count": 101,
     "metadata": {},
     "output_type": "execute_result"
    }
   ],
   "source": [
    "product_tags2=driver.find_elements_by_xpath(\"//a[@class='IRpwTa']\")\n",
    "product_tags2[0:40]"
   ]
  },
  {
   "cell_type": "code",
   "execution_count": 102,
   "id": "2351100e",
   "metadata": {},
   "outputs": [
    {
     "data": {
      "text/plain": [
       "['Mirrored, UV Protection, Riding Glasses, Others Round S...',\n",
       " 'UV Protection Rectangular Sunglasses (Free Size)',\n",
       " 'UV Protection, Others Round Sunglasses (48)',\n",
       " 'UV Protection Oval Sunglasses (60)',\n",
       " 'Gradient Retro Square Sunglasses (56)',\n",
       " 'by Lenskart Polarized, UV Protection Wayfarer Sunglasse...',\n",
       " 'UV Protection, Gradient Round Sunglasses (Free Size)',\n",
       " 'UV Protection, Gradient Cat-eye Sunglasses (58)',\n",
       " 'UV Protection Wayfarer Sunglasses (55)',\n",
       " 'UV Protection Aviator Sunglasses (58)',\n",
       " 'UV Protection Wayfarer Sunglasses (32)',\n",
       " 'UV Protection, Gradient Oval Sunglasses (58)',\n",
       " 'Gradient, Toughened Glass Lens, UV Protection Retro Squ...',\n",
       " 'Polarized Aviator Sunglasses (Free Size)',\n",
       " 'UV Protection Aviator Sunglasses (88)',\n",
       " 'UV Protection, Gradient Wayfarer, Retro Square Sunglass...',\n",
       " 'UV Protection, Riding Glasses, Mirrored Wayfarer Sungla...',\n",
       " 'UV Protection Aviator, Wayfarer Sunglasses (Free Size)',\n",
       " 'UV Protection Over-sized Sunglasses (65)',\n",
       " 'UV Protection Aviator Sunglasses (62)',\n",
       " 'UV Protection Aviator Sunglasses (54)',\n",
       " 'UV Protection, Gradient Round Sunglasses (Free Size)',\n",
       " 'UV Protection, Polarized, Mirrored Rectangular Sunglass...',\n",
       " 'UV Protection Rectangular, Retro Square Sunglasses (58)',\n",
       " 'UV Protection Rectangular Sunglasses (52)',\n",
       " 'Polarized Oval Sunglasses (55)',\n",
       " 'UV Protection, Others Round, Aviator Sunglasses (54)',\n",
       " 'UV Protection, Gradient Round Sunglasses (58)',\n",
       " 'UV Protection Round Sunglasses (Free Size)',\n",
       " 'UV Protection Round Sunglasses (53)',\n",
       " 'UV Protection Wayfarer Sunglasses (55)',\n",
       " 'Polarized, UV Protection Round, Aviator Sunglasses (55)',\n",
       " 'Polarized, Riding Glasses, Night Vision Sports, Wrap-ar...',\n",
       " 'Mirrored Aviator Sunglasses (Free Size)',\n",
       " 'UV Protection Round Sunglasses (Free Size)',\n",
       " 'Toughened Glass Lens, UV Protection Aviator, Wrap-aroun...',\n",
       " 'by Lenskart Polarized, UV Protection Cat-eye Sunglasses...',\n",
       " 'UV Protection Aviator Sunglasses (54)',\n",
       " 'UV Protection, Polarized, Mirrored Retro Square Sunglas...',\n",
       " 'Toughened Glass Lens, UV Protection Aviator, Wrap-aroun...']"
      ]
     },
     "execution_count": 102,
     "metadata": {},
     "output_type": "execute_result"
    }
   ],
   "source": [
    "for i in product_tags2:\n",
    "    product_2_text=i.text\n",
    "    product2.append( product_2_text)\n",
    "product2[0:40]"
   ]
  },
  {
   "cell_type": "code",
   "execution_count": 103,
   "id": "906fed16",
   "metadata": {},
   "outputs": [
    {
     "data": {
      "text/plain": [
       "[<selenium.webdriver.remote.webelement.WebElement (session=\"535fe32f361d58513745e9cb789831ec\", element=\"c9b9c4a2-5ba6-465e-8299-37a2dcf08b15\")>,\n",
       " <selenium.webdriver.remote.webelement.WebElement (session=\"535fe32f361d58513745e9cb789831ec\", element=\"e5c135c6-a235-4772-a19d-ecf4537bae6a\")>,\n",
       " <selenium.webdriver.remote.webelement.WebElement (session=\"535fe32f361d58513745e9cb789831ec\", element=\"c2478eac-7312-4212-99e2-ce6e459b43a8\")>,\n",
       " <selenium.webdriver.remote.webelement.WebElement (session=\"535fe32f361d58513745e9cb789831ec\", element=\"41356299-db4a-4223-9cbb-6b031966e877\")>,\n",
       " <selenium.webdriver.remote.webelement.WebElement (session=\"535fe32f361d58513745e9cb789831ec\", element=\"5af7cb97-ce3f-4f2c-850c-6ae376f2f8d7\")>,\n",
       " <selenium.webdriver.remote.webelement.WebElement (session=\"535fe32f361d58513745e9cb789831ec\", element=\"88ea66d9-9c76-4f59-b66f-ee39e93ed5e1\")>,\n",
       " <selenium.webdriver.remote.webelement.WebElement (session=\"535fe32f361d58513745e9cb789831ec\", element=\"3022b47c-a5af-45eb-9e2d-2096ce433334\")>,\n",
       " <selenium.webdriver.remote.webelement.WebElement (session=\"535fe32f361d58513745e9cb789831ec\", element=\"754643cc-b939-4793-96b6-877234dc8da7\")>,\n",
       " <selenium.webdriver.remote.webelement.WebElement (session=\"535fe32f361d58513745e9cb789831ec\", element=\"9c657e80-160d-412b-8794-42bf0e4182ff\")>,\n",
       " <selenium.webdriver.remote.webelement.WebElement (session=\"535fe32f361d58513745e9cb789831ec\", element=\"0cecfd0a-c6f5-41a2-b31e-e23001bcfe23\")>,\n",
       " <selenium.webdriver.remote.webelement.WebElement (session=\"535fe32f361d58513745e9cb789831ec\", element=\"e4aa57ea-fdc9-42cd-981f-e56db849b01f\")>,\n",
       " <selenium.webdriver.remote.webelement.WebElement (session=\"535fe32f361d58513745e9cb789831ec\", element=\"f3869041-0856-4bd3-9df8-43ac6b43d770\")>,\n",
       " <selenium.webdriver.remote.webelement.WebElement (session=\"535fe32f361d58513745e9cb789831ec\", element=\"23690a01-8141-4d67-a487-e28760cb2ead\")>,\n",
       " <selenium.webdriver.remote.webelement.WebElement (session=\"535fe32f361d58513745e9cb789831ec\", element=\"923534b9-bde4-4746-9368-050a99cfec87\")>,\n",
       " <selenium.webdriver.remote.webelement.WebElement (session=\"535fe32f361d58513745e9cb789831ec\", element=\"6ce156bf-6d01-42d4-b10e-d48924600010\")>,\n",
       " <selenium.webdriver.remote.webelement.WebElement (session=\"535fe32f361d58513745e9cb789831ec\", element=\"63136786-8a26-4947-9eda-b07193f8d0e2\")>,\n",
       " <selenium.webdriver.remote.webelement.WebElement (session=\"535fe32f361d58513745e9cb789831ec\", element=\"d49328cb-13c1-466e-8eb3-9929d5352b2c\")>,\n",
       " <selenium.webdriver.remote.webelement.WebElement (session=\"535fe32f361d58513745e9cb789831ec\", element=\"a842839c-9451-4de8-a23c-616484d18da2\")>,\n",
       " <selenium.webdriver.remote.webelement.WebElement (session=\"535fe32f361d58513745e9cb789831ec\", element=\"774820e4-f18e-4eb3-bd59-f464a8f39c96\")>,\n",
       " <selenium.webdriver.remote.webelement.WebElement (session=\"535fe32f361d58513745e9cb789831ec\", element=\"1798d244-21e2-4cbd-bf43-c19740dc63dc\")>,\n",
       " <selenium.webdriver.remote.webelement.WebElement (session=\"535fe32f361d58513745e9cb789831ec\", element=\"c086284f-a596-4430-a0f7-cd0b752f7cb3\")>,\n",
       " <selenium.webdriver.remote.webelement.WebElement (session=\"535fe32f361d58513745e9cb789831ec\", element=\"370b82ed-7b7b-4cd8-9518-1d5462f84671\")>,\n",
       " <selenium.webdriver.remote.webelement.WebElement (session=\"535fe32f361d58513745e9cb789831ec\", element=\"4af4ce4e-ed25-4815-b5b1-98eb434d5e67\")>,\n",
       " <selenium.webdriver.remote.webelement.WebElement (session=\"535fe32f361d58513745e9cb789831ec\", element=\"e0774c69-df37-4310-ba59-a309584dde33\")>,\n",
       " <selenium.webdriver.remote.webelement.WebElement (session=\"535fe32f361d58513745e9cb789831ec\", element=\"584a87f6-068b-44e1-b272-1160c0dead58\")>,\n",
       " <selenium.webdriver.remote.webelement.WebElement (session=\"535fe32f361d58513745e9cb789831ec\", element=\"4ba6469b-3744-46b1-9f47-6f85d6c75e51\")>,\n",
       " <selenium.webdriver.remote.webelement.WebElement (session=\"535fe32f361d58513745e9cb789831ec\", element=\"07674418-6ab4-4f74-a416-dabc45e9c4ca\")>,\n",
       " <selenium.webdriver.remote.webelement.WebElement (session=\"535fe32f361d58513745e9cb789831ec\", element=\"64d3c1af-748b-44d6-8cfb-c00dac801363\")>,\n",
       " <selenium.webdriver.remote.webelement.WebElement (session=\"535fe32f361d58513745e9cb789831ec\", element=\"24f3f532-390f-43a2-8d30-4fd2d41dda25\")>,\n",
       " <selenium.webdriver.remote.webelement.WebElement (session=\"535fe32f361d58513745e9cb789831ec\", element=\"cb4f5372-226c-42c5-817e-2ae5ce0db4ad\")>,\n",
       " <selenium.webdriver.remote.webelement.WebElement (session=\"535fe32f361d58513745e9cb789831ec\", element=\"eee9388b-318c-4dae-9b99-fbcfe3db5f7e\")>,\n",
       " <selenium.webdriver.remote.webelement.WebElement (session=\"535fe32f361d58513745e9cb789831ec\", element=\"1392891f-c21b-4a5a-9f9b-44695d8a9d08\")>,\n",
       " <selenium.webdriver.remote.webelement.WebElement (session=\"535fe32f361d58513745e9cb789831ec\", element=\"3266e6ec-5672-490b-a3b4-62d88adb875d\")>,\n",
       " <selenium.webdriver.remote.webelement.WebElement (session=\"535fe32f361d58513745e9cb789831ec\", element=\"9ea8e62c-1132-42fc-bb07-49075914c047\")>,\n",
       " <selenium.webdriver.remote.webelement.WebElement (session=\"535fe32f361d58513745e9cb789831ec\", element=\"e826164f-c82a-47af-a99a-2caebd1634de\")>,\n",
       " <selenium.webdriver.remote.webelement.WebElement (session=\"535fe32f361d58513745e9cb789831ec\", element=\"cb09f662-946f-4a89-9832-0b1a6ba5540d\")>,\n",
       " <selenium.webdriver.remote.webelement.WebElement (session=\"535fe32f361d58513745e9cb789831ec\", element=\"3ee310e0-b513-4f58-999e-93d374790395\")>,\n",
       " <selenium.webdriver.remote.webelement.WebElement (session=\"535fe32f361d58513745e9cb789831ec\", element=\"a3a46e04-6fff-4ec9-949b-077299325a8e\")>,\n",
       " <selenium.webdriver.remote.webelement.WebElement (session=\"535fe32f361d58513745e9cb789831ec\", element=\"75845604-7985-44a4-86e0-e1d41db6a5df\")>,\n",
       " <selenium.webdriver.remote.webelement.WebElement (session=\"535fe32f361d58513745e9cb789831ec\", element=\"501cbe7c-9363-4ed4-accc-c63d57494716\")>]"
      ]
     },
     "execution_count": 103,
     "metadata": {},
     "output_type": "execute_result"
    }
   ],
   "source": [
    "price_tags2=driver.find_elements_by_xpath(\"//div[@class='_30jeq3']\")\n",
    "price_tags2[0:40]"
   ]
  },
  {
   "cell_type": "code",
   "execution_count": 104,
   "id": "1b1aab4b",
   "metadata": {},
   "outputs": [
    {
     "data": {
      "text/plain": [
       "['₹299',\n",
       " '₹169',\n",
       " '₹260',\n",
       " '₹498',\n",
       " '₹1,015',\n",
       " '₹749',\n",
       " '₹419',\n",
       " '₹498',\n",
       " '₹181',\n",
       " '₹1,039',\n",
       " '₹225',\n",
       " '₹498',\n",
       " '₹664',\n",
       " '₹1,009',\n",
       " '₹320',\n",
       " '₹498',\n",
       " '₹209',\n",
       " '₹229',\n",
       " '₹410',\n",
       " '₹649',\n",
       " '₹224',\n",
       " '₹399',\n",
       " '₹195',\n",
       " '₹499',\n",
       " '₹280',\n",
       " '₹859',\n",
       " '₹214',\n",
       " '₹498',\n",
       " '₹264',\n",
       " '₹244',\n",
       " '₹719',\n",
       " '₹998',\n",
       " '₹499',\n",
       " '₹399',\n",
       " '₹398',\n",
       " '₹998',\n",
       " '₹899',\n",
       " '₹224',\n",
       " '₹259',\n",
       " '₹890']"
      ]
     },
     "execution_count": 104,
     "metadata": {},
     "output_type": "execute_result"
    }
   ],
   "source": [
    "for i in price_tags2:\n",
    "    price_2_text=i.text\n",
    "    price2.append(price_2_text)\n",
    "price2[0:40]"
   ]
  },
  {
   "cell_type": "code",
   "execution_count": 105,
   "id": "9b5dd69c",
   "metadata": {},
   "outputs": [
    {
     "data": {
      "text/html": [
       "<div>\n",
       "<style scoped>\n",
       "    .dataframe tbody tr th:only-of-type {\n",
       "        vertical-align: middle;\n",
       "    }\n",
       "\n",
       "    .dataframe tbody tr th {\n",
       "        vertical-align: top;\n",
       "    }\n",
       "\n",
       "    .dataframe thead th {\n",
       "        text-align: right;\n",
       "    }\n",
       "</style>\n",
       "<table border=\"1\" class=\"dataframe\">\n",
       "  <thead>\n",
       "    <tr style=\"text-align: right;\">\n",
       "      <th></th>\n",
       "      <th>Brand2</th>\n",
       "      <th>Product2</th>\n",
       "      <th>Price2</th>\n",
       "    </tr>\n",
       "  </thead>\n",
       "  <tbody>\n",
       "    <tr>\n",
       "      <th>0</th>\n",
       "      <td>New Specs</td>\n",
       "      <td>Mirrored, UV Protection, Riding Glasses, Other...</td>\n",
       "      <td>₹299</td>\n",
       "    </tr>\n",
       "    <tr>\n",
       "      <th>1</th>\n",
       "      <td>kingscape</td>\n",
       "      <td>UV Protection Rectangular Sunglasses (Free Size)</td>\n",
       "      <td>₹169</td>\n",
       "    </tr>\n",
       "    <tr>\n",
       "      <th>2</th>\n",
       "      <td>Rich Club</td>\n",
       "      <td>UV Protection, Others Round Sunglasses (48)</td>\n",
       "      <td>₹260</td>\n",
       "    </tr>\n",
       "    <tr>\n",
       "      <th>3</th>\n",
       "      <td>AISLIN</td>\n",
       "      <td>UV Protection Oval Sunglasses (60)</td>\n",
       "      <td>₹498</td>\n",
       "    </tr>\n",
       "    <tr>\n",
       "      <th>4</th>\n",
       "      <td>United Colors of Benetton</td>\n",
       "      <td>Gradient Retro Square Sunglasses (56)</td>\n",
       "      <td>₹1,015</td>\n",
       "    </tr>\n",
       "    <tr>\n",
       "      <th>5</th>\n",
       "      <td>VINCENT CHASE</td>\n",
       "      <td>by Lenskart Polarized, UV Protection Wayfarer ...</td>\n",
       "      <td>₹749</td>\n",
       "    </tr>\n",
       "    <tr>\n",
       "      <th>6</th>\n",
       "      <td>CRYSTAL CART</td>\n",
       "      <td>UV Protection, Gradient Round Sunglasses (Free...</td>\n",
       "      <td>₹419</td>\n",
       "    </tr>\n",
       "    <tr>\n",
       "      <th>7</th>\n",
       "      <td>AISLIN</td>\n",
       "      <td>UV Protection, Gradient Cat-eye Sunglasses (58)</td>\n",
       "      <td>₹498</td>\n",
       "    </tr>\n",
       "    <tr>\n",
       "      <th>8</th>\n",
       "      <td>HIPPON</td>\n",
       "      <td>UV Protection Wayfarer Sunglasses (55)</td>\n",
       "      <td>₹181</td>\n",
       "    </tr>\n",
       "    <tr>\n",
       "      <th>9</th>\n",
       "      <td>Fastrack</td>\n",
       "      <td>UV Protection Aviator Sunglasses (58)</td>\n",
       "      <td>₹1,039</td>\n",
       "    </tr>\n",
       "    <tr>\n",
       "      <th>10</th>\n",
       "      <td>PIRASO</td>\n",
       "      <td>UV Protection Wayfarer Sunglasses (32)</td>\n",
       "      <td>₹225</td>\n",
       "    </tr>\n",
       "    <tr>\n",
       "      <th>11</th>\n",
       "      <td>AISLIN</td>\n",
       "      <td>UV Protection, Gradient Oval Sunglasses (58)</td>\n",
       "      <td>₹498</td>\n",
       "    </tr>\n",
       "    <tr>\n",
       "      <th>12</th>\n",
       "      <td>Singco India</td>\n",
       "      <td>Gradient, Toughened Glass Lens, UV Protection ...</td>\n",
       "      <td>₹664</td>\n",
       "    </tr>\n",
       "    <tr>\n",
       "      <th>13</th>\n",
       "      <td>Mi</td>\n",
       "      <td>Polarized Aviator Sunglasses (Free Size)</td>\n",
       "      <td>₹1,009</td>\n",
       "    </tr>\n",
       "    <tr>\n",
       "      <th>14</th>\n",
       "      <td>Silver Kartz</td>\n",
       "      <td>UV Protection Aviator Sunglasses (88)</td>\n",
       "      <td>₹320</td>\n",
       "    </tr>\n",
       "    <tr>\n",
       "      <th>15</th>\n",
       "      <td>AISLIN</td>\n",
       "      <td>UV Protection, Gradient Wayfarer, Retro Square...</td>\n",
       "      <td>₹498</td>\n",
       "    </tr>\n",
       "    <tr>\n",
       "      <th>16</th>\n",
       "      <td>kingsunglasses</td>\n",
       "      <td>UV Protection, Riding Glasses, Mirrored Wayfar...</td>\n",
       "      <td>₹209</td>\n",
       "    </tr>\n",
       "    <tr>\n",
       "      <th>17</th>\n",
       "      <td>DEIXELS</td>\n",
       "      <td>UV Protection Aviator, Wayfarer Sunglasses (Fr...</td>\n",
       "      <td>₹229</td>\n",
       "    </tr>\n",
       "    <tr>\n",
       "      <th>18</th>\n",
       "      <td>PIRASO</td>\n",
       "      <td>UV Protection Over-sized Sunglasses (65)</td>\n",
       "      <td>₹410</td>\n",
       "    </tr>\n",
       "    <tr>\n",
       "      <th>19</th>\n",
       "      <td>ROZZETTA CRAFT</td>\n",
       "      <td>UV Protection Aviator Sunglasses (62)</td>\n",
       "      <td>₹649</td>\n",
       "    </tr>\n",
       "    <tr>\n",
       "      <th>20</th>\n",
       "      <td>PIRASO</td>\n",
       "      <td>UV Protection Aviator Sunglasses (54)</td>\n",
       "      <td>₹224</td>\n",
       "    </tr>\n",
       "    <tr>\n",
       "      <th>21</th>\n",
       "      <td>ROZZETTA CRAFT</td>\n",
       "      <td>UV Protection, Gradient Round Sunglasses (Free...</td>\n",
       "      <td>₹399</td>\n",
       "    </tr>\n",
       "    <tr>\n",
       "      <th>22</th>\n",
       "      <td>SHAAH COLLECTIONS</td>\n",
       "      <td>UV Protection, Polarized, Mirrored Rectangular...</td>\n",
       "      <td>₹195</td>\n",
       "    </tr>\n",
       "    <tr>\n",
       "      <th>23</th>\n",
       "      <td>ROYAL SON</td>\n",
       "      <td>UV Protection Rectangular, Retro Square Sungla...</td>\n",
       "      <td>₹499</td>\n",
       "    </tr>\n",
       "    <tr>\n",
       "      <th>24</th>\n",
       "      <td>PIRASO</td>\n",
       "      <td>UV Protection Rectangular Sunglasses (52)</td>\n",
       "      <td>₹280</td>\n",
       "    </tr>\n",
       "    <tr>\n",
       "      <th>25</th>\n",
       "      <td>WROGN</td>\n",
       "      <td>Polarized Oval Sunglasses (55)</td>\n",
       "      <td>₹859</td>\n",
       "    </tr>\n",
       "    <tr>\n",
       "      <th>26</th>\n",
       "      <td>kingsunglasses</td>\n",
       "      <td>UV Protection, Others Round, Aviator Sunglasse...</td>\n",
       "      <td>₹214</td>\n",
       "    </tr>\n",
       "    <tr>\n",
       "      <th>27</th>\n",
       "      <td>AISLIN</td>\n",
       "      <td>UV Protection, Gradient Round Sunglasses (58)</td>\n",
       "      <td>₹498</td>\n",
       "    </tr>\n",
       "    <tr>\n",
       "      <th>28</th>\n",
       "      <td>New Specs</td>\n",
       "      <td>UV Protection Round Sunglasses (Free Size)</td>\n",
       "      <td>₹264</td>\n",
       "    </tr>\n",
       "    <tr>\n",
       "      <th>29</th>\n",
       "      <td>Elligator</td>\n",
       "      <td>UV Protection Round Sunglasses (53)</td>\n",
       "      <td>₹244</td>\n",
       "    </tr>\n",
       "    <tr>\n",
       "      <th>30</th>\n",
       "      <td>Fastrack</td>\n",
       "      <td>UV Protection Wayfarer Sunglasses (55)</td>\n",
       "      <td>₹719</td>\n",
       "    </tr>\n",
       "    <tr>\n",
       "      <th>31</th>\n",
       "      <td>AISLIN</td>\n",
       "      <td>Polarized, UV Protection Round, Aviator Sungla...</td>\n",
       "      <td>₹998</td>\n",
       "    </tr>\n",
       "    <tr>\n",
       "      <th>32</th>\n",
       "      <td>elegante</td>\n",
       "      <td>Polarized, Riding Glasses, Night Vision Sports...</td>\n",
       "      <td>₹499</td>\n",
       "    </tr>\n",
       "    <tr>\n",
       "      <th>33</th>\n",
       "      <td>ROYAL SON</td>\n",
       "      <td>Mirrored Aviator Sunglasses (Free Size)</td>\n",
       "      <td>₹399</td>\n",
       "    </tr>\n",
       "    <tr>\n",
       "      <th>34</th>\n",
       "      <td>ROZZETTA CRAFT</td>\n",
       "      <td>UV Protection Round Sunglasses (Free Size)</td>\n",
       "      <td>₹398</td>\n",
       "    </tr>\n",
       "    <tr>\n",
       "      <th>35</th>\n",
       "      <td>AISLIN</td>\n",
       "      <td>Toughened Glass Lens, UV Protection Aviator, W...</td>\n",
       "      <td>₹998</td>\n",
       "    </tr>\n",
       "    <tr>\n",
       "      <th>36</th>\n",
       "      <td>VINCENT CHASE</td>\n",
       "      <td>by Lenskart Polarized, UV Protection Cat-eye S...</td>\n",
       "      <td>₹899</td>\n",
       "    </tr>\n",
       "    <tr>\n",
       "      <th>37</th>\n",
       "      <td>PIRASO</td>\n",
       "      <td>UV Protection Aviator Sunglasses (54)</td>\n",
       "      <td>₹224</td>\n",
       "    </tr>\n",
       "    <tr>\n",
       "      <th>38</th>\n",
       "      <td>SUNBEE</td>\n",
       "      <td>UV Protection, Polarized, Mirrored Retro Squar...</td>\n",
       "      <td>₹259</td>\n",
       "    </tr>\n",
       "  </tbody>\n",
       "</table>\n",
       "</div>"
      ],
      "text/plain": [
       "                       Brand2  \\\n",
       "0                   New Specs   \n",
       "1                   kingscape   \n",
       "2                   Rich Club   \n",
       "3                      AISLIN   \n",
       "4   United Colors of Benetton   \n",
       "5               VINCENT CHASE   \n",
       "6                CRYSTAL CART   \n",
       "7                      AISLIN   \n",
       "8                      HIPPON   \n",
       "9                    Fastrack   \n",
       "10                     PIRASO   \n",
       "11                     AISLIN   \n",
       "12               Singco India   \n",
       "13                         Mi   \n",
       "14               Silver Kartz   \n",
       "15                     AISLIN   \n",
       "16             kingsunglasses   \n",
       "17                    DEIXELS   \n",
       "18                     PIRASO   \n",
       "19             ROZZETTA CRAFT   \n",
       "20                     PIRASO   \n",
       "21             ROZZETTA CRAFT   \n",
       "22          SHAAH COLLECTIONS   \n",
       "23                  ROYAL SON   \n",
       "24                     PIRASO   \n",
       "25                      WROGN   \n",
       "26             kingsunglasses   \n",
       "27                     AISLIN   \n",
       "28                  New Specs   \n",
       "29                  Elligator   \n",
       "30                   Fastrack   \n",
       "31                     AISLIN   \n",
       "32                   elegante   \n",
       "33                  ROYAL SON   \n",
       "34             ROZZETTA CRAFT   \n",
       "35                     AISLIN   \n",
       "36              VINCENT CHASE   \n",
       "37                     PIRASO   \n",
       "38                     SUNBEE   \n",
       "\n",
       "                                             Product2  Price2  \n",
       "0   Mirrored, UV Protection, Riding Glasses, Other...    ₹299  \n",
       "1    UV Protection Rectangular Sunglasses (Free Size)    ₹169  \n",
       "2         UV Protection, Others Round Sunglasses (48)    ₹260  \n",
       "3                  UV Protection Oval Sunglasses (60)    ₹498  \n",
       "4               Gradient Retro Square Sunglasses (56)  ₹1,015  \n",
       "5   by Lenskart Polarized, UV Protection Wayfarer ...    ₹749  \n",
       "6   UV Protection, Gradient Round Sunglasses (Free...    ₹419  \n",
       "7     UV Protection, Gradient Cat-eye Sunglasses (58)    ₹498  \n",
       "8              UV Protection Wayfarer Sunglasses (55)    ₹181  \n",
       "9               UV Protection Aviator Sunglasses (58)  ₹1,039  \n",
       "10             UV Protection Wayfarer Sunglasses (32)    ₹225  \n",
       "11       UV Protection, Gradient Oval Sunglasses (58)    ₹498  \n",
       "12  Gradient, Toughened Glass Lens, UV Protection ...    ₹664  \n",
       "13           Polarized Aviator Sunglasses (Free Size)  ₹1,009  \n",
       "14              UV Protection Aviator Sunglasses (88)    ₹320  \n",
       "15  UV Protection, Gradient Wayfarer, Retro Square...    ₹498  \n",
       "16  UV Protection, Riding Glasses, Mirrored Wayfar...    ₹209  \n",
       "17  UV Protection Aviator, Wayfarer Sunglasses (Fr...    ₹229  \n",
       "18           UV Protection Over-sized Sunglasses (65)    ₹410  \n",
       "19              UV Protection Aviator Sunglasses (62)    ₹649  \n",
       "20              UV Protection Aviator Sunglasses (54)    ₹224  \n",
       "21  UV Protection, Gradient Round Sunglasses (Free...    ₹399  \n",
       "22  UV Protection, Polarized, Mirrored Rectangular...    ₹195  \n",
       "23  UV Protection Rectangular, Retro Square Sungla...    ₹499  \n",
       "24          UV Protection Rectangular Sunglasses (52)    ₹280  \n",
       "25                     Polarized Oval Sunglasses (55)    ₹859  \n",
       "26  UV Protection, Others Round, Aviator Sunglasse...    ₹214  \n",
       "27      UV Protection, Gradient Round Sunglasses (58)    ₹498  \n",
       "28         UV Protection Round Sunglasses (Free Size)    ₹264  \n",
       "29                UV Protection Round Sunglasses (53)    ₹244  \n",
       "30             UV Protection Wayfarer Sunglasses (55)    ₹719  \n",
       "31  Polarized, UV Protection Round, Aviator Sungla...    ₹998  \n",
       "32  Polarized, Riding Glasses, Night Vision Sports...    ₹499  \n",
       "33            Mirrored Aviator Sunglasses (Free Size)    ₹399  \n",
       "34         UV Protection Round Sunglasses (Free Size)    ₹398  \n",
       "35  Toughened Glass Lens, UV Protection Aviator, W...    ₹998  \n",
       "36  by Lenskart Polarized, UV Protection Cat-eye S...    ₹899  \n",
       "37              UV Protection Aviator Sunglasses (54)    ₹224  \n",
       "38  UV Protection, Polarized, Mirrored Retro Squar...    ₹259  "
      ]
     },
     "execution_count": 105,
     "metadata": {},
     "output_type": "execute_result"
    }
   ],
   "source": [
    "df2=pd.DataFrame({})\n",
    "df2['Brand2']=brand2[0:39]\n",
    "df2['Product2']=product2[0:39]\n",
    "df2['Price2']=price2[0:39]\n",
    "df2"
   ]
  },
  {
   "cell_type": "code",
   "execution_count": 106,
   "id": "0f2d4b9b",
   "metadata": {},
   "outputs": [],
   "source": [
    "# 79 to 100\n",
    "next_button2=driver.find_element_by_xpath(\"/html/body/div[1]/div/div[3]/div[1]/div[2]/div[12]/div/div/nav/a[4]\")\n",
    "next_button2.click()"
   ]
  },
  {
   "cell_type": "code",
   "execution_count": 107,
   "id": "a26029df",
   "metadata": {},
   "outputs": [],
   "source": [
    "brand3=[]\n",
    "product3=[]\n",
    "price3=[]"
   ]
  },
  {
   "cell_type": "code",
   "execution_count": 108,
   "id": "dcf9d899",
   "metadata": {},
   "outputs": [
    {
     "data": {
      "text/plain": [
       "[<selenium.webdriver.remote.webelement.WebElement (session=\"535fe32f361d58513745e9cb789831ec\", element=\"74fc8278-9d94-486a-b412-c0ad9424ef21\")>,\n",
       " <selenium.webdriver.remote.webelement.WebElement (session=\"535fe32f361d58513745e9cb789831ec\", element=\"9595a608-76b2-4189-aed0-a25b7103ff7b\")>,\n",
       " <selenium.webdriver.remote.webelement.WebElement (session=\"535fe32f361d58513745e9cb789831ec\", element=\"f0ba0a34-ea7a-41c9-9184-851057b2775e\")>,\n",
       " <selenium.webdriver.remote.webelement.WebElement (session=\"535fe32f361d58513745e9cb789831ec\", element=\"92295a8d-7a44-420e-9081-6c7df90b6973\")>,\n",
       " <selenium.webdriver.remote.webelement.WebElement (session=\"535fe32f361d58513745e9cb789831ec\", element=\"95a1b76d-d0d0-4744-9d80-53d1c27081e2\")>,\n",
       " <selenium.webdriver.remote.webelement.WebElement (session=\"535fe32f361d58513745e9cb789831ec\", element=\"0db5c983-b23e-4b73-9cd5-8f23fcbaa9a3\")>,\n",
       " <selenium.webdriver.remote.webelement.WebElement (session=\"535fe32f361d58513745e9cb789831ec\", element=\"9a7dc24e-746b-47aa-90ff-77267bfb8abc\")>,\n",
       " <selenium.webdriver.remote.webelement.WebElement (session=\"535fe32f361d58513745e9cb789831ec\", element=\"9d081edb-1f94-484c-876a-0310bb8b8f15\")>,\n",
       " <selenium.webdriver.remote.webelement.WebElement (session=\"535fe32f361d58513745e9cb789831ec\", element=\"b9a48c2c-dd9b-4734-bd48-6fe96a19b89d\")>,\n",
       " <selenium.webdriver.remote.webelement.WebElement (session=\"535fe32f361d58513745e9cb789831ec\", element=\"50219d28-c174-492d-88b4-0a227a8c6970\")>,\n",
       " <selenium.webdriver.remote.webelement.WebElement (session=\"535fe32f361d58513745e9cb789831ec\", element=\"82b966a1-1523-4115-b558-29f3fc1d2bde\")>,\n",
       " <selenium.webdriver.remote.webelement.WebElement (session=\"535fe32f361d58513745e9cb789831ec\", element=\"89e3e711-9073-49bf-9e90-74398ff012c7\")>,\n",
       " <selenium.webdriver.remote.webelement.WebElement (session=\"535fe32f361d58513745e9cb789831ec\", element=\"5ab42434-338f-41f3-8ca8-bf5b72ad1f54\")>,\n",
       " <selenium.webdriver.remote.webelement.WebElement (session=\"535fe32f361d58513745e9cb789831ec\", element=\"9fb97dc4-0cf8-4261-9bbf-1559ad1f4ed7\")>,\n",
       " <selenium.webdriver.remote.webelement.WebElement (session=\"535fe32f361d58513745e9cb789831ec\", element=\"7d28fd44-3d5f-4f14-bdbe-7ad452a1705d\")>,\n",
       " <selenium.webdriver.remote.webelement.WebElement (session=\"535fe32f361d58513745e9cb789831ec\", element=\"a41af232-11ba-4bd1-8806-1297ed1fc937\")>,\n",
       " <selenium.webdriver.remote.webelement.WebElement (session=\"535fe32f361d58513745e9cb789831ec\", element=\"da58bf6f-d02b-4098-8f1b-c8042e81b899\")>,\n",
       " <selenium.webdriver.remote.webelement.WebElement (session=\"535fe32f361d58513745e9cb789831ec\", element=\"c1f89e52-55f6-48eb-b063-4bde493a8bbd\")>,\n",
       " <selenium.webdriver.remote.webelement.WebElement (session=\"535fe32f361d58513745e9cb789831ec\", element=\"7fe6f9ee-7e03-46fb-8a59-ba954ff29393\")>,\n",
       " <selenium.webdriver.remote.webelement.WebElement (session=\"535fe32f361d58513745e9cb789831ec\", element=\"8af8754e-0253-463b-90f8-2076fb6a9fee\")>,\n",
       " <selenium.webdriver.remote.webelement.WebElement (session=\"535fe32f361d58513745e9cb789831ec\", element=\"ff2f774e-d7c9-4e60-ac2d-91eed65224e0\")>,\n",
       " <selenium.webdriver.remote.webelement.WebElement (session=\"535fe32f361d58513745e9cb789831ec\", element=\"e102fca9-2470-41ad-bd9a-31bc13789680\")>,\n",
       " <selenium.webdriver.remote.webelement.WebElement (session=\"535fe32f361d58513745e9cb789831ec\", element=\"b823e489-ac5e-4e1d-9858-f6ba9b642a6a\")>,\n",
       " <selenium.webdriver.remote.webelement.WebElement (session=\"535fe32f361d58513745e9cb789831ec\", element=\"73f07ca2-aaf9-412d-a23e-fc92bb16c46f\")>,\n",
       " <selenium.webdriver.remote.webelement.WebElement (session=\"535fe32f361d58513745e9cb789831ec\", element=\"485aba6f-6710-4050-a85b-68257eca5323\")>,\n",
       " <selenium.webdriver.remote.webelement.WebElement (session=\"535fe32f361d58513745e9cb789831ec\", element=\"48481d68-98fd-4cdc-a428-a1e54daccd76\")>,\n",
       " <selenium.webdriver.remote.webelement.WebElement (session=\"535fe32f361d58513745e9cb789831ec\", element=\"9b715fa5-6374-49e4-9660-06d3659cfd70\")>,\n",
       " <selenium.webdriver.remote.webelement.WebElement (session=\"535fe32f361d58513745e9cb789831ec\", element=\"c9fcab81-a69a-4331-b705-ce4088db6192\")>,\n",
       " <selenium.webdriver.remote.webelement.WebElement (session=\"535fe32f361d58513745e9cb789831ec\", element=\"67649fa8-481a-420b-a197-e913fb09e65f\")>,\n",
       " <selenium.webdriver.remote.webelement.WebElement (session=\"535fe32f361d58513745e9cb789831ec\", element=\"acdbd4af-5480-4841-805e-1611356828e7\")>,\n",
       " <selenium.webdriver.remote.webelement.WebElement (session=\"535fe32f361d58513745e9cb789831ec\", element=\"cc809aa7-0fc9-40d7-b2c3-3ba7f94d4f22\")>,\n",
       " <selenium.webdriver.remote.webelement.WebElement (session=\"535fe32f361d58513745e9cb789831ec\", element=\"ad940522-b7d5-4135-ae3b-1169ec1298ab\")>,\n",
       " <selenium.webdriver.remote.webelement.WebElement (session=\"535fe32f361d58513745e9cb789831ec\", element=\"b6777fe4-fa34-4b5f-8bc0-98081915a96b\")>,\n",
       " <selenium.webdriver.remote.webelement.WebElement (session=\"535fe32f361d58513745e9cb789831ec\", element=\"7777be4b-7265-4819-a68e-59a09651d0fc\")>,\n",
       " <selenium.webdriver.remote.webelement.WebElement (session=\"535fe32f361d58513745e9cb789831ec\", element=\"03670195-7263-455e-ab05-c79094105201\")>,\n",
       " <selenium.webdriver.remote.webelement.WebElement (session=\"535fe32f361d58513745e9cb789831ec\", element=\"23ed6ac3-d703-4f1b-bc84-6ce4a5a0fbb4\")>,\n",
       " <selenium.webdriver.remote.webelement.WebElement (session=\"535fe32f361d58513745e9cb789831ec\", element=\"bee578bf-b97f-4364-a9cf-076ff25796c1\")>,\n",
       " <selenium.webdriver.remote.webelement.WebElement (session=\"535fe32f361d58513745e9cb789831ec\", element=\"2e5b9e51-cf13-4a4a-b0cd-e8ad2c5adccf\")>,\n",
       " <selenium.webdriver.remote.webelement.WebElement (session=\"535fe32f361d58513745e9cb789831ec\", element=\"cf557bc3-a135-46c5-8382-3bf2f8c065d8\")>,\n",
       " <selenium.webdriver.remote.webelement.WebElement (session=\"535fe32f361d58513745e9cb789831ec\", element=\"b179b994-950d-4cc6-a09c-ad0793be1686\")>]"
      ]
     },
     "execution_count": 108,
     "metadata": {},
     "output_type": "execute_result"
    }
   ],
   "source": [
    "brand_tags3=driver.find_elements_by_xpath(\"//div[@class='_2WkVRV']\")\n",
    "brand_tags3[0:40]"
   ]
  },
  {
   "cell_type": "code",
   "execution_count": 109,
   "id": "b5c89b8c",
   "metadata": {},
   "outputs": [
    {
     "data": {
      "text/plain": [
       "['Fastrack',\n",
       " 'New Specs',\n",
       " 'ROZZETTA CRAFT',\n",
       " 'AISLIN',\n",
       " 'Roadster',\n",
       " 'Fastrack',\n",
       " 'Fastrack',\n",
       " 'AISLIN',\n",
       " 'Urbanic',\n",
       " 'GANSTA',\n",
       " 'VINCENT CHASE',\n",
       " 'AISLIN',\n",
       " 'AISLIN',\n",
       " 'Fastrack',\n",
       " 'SRPM',\n",
       " 'NuVew',\n",
       " 'Elligator',\n",
       " 'PIRASO',\n",
       " 'Fastrack',\n",
       " 'AISLIN']"
      ]
     },
     "execution_count": 109,
     "metadata": {},
     "output_type": "execute_result"
    }
   ],
   "source": [
    "for i in brand_tags3:\n",
    "    brand_3_text=i.text\n",
    "    brand3.append( brand_3_text)\n",
    "brand3[0:20]"
   ]
  },
  {
   "cell_type": "code",
   "execution_count": 110,
   "id": "4846035b",
   "metadata": {},
   "outputs": [
    {
     "data": {
      "text/plain": [
       "[<selenium.webdriver.remote.webelement.WebElement (session=\"535fe32f361d58513745e9cb789831ec\", element=\"107ec4f6-ba7d-4c06-ad3d-aabd15cb7d76\")>,\n",
       " <selenium.webdriver.remote.webelement.WebElement (session=\"535fe32f361d58513745e9cb789831ec\", element=\"c78ba6fa-93d6-44b6-b75e-366271ae7baa\")>,\n",
       " <selenium.webdriver.remote.webelement.WebElement (session=\"535fe32f361d58513745e9cb789831ec\", element=\"c74ca977-ad2e-484a-ba18-a3ef3d7ecab8\")>,\n",
       " <selenium.webdriver.remote.webelement.WebElement (session=\"535fe32f361d58513745e9cb789831ec\", element=\"587bf800-5f8d-44db-b244-96e262da3de6\")>,\n",
       " <selenium.webdriver.remote.webelement.WebElement (session=\"535fe32f361d58513745e9cb789831ec\", element=\"60f47458-dfd4-44c4-847d-e512b672783a\")>,\n",
       " <selenium.webdriver.remote.webelement.WebElement (session=\"535fe32f361d58513745e9cb789831ec\", element=\"af448989-fcef-45cc-a886-34ac9f9f493c\")>,\n",
       " <selenium.webdriver.remote.webelement.WebElement (session=\"535fe32f361d58513745e9cb789831ec\", element=\"432802ee-e02b-4281-b409-d8f647317b11\")>,\n",
       " <selenium.webdriver.remote.webelement.WebElement (session=\"535fe32f361d58513745e9cb789831ec\", element=\"23e80bc6-07e6-4d1b-b1cc-cb164154069f\")>,\n",
       " <selenium.webdriver.remote.webelement.WebElement (session=\"535fe32f361d58513745e9cb789831ec\", element=\"05433428-c3b0-4016-9e4b-0a87965ddcb4\")>,\n",
       " <selenium.webdriver.remote.webelement.WebElement (session=\"535fe32f361d58513745e9cb789831ec\", element=\"d1ddcea2-5866-4fd6-8bf8-53ea93b7052a\")>,\n",
       " <selenium.webdriver.remote.webelement.WebElement (session=\"535fe32f361d58513745e9cb789831ec\", element=\"2fdbfc77-9ed7-441e-a97d-f97df8243dc4\")>,\n",
       " <selenium.webdriver.remote.webelement.WebElement (session=\"535fe32f361d58513745e9cb789831ec\", element=\"ab98ee9f-88ec-4c92-88db-31a256f524ab\")>,\n",
       " <selenium.webdriver.remote.webelement.WebElement (session=\"535fe32f361d58513745e9cb789831ec\", element=\"ad65b145-07aa-40fd-b02a-5355d6521e2b\")>,\n",
       " <selenium.webdriver.remote.webelement.WebElement (session=\"535fe32f361d58513745e9cb789831ec\", element=\"7a1fdef7-e210-4ca9-bf36-c39a8ad39c58\")>,\n",
       " <selenium.webdriver.remote.webelement.WebElement (session=\"535fe32f361d58513745e9cb789831ec\", element=\"faf6b0d8-3b44-4e8f-96c2-eeea1d704e17\")>,\n",
       " <selenium.webdriver.remote.webelement.WebElement (session=\"535fe32f361d58513745e9cb789831ec\", element=\"3470a24d-b496-4986-9da2-5512692f841c\")>,\n",
       " <selenium.webdriver.remote.webelement.WebElement (session=\"535fe32f361d58513745e9cb789831ec\", element=\"628d5427-e33c-4878-9694-d61082f37747\")>,\n",
       " <selenium.webdriver.remote.webelement.WebElement (session=\"535fe32f361d58513745e9cb789831ec\", element=\"f94d12d3-b171-46e3-86d0-7584a2ac79a6\")>,\n",
       " <selenium.webdriver.remote.webelement.WebElement (session=\"535fe32f361d58513745e9cb789831ec\", element=\"df3c0144-04bf-43b4-b96e-22e1cd20fb5f\")>,\n",
       " <selenium.webdriver.remote.webelement.WebElement (session=\"535fe32f361d58513745e9cb789831ec\", element=\"91da5631-a110-477f-8146-b84d8c857ac7\")>]"
      ]
     },
     "execution_count": 110,
     "metadata": {},
     "output_type": "execute_result"
    }
   ],
   "source": [
    "product_tags3=driver.find_elements_by_xpath(\"//a[@class='IRpwTa']\")\n",
    "product_tags3[0:20]"
   ]
  },
  {
   "cell_type": "code",
   "execution_count": 111,
   "id": "55a2068c",
   "metadata": {},
   "outputs": [
    {
     "data": {
      "text/plain": [
       "['Gradient, UV Protection Wayfarer Sunglasses (Free Size)',\n",
       " 'UV Protection Rectangular Sunglasses (Free Size)',\n",
       " 'UV Protection Aviator Sunglasses (62)',\n",
       " 'Toughened Glass Lens, UV Protection Aviator Sunglasses ...',\n",
       " 'UV Protection Oval Sunglasses (57)',\n",
       " 'UV Protection Wayfarer Sunglasses (Free Size)',\n",
       " 'UV Protection Aviator Sunglasses (57)',\n",
       " 'UV Protection Rectangular, Cat-eye Sunglasses (58)',\n",
       " 'Others Retro Square Sunglasses (Free Size)',\n",
       " 'UV Protection Aviator Sunglasses (57)',\n",
       " 'UV Protection Wayfarer Sunglasses (59)',\n",
       " 'UV Protection Cat-eye Sunglasses (59)',\n",
       " 'UV Protection, Gradient Butterfly, Retro Square Sunglas...',\n",
       " 'Gradient, UV Protection Wayfarer Sunglasses (Free Size)',\n",
       " 'Night Vision, UV Protection Round Sunglasses (54)',\n",
       " 'UV Protection, Mirrored, Gradient Cat-eye Sunglasses (6...',\n",
       " 'UV Protection Aviator Sunglasses (55)',\n",
       " 'UV Protection Aviator Sunglasses (58)',\n",
       " 'UV Protection Shield Sunglasses (Free Size)',\n",
       " 'UV Protection, Gradient Round, Cat-eye Sunglasses (60)']"
      ]
     },
     "execution_count": 111,
     "metadata": {},
     "output_type": "execute_result"
    }
   ],
   "source": [
    "for i in product_tags3:\n",
    "    product_3_text=i.text\n",
    "    product3.append(product_3_text)\n",
    "product3[0:20]"
   ]
  },
  {
   "cell_type": "code",
   "execution_count": 112,
   "id": "8a7d89f0",
   "metadata": {},
   "outputs": [
    {
     "data": {
      "text/plain": [
       "[<selenium.webdriver.remote.webelement.WebElement (session=\"535fe32f361d58513745e9cb789831ec\", element=\"7aa3f588-42bd-4c09-be6f-3aa366945c42\")>,\n",
       " <selenium.webdriver.remote.webelement.WebElement (session=\"535fe32f361d58513745e9cb789831ec\", element=\"d0578303-fbff-4b3d-aa28-6bf94d298b5b\")>,\n",
       " <selenium.webdriver.remote.webelement.WebElement (session=\"535fe32f361d58513745e9cb789831ec\", element=\"f40e511b-b0bf-4270-994e-94a5e6e10117\")>,\n",
       " <selenium.webdriver.remote.webelement.WebElement (session=\"535fe32f361d58513745e9cb789831ec\", element=\"6069e9f8-ca8d-4dc6-b8ae-f3b61bedd891\")>,\n",
       " <selenium.webdriver.remote.webelement.WebElement (session=\"535fe32f361d58513745e9cb789831ec\", element=\"061c3417-4ef4-455a-b8d7-3ba9d5e04964\")>,\n",
       " <selenium.webdriver.remote.webelement.WebElement (session=\"535fe32f361d58513745e9cb789831ec\", element=\"ffc76d65-d6b4-4e3e-936e-5f6313094669\")>,\n",
       " <selenium.webdriver.remote.webelement.WebElement (session=\"535fe32f361d58513745e9cb789831ec\", element=\"7102d8b8-6200-4243-bc56-3038d569c241\")>,\n",
       " <selenium.webdriver.remote.webelement.WebElement (session=\"535fe32f361d58513745e9cb789831ec\", element=\"d8db008d-f5a4-40ae-87e6-92e61dc27121\")>,\n",
       " <selenium.webdriver.remote.webelement.WebElement (session=\"535fe32f361d58513745e9cb789831ec\", element=\"8c260e38-dbd5-4ece-8c2e-62425e67c53c\")>,\n",
       " <selenium.webdriver.remote.webelement.WebElement (session=\"535fe32f361d58513745e9cb789831ec\", element=\"4eea0938-273d-43ec-acc1-43fc17a6fddf\")>,\n",
       " <selenium.webdriver.remote.webelement.WebElement (session=\"535fe32f361d58513745e9cb789831ec\", element=\"a9a37c6c-ccac-4fb1-afe5-3928738b0563\")>,\n",
       " <selenium.webdriver.remote.webelement.WebElement (session=\"535fe32f361d58513745e9cb789831ec\", element=\"c5631da3-7eb5-4ab6-b13b-9d7f8e19b46e\")>,\n",
       " <selenium.webdriver.remote.webelement.WebElement (session=\"535fe32f361d58513745e9cb789831ec\", element=\"e621d3a2-bca2-4b32-82cb-015da01f47d0\")>,\n",
       " <selenium.webdriver.remote.webelement.WebElement (session=\"535fe32f361d58513745e9cb789831ec\", element=\"8069601f-558f-4872-a5a4-3322e993ecc2\")>,\n",
       " <selenium.webdriver.remote.webelement.WebElement (session=\"535fe32f361d58513745e9cb789831ec\", element=\"28755e24-98ad-4e10-a281-8f4fe3e89fda\")>,\n",
       " <selenium.webdriver.remote.webelement.WebElement (session=\"535fe32f361d58513745e9cb789831ec\", element=\"246a481e-6034-44e2-8971-3c52af4246ce\")>,\n",
       " <selenium.webdriver.remote.webelement.WebElement (session=\"535fe32f361d58513745e9cb789831ec\", element=\"4926e611-9bc0-4415-91c1-b461d585aed6\")>,\n",
       " <selenium.webdriver.remote.webelement.WebElement (session=\"535fe32f361d58513745e9cb789831ec\", element=\"bf25f6b0-e997-4a29-9428-e2fe3c7e77f8\")>,\n",
       " <selenium.webdriver.remote.webelement.WebElement (session=\"535fe32f361d58513745e9cb789831ec\", element=\"ba54199c-1feb-4f5a-8a8a-119bce01b4b3\")>,\n",
       " <selenium.webdriver.remote.webelement.WebElement (session=\"535fe32f361d58513745e9cb789831ec\", element=\"a59a8cc5-23fa-4b52-9e97-4693403f21fd\")>]"
      ]
     },
     "execution_count": 112,
     "metadata": {},
     "output_type": "execute_result"
    }
   ],
   "source": [
    "price_tags3=driver.find_elements_by_xpath(\"//div[@class='_30jeq3']\")\n",
    "price_tags3[0:20]"
   ]
  },
  {
   "cell_type": "code",
   "execution_count": 113,
   "id": "de0ad123",
   "metadata": {},
   "outputs": [
    {
     "data": {
      "text/plain": [
       "['₹719',\n",
       " '₹189',\n",
       " '₹649',\n",
       " '₹890',\n",
       " '₹649',\n",
       " '₹809',\n",
       " '₹639',\n",
       " '₹498',\n",
       " '₹569',\n",
       " '₹284',\n",
       " '₹649',\n",
       " '₹498',\n",
       " '₹498',\n",
       " '₹639',\n",
       " '₹266',\n",
       " '₹285',\n",
       " '₹333',\n",
       " '₹349',\n",
       " '₹809',\n",
       " '₹498']"
      ]
     },
     "execution_count": 113,
     "metadata": {},
     "output_type": "execute_result"
    }
   ],
   "source": [
    "for i in price_tags3:\n",
    "    price_3_text=i.text\n",
    "    price3.append(price_3_text)\n",
    "price3[0:20]"
   ]
  },
  {
   "cell_type": "code",
   "execution_count": 114,
   "id": "d6c1dfae",
   "metadata": {},
   "outputs": [
    {
     "data": {
      "text/html": [
       "<div>\n",
       "<style scoped>\n",
       "    .dataframe tbody tr th:only-of-type {\n",
       "        vertical-align: middle;\n",
       "    }\n",
       "\n",
       "    .dataframe tbody tr th {\n",
       "        vertical-align: top;\n",
       "    }\n",
       "\n",
       "    .dataframe thead th {\n",
       "        text-align: right;\n",
       "    }\n",
       "</style>\n",
       "<table border=\"1\" class=\"dataframe\">\n",
       "  <thead>\n",
       "    <tr style=\"text-align: right;\">\n",
       "      <th></th>\n",
       "      <th>Brand 3</th>\n",
       "      <th>Product 3</th>\n",
       "      <th>Price 3</th>\n",
       "    </tr>\n",
       "  </thead>\n",
       "  <tbody>\n",
       "    <tr>\n",
       "      <th>0</th>\n",
       "      <td>Fastrack</td>\n",
       "      <td>Gradient, UV Protection Wayfarer Sunglasses (F...</td>\n",
       "      <td>₹719</td>\n",
       "    </tr>\n",
       "    <tr>\n",
       "      <th>1</th>\n",
       "      <td>New Specs</td>\n",
       "      <td>UV Protection Rectangular Sunglasses (Free Size)</td>\n",
       "      <td>₹189</td>\n",
       "    </tr>\n",
       "    <tr>\n",
       "      <th>2</th>\n",
       "      <td>ROZZETTA CRAFT</td>\n",
       "      <td>UV Protection Aviator Sunglasses (62)</td>\n",
       "      <td>₹649</td>\n",
       "    </tr>\n",
       "    <tr>\n",
       "      <th>3</th>\n",
       "      <td>AISLIN</td>\n",
       "      <td>Toughened Glass Lens, UV Protection Aviator Su...</td>\n",
       "      <td>₹890</td>\n",
       "    </tr>\n",
       "    <tr>\n",
       "      <th>4</th>\n",
       "      <td>Roadster</td>\n",
       "      <td>UV Protection Oval Sunglasses (57)</td>\n",
       "      <td>₹649</td>\n",
       "    </tr>\n",
       "    <tr>\n",
       "      <th>5</th>\n",
       "      <td>Fastrack</td>\n",
       "      <td>UV Protection Wayfarer Sunglasses (Free Size)</td>\n",
       "      <td>₹809</td>\n",
       "    </tr>\n",
       "    <tr>\n",
       "      <th>6</th>\n",
       "      <td>Fastrack</td>\n",
       "      <td>UV Protection Aviator Sunglasses (57)</td>\n",
       "      <td>₹639</td>\n",
       "    </tr>\n",
       "    <tr>\n",
       "      <th>7</th>\n",
       "      <td>AISLIN</td>\n",
       "      <td>UV Protection Rectangular, Cat-eye Sunglasses ...</td>\n",
       "      <td>₹498</td>\n",
       "    </tr>\n",
       "    <tr>\n",
       "      <th>8</th>\n",
       "      <td>Urbanic</td>\n",
       "      <td>Others Retro Square Sunglasses (Free Size)</td>\n",
       "      <td>₹569</td>\n",
       "    </tr>\n",
       "    <tr>\n",
       "      <th>9</th>\n",
       "      <td>GANSTA</td>\n",
       "      <td>UV Protection Aviator Sunglasses (57)</td>\n",
       "      <td>₹284</td>\n",
       "    </tr>\n",
       "    <tr>\n",
       "      <th>10</th>\n",
       "      <td>VINCENT CHASE</td>\n",
       "      <td>UV Protection Wayfarer Sunglasses (59)</td>\n",
       "      <td>₹649</td>\n",
       "    </tr>\n",
       "    <tr>\n",
       "      <th>11</th>\n",
       "      <td>AISLIN</td>\n",
       "      <td>UV Protection Cat-eye Sunglasses (59)</td>\n",
       "      <td>₹498</td>\n",
       "    </tr>\n",
       "    <tr>\n",
       "      <th>12</th>\n",
       "      <td>AISLIN</td>\n",
       "      <td>UV Protection, Gradient Butterfly, Retro Squar...</td>\n",
       "      <td>₹498</td>\n",
       "    </tr>\n",
       "    <tr>\n",
       "      <th>13</th>\n",
       "      <td>Fastrack</td>\n",
       "      <td>Gradient, UV Protection Wayfarer Sunglasses (F...</td>\n",
       "      <td>₹639</td>\n",
       "    </tr>\n",
       "    <tr>\n",
       "      <th>14</th>\n",
       "      <td>SRPM</td>\n",
       "      <td>Night Vision, UV Protection Round Sunglasses (54)</td>\n",
       "      <td>₹266</td>\n",
       "    </tr>\n",
       "    <tr>\n",
       "      <th>15</th>\n",
       "      <td>NuVew</td>\n",
       "      <td>UV Protection, Mirrored, Gradient Cat-eye Sung...</td>\n",
       "      <td>₹285</td>\n",
       "    </tr>\n",
       "    <tr>\n",
       "      <th>16</th>\n",
       "      <td>Elligator</td>\n",
       "      <td>UV Protection Aviator Sunglasses (55)</td>\n",
       "      <td>₹333</td>\n",
       "    </tr>\n",
       "    <tr>\n",
       "      <th>17</th>\n",
       "      <td>PIRASO</td>\n",
       "      <td>UV Protection Aviator Sunglasses (58)</td>\n",
       "      <td>₹349</td>\n",
       "    </tr>\n",
       "    <tr>\n",
       "      <th>18</th>\n",
       "      <td>Fastrack</td>\n",
       "      <td>UV Protection Shield Sunglasses (Free Size)</td>\n",
       "      <td>₹809</td>\n",
       "    </tr>\n",
       "    <tr>\n",
       "      <th>19</th>\n",
       "      <td>AISLIN</td>\n",
       "      <td>UV Protection, Gradient Round, Cat-eye Sunglas...</td>\n",
       "      <td>₹498</td>\n",
       "    </tr>\n",
       "  </tbody>\n",
       "</table>\n",
       "</div>"
      ],
      "text/plain": [
       "           Brand 3                                          Product 3 Price 3\n",
       "0         Fastrack  Gradient, UV Protection Wayfarer Sunglasses (F...    ₹719\n",
       "1        New Specs   UV Protection Rectangular Sunglasses (Free Size)    ₹189\n",
       "2   ROZZETTA CRAFT              UV Protection Aviator Sunglasses (62)    ₹649\n",
       "3           AISLIN  Toughened Glass Lens, UV Protection Aviator Su...    ₹890\n",
       "4         Roadster                 UV Protection Oval Sunglasses (57)    ₹649\n",
       "5         Fastrack      UV Protection Wayfarer Sunglasses (Free Size)    ₹809\n",
       "6         Fastrack              UV Protection Aviator Sunglasses (57)    ₹639\n",
       "7           AISLIN  UV Protection Rectangular, Cat-eye Sunglasses ...    ₹498\n",
       "8          Urbanic         Others Retro Square Sunglasses (Free Size)    ₹569\n",
       "9           GANSTA              UV Protection Aviator Sunglasses (57)    ₹284\n",
       "10   VINCENT CHASE             UV Protection Wayfarer Sunglasses (59)    ₹649\n",
       "11          AISLIN              UV Protection Cat-eye Sunglasses (59)    ₹498\n",
       "12          AISLIN  UV Protection, Gradient Butterfly, Retro Squar...    ₹498\n",
       "13        Fastrack  Gradient, UV Protection Wayfarer Sunglasses (F...    ₹639\n",
       "14            SRPM  Night Vision, UV Protection Round Sunglasses (54)    ₹266\n",
       "15           NuVew  UV Protection, Mirrored, Gradient Cat-eye Sung...    ₹285\n",
       "16       Elligator              UV Protection Aviator Sunglasses (55)    ₹333\n",
       "17          PIRASO              UV Protection Aviator Sunglasses (58)    ₹349\n",
       "18        Fastrack        UV Protection Shield Sunglasses (Free Size)    ₹809\n",
       "19          AISLIN  UV Protection, Gradient Round, Cat-eye Sunglas...    ₹498"
      ]
     },
     "execution_count": 114,
     "metadata": {},
     "output_type": "execute_result"
    }
   ],
   "source": [
    "df3=pd.DataFrame({})\n",
    "df3['Brand 3']=brand3[0:20]\n",
    "df3['Product 3']=product3[0:20]\n",
    "df3['Price 3']=price3[0:20]\n",
    "df3"
   ]
  },
  {
   "cell_type": "markdown",
   "id": "d00e52aa",
   "metadata": {},
   "source": [
    "7.Scrape 100 reviews data from flipkart.com for iphone11 phone"
   ]
  },
  {
   "cell_type": "code",
   "execution_count": 115,
   "id": "59691003",
   "metadata": {},
   "outputs": [],
   "source": [
    "driver=webdriver.Chrome('chromedriver.exe')"
   ]
  },
  {
   "cell_type": "code",
   "execution_count": 121,
   "id": "65769438",
   "metadata": {},
   "outputs": [],
   "source": [
    "driver.get('https://www.flipkart.com/apple-iphone-11-black-64-gb-includes- earpods-power- adapter/p/itm0f37c2240b217?pid=MOBFKCTSVZAXUHGR&lid=LSTMOBFKC TSVZAXUHGREPBFGI&marketplace')\n"
   ]
  },
  {
   "cell_type": "code",
   "execution_count": 122,
   "id": "38aea3b0",
   "metadata": {},
   "outputs": [],
   "source": [
    "rating_list=[]\n",
    "review_list=[]\n",
    "full_review_list=[]"
   ]
  },
  {
   "cell_type": "code",
   "execution_count": 123,
   "id": "d7f277b2",
   "metadata": {},
   "outputs": [],
   "source": [
    "all_review_button=driver.find_element_by_xpath(\"/html/body/div[1]/div/div[3]/div[1]/div[2]/div[9]/div/div/div[5]/div/a/div\")\n",
    "all_review_button.click()"
   ]
  },
  {
   "cell_type": "code",
   "execution_count": 124,
   "id": "e33cd2b8",
   "metadata": {},
   "outputs": [
    {
     "data": {
      "text/plain": [
       "[<selenium.webdriver.remote.webelement.WebElement (session=\"37347ad49670bab15e329515ec35c8f5\", element=\"fd41e953-cb39-4ea6-9d3c-c5b959a72f0b\")>,\n",
       " <selenium.webdriver.remote.webelement.WebElement (session=\"37347ad49670bab15e329515ec35c8f5\", element=\"347ce414-5a16-4cc5-a098-4478fde9a7df\")>,\n",
       " <selenium.webdriver.remote.webelement.WebElement (session=\"37347ad49670bab15e329515ec35c8f5\", element=\"c0e396f6-51a7-4920-8a1f-8824ea0e40c0\")>,\n",
       " <selenium.webdriver.remote.webelement.WebElement (session=\"37347ad49670bab15e329515ec35c8f5\", element=\"d0edb90b-b027-4715-a298-f40e2e586766\")>,\n",
       " <selenium.webdriver.remote.webelement.WebElement (session=\"37347ad49670bab15e329515ec35c8f5\", element=\"ac6cc41a-4dff-418b-b21b-48172600662d\")>,\n",
       " <selenium.webdriver.remote.webelement.WebElement (session=\"37347ad49670bab15e329515ec35c8f5\", element=\"dea65a50-65c5-4b03-8b2d-39a6fb6386ec\")>,\n",
       " <selenium.webdriver.remote.webelement.WebElement (session=\"37347ad49670bab15e329515ec35c8f5\", element=\"3288e37d-241a-4fcc-ab19-f9cc6c517b01\")>,\n",
       " <selenium.webdriver.remote.webelement.WebElement (session=\"37347ad49670bab15e329515ec35c8f5\", element=\"31fb262e-ac7e-457c-b73c-3ac8fbc508dd\")>,\n",
       " <selenium.webdriver.remote.webelement.WebElement (session=\"37347ad49670bab15e329515ec35c8f5\", element=\"4f5abf1b-c7cb-4ca0-bbe9-4b0487678b55\")>,\n",
       " <selenium.webdriver.remote.webelement.WebElement (session=\"37347ad49670bab15e329515ec35c8f5\", element=\"8f77bde4-c7b3-4e0d-9723-7656eb8f0edb\")>]"
      ]
     },
     "execution_count": 124,
     "metadata": {},
     "output_type": "execute_result"
    }
   ],
   "source": [
    "rating_tags=driver.find_elements_by_xpath(\"//div[@class='_3LWZlK _1BLPMq']\")\n",
    "rating_tags[0:10]"
   ]
  },
  {
   "cell_type": "code",
   "execution_count": 125,
   "id": "9ccb80e2",
   "metadata": {},
   "outputs": [
    {
     "data": {
      "text/plain": [
       "['5', '5', '5', '5', '5', '5', '5', '4', '5', '5']"
      ]
     },
     "execution_count": 125,
     "metadata": {},
     "output_type": "execute_result"
    }
   ],
   "source": [
    "for i in rating_tags:\n",
    "    rating=i.text\n",
    "    rating_list.append(rating)\n",
    "rating_list[0:10]"
   ]
  },
  {
   "cell_type": "code",
   "execution_count": 126,
   "id": "6c2f9b43",
   "metadata": {},
   "outputs": [
    {
     "data": {
      "text/plain": [
       "[<selenium.webdriver.remote.webelement.WebElement (session=\"37347ad49670bab15e329515ec35c8f5\", element=\"08bb268e-6680-45eb-a4e5-93f0af930556\")>,\n",
       " <selenium.webdriver.remote.webelement.WebElement (session=\"37347ad49670bab15e329515ec35c8f5\", element=\"33758015-df3a-4c32-a1b2-6a7c6a84f9aa\")>,\n",
       " <selenium.webdriver.remote.webelement.WebElement (session=\"37347ad49670bab15e329515ec35c8f5\", element=\"007a7527-9d63-4dad-a44f-c561a663f90e\")>,\n",
       " <selenium.webdriver.remote.webelement.WebElement (session=\"37347ad49670bab15e329515ec35c8f5\", element=\"00d78288-e36c-4808-9815-fd3dff708eb5\")>,\n",
       " <selenium.webdriver.remote.webelement.WebElement (session=\"37347ad49670bab15e329515ec35c8f5\", element=\"3ae2bef5-c031-492e-b51b-73a84e675f52\")>,\n",
       " <selenium.webdriver.remote.webelement.WebElement (session=\"37347ad49670bab15e329515ec35c8f5\", element=\"4e316fda-e0c0-4797-893c-284fdcbf929f\")>,\n",
       " <selenium.webdriver.remote.webelement.WebElement (session=\"37347ad49670bab15e329515ec35c8f5\", element=\"72d09067-9f20-430a-a656-258d6ee54a71\")>,\n",
       " <selenium.webdriver.remote.webelement.WebElement (session=\"37347ad49670bab15e329515ec35c8f5\", element=\"dca18ace-95ff-45d8-9778-9b714502847e\")>,\n",
       " <selenium.webdriver.remote.webelement.WebElement (session=\"37347ad49670bab15e329515ec35c8f5\", element=\"f49f1552-97d9-415f-a7b0-5fcb2de7cab1\")>,\n",
       " <selenium.webdriver.remote.webelement.WebElement (session=\"37347ad49670bab15e329515ec35c8f5\", element=\"0b1946f2-95c4-4160-8cd3-4ec2422ac7a2\")>]"
      ]
     },
     "execution_count": 126,
     "metadata": {},
     "output_type": "execute_result"
    }
   ],
   "source": [
    "review_summary_tags=driver.find_elements_by_xpath(\"//p[@class='_2-N8zT']\")\n",
    "review_summary_tags[0:10]"
   ]
  },
  {
   "cell_type": "code",
   "execution_count": 127,
   "id": "4bb0a92a",
   "metadata": {},
   "outputs": [
    {
     "data": {
      "text/plain": [
       "['Brilliant',\n",
       " 'Simply awesome',\n",
       " 'Best in the market!',\n",
       " 'Perfect product!',\n",
       " 'Fabulous!',\n",
       " 'Worth every penny',\n",
       " 'Great product',\n",
       " 'Good choice',\n",
       " 'Worth every penny',\n",
       " 'Highly recommended']"
      ]
     },
     "execution_count": 127,
     "metadata": {},
     "output_type": "execute_result"
    }
   ],
   "source": [
    "for i in review_summary_tags:\n",
    "    review=i.text\n",
    "    review_list.append(review)\n",
    "review_list[0:10]"
   ]
  },
  {
   "cell_type": "code",
   "execution_count": 128,
   "id": "c7166b52",
   "metadata": {},
   "outputs": [
    {
     "data": {
      "text/plain": [
       "[<selenium.webdriver.remote.webelement.WebElement (session=\"37347ad49670bab15e329515ec35c8f5\", element=\"5b383cf2-ce23-451a-864e-1f08d2132cbb\")>,\n",
       " <selenium.webdriver.remote.webelement.WebElement (session=\"37347ad49670bab15e329515ec35c8f5\", element=\"f0999964-20f9-46aa-83db-f6ac0f29f530\")>,\n",
       " <selenium.webdriver.remote.webelement.WebElement (session=\"37347ad49670bab15e329515ec35c8f5\", element=\"6cfc6e40-5c7a-4d53-98ae-c7b79c81d18b\")>,\n",
       " <selenium.webdriver.remote.webelement.WebElement (session=\"37347ad49670bab15e329515ec35c8f5\", element=\"b0987c91-e0dc-47d3-b1cd-8391d89a90d1\")>,\n",
       " <selenium.webdriver.remote.webelement.WebElement (session=\"37347ad49670bab15e329515ec35c8f5\", element=\"c16684ff-898b-4b3d-950b-f519a29cc1ae\")>,\n",
       " <selenium.webdriver.remote.webelement.WebElement (session=\"37347ad49670bab15e329515ec35c8f5\", element=\"f6a761cf-b468-4cda-9e16-d9d700448f7a\")>,\n",
       " <selenium.webdriver.remote.webelement.WebElement (session=\"37347ad49670bab15e329515ec35c8f5\", element=\"5da914f7-94b0-4bdb-954b-82e1719638d3\")>,\n",
       " <selenium.webdriver.remote.webelement.WebElement (session=\"37347ad49670bab15e329515ec35c8f5\", element=\"a1a67d7c-a9e6-41f0-867c-d7eaff343efa\")>,\n",
       " <selenium.webdriver.remote.webelement.WebElement (session=\"37347ad49670bab15e329515ec35c8f5\", element=\"e8f64720-6e7e-4904-afca-6e270d20e595\")>,\n",
       " <selenium.webdriver.remote.webelement.WebElement (session=\"37347ad49670bab15e329515ec35c8f5\", element=\"5d93ba12-bc68-43c1-bfba-cd1f824f9563\")>]"
      ]
     },
     "execution_count": 128,
     "metadata": {},
     "output_type": "execute_result"
    }
   ],
   "source": [
    "full_review_tags=driver.find_elements_by_xpath(\"//div[@class='t-ZTKy']\")\n",
    "full_review_tags[0:10]"
   ]
  },
  {
   "cell_type": "code",
   "execution_count": 129,
   "id": "ef402b2d",
   "metadata": {},
   "outputs": [
    {
     "data": {
      "text/plain": [
       "['The Best Phone for the Money\\n\\nThe iPhone 11 offers superb cameras, a more durable design and excellent battery life for an affordable price.\\n\\nCompelling ultra-wide camera\\nNew Night mode is excellent\\nLong battery life',\n",
       " 'Really satisfied with the Product I received... It’s totally genuine and the packaging was also really good so if ur planning to buy just go for it.',\n",
       " 'Great iPhone very snappy experience as apple kind. Upgraded from iPhone 7.\\nPros\\n-Camera top class\\n- Battery top performed\\n-Chipset no need to say as apple kind\\n-Security as you expect from apple\\n- Display super bright industry leading colour\\naccuracy and super responsive\\n-Build quality as expect from apple sturdy\\npremium durable beautiful stylish.\\n-Os most stable os in smartphone industry\\n\\nCons\\n-No 5G\\n-Display is not based on OLED technology\\n-Charger headphones and 1 apple stic...\\nREAD MORE',\n",
       " 'Amazing phone with great cameras and better battery which gives you the best performance. I just love the camera .',\n",
       " 'This is my first iOS phone. I am very happy with this product. Very much satisfied with this. I love this phone.',\n",
       " 'Previously I was using one plus 3t it was a great phone\\nAnd then I decided to upgrade I am stuck between Samsung s10 plus or iPhone 11\\nI have seen the specs and everything were good except the display it’s somewhere between 720-1080 and it’s not even an amoled it’s an LCD display\\nBut I decided to go with iPhone because I have never used an IOS device I have Been an android user from the past 9 years I ordered IPhone 11 (128gb) product red\\nMy experience after using 3 weeks\\n1. The delivery ...\\nREAD MORE',\n",
       " 'Amazing Powerful and Durable Gadget.\\n\\nI’m am very happy with the camera picture quality, Amazing face id unlocked in dark room, Strong battery with perfect screen size as you can carry easily in pocket. This is my third iPhone.\\n\\nI shifted from android Samsung Note series to iPhone because of the strong build quality and peace of mind for next 3-4 years.\\n\\nDon’t think to much just go for it and I suggest you to go for minimum 128gb variant or more 256gb.\\n\\nI’ve attached my puppy pics and no fi...\\nREAD MORE',\n",
       " 'So far it’s been an AMAZING experience coming back to iOS after nearly a decade but it’s not as versatile as android though phone is sturdy dropped it accidentally a couple of times and nothing happened fortunately camera is awesome',\n",
       " 'i11 is worthy to buy, too much happy with the product. Thank u flipkart I received the item on time..loved it..',\n",
       " 'What a camera .....just awesome ..you can feel this iPhone just awesome . Good for gaming also ...try pubg in hd it’s just wow']"
      ]
     },
     "execution_count": 129,
     "metadata": {},
     "output_type": "execute_result"
    }
   ],
   "source": [
    "for i in full_review_tags:\n",
    "    full=i.text\n",
    "    full_review_list.append(full)\n",
    "full_review_list[0:10]"
   ]
  },
  {
   "cell_type": "code",
   "execution_count": 130,
   "id": "be690042",
   "metadata": {},
   "outputs": [],
   "source": [
    "rating_list2=[]\n",
    "review_list2=[]\n",
    "full_review_list2=[]"
   ]
  },
  {
   "cell_type": "code",
   "execution_count": 131,
   "id": "0c325c22",
   "metadata": {},
   "outputs": [],
   "source": [
    "next_button2=driver.find_element_by_xpath(\"/html/body/div[1]/div/div[3]/div/div/div[2]/div[13]/div/div/nav/a[2]\")\n",
    "next_button2.click()"
   ]
  },
  {
   "cell_type": "code",
   "execution_count": 132,
   "id": "ceab2c6f",
   "metadata": {},
   "outputs": [
    {
     "data": {
      "text/plain": [
       "[<selenium.webdriver.remote.webelement.WebElement (session=\"37347ad49670bab15e329515ec35c8f5\", element=\"c6f9f8f4-ba6d-4be0-8e9a-23850949179c\")>,\n",
       " <selenium.webdriver.remote.webelement.WebElement (session=\"37347ad49670bab15e329515ec35c8f5\", element=\"90d6841d-bc81-4eaf-90fe-f6f1fcac0331\")>,\n",
       " <selenium.webdriver.remote.webelement.WebElement (session=\"37347ad49670bab15e329515ec35c8f5\", element=\"765b186f-03d6-446a-8eea-49094ccf4f59\")>,\n",
       " <selenium.webdriver.remote.webelement.WebElement (session=\"37347ad49670bab15e329515ec35c8f5\", element=\"ac576d63-5288-4941-bbaa-3b5dd586caff\")>,\n",
       " <selenium.webdriver.remote.webelement.WebElement (session=\"37347ad49670bab15e329515ec35c8f5\", element=\"a93c3f5d-965f-4f44-9e08-2defef5ac488\")>,\n",
       " <selenium.webdriver.remote.webelement.WebElement (session=\"37347ad49670bab15e329515ec35c8f5\", element=\"46dd41e0-a92b-4c9c-ad05-2ec12db68689\")>,\n",
       " <selenium.webdriver.remote.webelement.WebElement (session=\"37347ad49670bab15e329515ec35c8f5\", element=\"b1b4ad8d-2390-4ec9-85fd-84a8b3a039e3\")>,\n",
       " <selenium.webdriver.remote.webelement.WebElement (session=\"37347ad49670bab15e329515ec35c8f5\", element=\"0540dda8-d30e-4b79-b811-9000a71df49e\")>,\n",
       " <selenium.webdriver.remote.webelement.WebElement (session=\"37347ad49670bab15e329515ec35c8f5\", element=\"6f8c69cc-cf1d-4763-b1ac-9ee662f16dda\")>,\n",
       " <selenium.webdriver.remote.webelement.WebElement (session=\"37347ad49670bab15e329515ec35c8f5\", element=\"413955c4-c26b-4ade-900b-850fedcafd10\")>]"
      ]
     },
     "execution_count": 132,
     "metadata": {},
     "output_type": "execute_result"
    }
   ],
   "source": [
    "rating_tags2=driver.find_elements_by_xpath(\"//div[@class='_3LWZlK _1BLPMq']\")\n",
    "rating_tags2[0:10]"
   ]
  },
  {
   "cell_type": "code",
   "execution_count": 133,
   "id": "414dad16",
   "metadata": {},
   "outputs": [
    {
     "data": {
      "text/plain": [
       "['5', '5', '5', '5', '5', '5', '5', '5', '5', '5']"
      ]
     },
     "execution_count": 133,
     "metadata": {},
     "output_type": "execute_result"
    }
   ],
   "source": [
    "for i in rating_tags2:\n",
    "    rating2=i.text\n",
    "    rating_list2.append(rating2)\n",
    "rating_list2[0:10]"
   ]
  },
  {
   "cell_type": "code",
   "execution_count": 134,
   "id": "d3377f54",
   "metadata": {},
   "outputs": [
    {
     "data": {
      "text/plain": [
       "[<selenium.webdriver.remote.webelement.WebElement (session=\"37347ad49670bab15e329515ec35c8f5\", element=\"36693714-a78a-48b8-99c9-00869ebce9d9\")>,\n",
       " <selenium.webdriver.remote.webelement.WebElement (session=\"37347ad49670bab15e329515ec35c8f5\", element=\"10be9bf5-a8d5-4a82-9ea8-fcdb30a9a87b\")>,\n",
       " <selenium.webdriver.remote.webelement.WebElement (session=\"37347ad49670bab15e329515ec35c8f5\", element=\"7ef3ae9a-cbe9-4852-ad0c-8b2db40da0aa\")>,\n",
       " <selenium.webdriver.remote.webelement.WebElement (session=\"37347ad49670bab15e329515ec35c8f5\", element=\"0f2629f6-ae93-4cb8-aadb-72d37f150b27\")>,\n",
       " <selenium.webdriver.remote.webelement.WebElement (session=\"37347ad49670bab15e329515ec35c8f5\", element=\"5b04c6e4-2eb7-443c-b3e9-dfdd41dbd4a1\")>,\n",
       " <selenium.webdriver.remote.webelement.WebElement (session=\"37347ad49670bab15e329515ec35c8f5\", element=\"dd9a9796-b498-4982-b101-2f679b4d0b68\")>,\n",
       " <selenium.webdriver.remote.webelement.WebElement (session=\"37347ad49670bab15e329515ec35c8f5\", element=\"e9e1b31e-f021-42f4-bd6e-337d5acf8394\")>,\n",
       " <selenium.webdriver.remote.webelement.WebElement (session=\"37347ad49670bab15e329515ec35c8f5\", element=\"bfdd20cc-5268-46d7-ae74-9708ae1b7113\")>,\n",
       " <selenium.webdriver.remote.webelement.WebElement (session=\"37347ad49670bab15e329515ec35c8f5\", element=\"8d419e69-fdd4-4690-9d78-02f47f177c1f\")>,\n",
       " <selenium.webdriver.remote.webelement.WebElement (session=\"37347ad49670bab15e329515ec35c8f5\", element=\"76a0cd86-fbf8-4c8b-ae88-ac37c884b535\")>]"
      ]
     },
     "execution_count": 134,
     "metadata": {},
     "output_type": "execute_result"
    }
   ],
   "source": [
    "review_summary_tags2=driver.find_elements_by_xpath(\"//p[@class='_2-N8zT']\")\n",
    "review_summary_tags2[0:10]"
   ]
  },
  {
   "cell_type": "code",
   "execution_count": 135,
   "id": "42a29447",
   "metadata": {},
   "outputs": [
    {
     "data": {
      "text/plain": [
       "['Highly recommended',\n",
       " 'Highly recommended',\n",
       " 'Highly recommended',\n",
       " 'Highly recommended',\n",
       " 'Highly recommended',\n",
       " 'Highly recommended',\n",
       " 'Highly recommended',\n",
       " 'Highly recommended',\n",
       " 'Highly recommended',\n",
       " 'Highly recommended']"
      ]
     },
     "execution_count": 135,
     "metadata": {},
     "output_type": "execute_result"
    }
   ],
   "source": [
    "for i in review_summary_tags2:\n",
    "    review2=i.text\n",
    "    review_list2.append(review)\n",
    "review_list2[0:10]"
   ]
  },
  {
   "cell_type": "code",
   "execution_count": 136,
   "id": "283c5680",
   "metadata": {},
   "outputs": [
    {
     "data": {
      "text/plain": [
       "[<selenium.webdriver.remote.webelement.WebElement (session=\"37347ad49670bab15e329515ec35c8f5\", element=\"04a1f0a0-189c-4cd1-841c-f8d3408295d2\")>,\n",
       " <selenium.webdriver.remote.webelement.WebElement (session=\"37347ad49670bab15e329515ec35c8f5\", element=\"5ccae985-ca3a-48bc-a709-55f2cdef1345\")>,\n",
       " <selenium.webdriver.remote.webelement.WebElement (session=\"37347ad49670bab15e329515ec35c8f5\", element=\"ff31d42c-b5a8-4ebb-870e-fe3ff857bb52\")>,\n",
       " <selenium.webdriver.remote.webelement.WebElement (session=\"37347ad49670bab15e329515ec35c8f5\", element=\"99cd3a1c-e2b3-4e13-8fdb-ecfc9222f8eb\")>,\n",
       " <selenium.webdriver.remote.webelement.WebElement (session=\"37347ad49670bab15e329515ec35c8f5\", element=\"6a67ae4f-ea8f-47ff-b97e-4264a0c4b9c6\")>,\n",
       " <selenium.webdriver.remote.webelement.WebElement (session=\"37347ad49670bab15e329515ec35c8f5\", element=\"b9f21bd6-992a-4dfd-8b77-e68f9ef1cce6\")>,\n",
       " <selenium.webdriver.remote.webelement.WebElement (session=\"37347ad49670bab15e329515ec35c8f5\", element=\"b000a8b3-27fc-4bd4-b8d6-71a80c05334a\")>,\n",
       " <selenium.webdriver.remote.webelement.WebElement (session=\"37347ad49670bab15e329515ec35c8f5\", element=\"d37c184b-dae8-44bc-b99d-1f4a78762db4\")>,\n",
       " <selenium.webdriver.remote.webelement.WebElement (session=\"37347ad49670bab15e329515ec35c8f5\", element=\"ba2c4d6a-a24d-41f1-8ba6-3a9d89b584fa\")>,\n",
       " <selenium.webdriver.remote.webelement.WebElement (session=\"37347ad49670bab15e329515ec35c8f5\", element=\"c0a842e8-26ee-4311-8024-014cf85014d8\")>]"
      ]
     },
     "execution_count": 136,
     "metadata": {},
     "output_type": "execute_result"
    }
   ],
   "source": [
    "full_review_tags2=driver.find_elements_by_xpath(\"//div[@class='t-ZTKy']\")\n",
    "full_review_tags2[0:10]"
   ]
  },
  {
   "cell_type": "code",
   "execution_count": 137,
   "id": "e67fac9e",
   "metadata": {},
   "outputs": [
    {
     "data": {
      "text/plain": [
       "['iphone 11 is a very good phone to buy only if you can compromise for the display. The display on this is device is pretty good but you can get other options with better displays in this price segment.\\nIf you can survive with an HD+ LCD panel with thicker bezels and a notch up top then this is a very good phone for you.\\nCameras are awesome, battery backup excellent, great performance and a decent premium look. Good job Apple !',\n",
       " 'It’s a must buy who is looking for an upgrade from previous generation of iPhones. If you are using XR then still you can hold on for sometime and upgrade to 2020 model else this phone is a must buy . Camera quality is amazing and wide angle is something to count upon. Performance wise it’s amazing and feels premium while holding in hand. So a big YES for this device. Go for 128 GB variant as the 4K videos will occupy lots of space and the storage can get over very quickly. Try to buy it with...\\nREAD MORE',\n",
       " 'Value for money❤️❤️\\nIts awesome mobile phone in the world ...\\nDisplay was very good and bright ..\\nTrust me freinds you r never regret after Buying..\\nJust go for it....\\nI love this phone and i switch to iphone x to 11',\n",
       " 'Smooth like butter, camera like fantabulous, sound is crystal clear & its red color is damn attractive, i am just loving it. Must buy if you love photography.\\n\\nLucky to get it in sale, thank you Flipkart.',\n",
       " \"It's my first time to use iOS phone and I am loving my upgradation 😍😍 I love the color, I love the assebility of the phone....I need to learn more about its functionality, but as far as I have seen, it's quite easy and it has a lot of functions to work on, specially if you are a content writer or a blogger you get a lot of content creation platforms and they are really amazing.\\n\\nThis phone not only for good quality photography but a lot of other task too.😍💯\",\n",
       " \"Iphone is just awesome.. battery backup is very very nice.. continuously for 10 hours we can use it.camera is just awesome.. display is just fab.i love it alot..i had to wait 15 days for it as i pre ordered it..overalll it's worth the price..these all images are clicked by my iPhone..and i love it.\",\n",
       " 'Best budget Iphone till date ❤️ go for it guys without second thought. Let me explain you guys about Camera, Display, battery, and performance.\\n\\nCamera: at this price range there is no comparison of camera, you’ll love the picture quality as well as video quality. I am a Vlogger I wanted an iPhone with 4k video by front camera and I got this phone and I am more than happy 😃\\n\\nBattery: I use this phone roughly as I am active social media person and I have a youtube channel. so the battery ba...\\nREAD MORE',\n",
       " 'Excellent camera, good performance, no lag. The lcd display is also good.. but difference come when we watch movie in prime and Netflix, the colours are not vibrant.. as we see in amoled display.. and the charger in box is of 5 watts.. takes more than 3 hours to charge from 0 to 100.. so guys be prepare to buy 18 watts charger . Finally I am an android user, it was my first Iapple phone, I promise u guys the iOS is so smooth.. overall the phone is damn good.... close eyes to buy it.. thanks t...\\nREAD MORE',\n",
       " 'Really worth of money. i just love it. It is the best phone ever.',\n",
       " 'Totally in love with this ❤ the camera quality is amazing just love it 😘😘😘 itsss dammnnnnnn amazing... Must buy iPhone 11 this is my best experience ever ☀👌👌🧡🧡🧡🧡🧡 thanku apple ❤']"
      ]
     },
     "execution_count": 137,
     "metadata": {},
     "output_type": "execute_result"
    }
   ],
   "source": [
    "for i in full_review_tags2:\n",
    "    full2=i.text\n",
    "    full_review_list2.append(full2)\n",
    "full_review_list2[0:10]"
   ]
  },
  {
   "cell_type": "code",
   "execution_count": 138,
   "id": "85480553",
   "metadata": {},
   "outputs": [],
   "source": [
    "rating_list3=[]\n",
    "review_list3=[]\n",
    "full_review_list3=[]"
   ]
  },
  {
   "cell_type": "code",
   "execution_count": 139,
   "id": "b30d7e8e",
   "metadata": {},
   "outputs": [],
   "source": [
    "next_button2=driver.find_element_by_xpath(\"/html/body/div[1]/div/div[3]/div/div/div[2]/div[13]/div/div/nav/a[3]\")\n",
    "next_button2.click()"
   ]
  },
  {
   "cell_type": "code",
   "execution_count": 140,
   "id": "f9a0d11b",
   "metadata": {},
   "outputs": [
    {
     "data": {
      "text/plain": [
       "[<selenium.webdriver.remote.webelement.WebElement (session=\"37347ad49670bab15e329515ec35c8f5\", element=\"c6f9f8f4-ba6d-4be0-8e9a-23850949179c\")>,\n",
       " <selenium.webdriver.remote.webelement.WebElement (session=\"37347ad49670bab15e329515ec35c8f5\", element=\"90d6841d-bc81-4eaf-90fe-f6f1fcac0331\")>,\n",
       " <selenium.webdriver.remote.webelement.WebElement (session=\"37347ad49670bab15e329515ec35c8f5\", element=\"765b186f-03d6-446a-8eea-49094ccf4f59\")>,\n",
       " <selenium.webdriver.remote.webelement.WebElement (session=\"37347ad49670bab15e329515ec35c8f5\", element=\"ac576d63-5288-4941-bbaa-3b5dd586caff\")>,\n",
       " <selenium.webdriver.remote.webelement.WebElement (session=\"37347ad49670bab15e329515ec35c8f5\", element=\"a93c3f5d-965f-4f44-9e08-2defef5ac488\")>,\n",
       " <selenium.webdriver.remote.webelement.WebElement (session=\"37347ad49670bab15e329515ec35c8f5\", element=\"46dd41e0-a92b-4c9c-ad05-2ec12db68689\")>,\n",
       " <selenium.webdriver.remote.webelement.WebElement (session=\"37347ad49670bab15e329515ec35c8f5\", element=\"b1b4ad8d-2390-4ec9-85fd-84a8b3a039e3\")>,\n",
       " <selenium.webdriver.remote.webelement.WebElement (session=\"37347ad49670bab15e329515ec35c8f5\", element=\"0540dda8-d30e-4b79-b811-9000a71df49e\")>,\n",
       " <selenium.webdriver.remote.webelement.WebElement (session=\"37347ad49670bab15e329515ec35c8f5\", element=\"6f8c69cc-cf1d-4763-b1ac-9ee662f16dda\")>,\n",
       " <selenium.webdriver.remote.webelement.WebElement (session=\"37347ad49670bab15e329515ec35c8f5\", element=\"413955c4-c26b-4ade-900b-850fedcafd10\")>]"
      ]
     },
     "execution_count": 140,
     "metadata": {},
     "output_type": "execute_result"
    }
   ],
   "source": [
    "rating_tags3=driver.find_elements_by_xpath(\"//div[@class='_3LWZlK _1BLPMq']\")\n",
    "rating_tags3[0:10]"
   ]
  },
  {
   "cell_type": "code",
   "execution_count": 141,
   "id": "fb7c8add",
   "metadata": {},
   "outputs": [
    {
     "data": {
      "text/plain": [
       "['5', '5', '5', '5', '5', '5', '5', '5', '5', '5']"
      ]
     },
     "execution_count": 141,
     "metadata": {},
     "output_type": "execute_result"
    }
   ],
   "source": [
    "for i in rating_tags3:\n",
    "    rating3=i.text\n",
    "    rating_list3.append(rating3)\n",
    "rating_list3[0:10]"
   ]
  },
  {
   "cell_type": "code",
   "execution_count": 142,
   "id": "b4c45fb0",
   "metadata": {},
   "outputs": [
    {
     "data": {
      "text/plain": [
       "[<selenium.webdriver.remote.webelement.WebElement (session=\"37347ad49670bab15e329515ec35c8f5\", element=\"36693714-a78a-48b8-99c9-00869ebce9d9\")>,\n",
       " <selenium.webdriver.remote.webelement.WebElement (session=\"37347ad49670bab15e329515ec35c8f5\", element=\"10be9bf5-a8d5-4a82-9ea8-fcdb30a9a87b\")>,\n",
       " <selenium.webdriver.remote.webelement.WebElement (session=\"37347ad49670bab15e329515ec35c8f5\", element=\"7ef3ae9a-cbe9-4852-ad0c-8b2db40da0aa\")>,\n",
       " <selenium.webdriver.remote.webelement.WebElement (session=\"37347ad49670bab15e329515ec35c8f5\", element=\"0f2629f6-ae93-4cb8-aadb-72d37f150b27\")>,\n",
       " <selenium.webdriver.remote.webelement.WebElement (session=\"37347ad49670bab15e329515ec35c8f5\", element=\"5b04c6e4-2eb7-443c-b3e9-dfdd41dbd4a1\")>,\n",
       " <selenium.webdriver.remote.webelement.WebElement (session=\"37347ad49670bab15e329515ec35c8f5\", element=\"dd9a9796-b498-4982-b101-2f679b4d0b68\")>,\n",
       " <selenium.webdriver.remote.webelement.WebElement (session=\"37347ad49670bab15e329515ec35c8f5\", element=\"e9e1b31e-f021-42f4-bd6e-337d5acf8394\")>,\n",
       " <selenium.webdriver.remote.webelement.WebElement (session=\"37347ad49670bab15e329515ec35c8f5\", element=\"bfdd20cc-5268-46d7-ae74-9708ae1b7113\")>,\n",
       " <selenium.webdriver.remote.webelement.WebElement (session=\"37347ad49670bab15e329515ec35c8f5\", element=\"8d419e69-fdd4-4690-9d78-02f47f177c1f\")>,\n",
       " <selenium.webdriver.remote.webelement.WebElement (session=\"37347ad49670bab15e329515ec35c8f5\", element=\"76a0cd86-fbf8-4c8b-ae88-ac37c884b535\")>]"
      ]
     },
     "execution_count": 142,
     "metadata": {},
     "output_type": "execute_result"
    }
   ],
   "source": [
    "review_summary_tags3=driver.find_elements_by_xpath(\"//p[@class='_2-N8zT']\")\n",
    "review_summary_tags3[0:10]"
   ]
  },
  {
   "cell_type": "code",
   "execution_count": 143,
   "id": "bca2fdd6",
   "metadata": {},
   "outputs": [
    {
     "data": {
      "text/plain": [
       "['Highly recommended',\n",
       " 'Perfect product!',\n",
       " 'Perfect product!',\n",
       " 'Worth every penny',\n",
       " 'Highly recommended',\n",
       " 'Perfect product!',\n",
       " 'Worth every penny',\n",
       " 'Simply awesome',\n",
       " 'Terrific',\n",
       " 'Classy product']"
      ]
     },
     "execution_count": 143,
     "metadata": {},
     "output_type": "execute_result"
    }
   ],
   "source": [
    "for i in review_summary_tags3:\n",
    "    review3=i.text\n",
    "    review_list3.append(review3)\n",
    "review_list3[0:10]"
   ]
  },
  {
   "cell_type": "code",
   "execution_count": 144,
   "id": "7170b553",
   "metadata": {},
   "outputs": [
    {
     "data": {
      "text/plain": [
       "[<selenium.webdriver.remote.webelement.WebElement (session=\"37347ad49670bab15e329515ec35c8f5\", element=\"04a1f0a0-189c-4cd1-841c-f8d3408295d2\")>,\n",
       " <selenium.webdriver.remote.webelement.WebElement (session=\"37347ad49670bab15e329515ec35c8f5\", element=\"5ccae985-ca3a-48bc-a709-55f2cdef1345\")>,\n",
       " <selenium.webdriver.remote.webelement.WebElement (session=\"37347ad49670bab15e329515ec35c8f5\", element=\"ff31d42c-b5a8-4ebb-870e-fe3ff857bb52\")>,\n",
       " <selenium.webdriver.remote.webelement.WebElement (session=\"37347ad49670bab15e329515ec35c8f5\", element=\"99cd3a1c-e2b3-4e13-8fdb-ecfc9222f8eb\")>,\n",
       " <selenium.webdriver.remote.webelement.WebElement (session=\"37347ad49670bab15e329515ec35c8f5\", element=\"6a67ae4f-ea8f-47ff-b97e-4264a0c4b9c6\")>,\n",
       " <selenium.webdriver.remote.webelement.WebElement (session=\"37347ad49670bab15e329515ec35c8f5\", element=\"b9f21bd6-992a-4dfd-8b77-e68f9ef1cce6\")>,\n",
       " <selenium.webdriver.remote.webelement.WebElement (session=\"37347ad49670bab15e329515ec35c8f5\", element=\"b000a8b3-27fc-4bd4-b8d6-71a80c05334a\")>,\n",
       " <selenium.webdriver.remote.webelement.WebElement (session=\"37347ad49670bab15e329515ec35c8f5\", element=\"d37c184b-dae8-44bc-b99d-1f4a78762db4\")>,\n",
       " <selenium.webdriver.remote.webelement.WebElement (session=\"37347ad49670bab15e329515ec35c8f5\", element=\"ba2c4d6a-a24d-41f1-8ba6-3a9d89b584fa\")>,\n",
       " <selenium.webdriver.remote.webelement.WebElement (session=\"37347ad49670bab15e329515ec35c8f5\", element=\"c0a842e8-26ee-4311-8024-014cf85014d8\")>]"
      ]
     },
     "execution_count": 144,
     "metadata": {},
     "output_type": "execute_result"
    }
   ],
   "source": [
    "full_review_tags3=driver.find_elements_by_xpath(\"//div[@class='t-ZTKy']\")\n",
    "full_review_tags3[0:10]"
   ]
  },
  {
   "cell_type": "code",
   "execution_count": 145,
   "id": "3d8f56eb",
   "metadata": {},
   "outputs": [
    {
     "data": {
      "text/plain": [
       "['iphone 11 is a very good phone to buy only if you can compromise for the display. The display on this is device is pretty good but you can get other options with better displays in this price segment.\\nIf you can survive with an HD+ LCD panel with thicker bezels and a notch up top then this is a very good phone for you.\\nCameras are awesome, battery backup excellent, great performance and a decent premium look. Good job Apple !',\n",
       " 'It’s a must buy who is looking for an upgrade from previous generation of iPhones. If you are using XR then still you can hold on for sometime and upgrade to 2020 model else this phone is a must buy . Camera quality is amazing and wide angle is something to count upon. Performance wise it’s amazing and feels premium while holding in hand. So a big YES for this device. Go for 128 GB variant as the 4K videos will occupy lots of space and the storage can get over very quickly. Try to buy it with...\\nREAD MORE',\n",
       " 'Value for money❤️❤️\\nIts awesome mobile phone in the world ...\\nDisplay was very good and bright ..\\nTrust me freinds you r never regret after Buying..\\nJust go for it....\\nI love this phone and i switch to iphone x to 11',\n",
       " 'Smooth like butter, camera like fantabulous, sound is crystal clear & its red color is damn attractive, i am just loving it. Must buy if you love photography.\\n\\nLucky to get it in sale, thank you Flipkart.',\n",
       " \"It's my first time to use iOS phone and I am loving my upgradation 😍😍 I love the color, I love the assebility of the phone....I need to learn more about its functionality, but as far as I have seen, it's quite easy and it has a lot of functions to work on, specially if you are a content writer or a blogger you get a lot of content creation platforms and they are really amazing.\\n\\nThis phone not only for good quality photography but a lot of other task too.😍💯\",\n",
       " \"Iphone is just awesome.. battery backup is very very nice.. continuously for 10 hours we can use it.camera is just awesome.. display is just fab.i love it alot..i had to wait 15 days for it as i pre ordered it..overalll it's worth the price..these all images are clicked by my iPhone..and i love it.\",\n",
       " 'Best budget Iphone till date ❤️ go for it guys without second thought. Let me explain you guys about Camera, Display, battery, and performance.\\n\\nCamera: at this price range there is no comparison of camera, you’ll love the picture quality as well as video quality. I am a Vlogger I wanted an iPhone with 4k video by front camera and I got this phone and I am more than happy 😃\\n\\nBattery: I use this phone roughly as I am active social media person and I have a youtube channel. so the battery ba...\\nREAD MORE',\n",
       " 'Excellent camera, good performance, no lag. The lcd display is also good.. but difference come when we watch movie in prime and Netflix, the colours are not vibrant.. as we see in amoled display.. and the charger in box is of 5 watts.. takes more than 3 hours to charge from 0 to 100.. so guys be prepare to buy 18 watts charger . Finally I am an android user, it was my first Iapple phone, I promise u guys the iOS is so smooth.. overall the phone is damn good.... close eyes to buy it.. thanks t...\\nREAD MORE',\n",
       " 'Really worth of money. i just love it. It is the best phone ever.',\n",
       " 'Totally in love with this ❤ the camera quality is amazing just love it 😘😘😘 itsss dammnnnnnn amazing... Must buy iPhone 11 this is my best experience ever ☀👌👌🧡🧡🧡🧡🧡 thanku apple ❤']"
      ]
     },
     "execution_count": 145,
     "metadata": {},
     "output_type": "execute_result"
    }
   ],
   "source": [
    "for i in full_review_tags3:\n",
    "    full3=i.text\n",
    "    full_review_list3.append(full3)\n",
    "full_review_list3[0:10]"
   ]
  },
  {
   "cell_type": "code",
   "execution_count": 146,
   "id": "ccf85371",
   "metadata": {},
   "outputs": [],
   "source": [
    "rating_list4=[]\n",
    "review_list4=[]\n",
    "full_review_list4=[]"
   ]
  },
  {
   "cell_type": "code",
   "execution_count": 147,
   "id": "5dce1de7",
   "metadata": {},
   "outputs": [],
   "source": [
    "next_button4=driver.find_element_by_xpath(\"/html/body/div[1]/div/div[3]/div/div/div[2]/div[13]/div/div/nav/a[5]\")\n",
    "next_button4.click()"
   ]
  },
  {
   "cell_type": "code",
   "execution_count": 148,
   "id": "01e962ef",
   "metadata": {},
   "outputs": [
    {
     "data": {
      "text/plain": [
       "[<selenium.webdriver.remote.webelement.WebElement (session=\"37347ad49670bab15e329515ec35c8f5\", element=\"ea8dd299-2869-4594-8712-e1abc9dc57dd\")>,\n",
       " <selenium.webdriver.remote.webelement.WebElement (session=\"37347ad49670bab15e329515ec35c8f5\", element=\"2e92b03f-967f-4bd6-b0ee-b2f483ac9f0e\")>,\n",
       " <selenium.webdriver.remote.webelement.WebElement (session=\"37347ad49670bab15e329515ec35c8f5\", element=\"2336a5fa-7a0e-4c53-a803-b738d853d923\")>,\n",
       " <selenium.webdriver.remote.webelement.WebElement (session=\"37347ad49670bab15e329515ec35c8f5\", element=\"8c74524c-bc30-4beb-b1c7-adf67c545147\")>,\n",
       " <selenium.webdriver.remote.webelement.WebElement (session=\"37347ad49670bab15e329515ec35c8f5\", element=\"5d09f638-cb57-4a1f-8e91-02aaa2141335\")>,\n",
       " <selenium.webdriver.remote.webelement.WebElement (session=\"37347ad49670bab15e329515ec35c8f5\", element=\"c51e1537-0659-4102-9830-e9ad9d187a94\")>,\n",
       " <selenium.webdriver.remote.webelement.WebElement (session=\"37347ad49670bab15e329515ec35c8f5\", element=\"5b76678a-16ed-46d3-9ced-cdfe301402b9\")>,\n",
       " <selenium.webdriver.remote.webelement.WebElement (session=\"37347ad49670bab15e329515ec35c8f5\", element=\"fb67a0df-78e7-4c1d-a6d6-20d89d94553b\")>,\n",
       " <selenium.webdriver.remote.webelement.WebElement (session=\"37347ad49670bab15e329515ec35c8f5\", element=\"9abd0908-f12e-4093-ab6d-80cc9b2e6ad0\")>,\n",
       " <selenium.webdriver.remote.webelement.WebElement (session=\"37347ad49670bab15e329515ec35c8f5\", element=\"3779a4fd-38cb-4704-9985-b6793dfdbd89\")>]"
      ]
     },
     "execution_count": 148,
     "metadata": {},
     "output_type": "execute_result"
    }
   ],
   "source": [
    "rating_tags4=driver.find_elements_by_xpath(\"//div[@class='_3LWZlK _1BLPMq']\")\n",
    "rating_tags4[0:10]"
   ]
  },
  {
   "cell_type": "code",
   "execution_count": 149,
   "id": "6925b722",
   "metadata": {},
   "outputs": [
    {
     "data": {
      "text/plain": [
       "['5', '5', '5', '5', '5', '5', '5', '5', '5', '5']"
      ]
     },
     "execution_count": 149,
     "metadata": {},
     "output_type": "execute_result"
    }
   ],
   "source": [
    "for i in rating_tags4:\n",
    "    rating4=i.text\n",
    "    rating_list4.append(rating4)\n",
    "rating_list4[0:10]"
   ]
  },
  {
   "cell_type": "code",
   "execution_count": 150,
   "id": "646155ca",
   "metadata": {},
   "outputs": [
    {
     "data": {
      "text/plain": [
       "[<selenium.webdriver.remote.webelement.WebElement (session=\"37347ad49670bab15e329515ec35c8f5\", element=\"20633dd3-f054-4edf-881b-f3a712b9b0e8\")>,\n",
       " <selenium.webdriver.remote.webelement.WebElement (session=\"37347ad49670bab15e329515ec35c8f5\", element=\"0e513c51-18dc-48e3-8005-fabc1b408f67\")>,\n",
       " <selenium.webdriver.remote.webelement.WebElement (session=\"37347ad49670bab15e329515ec35c8f5\", element=\"ad8397ea-fd60-4214-b43f-e48642b03320\")>,\n",
       " <selenium.webdriver.remote.webelement.WebElement (session=\"37347ad49670bab15e329515ec35c8f5\", element=\"f2d0bf81-3199-4129-aa77-bcc8843bc021\")>,\n",
       " <selenium.webdriver.remote.webelement.WebElement (session=\"37347ad49670bab15e329515ec35c8f5\", element=\"1fb56c28-0411-46c8-b0a6-2c3a935fe06d\")>,\n",
       " <selenium.webdriver.remote.webelement.WebElement (session=\"37347ad49670bab15e329515ec35c8f5\", element=\"9256275b-0b80-4d00-a540-d252257cc5f1\")>,\n",
       " <selenium.webdriver.remote.webelement.WebElement (session=\"37347ad49670bab15e329515ec35c8f5\", element=\"9bf8ce1e-027b-472a-a38d-9e0d1e40f298\")>,\n",
       " <selenium.webdriver.remote.webelement.WebElement (session=\"37347ad49670bab15e329515ec35c8f5\", element=\"3079b89e-c728-470d-b678-09c3509da52c\")>,\n",
       " <selenium.webdriver.remote.webelement.WebElement (session=\"37347ad49670bab15e329515ec35c8f5\", element=\"c29abf63-8982-405e-849f-a1a70586ea36\")>,\n",
       " <selenium.webdriver.remote.webelement.WebElement (session=\"37347ad49670bab15e329515ec35c8f5\", element=\"bd67278e-b13a-47c7-9da4-05c5ab55689d\")>]"
      ]
     },
     "execution_count": 150,
     "metadata": {},
     "output_type": "execute_result"
    }
   ],
   "source": [
    "review_summary_tags4=driver.find_elements_by_xpath(\"//p[@class='_2-N8zT']\")\n",
    "review_summary_tags4[0:10]"
   ]
  },
  {
   "cell_type": "code",
   "execution_count": 151,
   "id": "1aa6130e",
   "metadata": {},
   "outputs": [
    {
     "data": {
      "text/plain": [
       "['Fabulous!',\n",
       " 'Perfect product!',\n",
       " 'Must buy!',\n",
       " 'Simply awesome',\n",
       " 'Wonderful',\n",
       " 'Terrific purchase',\n",
       " 'Terrific purchase',\n",
       " 'Great product',\n",
       " 'Excellent',\n",
       " 'Mind-blowing purchase']"
      ]
     },
     "execution_count": 151,
     "metadata": {},
     "output_type": "execute_result"
    }
   ],
   "source": [
    "for i in review_summary_tags4:\n",
    "    review4=i.text\n",
    "    review_list4.append(review4)\n",
    "review_list4[0:10]"
   ]
  },
  {
   "cell_type": "code",
   "execution_count": 152,
   "id": "680e3371",
   "metadata": {},
   "outputs": [
    {
     "data": {
      "text/plain": [
       "[<selenium.webdriver.remote.webelement.WebElement (session=\"37347ad49670bab15e329515ec35c8f5\", element=\"036bea9d-094d-4a4c-9223-39890db4cf66\")>,\n",
       " <selenium.webdriver.remote.webelement.WebElement (session=\"37347ad49670bab15e329515ec35c8f5\", element=\"8d2bee00-2709-440a-aa66-63984e5ff6ff\")>,\n",
       " <selenium.webdriver.remote.webelement.WebElement (session=\"37347ad49670bab15e329515ec35c8f5\", element=\"832e3fb7-e2e3-4512-b1cc-9219bd6f10bf\")>,\n",
       " <selenium.webdriver.remote.webelement.WebElement (session=\"37347ad49670bab15e329515ec35c8f5\", element=\"bf719dd8-9e84-4b76-905b-d3aa41fe50c5\")>,\n",
       " <selenium.webdriver.remote.webelement.WebElement (session=\"37347ad49670bab15e329515ec35c8f5\", element=\"9ae3616a-8377-4d72-85d5-f50ab7cc1309\")>,\n",
       " <selenium.webdriver.remote.webelement.WebElement (session=\"37347ad49670bab15e329515ec35c8f5\", element=\"1af41080-e460-4eff-b918-518cf39e8e78\")>,\n",
       " <selenium.webdriver.remote.webelement.WebElement (session=\"37347ad49670bab15e329515ec35c8f5\", element=\"0c96b602-e038-40e6-adac-3ad0713cff7b\")>,\n",
       " <selenium.webdriver.remote.webelement.WebElement (session=\"37347ad49670bab15e329515ec35c8f5\", element=\"499ab095-7b11-4fe6-a395-ab14b8c5742c\")>,\n",
       " <selenium.webdriver.remote.webelement.WebElement (session=\"37347ad49670bab15e329515ec35c8f5\", element=\"1686fe65-3ad2-4f34-b5ca-af7c7fb543fe\")>,\n",
       " <selenium.webdriver.remote.webelement.WebElement (session=\"37347ad49670bab15e329515ec35c8f5\", element=\"cbbab098-8c98-4610-a997-ff66e292b3be\")>]"
      ]
     },
     "execution_count": 152,
     "metadata": {},
     "output_type": "execute_result"
    }
   ],
   "source": [
    "full_review_tags4=driver.find_elements_by_xpath(\"//div[@class='t-ZTKy']\")\n",
    "full_review_tags4[0:10]"
   ]
  },
  {
   "cell_type": "code",
   "execution_count": 153,
   "id": "6308b035",
   "metadata": {},
   "outputs": [
    {
     "data": {
      "text/plain": [
       "['awesome phone to have. it has got many smart features apart from mind blowing looks, camera, display, battery and sound. have fallen in love with this phone. must buy phone if you have got enough money. thanks to flipkart and apple of course..',\n",
       " 'After 1 month use I found camera quality best compared to my previous Samsung note 10+.Display not good as note 10 also charging too slow.Apple should add fast charger like 11 plus and pro.Best phone for daily use',\n",
       " 'Best Apple iPhone that i have bought at a very reasonable price, camera quality is next level just awesome n of superior quality android phones not even close(RIP) to that and also battery is really good but packaging by Flipkart of iPhone was very poor of such a expensive product, firstly im bit worried about the quality of product if i purchased it through online how was the product but i think now this was mine best decision to bought it through Flipkart online because i got genuine Apple...\\nREAD MORE',\n",
       " \"It's very high performances devise i am like the service of flipkart delevary very fast and packing very nice perfect phone\",\n",
       " 'I just directly switch from iphone 6s to iphone 11 .The best premium smartphone I recommend to everyone. Excellent quality and colors the iphone have in 11 series.\\nCamera quality is just awesome and the major feel when we hold in our hands. The sound quality and volume is also higher then the previous models.\\nI will recommend to buy iphone 11 instead of pro models , there is nothing much difference as this model contains everything which fulfill our needs.\\n\\nOnly one thing that I dislike abo...\\nREAD MORE',\n",
       " 'Upgraded from iphone 6 to 11 best phone for iphone users battery is much better than other iphones camera is awesome love to use it.camera is so clear in night.',\n",
       " 'The built quality is not very premium.\\nThe battery back is great .\\nThe LCD panel is not so sharp but the brightness level is very High .\\nCamera is super duper awesome.\\nThe red colour which people think is bright is actually very soothing and excellent colour to choose from .\\nThe A13 Bionic chip is really a flagship processor and can beat any phone which even has 12 gb ram .\\nCamera module is very great and looks very stylish.',\n",
       " 'Well you all know the specifications . One of a kind. Best iPhone till date. Many enhancements to the camera app with many options. Love the glass body with matte finish in the lens area on the back. Lovely colours to choose from. Best battery in an iPhone till date, enough to last more than a day in normal usage. I tested my iPhone 11 battery and lasted for than 24 hours after full charge still with 30% battery charge left. Watched movies for some time. Normal usage on calls, browsing, musi...\\nREAD MORE',\n",
       " 'Amazing camera and feel super machine I am not describe my feeling but this is amazing Phone I am so lucky I have this',\n",
       " 'This will help you more. See if you are planning to buy iPhone 11. I will say. Yes. But there are some plans I just want to disclose before you buy. 1) If you are an existing iPhone X/XS/XS Max/ XR user, better you guys do not think it to buy. You guys have more or less better gadget. 2) If you are an android user and planning to buy premium phone. I will suggest them to please buy iPhone instead of buying an Android. I bet you will never go back to android after using IOS. Now I want to shar...\\nREAD MORE']"
      ]
     },
     "execution_count": 153,
     "metadata": {},
     "output_type": "execute_result"
    }
   ],
   "source": [
    "for i in full_review_tags4:\n",
    "    full4=i.text\n",
    "    full_review_list4.append(full4)\n",
    "full_review_list4[0:10]"
   ]
  },
  {
   "cell_type": "code",
   "execution_count": 154,
   "id": "39f15f42",
   "metadata": {},
   "outputs": [],
   "source": [
    "rating_list5=[]\n",
    "review_list5=[]\n",
    "full_review_list5=[]"
   ]
  },
  {
   "cell_type": "code",
   "execution_count": 155,
   "id": "59df3c26",
   "metadata": {},
   "outputs": [],
   "source": [
    "next_button5=driver.find_element_by_xpath(\"/html/body/div[1]/div/div[3]/div/div/div[2]/div[13]/div/div/nav/a[6]\")\n",
    "next_button5.click()"
   ]
  },
  {
   "cell_type": "code",
   "execution_count": 156,
   "id": "c37d7832",
   "metadata": {},
   "outputs": [
    {
     "data": {
      "text/plain": [
       "[<selenium.webdriver.remote.webelement.WebElement (session=\"37347ad49670bab15e329515ec35c8f5\", element=\"1be3d880-4efc-4ee5-aa46-dad6c88a2084\")>,\n",
       " <selenium.webdriver.remote.webelement.WebElement (session=\"37347ad49670bab15e329515ec35c8f5\", element=\"a2436165-a823-44fd-a7e4-17c97c577e2c\")>,\n",
       " <selenium.webdriver.remote.webelement.WebElement (session=\"37347ad49670bab15e329515ec35c8f5\", element=\"9fd10510-e4a0-4c12-b633-08df0f634b06\")>,\n",
       " <selenium.webdriver.remote.webelement.WebElement (session=\"37347ad49670bab15e329515ec35c8f5\", element=\"8d6504d5-47e4-4380-a76b-abf9bc1a5653\")>,\n",
       " <selenium.webdriver.remote.webelement.WebElement (session=\"37347ad49670bab15e329515ec35c8f5\", element=\"69fa20ce-07ca-434b-a13a-d09d01f0fa9c\")>,\n",
       " <selenium.webdriver.remote.webelement.WebElement (session=\"37347ad49670bab15e329515ec35c8f5\", element=\"30ac9e96-228e-4aa5-98b7-e05a5339156a\")>,\n",
       " <selenium.webdriver.remote.webelement.WebElement (session=\"37347ad49670bab15e329515ec35c8f5\", element=\"b0b0bb6f-ee14-4c0d-91fa-45f690c0f16d\")>,\n",
       " <selenium.webdriver.remote.webelement.WebElement (session=\"37347ad49670bab15e329515ec35c8f5\", element=\"122784c8-85a3-450e-a5a5-9ae7d7f16eb7\")>,\n",
       " <selenium.webdriver.remote.webelement.WebElement (session=\"37347ad49670bab15e329515ec35c8f5\", element=\"e0df89c6-6bb9-41f2-abe0-a1311154df5b\")>]"
      ]
     },
     "execution_count": 156,
     "metadata": {},
     "output_type": "execute_result"
    }
   ],
   "source": [
    "rating_tags5=driver.find_elements_by_xpath(\"//div[@class='_3LWZlK _1BLPMq']\")\n",
    "rating_tags5[0:10]"
   ]
  },
  {
   "cell_type": "code",
   "execution_count": 157,
   "id": "340ee12d",
   "metadata": {},
   "outputs": [
    {
     "data": {
      "text/plain": [
       "['5', '4', '5', '5', '5', '5', '5', '5', '5']"
      ]
     },
     "execution_count": 157,
     "metadata": {},
     "output_type": "execute_result"
    }
   ],
   "source": [
    "for i in rating_tags5:\n",
    "    rating5=i.text\n",
    "    rating_list5.append(rating5)\n",
    "rating_list5[0:10]"
   ]
  },
  {
   "cell_type": "code",
   "execution_count": 158,
   "id": "dc04981a",
   "metadata": {},
   "outputs": [
    {
     "data": {
      "text/plain": [
       "[<selenium.webdriver.remote.webelement.WebElement (session=\"37347ad49670bab15e329515ec35c8f5\", element=\"458ded9e-070c-4e40-a2b5-3352e26647a2\")>,\n",
       " <selenium.webdriver.remote.webelement.WebElement (session=\"37347ad49670bab15e329515ec35c8f5\", element=\"ed9799af-0fae-4373-8c09-23b0a7daf2d0\")>,\n",
       " <selenium.webdriver.remote.webelement.WebElement (session=\"37347ad49670bab15e329515ec35c8f5\", element=\"b8fbbeb0-03e2-474c-aa97-929312c17b55\")>,\n",
       " <selenium.webdriver.remote.webelement.WebElement (session=\"37347ad49670bab15e329515ec35c8f5\", element=\"a6ecceef-7b0d-4017-9bda-f77f2d58c7c2\")>,\n",
       " <selenium.webdriver.remote.webelement.WebElement (session=\"37347ad49670bab15e329515ec35c8f5\", element=\"901ed604-9346-4ce5-9b3d-e0a306deaf8b\")>,\n",
       " <selenium.webdriver.remote.webelement.WebElement (session=\"37347ad49670bab15e329515ec35c8f5\", element=\"c7cdcc16-a0de-445e-9510-f281cb6973e8\")>,\n",
       " <selenium.webdriver.remote.webelement.WebElement (session=\"37347ad49670bab15e329515ec35c8f5\", element=\"53db0b7a-d05b-424d-a80e-999349a3960f\")>,\n",
       " <selenium.webdriver.remote.webelement.WebElement (session=\"37347ad49670bab15e329515ec35c8f5\", element=\"be65dba7-eb9c-4250-ae5d-96b05c480692\")>,\n",
       " <selenium.webdriver.remote.webelement.WebElement (session=\"37347ad49670bab15e329515ec35c8f5\", element=\"8086dd4a-a864-4b3d-99dd-9f715b132e2b\")>,\n",
       " <selenium.webdriver.remote.webelement.WebElement (session=\"37347ad49670bab15e329515ec35c8f5\", element=\"32edc248-8c62-4d22-a679-c963f1d45a11\")>]"
      ]
     },
     "execution_count": 158,
     "metadata": {},
     "output_type": "execute_result"
    }
   ],
   "source": [
    "review_summary_tags5=driver.find_elements_by_xpath(\"//p[@class='_2-N8zT']\")\n",
    "review_summary_tags5[0:10]"
   ]
  },
  {
   "cell_type": "code",
   "execution_count": 159,
   "id": "80bed556",
   "metadata": {},
   "outputs": [
    {
     "data": {
      "text/plain": [
       "['Simply awesome',\n",
       " 'Good quality product',\n",
       " 'Very poor',\n",
       " 'Perfect product!',\n",
       " 'Classy product',\n",
       " 'Fabulous!',\n",
       " 'Highly recommended',\n",
       " 'Fabulous!',\n",
       " 'Mind-blowing purchase',\n",
       " 'Mind-blowing purchase']"
      ]
     },
     "execution_count": 159,
     "metadata": {},
     "output_type": "execute_result"
    }
   ],
   "source": [
    "for i in review_summary_tags5:\n",
    "    review5=i.text\n",
    "    review_list5.append(review5)\n",
    "review_list5[0:10]"
   ]
  },
  {
   "cell_type": "code",
   "execution_count": 160,
   "id": "055ce0e3",
   "metadata": {},
   "outputs": [
    {
     "data": {
      "text/plain": [
       "[<selenium.webdriver.remote.webelement.WebElement (session=\"37347ad49670bab15e329515ec35c8f5\", element=\"fb9c1928-682b-4e9d-9e36-427e3801bb47\")>,\n",
       " <selenium.webdriver.remote.webelement.WebElement (session=\"37347ad49670bab15e329515ec35c8f5\", element=\"ba6cb3da-a852-4d17-a60e-ffaf68aaee79\")>,\n",
       " <selenium.webdriver.remote.webelement.WebElement (session=\"37347ad49670bab15e329515ec35c8f5\", element=\"9bc1dd78-761b-4772-9076-5b4f850ef729\")>,\n",
       " <selenium.webdriver.remote.webelement.WebElement (session=\"37347ad49670bab15e329515ec35c8f5\", element=\"d9bf170f-6ecc-4218-b589-429b0a0409fb\")>,\n",
       " <selenium.webdriver.remote.webelement.WebElement (session=\"37347ad49670bab15e329515ec35c8f5\", element=\"a2584347-96be-41f5-adce-11d1698728f1\")>,\n",
       " <selenium.webdriver.remote.webelement.WebElement (session=\"37347ad49670bab15e329515ec35c8f5\", element=\"04a8ff4b-9d08-41bb-abb4-31d3966f71aa\")>,\n",
       " <selenium.webdriver.remote.webelement.WebElement (session=\"37347ad49670bab15e329515ec35c8f5\", element=\"4bfab1fd-a47e-4d7e-853f-a1a7ddf8108f\")>,\n",
       " <selenium.webdriver.remote.webelement.WebElement (session=\"37347ad49670bab15e329515ec35c8f5\", element=\"503f81d9-81a5-44b3-b889-810b883db6b1\")>,\n",
       " <selenium.webdriver.remote.webelement.WebElement (session=\"37347ad49670bab15e329515ec35c8f5\", element=\"4a292e61-9101-4ee2-8873-40366c77a730\")>,\n",
       " <selenium.webdriver.remote.webelement.WebElement (session=\"37347ad49670bab15e329515ec35c8f5\", element=\"2d7401b1-6209-4768-a5e3-8caea2ca3ed3\")>]"
      ]
     },
     "execution_count": 160,
     "metadata": {},
     "output_type": "execute_result"
    }
   ],
   "source": [
    "full_review_tags5=driver.find_elements_by_xpath(\"//div[@class='t-ZTKy']\")\n",
    "full_review_tags5[0:10]"
   ]
  },
  {
   "cell_type": "code",
   "execution_count": 161,
   "id": "3fabb581",
   "metadata": {},
   "outputs": [
    {
     "data": {
      "text/plain": [
       "['Really good actually this is my first apple product am using its really awesome performance wise excellent. Am really happy with this iphone11',\n",
       " 'it is very good at performance. Camera is best like before and very smooth response even in water. Don’t buy 12 mini buy iPhone 11 , it is far better than 12 mini believe me ! Have a nice day \\uf8ff ☺️',\n",
       " 'Reviewing again after 5 months. At the beginning the battery and performance was good but it degraded soon. Also I was facing heating issues. The mobile will heat up like a stove sometimes. You cannot even play Pubg even in low settings properly, performance is not a problem but heating is. Also if you play that game for 10 mins the brightness will be automatically down due to over heating even when the auto brightness is set to off. This will not be solved even if u manually increase the bri...\\nREAD MORE',\n",
       " 'In love with this iphone great performance,camera ,battery everything. Go for it have a uncompareble battery backup, no doubts in iPhone camera here You can see the picture which is shot on my iPhone In love with this iphone great performance,camera ,battery everything. Go for it have a uncompareble battery backup, no doubts in iPhone camera here You can see the picture which is shot on my iPhone In love with this iphone great performance,camera ,battery everything. Go for it have a uncompare...\\nREAD MORE',\n",
       " 'We are on apple ecosystem for almost eight years now with couple of iPads and iPhones, including Xr.\\n\\nBought iPhone 11 as a gift to my daughter who loves it. We chose for a purple coloured one. Believe me it is gorgeous and towards the lighter shade. Dazzling and brilliant!\\n\\nThe phone is great and does excellent RAM management like any other Apple device.\\n\\nThe screen, though a LCD and lesser ppi as compared to other flagship phones of competitor brands, is a delight to watch with perfect re...\\nREAD MORE',\n",
       " 'Everything is perfect pictures come out so clearly and at first I wasn’t sure when I got it then when I started to use it and get the hang of it it was amazing!! I can’t wait to see what the next future phones will be like. The screen display on this bad boy are unbelievable they are so clear and never fail me. The performance is super cool there is a lot of cool features as well I like this phone because I feel that it is easy to use and one of my favorite things about this phone is the Face...\\nREAD MORE',\n",
       " 'Amazing camera quality as expected, battery also has very good performance. Display, body, and touch experience is the best I’ve ever had. Sound quality of speakers is more than sufficient. Apple is known for it’s customer friendly security services and I can see it how. The A13 processor is the best in its work. So I would definitely recommend it for everyone who are looking for it, just go for it without delay.\\n\\nThe most amazing thing it the delivery. Flipkart has delivered it in the span ...\\nREAD MORE',\n",
       " \"I can say I'm damn impressed with iPhone 11. As they says iPhone 11 have the toughest glass ever in the smartphone which you'll find on the front and back and it's totally smooth. The fit and finish is full apple quality - there's no sense that any cheaping out has happened in the construction. Without saying it's camera features this review won't complete. The iPhone 11 has a dual camera system, consisting of a wide angle len's that's pretty much same as found on the iPhone XR last year, but...\\nREAD MORE\",\n",
       " 'Best Quality Product OF iPhone Series , Sound Quality & Camera quality is very awesome, Battery Life is very Sufficient for 24 hr Backup With Full Internet Access , I love this this Product too much , It is very fast & making me Very fast in all my daily Routine\\nHighlights;\\n1.Camera: 5 STAR\\n2.Video Recording: 5 star\\n3.Night mODE sHOOTING & Camera:4 star\\n4. Audio Quality: Awesome\\n5. Battery : 5 Star\\n6. Touch:5 Star\\n7. Processor: Very Fast\\nThe M...\\nREAD MORE',\n",
       " 'First thanks to Flipkart for this amazing deal and phone is outstanding. I upgraded from iPhone 7 and this is like very big upgrade. But the packaging was very basic I expected a good packaging as they only wrapped one layer of bubble wrap which I don’t think is enough to protect this expensive phone. And I recommend this phone and seller as well.\\n\\nAnd I’m posting this review after using it for 4 days.']"
      ]
     },
     "execution_count": 161,
     "metadata": {},
     "output_type": "execute_result"
    }
   ],
   "source": [
    "for i in full_review_tags5:\n",
    "    full5=i.text\n",
    "    full_review_list5.append(full5)\n",
    "full_review_list5[0:10]"
   ]
  },
  {
   "cell_type": "code",
   "execution_count": 162,
   "id": "105fdac7",
   "metadata": {},
   "outputs": [],
   "source": [
    "rating_list6=[]\n",
    "review_list6=[]\n",
    "full_review_list6=[]"
   ]
  },
  {
   "cell_type": "code",
   "execution_count": 163,
   "id": "9615bbef",
   "metadata": {},
   "outputs": [],
   "source": [
    "next_button6=driver.find_element_by_xpath(\"/html/body/div[1]/div/div[3]/div/div/div[2]/div[13]/div/div/nav/a[7]\")\n",
    "next_button6.click()"
   ]
  },
  {
   "cell_type": "code",
   "execution_count": 164,
   "id": "d8ae0d64",
   "metadata": {},
   "outputs": [
    {
     "data": {
      "text/plain": [
       "[<selenium.webdriver.remote.webelement.WebElement (session=\"37347ad49670bab15e329515ec35c8f5\", element=\"a4d3265e-2912-40e1-af76-5d02cc314911\")>,\n",
       " <selenium.webdriver.remote.webelement.WebElement (session=\"37347ad49670bab15e329515ec35c8f5\", element=\"98583943-ca2b-4fc0-a1ba-37a872ac618d\")>,\n",
       " <selenium.webdriver.remote.webelement.WebElement (session=\"37347ad49670bab15e329515ec35c8f5\", element=\"a11b1f5b-cf97-418e-b686-4b20d3ce3b07\")>,\n",
       " <selenium.webdriver.remote.webelement.WebElement (session=\"37347ad49670bab15e329515ec35c8f5\", element=\"25bea9d0-ac3a-4452-a550-2c182dac5ad4\")>,\n",
       " <selenium.webdriver.remote.webelement.WebElement (session=\"37347ad49670bab15e329515ec35c8f5\", element=\"79dc3093-faaa-46b7-a7fb-fa5bc4b9e7e5\")>,\n",
       " <selenium.webdriver.remote.webelement.WebElement (session=\"37347ad49670bab15e329515ec35c8f5\", element=\"2cdac282-5953-4981-bc79-3326769ef21a\")>,\n",
       " <selenium.webdriver.remote.webelement.WebElement (session=\"37347ad49670bab15e329515ec35c8f5\", element=\"b15cb259-65e3-4ba6-9ca2-017f33434a0f\")>,\n",
       " <selenium.webdriver.remote.webelement.WebElement (session=\"37347ad49670bab15e329515ec35c8f5\", element=\"a1936319-ae00-4dca-b84d-53f8976436d3\")>,\n",
       " <selenium.webdriver.remote.webelement.WebElement (session=\"37347ad49670bab15e329515ec35c8f5\", element=\"ad22d8ac-c395-4414-a543-42df761d7f5c\")>,\n",
       " <selenium.webdriver.remote.webelement.WebElement (session=\"37347ad49670bab15e329515ec35c8f5\", element=\"7e0e0a95-bac6-4836-8864-8cb6638837d8\")>]"
      ]
     },
     "execution_count": 164,
     "metadata": {},
     "output_type": "execute_result"
    }
   ],
   "source": [
    "rating_tags6=driver.find_elements_by_xpath(\"//div[@class='_3LWZlK _1BLPMq']\")\n",
    "rating_tags6[0:10]"
   ]
  },
  {
   "cell_type": "code",
   "execution_count": 165,
   "id": "1a48e73b",
   "metadata": {},
   "outputs": [
    {
     "data": {
      "text/plain": [
       "['5', '5', '5', '4', '5', '5', '5', '5', '5', '4']"
      ]
     },
     "execution_count": 165,
     "metadata": {},
     "output_type": "execute_result"
    }
   ],
   "source": [
    "for i in rating_tags6:\n",
    "    rating6=i.text\n",
    "    rating_list6.append(rating6)\n",
    "rating_list6[0:10]"
   ]
  },
  {
   "cell_type": "code",
   "execution_count": 166,
   "id": "492696f4",
   "metadata": {},
   "outputs": [
    {
     "data": {
      "text/plain": [
       "[<selenium.webdriver.remote.webelement.WebElement (session=\"37347ad49670bab15e329515ec35c8f5\", element=\"2aa41146-6c71-44e8-8523-d3b5924f0e34\")>,\n",
       " <selenium.webdriver.remote.webelement.WebElement (session=\"37347ad49670bab15e329515ec35c8f5\", element=\"31362725-cf26-4ff5-8c97-aa1d813c6f05\")>,\n",
       " <selenium.webdriver.remote.webelement.WebElement (session=\"37347ad49670bab15e329515ec35c8f5\", element=\"999a1872-80b0-48a3-bcc3-8ec51f46de0f\")>,\n",
       " <selenium.webdriver.remote.webelement.WebElement (session=\"37347ad49670bab15e329515ec35c8f5\", element=\"227c47ab-dcea-4261-a231-7d9a2ec301b3\")>,\n",
       " <selenium.webdriver.remote.webelement.WebElement (session=\"37347ad49670bab15e329515ec35c8f5\", element=\"390e4733-a047-46d9-9cb3-406f325c9980\")>,\n",
       " <selenium.webdriver.remote.webelement.WebElement (session=\"37347ad49670bab15e329515ec35c8f5\", element=\"4129c92f-5a7f-44c0-b198-bcee312cb73e\")>,\n",
       " <selenium.webdriver.remote.webelement.WebElement (session=\"37347ad49670bab15e329515ec35c8f5\", element=\"c9ee9849-55e3-4e5f-bbed-3610986c2ef1\")>,\n",
       " <selenium.webdriver.remote.webelement.WebElement (session=\"37347ad49670bab15e329515ec35c8f5\", element=\"04921744-22b2-4e59-9d6a-97976b78833c\")>,\n",
       " <selenium.webdriver.remote.webelement.WebElement (session=\"37347ad49670bab15e329515ec35c8f5\", element=\"b850a8a0-808b-457a-80bd-dfdf26cb4662\")>,\n",
       " <selenium.webdriver.remote.webelement.WebElement (session=\"37347ad49670bab15e329515ec35c8f5\", element=\"68f2bf79-d0f2-432f-9ecf-bed662e5756e\")>]"
      ]
     },
     "execution_count": 166,
     "metadata": {},
     "output_type": "execute_result"
    }
   ],
   "source": [
    "review_summary_tags6=driver.find_elements_by_xpath(\"//p[@class='_2-N8zT']\")\n",
    "review_summary_tags6[0:10]"
   ]
  },
  {
   "cell_type": "code",
   "execution_count": 167,
   "id": "af361f88",
   "metadata": {},
   "outputs": [
    {
     "data": {
      "text/plain": [
       "['Wonderful',\n",
       " 'Must buy!',\n",
       " 'Just wow!',\n",
       " 'Very Good',\n",
       " 'Wonderful',\n",
       " 'Classy product',\n",
       " 'Just wow!',\n",
       " 'Awesome',\n",
       " 'Mind-blowing purchase',\n",
       " 'Pretty good']"
      ]
     },
     "execution_count": 167,
     "metadata": {},
     "output_type": "execute_result"
    }
   ],
   "source": [
    "for i in review_summary_tags6:\n",
    "    review6=i.text\n",
    "    review_list6.append(review6)\n",
    "review_list6[0:10]"
   ]
  },
  {
   "cell_type": "code",
   "execution_count": 168,
   "id": "51d0d2c2",
   "metadata": {},
   "outputs": [
    {
     "data": {
      "text/plain": [
       "[<selenium.webdriver.remote.webelement.WebElement (session=\"37347ad49670bab15e329515ec35c8f5\", element=\"35b5ea29-50af-45b9-8412-07f4f278b171\")>,\n",
       " <selenium.webdriver.remote.webelement.WebElement (session=\"37347ad49670bab15e329515ec35c8f5\", element=\"418b9c6f-7e69-480e-882c-510ea6651745\")>,\n",
       " <selenium.webdriver.remote.webelement.WebElement (session=\"37347ad49670bab15e329515ec35c8f5\", element=\"89111a55-3f56-46da-a819-a040b5e10422\")>,\n",
       " <selenium.webdriver.remote.webelement.WebElement (session=\"37347ad49670bab15e329515ec35c8f5\", element=\"6d491479-3fca-44ee-9d01-e99ab9f89f54\")>,\n",
       " <selenium.webdriver.remote.webelement.WebElement (session=\"37347ad49670bab15e329515ec35c8f5\", element=\"e8bf76df-364c-4b82-b965-c3659c31e54c\")>,\n",
       " <selenium.webdriver.remote.webelement.WebElement (session=\"37347ad49670bab15e329515ec35c8f5\", element=\"d91ab754-a767-4bca-b787-d9c827b4ff34\")>,\n",
       " <selenium.webdriver.remote.webelement.WebElement (session=\"37347ad49670bab15e329515ec35c8f5\", element=\"706ed0c2-35ea-407d-b463-45829e1c5995\")>,\n",
       " <selenium.webdriver.remote.webelement.WebElement (session=\"37347ad49670bab15e329515ec35c8f5\", element=\"962ee35d-8ee4-4b0c-b12c-eed63ca24de3\")>,\n",
       " <selenium.webdriver.remote.webelement.WebElement (session=\"37347ad49670bab15e329515ec35c8f5\", element=\"f3af6265-bc3b-4885-911e-65298511f542\")>,\n",
       " <selenium.webdriver.remote.webelement.WebElement (session=\"37347ad49670bab15e329515ec35c8f5\", element=\"bfd0ab6b-c35d-4569-9697-70026d3115c5\")>]"
      ]
     },
     "execution_count": 168,
     "metadata": {},
     "output_type": "execute_result"
    }
   ],
   "source": [
    "full_review_tags6=driver.find_elements_by_xpath(\"//div[@class='t-ZTKy']\")\n",
    "full_review_tags6[0:10]"
   ]
  },
  {
   "cell_type": "code",
   "execution_count": 169,
   "id": "a01f979f",
   "metadata": {},
   "outputs": [
    {
     "data": {
      "text/plain": [
       "['Superfast delivery by Flipkart. Thanks.\\n\\n1. iPhone 11 is a pretty solid phone for the money you are paying.\\n2. All the bad reviews about the display is confusing. It’s not that bad.\\n3. I switched from a Oneplus 7t. I have no complaints about the display quality of iPhone. Yes, it’s not OLED, so, we are missing on the deep blacks. But that’s it. It is a very colour accurate display. Gets adequately bright and I could not find any pixelation.\\n4. Performance is one of the best, if not best, in ...\\nREAD MORE',\n",
       " 'I rate this product 5* as it has got amazing user experience with the best performing A13 bionic processor. The screen responds and graphics rendering is top notch. With casual gaming and internet browsing, the battery lasts for approx. 1 day. Camera is very good. You will fall in love with the portrait mode. You can call me a loyal Apple customer or whatever but I won’t stop praising the products and overall experience. That user experience matters and is worth every penny you pay.\\n\\nBelow ar...\\nREAD MORE',\n",
       " 'The ultimate performance\\nCamera is superb\\nThe battery backup also very good i never saw iphone gives this much of battery backup\\nIf any one wana buy iphone 11 definitely i will recommend this mobile\\nIt has the better battery and powerfull processer peak performance glorious camera and the display also 100% high quality lcd display if u had money for for 12 if u dont wana invest much money on that then go for iphone 11 it has maximum same specs only main difference between the 12 and 11 is...\\nREAD MORE',\n",
       " 'impressive super phone and best in class camera ,sound and face unlock is super fast just see and phone is unlock and fast in daily apps use',\n",
       " 'Super and marvellous phone look very cute and nice sound. I love this phone i think white is good colur.Excellent camer 5*😍😘♥️♥️',\n",
       " 'Well while switching from android to iOS the first thing you need to be careful about is that you will loose all your whatsapp chat backups as both are different operating systems. Camera clarity is awesome and though being an lcd screen clarity and resolution is good. Battery backup is also good unlike previous gen iPhone. So far the experience is good will Padre after a few months of usage.\\n\\nP.S the black is more of a dark grey shade and not jet black',\n",
       " 'Best in class. Battery backup is good especially when you play games like Pubg COD. But it is sort of heavy when you hold in hands. Portrait mode is best to click pictures. Stage light effect is awesome. Try to click photos outside in nature because photos inside home or room will not give you the quality in any phone even in DSLR.',\n",
       " 'Very excited to have this phone. This phone has the real power unlike the android phones having SD 855 . The battery life is very good and the camera quality is excellent as comapred to redmi and other phones except google pixel. I M enjoying every single bit of it. Would recommed only if you have the budget.',\n",
       " 'Excellent camera 📸 And Display touching very Nice And Smooth and very improvement against\\nI phone 11 and new processor is very fast',\n",
       " 'I was using Iphone 6s and also Oneplus 6t. Both mobiles were perfectly alright in Photos, gaming, and smooth interface . My 6s mobile getting battery issue. thought upgrade to 11. Really like this mobile of its Internal storage (compare to 6s) , camera and its touch feeling. Its a worth buying mobile for me.']"
      ]
     },
     "execution_count": 169,
     "metadata": {},
     "output_type": "execute_result"
    }
   ],
   "source": [
    "for i in full_review_tags6:\n",
    "    full6=i.text\n",
    "    full_review_list6.append(full6)\n",
    "full_review_list6[0:10]"
   ]
  },
  {
   "cell_type": "code",
   "execution_count": 170,
   "id": "082225a2",
   "metadata": {},
   "outputs": [],
   "source": [
    "rating_list7=[]\n",
    "review_list7=[]\n",
    "full_review_list7=[]"
   ]
  },
  {
   "cell_type": "code",
   "execution_count": 171,
   "id": "9b404673",
   "metadata": {},
   "outputs": [],
   "source": [
    "next_button7=driver.find_element_by_xpath(\"/html/body/div[1]/div/div[3]/div/div/div[2]/div[13]/div/div/nav/a[6]\")\n",
    "next_button7.click()"
   ]
  },
  {
   "cell_type": "code",
   "execution_count": 172,
   "id": "513ba720",
   "metadata": {},
   "outputs": [
    {
     "data": {
      "text/plain": [
       "[<selenium.webdriver.remote.webelement.WebElement (session=\"37347ad49670bab15e329515ec35c8f5\", element=\"a4d3265e-2912-40e1-af76-5d02cc314911\")>,\n",
       " <selenium.webdriver.remote.webelement.WebElement (session=\"37347ad49670bab15e329515ec35c8f5\", element=\"98583943-ca2b-4fc0-a1ba-37a872ac618d\")>,\n",
       " <selenium.webdriver.remote.webelement.WebElement (session=\"37347ad49670bab15e329515ec35c8f5\", element=\"a11b1f5b-cf97-418e-b686-4b20d3ce3b07\")>,\n",
       " <selenium.webdriver.remote.webelement.WebElement (session=\"37347ad49670bab15e329515ec35c8f5\", element=\"25bea9d0-ac3a-4452-a550-2c182dac5ad4\")>,\n",
       " <selenium.webdriver.remote.webelement.WebElement (session=\"37347ad49670bab15e329515ec35c8f5\", element=\"79dc3093-faaa-46b7-a7fb-fa5bc4b9e7e5\")>,\n",
       " <selenium.webdriver.remote.webelement.WebElement (session=\"37347ad49670bab15e329515ec35c8f5\", element=\"2cdac282-5953-4981-bc79-3326769ef21a\")>,\n",
       " <selenium.webdriver.remote.webelement.WebElement (session=\"37347ad49670bab15e329515ec35c8f5\", element=\"b15cb259-65e3-4ba6-9ca2-017f33434a0f\")>,\n",
       " <selenium.webdriver.remote.webelement.WebElement (session=\"37347ad49670bab15e329515ec35c8f5\", element=\"a1936319-ae00-4dca-b84d-53f8976436d3\")>,\n",
       " <selenium.webdriver.remote.webelement.WebElement (session=\"37347ad49670bab15e329515ec35c8f5\", element=\"ad22d8ac-c395-4414-a543-42df761d7f5c\")>,\n",
       " <selenium.webdriver.remote.webelement.WebElement (session=\"37347ad49670bab15e329515ec35c8f5\", element=\"7e0e0a95-bac6-4836-8864-8cb6638837d8\")>]"
      ]
     },
     "execution_count": 172,
     "metadata": {},
     "output_type": "execute_result"
    }
   ],
   "source": [
    "rating_tags7=driver.find_elements_by_xpath(\"//div[@class='_3LWZlK _1BLPMq']\")\n",
    "rating_tags7[0:10]"
   ]
  },
  {
   "cell_type": "code",
   "execution_count": 173,
   "id": "3c265f29",
   "metadata": {},
   "outputs": [
    {
     "data": {
      "text/plain": [
       "['5', '5', '5', '4', '5', '5', '5', '5', '5', '4']"
      ]
     },
     "execution_count": 173,
     "metadata": {},
     "output_type": "execute_result"
    }
   ],
   "source": [
    "for i in rating_tags7:\n",
    "    rating7=i.text\n",
    "    rating_list7.append(rating7)\n",
    "rating_list7[0:10]"
   ]
  },
  {
   "cell_type": "code",
   "execution_count": 174,
   "id": "680f1cda",
   "metadata": {},
   "outputs": [
    {
     "data": {
      "text/plain": [
       "[<selenium.webdriver.remote.webelement.WebElement (session=\"37347ad49670bab15e329515ec35c8f5\", element=\"2aa41146-6c71-44e8-8523-d3b5924f0e34\")>,\n",
       " <selenium.webdriver.remote.webelement.WebElement (session=\"37347ad49670bab15e329515ec35c8f5\", element=\"31362725-cf26-4ff5-8c97-aa1d813c6f05\")>,\n",
       " <selenium.webdriver.remote.webelement.WebElement (session=\"37347ad49670bab15e329515ec35c8f5\", element=\"999a1872-80b0-48a3-bcc3-8ec51f46de0f\")>,\n",
       " <selenium.webdriver.remote.webelement.WebElement (session=\"37347ad49670bab15e329515ec35c8f5\", element=\"227c47ab-dcea-4261-a231-7d9a2ec301b3\")>,\n",
       " <selenium.webdriver.remote.webelement.WebElement (session=\"37347ad49670bab15e329515ec35c8f5\", element=\"390e4733-a047-46d9-9cb3-406f325c9980\")>,\n",
       " <selenium.webdriver.remote.webelement.WebElement (session=\"37347ad49670bab15e329515ec35c8f5\", element=\"4129c92f-5a7f-44c0-b198-bcee312cb73e\")>,\n",
       " <selenium.webdriver.remote.webelement.WebElement (session=\"37347ad49670bab15e329515ec35c8f5\", element=\"c9ee9849-55e3-4e5f-bbed-3610986c2ef1\")>,\n",
       " <selenium.webdriver.remote.webelement.WebElement (session=\"37347ad49670bab15e329515ec35c8f5\", element=\"04921744-22b2-4e59-9d6a-97976b78833c\")>,\n",
       " <selenium.webdriver.remote.webelement.WebElement (session=\"37347ad49670bab15e329515ec35c8f5\", element=\"b850a8a0-808b-457a-80bd-dfdf26cb4662\")>,\n",
       " <selenium.webdriver.remote.webelement.WebElement (session=\"37347ad49670bab15e329515ec35c8f5\", element=\"68f2bf79-d0f2-432f-9ecf-bed662e5756e\")>]"
      ]
     },
     "execution_count": 174,
     "metadata": {},
     "output_type": "execute_result"
    }
   ],
   "source": [
    "review_summary_tags7=driver.find_elements_by_xpath(\"//p[@class='_2-N8zT']\")\n",
    "review_summary_tags7[0:10]"
   ]
  },
  {
   "cell_type": "code",
   "execution_count": 175,
   "id": "637233b4",
   "metadata": {},
   "outputs": [
    {
     "data": {
      "text/plain": [
       "['Wonderful',\n",
       " 'Must buy!',\n",
       " 'Just wow!',\n",
       " 'Very Good',\n",
       " 'Wonderful',\n",
       " 'Classy product',\n",
       " 'Just wow!',\n",
       " 'Awesome',\n",
       " 'Mind-blowing purchase',\n",
       " 'Pretty good']"
      ]
     },
     "execution_count": 175,
     "metadata": {},
     "output_type": "execute_result"
    }
   ],
   "source": [
    "for i in review_summary_tags7:\n",
    "    review7=i.text\n",
    "    review_list7.append(review7)\n",
    "review_list7[0:10]"
   ]
  },
  {
   "cell_type": "code",
   "execution_count": 176,
   "id": "5de8b590",
   "metadata": {},
   "outputs": [
    {
     "data": {
      "text/plain": [
       "[<selenium.webdriver.remote.webelement.WebElement (session=\"37347ad49670bab15e329515ec35c8f5\", element=\"35b5ea29-50af-45b9-8412-07f4f278b171\")>,\n",
       " <selenium.webdriver.remote.webelement.WebElement (session=\"37347ad49670bab15e329515ec35c8f5\", element=\"418b9c6f-7e69-480e-882c-510ea6651745\")>,\n",
       " <selenium.webdriver.remote.webelement.WebElement (session=\"37347ad49670bab15e329515ec35c8f5\", element=\"89111a55-3f56-46da-a819-a040b5e10422\")>,\n",
       " <selenium.webdriver.remote.webelement.WebElement (session=\"37347ad49670bab15e329515ec35c8f5\", element=\"6d491479-3fca-44ee-9d01-e99ab9f89f54\")>,\n",
       " <selenium.webdriver.remote.webelement.WebElement (session=\"37347ad49670bab15e329515ec35c8f5\", element=\"e8bf76df-364c-4b82-b965-c3659c31e54c\")>,\n",
       " <selenium.webdriver.remote.webelement.WebElement (session=\"37347ad49670bab15e329515ec35c8f5\", element=\"d91ab754-a767-4bca-b787-d9c827b4ff34\")>,\n",
       " <selenium.webdriver.remote.webelement.WebElement (session=\"37347ad49670bab15e329515ec35c8f5\", element=\"706ed0c2-35ea-407d-b463-45829e1c5995\")>,\n",
       " <selenium.webdriver.remote.webelement.WebElement (session=\"37347ad49670bab15e329515ec35c8f5\", element=\"962ee35d-8ee4-4b0c-b12c-eed63ca24de3\")>,\n",
       " <selenium.webdriver.remote.webelement.WebElement (session=\"37347ad49670bab15e329515ec35c8f5\", element=\"f3af6265-bc3b-4885-911e-65298511f542\")>,\n",
       " <selenium.webdriver.remote.webelement.WebElement (session=\"37347ad49670bab15e329515ec35c8f5\", element=\"bfd0ab6b-c35d-4569-9697-70026d3115c5\")>]"
      ]
     },
     "execution_count": 176,
     "metadata": {},
     "output_type": "execute_result"
    }
   ],
   "source": [
    "full_review_tags7=driver.find_elements_by_xpath(\"//div[@class='t-ZTKy']\")\n",
    "full_review_tags7[0:10]"
   ]
  },
  {
   "cell_type": "code",
   "execution_count": 177,
   "id": "98f18e28",
   "metadata": {},
   "outputs": [
    {
     "data": {
      "text/plain": [
       "['Superfast delivery by Flipkart. Thanks.\\n\\n1. iPhone 11 is a pretty solid phone for the money you are paying.\\n2. All the bad reviews about the display is confusing. It’s not that bad.\\n3. I switched from a Oneplus 7t. I have no complaints about the display quality of iPhone. Yes, it’s not OLED, so, we are missing on the deep blacks. But that’s it. It is a very colour accurate display. Gets adequately bright and I could not find any pixelation.\\n4. Performance is one of the best, if not best, in ...\\nREAD MORE',\n",
       " 'I rate this product 5* as it has got amazing user experience with the best performing A13 bionic processor. The screen responds and graphics rendering is top notch. With casual gaming and internet browsing, the battery lasts for approx. 1 day. Camera is very good. You will fall in love with the portrait mode. You can call me a loyal Apple customer or whatever but I won’t stop praising the products and overall experience. That user experience matters and is worth every penny you pay.\\n\\nBelow ar...\\nREAD MORE',\n",
       " 'The ultimate performance\\nCamera is superb\\nThe battery backup also very good i never saw iphone gives this much of battery backup\\nIf any one wana buy iphone 11 definitely i will recommend this mobile\\nIt has the better battery and powerfull processer peak performance glorious camera and the display also 100% high quality lcd display if u had money for for 12 if u dont wana invest much money on that then go for iphone 11 it has maximum same specs only main difference between the 12 and 11 is...\\nREAD MORE',\n",
       " 'impressive super phone and best in class camera ,sound and face unlock is super fast just see and phone is unlock and fast in daily apps use',\n",
       " 'Super and marvellous phone look very cute and nice sound. I love this phone i think white is good colur.Excellent camer 5*😍😘♥️♥️',\n",
       " 'Well while switching from android to iOS the first thing you need to be careful about is that you will loose all your whatsapp chat backups as both are different operating systems. Camera clarity is awesome and though being an lcd screen clarity and resolution is good. Battery backup is also good unlike previous gen iPhone. So far the experience is good will Padre after a few months of usage.\\n\\nP.S the black is more of a dark grey shade and not jet black',\n",
       " 'Best in class. Battery backup is good especially when you play games like Pubg COD. But it is sort of heavy when you hold in hands. Portrait mode is best to click pictures. Stage light effect is awesome. Try to click photos outside in nature because photos inside home or room will not give you the quality in any phone even in DSLR.',\n",
       " 'Very excited to have this phone. This phone has the real power unlike the android phones having SD 855 . The battery life is very good and the camera quality is excellent as comapred to redmi and other phones except google pixel. I M enjoying every single bit of it. Would recommed only if you have the budget.',\n",
       " 'Excellent camera 📸 And Display touching very Nice And Smooth and very improvement against\\nI phone 11 and new processor is very fast',\n",
       " 'I was using Iphone 6s and also Oneplus 6t. Both mobiles were perfectly alright in Photos, gaming, and smooth interface . My 6s mobile getting battery issue. thought upgrade to 11. Really like this mobile of its Internal storage (compare to 6s) , camera and its touch feeling. Its a worth buying mobile for me.']"
      ]
     },
     "execution_count": 177,
     "metadata": {},
     "output_type": "execute_result"
    }
   ],
   "source": [
    "for i in full_review_tags7:\n",
    "    full7=i.text\n",
    "    full_review_list7.append(full7)\n",
    "full_review_list7[0:10]"
   ]
  },
  {
   "cell_type": "code",
   "execution_count": 178,
   "id": "3cb8a5e9",
   "metadata": {},
   "outputs": [],
   "source": [
    "rating_list8=[]\n",
    "review_list8=[]\n",
    "full_review_list8=[]"
   ]
  },
  {
   "cell_type": "code",
   "execution_count": 179,
   "id": "288fc55b",
   "metadata": {},
   "outputs": [],
   "source": [
    "next_button8=driver.find_element_by_xpath(\"/html/body/div[1]/div/div[3]/div/div/div[2]/div[13]/div/div/nav/a[7]\")\n",
    "next_button8.click()"
   ]
  },
  {
   "cell_type": "code",
   "execution_count": 180,
   "id": "90b3fe91",
   "metadata": {},
   "outputs": [
    {
     "data": {
      "text/plain": [
       "[<selenium.webdriver.remote.webelement.WebElement (session=\"37347ad49670bab15e329515ec35c8f5\", element=\"049825d4-f24e-4c75-a4e8-c390b79d04c1\")>,\n",
       " <selenium.webdriver.remote.webelement.WebElement (session=\"37347ad49670bab15e329515ec35c8f5\", element=\"1222802a-f8c8-4b9b-a8ca-7bdd811c5db2\")>,\n",
       " <selenium.webdriver.remote.webelement.WebElement (session=\"37347ad49670bab15e329515ec35c8f5\", element=\"02320d5d-9884-4608-84ad-6c74c410db23\")>,\n",
       " <selenium.webdriver.remote.webelement.WebElement (session=\"37347ad49670bab15e329515ec35c8f5\", element=\"14ee9c68-f858-4383-a2ea-0efc62267aa3\")>,\n",
       " <selenium.webdriver.remote.webelement.WebElement (session=\"37347ad49670bab15e329515ec35c8f5\", element=\"e01ef982-1c06-410f-949e-aabbbc0257b4\")>,\n",
       " <selenium.webdriver.remote.webelement.WebElement (session=\"37347ad49670bab15e329515ec35c8f5\", element=\"0f11ee98-e744-4b81-8b85-7cab64fa38b5\")>,\n",
       " <selenium.webdriver.remote.webelement.WebElement (session=\"37347ad49670bab15e329515ec35c8f5\", element=\"9df07647-2515-4305-97f5-1b4d00a9b8a6\")>,\n",
       " <selenium.webdriver.remote.webelement.WebElement (session=\"37347ad49670bab15e329515ec35c8f5\", element=\"5484cd62-79c2-493d-b4cc-e7b3ab6ca155\")>,\n",
       " <selenium.webdriver.remote.webelement.WebElement (session=\"37347ad49670bab15e329515ec35c8f5\", element=\"52bdea8a-dc2a-40ff-b836-02f71abfc897\")>,\n",
       " <selenium.webdriver.remote.webelement.WebElement (session=\"37347ad49670bab15e329515ec35c8f5\", element=\"a97ae5d9-581c-4a1c-a54e-6b7d8ea7e57e\")>]"
      ]
     },
     "execution_count": 180,
     "metadata": {},
     "output_type": "execute_result"
    }
   ],
   "source": [
    "rating_tags8=driver.find_elements_by_xpath(\"//div[@class='_3LWZlK _1BLPMq']\")\n",
    "rating_tags8[0:10]"
   ]
  },
  {
   "cell_type": "code",
   "execution_count": 181,
   "id": "62a87e3c",
   "metadata": {},
   "outputs": [
    {
     "data": {
      "text/plain": [
       "['5', '5', '5', '5', '5', '5', '5', '3', '5', '5']"
      ]
     },
     "execution_count": 181,
     "metadata": {},
     "output_type": "execute_result"
    }
   ],
   "source": [
    "for i in rating_tags8:\n",
    "    rating8=i.text\n",
    "    rating_list8.append(rating8)\n",
    "rating_list8[0:10]"
   ]
  },
  {
   "cell_type": "code",
   "execution_count": 182,
   "id": "34341c71",
   "metadata": {},
   "outputs": [
    {
     "data": {
      "text/plain": [
       "[<selenium.webdriver.remote.webelement.WebElement (session=\"37347ad49670bab15e329515ec35c8f5\", element=\"23cd04d9-5afc-4b91-8dba-a1c682e1dfb9\")>,\n",
       " <selenium.webdriver.remote.webelement.WebElement (session=\"37347ad49670bab15e329515ec35c8f5\", element=\"e9686a98-a81e-4c37-be77-69c51f57bac1\")>,\n",
       " <selenium.webdriver.remote.webelement.WebElement (session=\"37347ad49670bab15e329515ec35c8f5\", element=\"4d82068f-947a-412f-9b0e-fea9aa78e104\")>,\n",
       " <selenium.webdriver.remote.webelement.WebElement (session=\"37347ad49670bab15e329515ec35c8f5\", element=\"aeb15630-1c8c-4b4d-be50-d60cdab847b5\")>,\n",
       " <selenium.webdriver.remote.webelement.WebElement (session=\"37347ad49670bab15e329515ec35c8f5\", element=\"89bcb912-0b27-40ea-86e1-8122557b3e2e\")>,\n",
       " <selenium.webdriver.remote.webelement.WebElement (session=\"37347ad49670bab15e329515ec35c8f5\", element=\"9d149fc1-31b0-46a8-a87c-996ecfb836d5\")>,\n",
       " <selenium.webdriver.remote.webelement.WebElement (session=\"37347ad49670bab15e329515ec35c8f5\", element=\"f74dd29b-5eb3-466f-938d-f7a1a256c86a\")>,\n",
       " <selenium.webdriver.remote.webelement.WebElement (session=\"37347ad49670bab15e329515ec35c8f5\", element=\"82fa7d8c-ffa8-40cb-9b6f-7a766add44b7\")>,\n",
       " <selenium.webdriver.remote.webelement.WebElement (session=\"37347ad49670bab15e329515ec35c8f5\", element=\"a2ae511b-c6a9-4e09-9f5c-30602eabadf2\")>,\n",
       " <selenium.webdriver.remote.webelement.WebElement (session=\"37347ad49670bab15e329515ec35c8f5\", element=\"230d99f4-2ffa-43a9-8f1a-e44841360372\")>]"
      ]
     },
     "execution_count": 182,
     "metadata": {},
     "output_type": "execute_result"
    }
   ],
   "source": [
    "review_summary_tags8=driver.find_elements_by_xpath(\"//p[@class='_2-N8zT']\")\n",
    "review_summary_tags8[0:10]"
   ]
  },
  {
   "cell_type": "code",
   "execution_count": 183,
   "id": "5fc47f9a",
   "metadata": {},
   "outputs": [
    {
     "data": {
      "text/plain": [
       "['Terrific purchase',\n",
       " 'Awesome',\n",
       " 'Classy product',\n",
       " 'Brilliant',\n",
       " 'Terrific',\n",
       " 'Perfect product!',\n",
       " 'Awesome',\n",
       " 'Does the job',\n",
       " 'Perfect product!',\n",
       " 'Highly recommended']"
      ]
     },
     "execution_count": 183,
     "metadata": {},
     "output_type": "execute_result"
    }
   ],
   "source": [
    "for i in review_summary_tags8:\n",
    "    review8=i.text\n",
    "    review_list8.append(review8)\n",
    "review_list8[0:10]"
   ]
  },
  {
   "cell_type": "code",
   "execution_count": 184,
   "id": "e904ac9e",
   "metadata": {},
   "outputs": [
    {
     "data": {
      "text/plain": [
       "[<selenium.webdriver.remote.webelement.WebElement (session=\"37347ad49670bab15e329515ec35c8f5\", element=\"f6f5557e-973f-4cfe-8e1c-eac9e7439f04\")>,\n",
       " <selenium.webdriver.remote.webelement.WebElement (session=\"37347ad49670bab15e329515ec35c8f5\", element=\"d5f132d5-d207-413a-b0b1-d85b490846e0\")>,\n",
       " <selenium.webdriver.remote.webelement.WebElement (session=\"37347ad49670bab15e329515ec35c8f5\", element=\"6f1d443e-9da4-438d-adad-80e1f28f858a\")>,\n",
       " <selenium.webdriver.remote.webelement.WebElement (session=\"37347ad49670bab15e329515ec35c8f5\", element=\"0d9f9675-dbdd-4cc9-9d55-d4d81f3c577c\")>,\n",
       " <selenium.webdriver.remote.webelement.WebElement (session=\"37347ad49670bab15e329515ec35c8f5\", element=\"6cb77c50-faac-4b22-8b66-2f7efd649295\")>,\n",
       " <selenium.webdriver.remote.webelement.WebElement (session=\"37347ad49670bab15e329515ec35c8f5\", element=\"1106a1ce-8e2b-405d-9928-8199e0ffcb53\")>,\n",
       " <selenium.webdriver.remote.webelement.WebElement (session=\"37347ad49670bab15e329515ec35c8f5\", element=\"1d020be3-bb83-42ab-8b6a-6c377e2bb26b\")>,\n",
       " <selenium.webdriver.remote.webelement.WebElement (session=\"37347ad49670bab15e329515ec35c8f5\", element=\"85e46af1-1322-4884-80f5-a11145907b3d\")>,\n",
       " <selenium.webdriver.remote.webelement.WebElement (session=\"37347ad49670bab15e329515ec35c8f5\", element=\"81d12fcd-4f98-414c-a4dd-6f87f12c5dab\")>,\n",
       " <selenium.webdriver.remote.webelement.WebElement (session=\"37347ad49670bab15e329515ec35c8f5\", element=\"952f2078-7b5a-4ce0-8b22-05b6717dad5b\")>]"
      ]
     },
     "execution_count": 184,
     "metadata": {},
     "output_type": "execute_result"
    }
   ],
   "source": [
    "full_review_tags8=driver.find_elements_by_xpath(\"//div[@class='t-ZTKy']\")\n",
    "full_review_tags8[0:10]"
   ]
  },
  {
   "cell_type": "code",
   "execution_count": 185,
   "id": "6941ee12",
   "metadata": {},
   "outputs": [
    {
     "data": {
      "text/plain": [
       "['Its Very awesome product working and good camera quality and all about best product and also flipkart is very great deal and offer nice price',\n",
       " 'I am using this phone for 5 days and its one of the best camera out there ❤️ the screen is not oled and i am coming from iphone xs so its little bit not up to the mark i would say\\nBut overall value for money💕😍the battery back up is far better than my iphone xs and its worth in my apple ecosystem💫❤️if u are an apple User and have the eco system then go for it❤️though i will be getting the new iphone but its pretty good💫',\n",
       " 'Best and amazing product.....phone looks so premium.... battary is also good as expected .... Wide angle camera is so addictive ...if you are a IOS lover....then this phone will be the best choice for you all!!💯🔥',\n",
       " 'Excellent camera and display touching very nice and smooth very improvement against iPhone XR and new processor is very fast',\n",
       " \"I got this beast today. And I must say the picture quality of its camera is awesome. Both the cameras works fine.\\n\\nAs for as the processing is concerned, it runs without any lag. You can play and do whatever you want without a glitch.\\n\\nThe battery runs for a day with medium and high workload.\\n\\nThe display is good and the speakers are working fine.\\n\\nThe earphones doesn't have any base and you can use it for calling mostly.\\n\\nThe charging time is approximately for 90 minutes for full charging...\\nREAD MORE\",\n",
       " 'Awesome purchase. Amazing phone with good battery backup. It’s a top notch device. White colour looks amazing. Phone has a few extra feature than iPhone XR. Overall, this is value for money',\n",
       " 'Always love the apple products, upgraded from old iPhone 6S plus to this after having my first baby. I just love to click baby’s photos with it. Overall I just love this phone. Battery back up is okay, sound quality is good. Haven’t tested yet waterproof yet. Only one thing I hate is apple could have given charger & headphones in box.',\n",
       " \"phone is good but in display is 720p lcd in this price range we can get full hd OLED displays with higher refresh rate processor is very good camera is nice but looks kind of oldish in front of todays phone also there's no charging in box had to buy it seperately\",\n",
       " 'Value for money\\n5 star rating\\nExcellent camera\\nBattery backup full day in single charge.\\n\\nTougher and water resistant design, glossy back.\\nThe screen has excellent brightness and contrast.\\nApple A13 Bionic is the fastest smartphone chip on the planet.\\nExcellent battery life, fast charging support.\\nStereo speakers with great quality.',\n",
       " 'Thanks Flipkart For this amazing deal! I had a dream of owning a iphone since i had known about.\\nIm very happy with my purchase & it is totally worth it.\\nAmazing experience all over !!\\n\\nAnyone who’s thinking of buying it in 2021, i would simply say go for it without any second thoughts ❤️']"
      ]
     },
     "execution_count": 185,
     "metadata": {},
     "output_type": "execute_result"
    }
   ],
   "source": [
    "for i in full_review_tags8:\n",
    "    full8=i.text\n",
    "    full_review_list8.append(full8)\n",
    "full_review_list8[0:10]"
   ]
  },
  {
   "cell_type": "code",
   "execution_count": 186,
   "id": "d64b574e",
   "metadata": {},
   "outputs": [],
   "source": [
    "rating_list9=[]\n",
    "review_list9=[]\n",
    "full_review_list9=[]"
   ]
  },
  {
   "cell_type": "code",
   "execution_count": 187,
   "id": "75da3c4b",
   "metadata": {},
   "outputs": [],
   "source": [
    "next_button9=driver.find_element_by_xpath(\"/html/body/div[1]/div/div[3]/div/div/div[2]/div[13]/div/div/nav/a[7]\")\n",
    "next_button9.click()"
   ]
  },
  {
   "cell_type": "code",
   "execution_count": 188,
   "id": "b09bdf46",
   "metadata": {},
   "outputs": [
    {
     "data": {
      "text/plain": [
       "[<selenium.webdriver.remote.webelement.WebElement (session=\"37347ad49670bab15e329515ec35c8f5\", element=\"5a4f1c7b-b2b8-4d6e-b9ef-98759555b7c9\")>,\n",
       " <selenium.webdriver.remote.webelement.WebElement (session=\"37347ad49670bab15e329515ec35c8f5\", element=\"b2d9214a-8b6d-4893-8f37-89a2775ce4c5\")>,\n",
       " <selenium.webdriver.remote.webelement.WebElement (session=\"37347ad49670bab15e329515ec35c8f5\", element=\"60d787bd-e843-4cef-8b2f-4f4bd83e9994\")>,\n",
       " <selenium.webdriver.remote.webelement.WebElement (session=\"37347ad49670bab15e329515ec35c8f5\", element=\"710a2cab-043b-4d7d-b6d3-eec43432758c\")>,\n",
       " <selenium.webdriver.remote.webelement.WebElement (session=\"37347ad49670bab15e329515ec35c8f5\", element=\"6b55db87-98c9-442d-b1ed-40df5eb74c78\")>,\n",
       " <selenium.webdriver.remote.webelement.WebElement (session=\"37347ad49670bab15e329515ec35c8f5\", element=\"d27d140f-3aae-4aff-b269-27ed6f1a0fe4\")>,\n",
       " <selenium.webdriver.remote.webelement.WebElement (session=\"37347ad49670bab15e329515ec35c8f5\", element=\"15b531c0-3fb3-4f4d-940f-b76460937635\")>,\n",
       " <selenium.webdriver.remote.webelement.WebElement (session=\"37347ad49670bab15e329515ec35c8f5\", element=\"e775908e-84c6-4e15-a029-9aaca81e6b60\")>,\n",
       " <selenium.webdriver.remote.webelement.WebElement (session=\"37347ad49670bab15e329515ec35c8f5\", element=\"068702fd-0dd5-420b-89a4-9b775a10e46b\")>]"
      ]
     },
     "execution_count": 188,
     "metadata": {},
     "output_type": "execute_result"
    }
   ],
   "source": [
    "rating_tags9=driver.find_elements_by_xpath(\"//div[@class='_3LWZlK _1BLPMq']\")\n",
    "rating_tags9[0:10]"
   ]
  },
  {
   "cell_type": "code",
   "execution_count": 189,
   "id": "d52bb5e4",
   "metadata": {},
   "outputs": [
    {
     "data": {
      "text/plain": [
       "['5', '5', '4', '5', '5', '5', '4', '5', '5']"
      ]
     },
     "execution_count": 189,
     "metadata": {},
     "output_type": "execute_result"
    }
   ],
   "source": [
    "for i in rating_tags9:\n",
    "    rating9=i.text\n",
    "    rating_list9.append(rating9)\n",
    "rating_list9[0:10]"
   ]
  },
  {
   "cell_type": "code",
   "execution_count": 190,
   "id": "8d4654c6",
   "metadata": {},
   "outputs": [
    {
     "data": {
      "text/plain": [
       "[<selenium.webdriver.remote.webelement.WebElement (session=\"37347ad49670bab15e329515ec35c8f5\", element=\"75b81acf-2584-45a3-95c7-cc082ea61576\")>,\n",
       " <selenium.webdriver.remote.webelement.WebElement (session=\"37347ad49670bab15e329515ec35c8f5\", element=\"d7c3e28a-85fb-4e48-a3d2-85c9a6bf7d62\")>,\n",
       " <selenium.webdriver.remote.webelement.WebElement (session=\"37347ad49670bab15e329515ec35c8f5\", element=\"30df77e6-596b-4330-b525-d749aa243199\")>,\n",
       " <selenium.webdriver.remote.webelement.WebElement (session=\"37347ad49670bab15e329515ec35c8f5\", element=\"1098aa07-8a08-4ffa-86fa-00ce62b051f7\")>,\n",
       " <selenium.webdriver.remote.webelement.WebElement (session=\"37347ad49670bab15e329515ec35c8f5\", element=\"40a99f6e-39a1-4229-a85b-318f38143ac0\")>,\n",
       " <selenium.webdriver.remote.webelement.WebElement (session=\"37347ad49670bab15e329515ec35c8f5\", element=\"395131db-cebd-426e-9ed7-df9d6034eb72\")>,\n",
       " <selenium.webdriver.remote.webelement.WebElement (session=\"37347ad49670bab15e329515ec35c8f5\", element=\"033b004f-fe32-444e-af0c-eb2ea0bc8229\")>,\n",
       " <selenium.webdriver.remote.webelement.WebElement (session=\"37347ad49670bab15e329515ec35c8f5\", element=\"12f791d3-886e-4012-b0f2-08bb7a7f15ed\")>,\n",
       " <selenium.webdriver.remote.webelement.WebElement (session=\"37347ad49670bab15e329515ec35c8f5\", element=\"3f7b51c1-ff42-4c4b-ac49-a7c31e3444f9\")>,\n",
       " <selenium.webdriver.remote.webelement.WebElement (session=\"37347ad49670bab15e329515ec35c8f5\", element=\"d412c216-e665-4dd0-8fa0-326df76d04a6\")>]"
      ]
     },
     "execution_count": 190,
     "metadata": {},
     "output_type": "execute_result"
    }
   ],
   "source": [
    "review_summary_tags9=driver.find_elements_by_xpath(\"//p[@class='_2-N8zT']\")\n",
    "review_summary_tags9[0:10]"
   ]
  },
  {
   "cell_type": "code",
   "execution_count": 191,
   "id": "4bf864fd",
   "metadata": {},
   "outputs": [
    {
     "data": {
      "text/plain": [
       "['Very poor',\n",
       " 'Excellent',\n",
       " 'Must buy!',\n",
       " 'Value-for-money',\n",
       " 'Best in the market!',\n",
       " 'Brilliant',\n",
       " 'Terrific purchase',\n",
       " 'Good quality product',\n",
       " 'Terrific',\n",
       " 'Best in the market!']"
      ]
     },
     "execution_count": 191,
     "metadata": {},
     "output_type": "execute_result"
    }
   ],
   "source": [
    "for i in review_summary_tags9:\n",
    "    review9=i.text\n",
    "    review_list9.append(review9)\n",
    "review_list9[0:10]"
   ]
  },
  {
   "cell_type": "code",
   "execution_count": 192,
   "id": "2c2c9e69",
   "metadata": {},
   "outputs": [
    {
     "data": {
      "text/plain": [
       "[<selenium.webdriver.remote.webelement.WebElement (session=\"37347ad49670bab15e329515ec35c8f5\", element=\"3937579c-9709-442b-aec2-17bf345af0eb\")>,\n",
       " <selenium.webdriver.remote.webelement.WebElement (session=\"37347ad49670bab15e329515ec35c8f5\", element=\"8062aba8-8434-45d8-87fe-f3e1fd760e48\")>,\n",
       " <selenium.webdriver.remote.webelement.WebElement (session=\"37347ad49670bab15e329515ec35c8f5\", element=\"6cef575a-d811-405c-92b7-ff70d8a19e3d\")>,\n",
       " <selenium.webdriver.remote.webelement.WebElement (session=\"37347ad49670bab15e329515ec35c8f5\", element=\"b9a680da-f6c9-495a-ae80-d0b81ec9aa51\")>,\n",
       " <selenium.webdriver.remote.webelement.WebElement (session=\"37347ad49670bab15e329515ec35c8f5\", element=\"7672b2df-d23d-4c3e-8926-3587f871c6af\")>,\n",
       " <selenium.webdriver.remote.webelement.WebElement (session=\"37347ad49670bab15e329515ec35c8f5\", element=\"d0682dbd-da47-44cb-9cea-f30124ba622c\")>,\n",
       " <selenium.webdriver.remote.webelement.WebElement (session=\"37347ad49670bab15e329515ec35c8f5\", element=\"c859f21c-4ca0-42b8-90cb-e934740f469a\")>,\n",
       " <selenium.webdriver.remote.webelement.WebElement (session=\"37347ad49670bab15e329515ec35c8f5\", element=\"79883de3-6757-4f5e-a479-abe56ef544ba\")>,\n",
       " <selenium.webdriver.remote.webelement.WebElement (session=\"37347ad49670bab15e329515ec35c8f5\", element=\"37f87aae-a4c7-4b89-b248-db3353764a27\")>,\n",
       " <selenium.webdriver.remote.webelement.WebElement (session=\"37347ad49670bab15e329515ec35c8f5\", element=\"c7c09b56-338c-4e0f-9bbe-972d11da4bde\")>]"
      ]
     },
     "execution_count": 192,
     "metadata": {},
     "output_type": "execute_result"
    }
   ],
   "source": [
    "full_review_tags9=driver.find_elements_by_xpath(\"//div[@class='t-ZTKy']\")\n",
    "full_review_tags9[0:10]"
   ]
  },
  {
   "cell_type": "code",
   "execution_count": 193,
   "id": "d4bb8cf5",
   "metadata": {},
   "outputs": [
    {
     "data": {
      "text/plain": [
       "['Please DONT buy from here,\\n\\nI purchased Apple iPhone 11. with an exchange of IPhone 7, the exchange did not go well, iPhone 7 had a small scratch out side screen which i could never identify till date, but the FLIPKART person could, so he reduced 50% from exchange rate. I decided not to trade in, but paid money.\\n\\niPhone 11 Detail Below\\n---------------------------------------------\\nIt came with no charging, then i have put for charging, it took lot of time for charging, the phone also showe...\\nREAD MORE',\n",
       " 'Its a fabulous mobile look awesome performance unbeaten camera like dslr battery good i think this is a beast of mobile',\n",
       " 'Dear friends... I want to share my experience with you about this amazing I phone 11....this is my first iPhone and special things about this mobile is it has great camera, battery backup and awesome display.... I mean everything is perfect.loved it 👍👍👍',\n",
       " \"Just got this iphone 11\\nAnd it is most powerful mobile phone I have used ever\\n\\nSo,go for it if you want a phone with best specification like camera,battery backup,display, A13 bionic chip\\n\\nThat's my review about this phone but yours can be differ from me....\",\n",
       " \"The best all rounder iphone. Flipkart is doing a great job. They're delivery services are blazing fast. I got delivery on the same day. Genuine Apple Product. Working great. Talking about review There's no need of review for iphones. They're simply the best.\",\n",
       " 'Amazing phone and on great deal I received with super fast delivery by Flipkart...',\n",
       " 'finally an iPhone with very nice battery backup. update from iPhone 7 and happy to have it. camera is not up to the mark in low light but overall a recommended phone if your budget allows 😀',\n",
       " \"I'm switching this phone to oppo reno 10x zoom\\nIt's really impressive\\nRarely I'm missing smooth display touch response like oppo reno but\\nI really loved it.\\nCamera really impressive\",\n",
       " 'Simply Awesome\\n\\nI have upgraded from iPhone 7 to iPhone 11.\\n\\n3110 mah Battery is good. I am not a heavy gamer. For official purpose, this is better than 12 mini.\\n\\nTotally impressed with battery performance.',\n",
       " 'Damn this phone is a blast . Upgraded from android to ios and is a duperb experience. Battery backup is top notch and display also pretty good']"
      ]
     },
     "execution_count": 193,
     "metadata": {},
     "output_type": "execute_result"
    }
   ],
   "source": [
    "for i in full_review_tags9:\n",
    "    full9=i.text\n",
    "    full_review_list9.append(full9)\n",
    "full_review_list9[0:10]"
   ]
  },
  {
   "cell_type": "code",
   "execution_count": 194,
   "id": "0477f6a0",
   "metadata": {},
   "outputs": [],
   "source": [
    "rating_list10=[]\n",
    "review_list10=[]\n",
    "full_review_list10=[]"
   ]
  },
  {
   "cell_type": "code",
   "execution_count": 195,
   "id": "127efbba",
   "metadata": {},
   "outputs": [],
   "source": [
    "next_button10=driver.find_element_by_xpath(\"/html/body/div[1]/div/div[3]/div/div/div[2]/div[13]/div/div/nav/a[7]\")\n",
    "next_button10.click()"
   ]
  },
  {
   "cell_type": "code",
   "execution_count": 196,
   "id": "dcee4dd1",
   "metadata": {},
   "outputs": [
    {
     "data": {
      "text/plain": [
       "[<selenium.webdriver.remote.webelement.WebElement (session=\"37347ad49670bab15e329515ec35c8f5\", element=\"ca82bbbf-5f48-42f2-a16b-d092e3c0fc25\")>,\n",
       " <selenium.webdriver.remote.webelement.WebElement (session=\"37347ad49670bab15e329515ec35c8f5\", element=\"443470f7-94c0-4c8b-9359-c311dbe31cc0\")>,\n",
       " <selenium.webdriver.remote.webelement.WebElement (session=\"37347ad49670bab15e329515ec35c8f5\", element=\"2b507856-b899-467e-8612-9e8975aacf9d\")>,\n",
       " <selenium.webdriver.remote.webelement.WebElement (session=\"37347ad49670bab15e329515ec35c8f5\", element=\"3abeb28c-5763-454e-907f-0030568bf4fd\")>,\n",
       " <selenium.webdriver.remote.webelement.WebElement (session=\"37347ad49670bab15e329515ec35c8f5\", element=\"50d71fdc-ead3-428f-8ff1-f416db83a402\")>,\n",
       " <selenium.webdriver.remote.webelement.WebElement (session=\"37347ad49670bab15e329515ec35c8f5\", element=\"fd953f57-438c-4dce-9f92-1ce829047b1f\")>,\n",
       " <selenium.webdriver.remote.webelement.WebElement (session=\"37347ad49670bab15e329515ec35c8f5\", element=\"e45014b0-c97a-4640-adf6-6398a583fe79\")>,\n",
       " <selenium.webdriver.remote.webelement.WebElement (session=\"37347ad49670bab15e329515ec35c8f5\", element=\"83f1294d-9f9e-4587-b4d5-ec98dd32bded\")>,\n",
       " <selenium.webdriver.remote.webelement.WebElement (session=\"37347ad49670bab15e329515ec35c8f5\", element=\"c4ab2c6b-9f50-4fee-8ebb-a0bde0161b01\")>]"
      ]
     },
     "execution_count": 196,
     "metadata": {},
     "output_type": "execute_result"
    }
   ],
   "source": [
    "rating_tags10=driver.find_elements_by_xpath(\"//div[@class='_3LWZlK _1BLPMq']\")\n",
    "rating_tags10[0:10]"
   ]
  },
  {
   "cell_type": "code",
   "execution_count": 197,
   "id": "193ecd64",
   "metadata": {},
   "outputs": [
    {
     "data": {
      "text/plain": [
       "['5', '5', '4', '5', '5', '5', '5', '5', '4']"
      ]
     },
     "execution_count": 197,
     "metadata": {},
     "output_type": "execute_result"
    }
   ],
   "source": [
    "for i in rating_tags10:\n",
    "    rating10=i.text\n",
    "    rating_list10.append(rating10)\n",
    "rating_list10[0:10]"
   ]
  },
  {
   "cell_type": "code",
   "execution_count": 198,
   "id": "fb474dcf",
   "metadata": {},
   "outputs": [
    {
     "data": {
      "text/plain": [
       "[<selenium.webdriver.remote.webelement.WebElement (session=\"37347ad49670bab15e329515ec35c8f5\", element=\"bdfe7b5d-ccef-4a53-a025-f02f1c8dd7c4\")>,\n",
       " <selenium.webdriver.remote.webelement.WebElement (session=\"37347ad49670bab15e329515ec35c8f5\", element=\"935f95eb-e67d-4d79-9639-4f203d63a298\")>,\n",
       " <selenium.webdriver.remote.webelement.WebElement (session=\"37347ad49670bab15e329515ec35c8f5\", element=\"5164b5e1-7360-4cd1-ae5a-87444f402ed2\")>,\n",
       " <selenium.webdriver.remote.webelement.WebElement (session=\"37347ad49670bab15e329515ec35c8f5\", element=\"bbb5d4f4-934f-4f83-820b-025e69c0a418\")>,\n",
       " <selenium.webdriver.remote.webelement.WebElement (session=\"37347ad49670bab15e329515ec35c8f5\", element=\"e0b43bd4-b8f7-4846-9bd5-47ed612fdb00\")>,\n",
       " <selenium.webdriver.remote.webelement.WebElement (session=\"37347ad49670bab15e329515ec35c8f5\", element=\"f6196c8f-715a-4bd3-9713-b22caa37e654\")>,\n",
       " <selenium.webdriver.remote.webelement.WebElement (session=\"37347ad49670bab15e329515ec35c8f5\", element=\"dd5945ae-e278-41ba-a935-4434fa481507\")>,\n",
       " <selenium.webdriver.remote.webelement.WebElement (session=\"37347ad49670bab15e329515ec35c8f5\", element=\"e4932f36-efb6-497d-b0f6-f77a5b7161b2\")>,\n",
       " <selenium.webdriver.remote.webelement.WebElement (session=\"37347ad49670bab15e329515ec35c8f5\", element=\"fa1c9d14-f39e-46ae-9f1d-3293017ef3d9\")>,\n",
       " <selenium.webdriver.remote.webelement.WebElement (session=\"37347ad49670bab15e329515ec35c8f5\", element=\"d3035f71-0e61-44fe-8e4c-bec361ca2dc5\")>]"
      ]
     },
     "execution_count": 198,
     "metadata": {},
     "output_type": "execute_result"
    }
   ],
   "source": [
    "review_summary_tags10=driver.find_elements_by_xpath(\"//p[@class='_2-N8zT']\")\n",
    "review_summary_tags10[0:10]"
   ]
  },
  {
   "cell_type": "code",
   "execution_count": 199,
   "id": "dd06c539",
   "metadata": {},
   "outputs": [
    {
     "data": {
      "text/plain": [
       "['Perfect product!',\n",
       " 'Awesome',\n",
       " 'Value-for-money',\n",
       " 'Just wow!',\n",
       " 'Worthless',\n",
       " 'Super!',\n",
       " 'Classy product',\n",
       " 'Worth every penny',\n",
       " 'Excellent',\n",
       " 'Nice product']"
      ]
     },
     "execution_count": 199,
     "metadata": {},
     "output_type": "execute_result"
    }
   ],
   "source": [
    "for i in review_summary_tags10:\n",
    "    review10=i.text\n",
    "    review_list10.append(review10)\n",
    "review_list10[0:10]"
   ]
  },
  {
   "cell_type": "code",
   "execution_count": 200,
   "id": "1465096f",
   "metadata": {},
   "outputs": [
    {
     "data": {
      "text/plain": [
       "[<selenium.webdriver.remote.webelement.WebElement (session=\"37347ad49670bab15e329515ec35c8f5\", element=\"6ea76415-e173-4dab-99fc-ca73d735ae25\")>,\n",
       " <selenium.webdriver.remote.webelement.WebElement (session=\"37347ad49670bab15e329515ec35c8f5\", element=\"85ec97cf-b059-4a2d-83ff-fd2451f83042\")>,\n",
       " <selenium.webdriver.remote.webelement.WebElement (session=\"37347ad49670bab15e329515ec35c8f5\", element=\"ad178510-e5e7-4ba8-b5ca-e00595fd1839\")>,\n",
       " <selenium.webdriver.remote.webelement.WebElement (session=\"37347ad49670bab15e329515ec35c8f5\", element=\"11a4e145-6545-4c8c-a1c2-7a710fa4e03f\")>,\n",
       " <selenium.webdriver.remote.webelement.WebElement (session=\"37347ad49670bab15e329515ec35c8f5\", element=\"6a8fbeca-9896-4c1f-8379-69b539a51099\")>,\n",
       " <selenium.webdriver.remote.webelement.WebElement (session=\"37347ad49670bab15e329515ec35c8f5\", element=\"2c9e661d-c891-4948-b780-39d7f0d707df\")>,\n",
       " <selenium.webdriver.remote.webelement.WebElement (session=\"37347ad49670bab15e329515ec35c8f5\", element=\"6e7384b1-65bd-4c12-80c4-1c8f36284eb4\")>,\n",
       " <selenium.webdriver.remote.webelement.WebElement (session=\"37347ad49670bab15e329515ec35c8f5\", element=\"42e8c711-10e2-4fa8-8d40-be256bc8ccab\")>,\n",
       " <selenium.webdriver.remote.webelement.WebElement (session=\"37347ad49670bab15e329515ec35c8f5\", element=\"4070f34d-0dee-4dad-85ee-530d7c875c23\")>,\n",
       " <selenium.webdriver.remote.webelement.WebElement (session=\"37347ad49670bab15e329515ec35c8f5\", element=\"27a03eea-805b-418a-b5f8-c56aedfb4ddd\")>]"
      ]
     },
     "execution_count": 200,
     "metadata": {},
     "output_type": "execute_result"
    }
   ],
   "source": [
    "full_review_tags10=driver.find_elements_by_xpath(\"//div[@class='t-ZTKy']\")\n",
    "full_review_tags10[0:10]\n"
   ]
  },
  {
   "cell_type": "code",
   "execution_count": 201,
   "id": "7cf923b5",
   "metadata": {},
   "outputs": [
    {
     "data": {
      "text/plain": [
       "['Worth the money’ starting first from its performance it beats out all phones , second the smoothness of camera is awesome, contrast ratio is much than expected. Price will not matter if u r a quality person, if not other phones are available with better discount',\n",
       " 'I dreamt about this day from a long time.... Getting an iPhone with my own money.... Super happy and worth spending every penny',\n",
       " \"I'm Really happy with the product\\nDelivery was fast as well\\n..it was a gift for my sister and she loved it so much.\",\n",
       " 'Great iphone.\\nI am writing this review after 2 months of usage.\\nCamera is excellent, especially the nightmode\\nDisplay perfect\\nBattery backup awesome\\nSound quality very good\\nOverall Apple gives you a perfect iphone in this range.\\nReally in love with iPhone 11',\n",
       " \"Phone is awesome no doubt. But Camera & Display is not great. Performance is mind blowing.\\nBut the phone is heating too much when charging or when you regularly used. It's experience after using 1 week. It's heating extrem when I play PUBG for 30 minutes.\\nGo for iPhone 11 pro or 12. Otherwise go for Android phone you will get much better phone in less price.\",\n",
       " 'Did an upgrade from 6s plus to iphone 11.\\nAo far the experience is well and good. Felt smoother than 6s plus. The camera quality is superb. Battery backup is descent. Not a heavy user, and gets power more than a day. Go for it if you need an alrounder iphone in a competitve price.',\n",
       " 'Gifted my man on his 30th birthday 🎂 He loves it.. Him happy so i am more than happy 😍😘❤️🥰',\n",
       " 'Here is the thing\\n\\nThe only reason why you should buy this phone is for the camera, iOS, and if you have headaches looking at AMOLED display.\\n\\nI’m not an avid gamer but watch a lot of movies on smartphone. However, my migraine attacks increased considerably after using AMOLED Smartphone. That’s why I made a calculated decision to buy iPhone 11. It has the best LCD display and the blacks, though not as natural as an AMOLED, is better than some of the other smartphones.\\n\\nAdding to this the ste...\\nREAD MORE',\n",
       " \"It was amazing experience for me. Honestly i am using iPhone first time so I don't have that much past experience about that. But after using 7 days this mobile i want to give some honest feedback.\\n1- Display 9 out of 10\\n2- Camera 9.5 out of 10\\n3- Battery 7 out of 10\\n4- Performance 9.5 out of 10\\n5- Features & Functions 10 out of 10\\n6- Outer looks and colour 10 out of 10\\nRest i think i will understand after using this for few months.\\nI will highly recommend you guys if you have budget then you...\\nREAD MORE\",\n",
       " \"If you are looking for a premium phone under 55k, this is the one for you.Got the iPhone 11 during the Republic day sale. Performance is top notch in this price range. Camera's do a perfect job in taking good quality photos and videos. Battery backup too is satisfactory. Writing this review after using for a week. Any further observations would be updated.\"]"
      ]
     },
     "execution_count": 201,
     "metadata": {},
     "output_type": "execute_result"
    }
   ],
   "source": [
    "for i in full_review_tags10:\n",
    "    full10=i.text\n",
    "    full_review_list10.append(full10)\n",
    "full_review_list10[0:10]"
   ]
  },
  {
   "cell_type": "markdown",
   "id": "83a9fd36",
   "metadata": {},
   "source": [
    "8.Scrape data for first 100 sneakers you find when you visit flipkart.com"
   ]
  },
  {
   "cell_type": "code",
   "execution_count": 202,
   "id": "513ab1ed",
   "metadata": {},
   "outputs": [],
   "source": [
    "driver=webdriver.Chrome('chromedriver.exe')"
   ]
  },
  {
   "cell_type": "code",
   "execution_count": 203,
   "id": "57fb3df7",
   "metadata": {},
   "outputs": [],
   "source": [
    "driver.get('https://www.flipkart.com/')"
   ]
  },
  {
   "cell_type": "code",
   "execution_count": 204,
   "id": "731bca32",
   "metadata": {},
   "outputs": [],
   "source": [
    "search_field_product=driver.find_element_by_xpath(\"/html/body/div[1]/div/div[1]/div[1]/div[2]/div[2]/form/div/div/input\")\n",
    "search_field_product.send_keys('Sneakers')"
   ]
  },
  {
   "cell_type": "code",
   "execution_count": 206,
   "id": "a14b7f94",
   "metadata": {},
   "outputs": [],
   "source": [
    "search_button=driver.find_element_by_xpath(\"//button[@class='L0Z3Pu']\")\n",
    "search_button.click()"
   ]
  },
  {
   "cell_type": "code",
   "execution_count": 207,
   "id": "89b03f4c",
   "metadata": {},
   "outputs": [],
   "source": [
    "brand_list1=[]\n",
    "product_list1=[]\n",
    "price_list1=[]"
   ]
  },
  {
   "cell_type": "code",
   "execution_count": 208,
   "id": "1f80e97a",
   "metadata": {},
   "outputs": [
    {
     "data": {
      "text/plain": [
       "[]"
      ]
     },
     "execution_count": 208,
     "metadata": {},
     "output_type": "execute_result"
    }
   ],
   "source": [
    "#1 to 40\n",
    "brand_tags1=driver.find_elements_by_xpath(\"//div[@class='_2WkVRV']\")\n",
    "brand_tags1[0:40]"
   ]
  },
  {
   "cell_type": "code",
   "execution_count": 209,
   "id": "4929e027",
   "metadata": {},
   "outputs": [
    {
     "data": {
      "text/plain": [
       "[]"
      ]
     },
     "execution_count": 209,
     "metadata": {},
     "output_type": "execute_result"
    }
   ],
   "source": [
    "for i in brand_tags1:\n",
    "    brand=i.text\n",
    "    brand_list1.append(brand)\n",
    "brand_list1[0:40]"
   ]
  },
  {
   "cell_type": "code",
   "execution_count": null,
   "id": "d547d9e5",
   "metadata": {},
   "outputs": [],
   "source": []
  }
 ],
 "metadata": {
  "kernelspec": {
   "display_name": "Python 3 (ipykernel)",
   "language": "python",
   "name": "python3"
  },
  "language_info": {
   "codemirror_mode": {
    "name": "ipython",
    "version": 3
   },
   "file_extension": ".py",
   "mimetype": "text/x-python",
   "name": "python",
   "nbconvert_exporter": "python",
   "pygments_lexer": "ipython3",
   "version": "3.9.7"
  }
 },
 "nbformat": 4,
 "nbformat_minor": 5
}
